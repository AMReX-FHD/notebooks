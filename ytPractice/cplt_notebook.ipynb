{
 "cells": [
  {
   "cell_type": "code",
   "execution_count": 3,
   "id": "9b903fce",
   "metadata": {},
   "outputs": [
    {
     "name": "stderr",
     "output_type": "stream",
     "text": [
      "yt : [INFO     ] 2022-06-14 08:55:37,612 Parameters: current_time              = 2.3490222219009456e-09\n",
      "yt : [INFO     ] 2022-06-14 08:55:37,615 Parameters: domain_dimensions         = [128 128  64]\n",
      "yt : [INFO     ] 2022-06-14 08:55:37,616 Parameters: domain_left_edge          = [0. 0. 0.]\n",
      "yt : [INFO     ] 2022-06-14 08:55:37,618 Parameters: domain_right_edge         = [1.306e-06 1.306e-06 6.530e-07]\n"
     ]
    },
    {
     "data": {
      "text/plain": [
       "[('boxlib', 'GVar'),\n",
       " ('boxlib', 'KGCross'),\n",
       " ('boxlib', 'KRhoCross'),\n",
       " ('boxlib', 'RhoGCross'),\n",
       " ('boxlib', 'densityInstant'),\n",
       " ('boxlib', 'densityInstantSpecies00000'),\n",
       " ('boxlib', 'densityInstantSpecies00001'),\n",
       " ('boxlib', 'densityInstantSpecies00002'),\n",
       " ('boxlib', 'densityMean'),\n",
       " ('boxlib', 'densityMeanSpecies00000'),\n",
       " ('boxlib', 'densityMeanSpecies00000'),\n",
       " ('boxlib', 'densityMeanSpecies00001'),\n",
       " ('boxlib', 'densityMeanSpecies00001'),\n",
       " ('boxlib', 'densityMeanSpecies00002'),\n",
       " ('boxlib', 'densityMeanSpecies00002'),\n",
       " ('boxlib', 'densityVar'),\n",
       " ('boxlib', 'energyInstant'),\n",
       " ('boxlib', 'energyMean'),\n",
       " ('boxlib', 'energyVar'),\n",
       " ('boxlib', 'ixInstant'),\n",
       " ('boxlib', 'ixMean'),\n",
       " ('boxlib', 'ixVar'),\n",
       " ('boxlib', 'iyInstant'),\n",
       " ('boxlib', 'iyMean'),\n",
       " ('boxlib', 'iyVar'),\n",
       " ('boxlib', 'izInstant'),\n",
       " ('boxlib', 'izMean'),\n",
       " ('boxlib', 'izVar'),\n",
       " ('boxlib', 'jxInstant'),\n",
       " ('boxlib', 'jxMean'),\n",
       " ('boxlib', 'jxVar'),\n",
       " ('boxlib', 'jyInstant'),\n",
       " ('boxlib', 'jyMean'),\n",
       " ('boxlib', 'jyVar'),\n",
       " ('boxlib', 'jzInstant'),\n",
       " ('boxlib', 'jzMean'),\n",
       " ('boxlib', 'jzVar'),\n",
       " ('boxlib', 'membersInstant'),\n",
       " ('boxlib', 'membersMean'),\n",
       " ('boxlib', 'membersVar'),\n",
       " ('boxlib', 'pressureInstant'),\n",
       " ('boxlib', 'pressureMean'),\n",
       " ('boxlib', 'pressureVar'),\n",
       " ('boxlib', 'temperatureInstant'),\n",
       " ('boxlib', 'temperatureMean'),\n",
       " ('boxlib', 'temperatureVar'),\n",
       " ('boxlib', 'velxInstant'),\n",
       " ('boxlib', 'velxMean'),\n",
       " ('boxlib', 'velxVar'),\n",
       " ('boxlib', 'velyInstant'),\n",
       " ('boxlib', 'velyMean'),\n",
       " ('boxlib', 'velyVar'),\n",
       " ('boxlib', 'velzInstant'),\n",
       " ('boxlib', 'velzMean'),\n",
       " ('boxlib', 'velzVar')]"
      ]
     },
     "execution_count": 3,
     "metadata": {},
     "output_type": "execute_result"
    }
   ],
   "source": [
    "import yt\n",
    "import numpy as np\n",
    "import unyt\n",
    "from unyt import cm, s\n",
    "ds = yt.load('cplt000235000')\n",
    "ds.field_list"
   ]
  },
  {
   "cell_type": "code",
   "execution_count": 4,
   "id": "06cd40a3",
   "metadata": {},
   "outputs": [
    {
     "name": "stdout",
     "output_type": "stream",
     "text": [
      "level\t# grids\t       # cells\t     # cells^3\n",
      "----------------------------------------------\n",
      "  0\t     8\t       1048576\t           102\n",
      "----------------------------------------------\n",
      "   \t     8\t       1048576\n",
      "\n",
      "\n",
      "t = 2.34902222e-09 = 2.34902222e-09 s = 7.44360224e-17 years\n",
      "\n",
      "Smallest Cell:\n",
      "\tWidth: 3.307e-33 Mpc Mpc\n",
      "\tWidth: 3.307e-27 pc pc\n",
      "\tWidth: 6.820e-22 AU AU\n",
      "\tWidth: 1.020e-08 cm cm\n"
     ]
    }
   ],
   "source": [
    "ds.print_stats()"
   ]
  },
  {
   "cell_type": "code",
   "execution_count": 1,
   "id": "fccf4cd3",
   "metadata": {},
   "outputs": [],
   "source": [
    "#slc = yt.ProjectionPlot(ds,'z',('boxlib', 'membersInstant'))\n",
    "#slc.set_cmap(field=('boxlib', 'energyMean'), cmap=\"turbo\")\n",
    "#slc.show()"
   ]
  },
  {
   "cell_type": "code",
   "execution_count": 12,
   "id": "4d9adc17",
   "metadata": {},
   "outputs": [],
   "source": [
    "# g = ds.index\n",
    "# gs = ds.index.select_grids(ds.index.max_level)\n",
    "# g2=gs[7]\n",
    "# array = g2['boxlib', 'velxMean'][:,:,:]\n",
    "# ar = np.array(array)\n",
    "# print(g)\n",
    "# print(gs)\n",
    "# print(g2)\n",
    "# print(ar)\n",
    "# print(np.max(ar))\n",
    "# print(ar.shape)\n",
    "# my_field = g2['boxlib', 'velxMean'].squeeze().v\n",
    "# my_field.shape"
   ]
  },
  {
   "cell_type": "code",
   "execution_count": 11,
   "id": "3d8a5167",
   "metadata": {
    "scrolled": true
   },
   "outputs": [],
   "source": [
    "# g = ds.index.grids[7]\n",
    "# for f in ds.field_list:\n",
    "#     fv = g[f]\n",
    "#     if fv.size == 0: continue\n",
    "#     print (f, fv.min(), fv.max())"
   ]
  },
  {
   "cell_type": "code",
   "execution_count": 7,
   "id": "1d24c2bb",
   "metadata": {},
   "outputs": [],
   "source": [
    "# ad = ds.all_data()\n",
    "# adv = ad['boxlib', 'velxMean'].v\n",
    "# data_with_units = adv * ds.units.cm/s\n",
    "# print(adv)\n",
    "# print(data_with_units)"
   ]
  },
  {
   "cell_type": "code",
   "execution_count": 8,
   "id": "a4ae5ec0",
   "metadata": {
    "scrolled": true
   },
   "outputs": [],
   "source": [
    "# ig = ds.index.grids[1]\n",
    "# print(ig)\n",
    "# print(ig['boxlib', 'velxMean'][1,1,1])\n",
    "# velx = ig['boxlib', 'velxMean'].in_base(\"code\")\n",
    "# print(velx)"
   ]
  },
  {
   "cell_type": "code",
   "execution_count": 6,
   "id": "002ca461",
   "metadata": {},
   "outputs": [],
   "source": [
    "#from yt.units import nm\n",
    "#point_obj = ds.point([0, 0, 0]*nm)\n",
    "#density_at_point = point_obj['boxlib', 'velxMean']\n",
    "#print(density_at_point)"
   ]
  },
  {
   "cell_type": "code",
   "execution_count": 10,
   "id": "0defa9f9",
   "metadata": {},
   "outputs": [
    {
     "name": "stdout",
     "output_type": "stream",
     "text": [
      "('io',)\n",
      "('io',)\n",
      "{}\n"
     ]
    }
   ],
   "source": [
    "print (ds.particle_types) #all particle types in the simulation, including ones that are dynamically defined like particle unions.\n",
    "print (ds.particle_types_raw) #found in output file we're loading data from\n",
    "print (ds.particle_type_counts)"
   ]
  },
  {
   "cell_type": "code",
   "execution_count": 13,
   "id": "9418309d",
   "metadata": {},
   "outputs": [
    {
     "data": {
      "text/plain": [
       "['WeightedAverageQuantity',\n",
       " 'TotalQuantity',\n",
       " 'TotalMass',\n",
       " 'CenterOfMass',\n",
       " 'BulkVelocity',\n",
       " 'WeightedStandardDeviation',\n",
       " 'WeightedVariance',\n",
       " 'AngularMomentumVector',\n",
       " 'Extrema',\n",
       " 'SampleAtMaxFieldValues',\n",
       " 'MaxLocation',\n",
       " 'SampleAtMinFieldValues',\n",
       " 'MinLocation',\n",
       " 'SpinParameter']"
      ]
     },
     "execution_count": 13,
     "metadata": {},
     "output_type": "execute_result"
    }
   ],
   "source": [
    "list(ad.quantities.keys())"
   ]
  },
  {
   "cell_type": "code",
   "execution_count": null,
   "id": "4f43ce74",
   "metadata": {},
   "outputs": [],
   "source": [
    "sp.quantities.total_mass()"
   ]
  },
  {
   "cell_type": "code",
   "execution_count": null,
   "id": "34263c2d",
   "metadata": {},
   "outputs": [],
   "source": []
  }
 ],
 "metadata": {
  "kernelspec": {
   "display_name": "Python 3",
   "language": "python",
   "name": "python3"
  },
  "language_info": {
   "codemirror_mode": {
    "name": "ipython",
    "version": 3
   },
   "file_extension": ".py",
   "mimetype": "text/x-python",
   "name": "python",
   "nbconvert_exporter": "python",
   "pygments_lexer": "ipython3",
   "version": "3.8.10"
  }
 },
 "nbformat": 4,
 "nbformat_minor": 5
}
