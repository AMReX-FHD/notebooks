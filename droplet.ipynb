{
 "cells": [
  {
   "cell_type": "code",
   "execution_count": 27,
   "id": "d3587bfd-0101-4dd0-9f99-14b97c8b43fc",
   "metadata": {},
   "outputs": [],
   "source": [
    "import yt\n",
    "import numpy as np\n",
    "import math\n",
    "import matplotlib.pyplot as plt"
   ]
  },
  {
   "cell_type": "code",
   "execution_count": 88,
   "id": "f94c40a8-e0cc-4fd5-8bcf-346d7e97fa21",
   "metadata": {},
   "outputs": [],
   "source": [
    "def return_data(folder,size,lo,hi,field):    \n",
    "    ds = yt.load(folder)\n",
    "    ad = ds.all_data()\n",
    "    df=ad.to_dataframe(fields=field)\n",
    "    data=np.zeros((size[0],size[1],size[2]))\n",
    "    dataraw=np.zeros((size[0]*size[1]*size[2]))\n",
    "    for i in range(size[0]):\n",
    "        for j in range(size[1]):\n",
    "            for k in range(size[2]):\n",
    "                data[i,j,k]=df.iat[i*size[2]*size[1]+j*size[2]+k,0]\n",
    "                \n",
    "    for i in range(size[0]*size[1]*size[2]):\n",
    "        dataraw[i]=df.iat[i,0]\n",
    "                \n",
    "    xCell=(hi[0]-lo[0])/size[0]\n",
    "    yCell=(hi[1]-lo[1])/size[1]\n",
    "    zCell=(hi[2]-lo[2])/size[2]\n",
    "    \n",
    "    xGrid = np.linspace(lo[0]+0.5*xCell,hi[0]-0.5*xCell,size[0])\n",
    "    yGrid = np.linspace(lo[1]+0.5*yCell,hi[1]-0.5*yCell,size[1])\n",
    "    zGrid = np.linspace(lo[2]+0.5*zCell,hi[2]-0.5*zCell,size[2])\n",
    "    \n",
    "    return xGrid, yGrid, zGrid, data, dataraw\n"
   ]
  },
  {
   "cell_type": "code",
   "execution_count": 141,
   "id": "4ff0f628-f179-426c-ad0a-a072d3fa4e12",
   "metadata": {},
   "outputs": [],
   "source": [
    "def return_y_slice(folder,size,lo,hi,field,sl):    \n",
    "    ds = yt.load(folder)\n",
    "    ad = ds.all_data()\n",
    "    df=ad.to_dataframe(fields=field)\n",
    "    data=np.zeros((size[2],size[0]))\n",
    "    for i in range(size[0]):\n",
    "        for k in range(size[2]):\n",
    "            data[k,i]=df.iat[i*size[2]*size[1]+sl*size[2]+k,0]\n",
    "                            \n",
    "    xCell=(hi[0]-lo[0])/size[0]\n",
    "    zCell=(hi[2]-lo[2])/size[2]\n",
    "    \n",
    "    xGrid = np.linspace(lo[0]+0.5*xCell,hi[0]-0.5*xCell,size[0])\n",
    "    zGrid = np.linspace(lo[2]+0.5*zCell,hi[2]-0.5*zCell,size[2])\n",
    "    \n",
    "    return xGrid, zGrid, data"
   ]
  },
  {
   "cell_type": "code",
   "execution_count": 149,
   "id": "643a70ac-3047-4c83-aaab-1b46256f4b3a",
   "metadata": {},
   "outputs": [
    {
     "name": "stderr",
     "output_type": "stream",
     "text": [
      "yt : [INFO     ] 2022-11-05 17:14:09,984 Parameters: current_time              = 2.0000000000000005e-05\n",
      "yt : [INFO     ] 2022-11-05 17:14:09,985 Parameters: domain_dimensions         = [ 64  64 128]\n",
      "yt : [INFO     ] 2022-11-05 17:14:09,986 Parameters: domain_left_edge          = [0. 0. 0.]\n",
      "yt : [INFO     ] 2022-11-05 17:14:09,987 Parameters: domain_right_edge         = [0.025 0.025 0.05 ]\n"
     ]
    }
   ],
   "source": [
    "dir = \"~/temp\"\n",
    "time = \"/plt0000020/\"\n",
    "xtest1, ztest1, datatest1 = return_y_slice(dir+time,[64,64,128],[0,0,0],[0.025,0.025,0.05],\"c1\",32)"
   ]
  },
  {
   "cell_type": "code",
   "execution_count": 147,
   "id": "aa0d4c6e-064b-4b0a-81b0-f7f5d6af5e1b",
   "metadata": {},
   "outputs": [],
   "source": [
    "X,Z=np.meshgrid(xtest1,ztest1)"
   ]
  },
  {
   "cell_type": "code",
   "execution_count": 148,
   "id": "b9966162-a816-4fe6-b963-d7fe15469c74",
   "metadata": {},
   "outputs": [
    {
     "name": "stderr",
     "output_type": "stream",
     "text": [
      "<ipython-input-148-779d1fe7cef4>:1: MatplotlibDeprecationWarning: shading='flat' when X and Y have the same dimensions as C is deprecated since 3.3.  Either specify the corners of the quadrilaterals with X and Y, or pass shading='auto', 'nearest' or 'gouraud', or set rcParams['pcolor.shading'].  This will become an error two minor releases later.\n",
      "  plt.pcolor(X, Z, datatest1)\n"
     ]
    },
    {
     "data": {
      "image/png": "[encoded data removed]",
      "text/plain": [
       "<Figure size 432x288 with 1 Axes>"
      ]
     },
     "metadata": {
      "needs_background": "light"
     },
     "output_type": "display_data"
    }
   ],
   "source": [
    "plt.pcolor(X, Z, datatest1)\n",
    "plt.show()"
   ]
  },
  {
   "cell_type": "code",
   "execution_count": 136,
   "id": "c5e08def-d657-4c49-bed6-950ac85f7656",
   "metadata": {},
   "outputs": [
    {
     "data": {
      "text/plain": [
       "128"
      ]
     },
     "execution_count": 136,
     "metadata": {},
     "output_type": "execute_result"
    }
   ],
   "source": [
    "len(dataslice[0])"
   ]
  },
  {
   "cell_type": "code",
   "execution_count": 138,
   "id": "7d381e1d-691b-441c-a3e4-be8bd7a58921",
   "metadata": {},
   "outputs": [
    {
     "data": {
      "text/plain": [
       "64"
      ]
     },
     "execution_count": 138,
     "metadata": {},
     "output_type": "execute_result"
    }
   ],
   "source": [
    "len(X[0])"
   ]
  },
  {
   "cell_type": "code",
   "execution_count": 157,
   "id": "59e32ebb-b52d-4f04-ab5d-877f7ce136c2",
   "metadata": {},
   "outputs": [
    {
     "data": {
      "text/plain": [
       "array([ 1.17601722e-29,  1.83125878e-25, -4.15448760e-23, -2.23130724e-20,\n",
       "       -4.54227017e-18,  9.40185811e-17,  2.73446626e-15,  8.13178699e-15,\n",
       "        9.90219896e-15, -9.24470832e-16,  1.25120406e-16,  1.10360355e-18,\n",
       "        4.64174388e-21,  1.99919254e-23, -2.90695010e-26,  1.34628491e-30,\n",
       "       -1.96470706e-13, -1.11279360e-09,  9.39274347e-07, -5.39723868e-04,\n",
       "        2.86243288e-02,  6.73434137e-03,  6.62784570e-01,  2.51577117e-01,\n",
       "        3.57447702e-01,  1.64747214e-01, -1.55118557e-01,  3.74655704e-03,\n",
       "       -4.23111866e-05, -2.74643353e-07,  1.67189951e-10,  8.13178699e-15,\n",
       "       -3.59115708e-34,  1.35815178e-31, -5.55959729e-28, -1.64898853e-25,\n",
       "       -1.07444029e-23, -9.74376016e-23,  9.75533448e-21,  3.26146484e-20,\n",
       "        3.30785250e-20,  5.06265180e-22,  1.65307163e-22,  9.45051602e-25,\n",
       "       -2.60666855e-26, -6.97815766e-30,  3.45800756e-32,  4.63637698e-35,\n",
       "       -3.49804667e-19, -1.52599392e-15,  1.52449622e-13, -1.60515846e-10,\n",
       "        2.21895492e-08, -2.37325505e-06,  1.03078350e-05,  5.99907786e-05,\n",
       "        6.21534348e-05, -1.08559127e-05,  5.46295809e-07, -4.94532739e-10,\n",
       "        1.48416376e-10, -1.78001280e-13,  1.44507380e-16,  3.26146484e-20])"
      ]
     },
     "execution_count": 157,
     "metadata": {},
     "output_type": "execute_result"
    }
   ],
   "source": [
    "datatest1[127]"
   ]
  },
  {
   "cell_type": "code",
   "execution_count": 34,
   "id": "d5aa56f3-0a45-4660-b099-4c753d84ceea",
   "metadata": {},
   "outputs": [
    {
     "data": {
      "text/plain": [
       "array([[0., 0., 0., ..., 0., 0., 0.],\n",
       "       [0., 0., 0., ..., 0., 0., 0.],\n",
       "       [0., 0., 0., ..., 0., 0., 0.],\n",
       "       ...,\n",
       "       [0., 0., 0., ..., 0., 0., 0.],\n",
       "       [0., 0., 0., ..., 0., 0., 0.],\n",
       "       [0., 0., 0., ..., 0., 0., 0.]])"
      ]
     },
     "execution_count": 34,
     "metadata": {},
     "output_type": "execute_result"
    }
   ],
   "source": [
    "dataslice.reshape(64,128)"
   ]
  },
  {
   "cell_type": "code",
   "execution_count": 96,
   "id": "bd00b5de-0b90-4004-9096-c7ce139ec3f0",
   "metadata": {},
   "outputs": [
    {
     "ename": "TypeError",
     "evalue": "object of type 'NoneType' has no len()",
     "output_type": "error",
     "traceback": [
      "\u001b[0;31m---------------------------------------------------------------------------\u001b[0m",
      "\u001b[0;31mTypeError\u001b[0m                                 Traceback (most recent call last)",
      "\u001b[0;32m<ipython-input-96-74530c6a5695>\u001b[0m in \u001b[0;36m<module>\u001b[0;34m\u001b[0m\n\u001b[0;32m----> 1\u001b[0;31m \u001b[0mlen\u001b[0m\u001b[0;34m(\u001b[0m\u001b[0mdatashape\u001b[0m\u001b[0;34m)\u001b[0m\u001b[0;34m\u001b[0m\u001b[0;34m\u001b[0m\u001b[0m\n\u001b[0m",
      "\u001b[0;31mTypeError\u001b[0m: object of type 'NoneType' has no len()"
     ]
    }
   ],
   "source": [
    "len(datashape)"
   ]
  },
  {
   "cell_type": "code",
   "execution_count": 38,
   "id": "6c7cacfa-d623-4579-a173-a2db9e85b993",
   "metadata": {},
   "outputs": [],
   "source": [
    "z = np.array([i*i+j*j for j in ztest1 for i in xtest1])"
   ]
  },
  {
   "cell_type": "code",
   "execution_count": 39,
   "id": "d032b260-5e4e-4d4e-953e-6153171abb35",
   "metadata": {},
   "outputs": [
    {
     "data": {
      "text/plain": [
       "array([7.62939453e-08, 3.81469727e-07, 9.91821289e-07, ...,\n",
       "       3.05763245e-03, 3.07655334e-03, 3.09577942e-03])"
      ]
     },
     "execution_count": 39,
     "metadata": {},
     "output_type": "execute_result"
    }
   ],
   "source": [
    "z"
   ]
  },
  {
   "cell_type": "code",
   "execution_count": 42,
   "id": "83e48395-f5b0-4346-a4f4-997fa3660923",
   "metadata": {},
   "outputs": [
    {
     "data": {
      "text/plain": [
       "64"
      ]
     },
     "execution_count": 42,
     "metadata": {},
     "output_type": "execute_result"
    }
   ],
   "source": [
    "len(z.reshape(64,128))"
   ]
  },
  {
   "cell_type": "code",
   "execution_count": 98,
   "id": "1623558a-b23e-4ca2-a963-1789824db710",
   "metadata": {},
   "outputs": [
    {
     "data": {
      "text/plain": [
       "array([[-4.03604952e-19,  3.29205571e-18, -2.24974680e-17, ...,\n",
       "         6.28808418e-13, -7.82300917e-14,  7.26219331e-15],\n",
       "       [-2.21513770e-15,  1.82450833e-14, -7.70725700e-14, ...,\n",
       "         5.95861607e-09, -7.16070526e-10,  1.83497408e-10],\n",
       "       [ 3.30162315e-13,  1.11272038e-11,  2.47318598e-12, ...,\n",
       "         9.23153914e-06,  9.24806235e-08, -2.80098052e-07],\n",
       "       ...,\n",
       "       [ 1.38926405e-23, -2.66161566e-24,  4.31214323e-25, ...,\n",
       "         3.38278891e-31, -3.91428014e-30,  4.58979638e-29],\n",
       "       [-3.18417714e-26,  4.39877709e-27, -7.95677270e-28, ...,\n",
       "         9.36312597e-34, -7.28419033e-33,  3.15382859e-32],\n",
       "       [ 6.11590958e-30, -3.22366409e-30,  7.74428279e-31, ...,\n",
       "        -6.69394170e-40, -2.51332923e-36,  4.01689133e-35]])"
      ]
     },
     "execution_count": 98,
     "metadata": {},
     "output_type": "execute_result"
    }
   ],
   "source": [
    "dataslice2"
   ]
  },
  {
   "cell_type": "code",
   "execution_count": 75,
   "id": "90e52260-f0dd-4951-a0ec-862b44585eee",
   "metadata": {},
   "outputs": [
    {
     "name": "stderr",
     "output_type": "stream",
     "text": [
      "<ipython-input-75-6953e716a7b0>:8: MatplotlibDeprecationWarning: shading='flat' when X and Y have the same dimensions as C is deprecated since 3.3.  Either specify the corners of the quadrilaterals with X and Y, or pass shading='auto', 'nearest' or 'gouraud', or set rcParams['pcolor.shading'].  This will become an error two minor releases later.\n",
      "  plt.pcolor(X, Y, Z)\n"
     ]
    },
    {
     "data": {
      "image/png": "[encoded data removed]",
      "text/plain": [
       "<Figure size 432x288 with 1 Axes>"
      ]
     },
     "metadata": {
      "needs_background": "light"
     },
     "output_type": "display_data"
    }
   ],
   "source": [
    "x = np.linspace(-1, 1, 22)\n",
    "y = np.linspace(-1, 2, 21)\n",
    "z = np.array([i*i+j*j for j in y for i in x])\n",
    "\n",
    "X, Y = np.meshgrid(x, y)\n",
    "Z = z.reshape(21, 22)\n",
    "\n",
    "plt.pcolor(X, Y, Z)\n",
    "plt.show()\n"
   ]
  },
  {
   "cell_type": "code",
   "execution_count": 53,
   "id": "ac423ced-3f36-4537-8fdb-dd2aaef49de1",
   "metadata": {},
   "outputs": [
    {
     "data": {
      "text/plain": [
       "21"
      ]
     },
     "execution_count": 53,
     "metadata": {},
     "output_type": "execute_result"
    }
   ],
   "source": [
    "len(Z[0])"
   ]
  },
  {
   "cell_type": "code",
   "execution_count": 54,
   "id": "b6641cb5-2056-4c55-90ea-56a81bf18de7",
   "metadata": {},
   "outputs": [
    {
     "data": {
      "text/plain": [
       "128"
      ]
     },
     "execution_count": 54,
     "metadata": {},
     "output_type": "execute_result"
    }
   ],
   "source": [
    "len(dataslice[0])"
   ]
  },
  {
   "cell_type": "code",
   "execution_count": 56,
   "id": "f48654ce-bdf6-45c1-9df5-de86dc4db7b3",
   "metadata": {},
   "outputs": [
    {
     "data": {
      "text/plain": [
       "8192"
      ]
     },
     "execution_count": 56,
     "metadata": {},
     "output_type": "execute_result"
    }
   ],
   "source": [
    "64*128"
   ]
  },
  {
   "cell_type": "code",
   "execution_count": 62,
   "id": "389e3e44-c2f7-4f60-aa06-922febd103f0",
   "metadata": {},
   "outputs": [
    {
     "data": {
      "text/plain": [
       "array([-1. , -0.9, -0.8, -0.7, -0.6, -0.5, -0.4, -0.3, -0.2, -0.1,  0. ,\n",
       "        0.1,  0.2,  0.3,  0.4,  0.5,  0.6,  0.7,  0.8,  0.9,  1. ])"
      ]
     },
     "execution_count": 62,
     "metadata": {},
     "output_type": "execute_result"
    }
   ],
   "source": [
    "y"
   ]
  },
  {
   "cell_type": "code",
   "execution_count": 64,
   "id": "3c65d03f-fee0-4fa1-aa15-f7ca30f914d7",
   "metadata": {},
   "outputs": [
    {
     "data": {
      "text/plain": [
       "array([-0.9, -0.9, -0.9, -0.9, -0.9, -0.9, -0.9, -0.9, -0.9, -0.9, -0.9,\n",
       "       -0.9, -0.9, -0.9, -0.9, -0.9, -0.9, -0.9, -0.9, -0.9, -0.9, -0.9])"
      ]
     },
     "execution_count": 64,
     "metadata": {},
     "output_type": "execute_result"
    }
   ],
   "source": [
    "Y[1]"
   ]
  },
  {
   "cell_type": "code",
   "execution_count": null,
   "id": "03af8da3-cef0-4ada-b095-b11325b963df",
   "metadata": {},
   "outputs": [],
   "source": []
  }
 ],
 "metadata": {
  "kernelspec": {
   "display_name": "Python 3",
   "language": "python",
   "name": "python3"
  },
  "language_info": {
   "codemirror_mode": {
    "name": "ipython",
    "version": 3
   },
   "file_extension": ".py",
   "mimetype": "text/x-python",
   "name": "python",
   "nbconvert_exporter": "python",
   "pygments_lexer": "ipython3",
   "version": "3.8.10"
  }
 },
 "nbformat": 4,
 "nbformat_minor": 5
}
