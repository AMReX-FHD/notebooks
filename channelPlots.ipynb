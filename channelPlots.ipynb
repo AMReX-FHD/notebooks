{
 "cells": [
  {
   "cell_type": "code",
   "execution_count": 1,
   "id": "fc397aa6",
   "metadata": {},
   "outputs": [
    {
     "name": "stderr",
     "output_type": "stream",
     "text": [
      "/usr/lib/python3.8/_collections_abc.py:666: MatplotlibDeprecationWarning: The global colormaps dictionary is no longer considered public API.\n",
      "  self[key]\n"
     ]
    }
   ],
   "source": [
    "import yt\n",
    "import numpy as np\n",
    "import math\n",
    "import matplotlib.pyplot as plt"
   ]
  },
  {
   "cell_type": "code",
   "execution_count": 2,
   "id": "6f1fa9a2-3079-4463-8f2d-1d2534d8864b",
   "metadata": {},
   "outputs": [],
   "source": [
    "def return_y_plt(folder,time,nbins,field):\n",
    "    print(folder+time)\n",
    "    ds = yt.load(folder+time)\n",
    "    ad = ds.all_data()\n",
    "    plot = yt.ProfilePlot(ad,\"y\",[field],weight_field=\"cell_volume\",x_log=False,y_log={field:False},n_bins=nbins)\n",
    "    profile = plot.profiles[0]\n",
    "    x = np.array(profile.x)\n",
    "    y = np.array(profile[field])\n",
    "    return x, y"
   ]
  },
  {
   "cell_type": "code",
   "execution_count": 3,
   "id": "246fc220-be16-42bf-9875-f14caa1bedbc",
   "metadata": {},
   "outputs": [],
   "source": [
    "def return_data(folder,size,lo,hi,field):    \n",
    "    ds = yt.load(folder)\n",
    "    ad = ds.all_data()\n",
    "    df=ad.to_dataframe(fields=field)\n",
    "    data=np.zeros((size[0],size[1],size[2]))\n",
    "    for i in range(size[0]):\n",
    "        for j in range(size[1]):\n",
    "            for k in range(size[2]):\n",
    "                data[i,j,k]=df.iat[i*size[2]*size[1]+j*size[2]+k,0]\n",
    "                \n",
    "    xCell=(hi[0]-lo[0])/size[0]\n",
    "    yCell=(hi[1]-lo[1])/size[1]\n",
    "    zCell=(hi[2]-lo[2])/size[2]\n",
    "    \n",
    "    xGrid = np.linspace(lo[0]+0.5*xCell,hi[0]-0.5*xCell,size[0])\n",
    "    yGrid = np.linspace(lo[1]+0.5*yCell,hi[1]-0.5*yCell,size[1])\n",
    "    zGrid = np.linspace(lo[2]+0.5*zCell,hi[2]-0.5*zCell,size[2])\n",
    "    \n",
    "    return xGrid, yGrid, zGrid, data\n"
   ]
  },
  {
   "cell_type": "code",
   "execution_count": null,
   "id": "cc7c2cb8-3918-4d38-a4ee-2b23bef50d8c",
   "metadata": {},
   "outputs": [],
   "source": [
    "str(1).zfill(2)"
   ]
  },
  {
   "cell_type": "code",
   "execution_count": 4,
   "id": "e3dc3451-c4fe-47d5-a6ed-39d4d7821926",
   "metadata": {},
   "outputs": [
    {
     "name": "stdout",
     "output_type": "stream",
     "text": [
      "~/nerscProject/dladiges/visctest100/0part/CPU00/plt000006000/\n"
     ]
    },
    {
     "name": "stderr",
     "output_type": "stream",
     "text": [
      "yt : [INFO     ] 2023-01-31 10:36:18,288 Parameters: current_time              = 5.902222189999974e-10\n",
      "yt : [INFO     ] 2023-01-31 10:36:18,288 Parameters: domain_dimensions         = [256  64 256]\n",
      "yt : [INFO     ] 2023-01-31 10:36:18,289 Parameters: domain_left_edge          = [0. 0. 0.]\n",
      "yt : [INFO     ] 2023-01-31 10:36:18,290 Parameters: domain_right_edge         = [2.636e-06 6.590e-07 2.636e-06]\n"
     ]
    },
    {
     "name": "stdout",
     "output_type": "stream",
     "text": [
      "~/nerscProject/dladiges/visctest100/0part/CPU01/plt000006000/\n"
     ]
    },
    {
     "name": "stderr",
     "output_type": "stream",
     "text": [
      "yt : [INFO     ] 2023-01-31 10:36:26,548 Parameters: current_time              = 5.902222189999974e-10\n",
      "yt : [INFO     ] 2023-01-31 10:36:26,549 Parameters: domain_dimensions         = [256  64 256]\n",
      "yt : [INFO     ] 2023-01-31 10:36:26,550 Parameters: domain_left_edge          = [0. 0. 0.]\n",
      "yt : [INFO     ] 2023-01-31 10:36:26,551 Parameters: domain_right_edge         = [2.636e-06 6.590e-07 2.636e-06]\n"
     ]
    },
    {
     "name": "stdout",
     "output_type": "stream",
     "text": [
      "~/nerscProject/dladiges/visctest100/0part/CPU02/plt000006000/\n"
     ]
    },
    {
     "name": "stderr",
     "output_type": "stream",
     "text": [
      "yt : [INFO     ] 2023-01-31 10:36:33,810 Parameters: current_time              = 5.902222189999974e-10\n",
      "yt : [INFO     ] 2023-01-31 10:36:33,811 Parameters: domain_dimensions         = [256  64 256]\n",
      "yt : [INFO     ] 2023-01-31 10:36:33,813 Parameters: domain_left_edge          = [0. 0. 0.]\n",
      "yt : [INFO     ] 2023-01-31 10:36:33,813 Parameters: domain_right_edge         = [2.636e-06 6.590e-07 2.636e-06]\n"
     ]
    },
    {
     "name": "stdout",
     "output_type": "stream",
     "text": [
      "~/nerscProject/dladiges/visctest100/0part/CPU03/plt000006000/\n"
     ]
    },
    {
     "name": "stderr",
     "output_type": "stream",
     "text": [
      "yt : [INFO     ] 2023-01-31 10:36:41,253 Parameters: current_time              = 5.902222189999974e-10\n",
      "yt : [INFO     ] 2023-01-31 10:36:41,254 Parameters: domain_dimensions         = [256  64 256]\n",
      "yt : [INFO     ] 2023-01-31 10:36:41,255 Parameters: domain_left_edge          = [0. 0. 0.]\n",
      "yt : [INFO     ] 2023-01-31 10:36:41,256 Parameters: domain_right_edge         = [2.636e-06 6.590e-07 2.636e-06]\n"
     ]
    },
    {
     "name": "stdout",
     "output_type": "stream",
     "text": [
      "~/nerscProject/dladiges/visctest100/0part/CPU04/plt000006000/\n"
     ]
    },
    {
     "name": "stderr",
     "output_type": "stream",
     "text": [
      "yt : [INFO     ] 2023-01-31 10:36:48,493 Parameters: current_time              = 5.902222189999974e-10\n",
      "yt : [INFO     ] 2023-01-31 10:36:48,494 Parameters: domain_dimensions         = [256  64 256]\n",
      "yt : [INFO     ] 2023-01-31 10:36:48,495 Parameters: domain_left_edge          = [0. 0. 0.]\n",
      "yt : [INFO     ] 2023-01-31 10:36:48,496 Parameters: domain_right_edge         = [2.636e-06 6.590e-07 2.636e-06]\n"
     ]
    },
    {
     "name": "stdout",
     "output_type": "stream",
     "text": [
      "~/nerscProject/dladiges/visctest100/0part/CPU05/plt000006000/\n"
     ]
    },
    {
     "name": "stderr",
     "output_type": "stream",
     "text": [
      "yt : [INFO     ] 2023-01-31 10:36:55,888 Parameters: current_time              = 5.902222189999974e-10\n",
      "yt : [INFO     ] 2023-01-31 10:36:55,890 Parameters: domain_dimensions         = [256  64 256]\n",
      "yt : [INFO     ] 2023-01-31 10:36:55,891 Parameters: domain_left_edge          = [0. 0. 0.]\n",
      "yt : [INFO     ] 2023-01-31 10:36:55,892 Parameters: domain_right_edge         = [2.636e-06 6.590e-07 2.636e-06]\n"
     ]
    },
    {
     "name": "stdout",
     "output_type": "stream",
     "text": [
      "~/nerscProject/dladiges/visctest100/0part/CPU06/plt000006000/\n"
     ]
    },
    {
     "name": "stderr",
     "output_type": "stream",
     "text": [
      "yt : [INFO     ] 2023-01-31 10:37:03,198 Parameters: current_time              = 5.902222189999974e-10\n",
      "yt : [INFO     ] 2023-01-31 10:37:03,199 Parameters: domain_dimensions         = [256  64 256]\n",
      "yt : [INFO     ] 2023-01-31 10:37:03,200 Parameters: domain_left_edge          = [0. 0. 0.]\n",
      "yt : [INFO     ] 2023-01-31 10:37:03,202 Parameters: domain_right_edge         = [2.636e-06 6.590e-07 2.636e-06]\n"
     ]
    },
    {
     "name": "stdout",
     "output_type": "stream",
     "text": [
      "~/nerscProject/dladiges/visctest100/0part/CPU07/plt000006000/\n"
     ]
    },
    {
     "name": "stderr",
     "output_type": "stream",
     "text": [
      "yt : [INFO     ] 2023-01-31 10:37:10,524 Parameters: current_time              = 5.902222189999974e-10\n",
      "yt : [INFO     ] 2023-01-31 10:37:10,526 Parameters: domain_dimensions         = [256  64 256]\n",
      "yt : [INFO     ] 2023-01-31 10:37:10,527 Parameters: domain_left_edge          = [0. 0. 0.]\n",
      "yt : [INFO     ] 2023-01-31 10:37:10,528 Parameters: domain_right_edge         = [2.636e-06 6.590e-07 2.636e-06]\n"
     ]
    },
    {
     "name": "stdout",
     "output_type": "stream",
     "text": [
      "~/nerscProject/dladiges/visctest100/0part/CPU08/plt000006000/\n"
     ]
    },
    {
     "name": "stderr",
     "output_type": "stream",
     "text": [
      "yt : [INFO     ] 2023-01-31 10:37:17,783 Parameters: current_time              = 5.902222189999974e-10\n",
      "yt : [INFO     ] 2023-01-31 10:37:17,784 Parameters: domain_dimensions         = [256  64 256]\n",
      "yt : [INFO     ] 2023-01-31 10:37:17,784 Parameters: domain_left_edge          = [0. 0. 0.]\n",
      "yt : [INFO     ] 2023-01-31 10:37:17,785 Parameters: domain_right_edge         = [2.636e-06 6.590e-07 2.636e-06]\n"
     ]
    },
    {
     "name": "stdout",
     "output_type": "stream",
     "text": [
      "~/nerscProject/dladiges/visctest100/0part/CPU09/plt000006000/\n"
     ]
    },
    {
     "name": "stderr",
     "output_type": "stream",
     "text": [
      "yt : [INFO     ] 2023-01-31 10:37:25,216 Parameters: current_time              = 5.902222189999974e-10\n",
      "yt : [INFO     ] 2023-01-31 10:37:25,217 Parameters: domain_dimensions         = [256  64 256]\n",
      "yt : [INFO     ] 2023-01-31 10:37:25,218 Parameters: domain_left_edge          = [0. 0. 0.]\n",
      "yt : [INFO     ] 2023-01-31 10:37:25,219 Parameters: domain_right_edge         = [2.636e-06 6.590e-07 2.636e-06]\n"
     ]
    },
    {
     "name": "stdout",
     "output_type": "stream",
     "text": [
      "~/nerscProject/dladiges/visctest100/0part/CPU10/plt000006000/\n"
     ]
    },
    {
     "name": "stderr",
     "output_type": "stream",
     "text": [
      "yt : [INFO     ] 2023-01-31 10:37:32,677 Parameters: current_time              = 5.902222189999974e-10\n",
      "yt : [INFO     ] 2023-01-31 10:37:32,678 Parameters: domain_dimensions         = [256  64 256]\n",
      "yt : [INFO     ] 2023-01-31 10:37:32,679 Parameters: domain_left_edge          = [0. 0. 0.]\n",
      "yt : [INFO     ] 2023-01-31 10:37:32,680 Parameters: domain_right_edge         = [2.636e-06 6.590e-07 2.636e-06]\n"
     ]
    },
    {
     "name": "stdout",
     "output_type": "stream",
     "text": [
      "~/nerscProject/dladiges/visctest100/0part/CPU11/plt000006000/\n"
     ]
    },
    {
     "name": "stderr",
     "output_type": "stream",
     "text": [
      "yt : [INFO     ] 2023-01-31 10:37:40,200 Parameters: current_time              = 5.902222189999974e-10\n",
      "yt : [INFO     ] 2023-01-31 10:37:40,201 Parameters: domain_dimensions         = [256  64 256]\n",
      "yt : [INFO     ] 2023-01-31 10:37:40,203 Parameters: domain_left_edge          = [0. 0. 0.]\n",
      "yt : [INFO     ] 2023-01-31 10:37:40,204 Parameters: domain_right_edge         = [2.636e-06 6.590e-07 2.636e-06]\n"
     ]
    },
    {
     "name": "stdout",
     "output_type": "stream",
     "text": [
      "~/nerscProject/dladiges/visctest100/0part/CPU12/plt000006000/\n"
     ]
    },
    {
     "name": "stderr",
     "output_type": "stream",
     "text": [
      "yt : [INFO     ] 2023-01-31 10:37:47,588 Parameters: current_time              = 5.902222189999974e-10\n",
      "yt : [INFO     ] 2023-01-31 10:37:47,589 Parameters: domain_dimensions         = [256  64 256]\n",
      "yt : [INFO     ] 2023-01-31 10:37:47,590 Parameters: domain_left_edge          = [0. 0. 0.]\n",
      "yt : [INFO     ] 2023-01-31 10:37:47,591 Parameters: domain_right_edge         = [2.636e-06 6.590e-07 2.636e-06]\n"
     ]
    },
    {
     "name": "stdout",
     "output_type": "stream",
     "text": [
      "~/nerscProject/dladiges/visctest100/0part/CPU13/plt000006000/\n"
     ]
    },
    {
     "name": "stderr",
     "output_type": "stream",
     "text": [
      "yt : [INFO     ] 2023-01-31 10:37:54,758 Parameters: current_time              = 5.902222189999974e-10\n",
      "yt : [INFO     ] 2023-01-31 10:37:54,759 Parameters: domain_dimensions         = [256  64 256]\n",
      "yt : [INFO     ] 2023-01-31 10:37:54,760 Parameters: domain_left_edge          = [0. 0. 0.]\n",
      "yt : [INFO     ] 2023-01-31 10:37:54,761 Parameters: domain_right_edge         = [2.636e-06 6.590e-07 2.636e-06]\n"
     ]
    },
    {
     "name": "stdout",
     "output_type": "stream",
     "text": [
      "~/nerscProject/dladiges/visctest100/0part/CPU14/plt000006000/\n"
     ]
    },
    {
     "name": "stderr",
     "output_type": "stream",
     "text": [
      "yt : [INFO     ] 2023-01-31 10:38:02,489 Parameters: current_time              = 5.902222189999974e-10\n",
      "yt : [INFO     ] 2023-01-31 10:38:02,490 Parameters: domain_dimensions         = [256  64 256]\n",
      "yt : [INFO     ] 2023-01-31 10:38:02,491 Parameters: domain_left_edge          = [0. 0. 0.]\n",
      "yt : [INFO     ] 2023-01-31 10:38:02,492 Parameters: domain_right_edge         = [2.636e-06 6.590e-07 2.636e-06]\n"
     ]
    },
    {
     "name": "stdout",
     "output_type": "stream",
     "text": [
      "~/nerscProject/dladiges/visctest100/0part/CPU15/plt000006000/\n"
     ]
    },
    {
     "name": "stderr",
     "output_type": "stream",
     "text": [
      "yt : [INFO     ] 2023-01-31 10:38:10,003 Parameters: current_time              = 5.902222189999974e-10\n",
      "yt : [INFO     ] 2023-01-31 10:38:10,004 Parameters: domain_dimensions         = [256  64 256]\n",
      "yt : [INFO     ] 2023-01-31 10:38:10,005 Parameters: domain_left_edge          = [0. 0. 0.]\n",
      "yt : [INFO     ] 2023-01-31 10:38:10,006 Parameters: domain_right_edge         = [2.636e-06 6.590e-07 2.636e-06]\n"
     ]
    },
    {
     "name": "stdout",
     "output_type": "stream",
     "text": [
      "~/nerscProject/dladiges/visctest100/0part/CPU16/plt000006000/\n"
     ]
    },
    {
     "name": "stderr",
     "output_type": "stream",
     "text": [
      "yt : [INFO     ] 2023-01-31 10:38:17,742 Parameters: current_time              = 5.902222189999974e-10\n",
      "yt : [INFO     ] 2023-01-31 10:38:17,743 Parameters: domain_dimensions         = [256  64 256]\n",
      "yt : [INFO     ] 2023-01-31 10:38:17,745 Parameters: domain_left_edge          = [0. 0. 0.]\n",
      "yt : [INFO     ] 2023-01-31 10:38:17,746 Parameters: domain_right_edge         = [2.636e-06 6.590e-07 2.636e-06]\n"
     ]
    },
    {
     "name": "stdout",
     "output_type": "stream",
     "text": [
      "~/nerscProject/dladiges/visctest100/0part/CPU17/plt000006000/\n"
     ]
    },
    {
     "name": "stderr",
     "output_type": "stream",
     "text": [
      "yt : [INFO     ] 2023-01-31 10:38:25,585 Parameters: current_time              = 5.902222189999974e-10\n",
      "yt : [INFO     ] 2023-01-31 10:38:25,587 Parameters: domain_dimensions         = [256  64 256]\n",
      "yt : [INFO     ] 2023-01-31 10:38:25,588 Parameters: domain_left_edge          = [0. 0. 0.]\n",
      "yt : [INFO     ] 2023-01-31 10:38:25,589 Parameters: domain_right_edge         = [2.636e-06 6.590e-07 2.636e-06]\n"
     ]
    },
    {
     "name": "stdout",
     "output_type": "stream",
     "text": [
      "~/nerscProject/dladiges/visctest100/0part/CPU18/plt000006000/\n"
     ]
    },
    {
     "name": "stderr",
     "output_type": "stream",
     "text": [
      "yt : [INFO     ] 2023-01-31 10:38:33,185 Parameters: current_time              = 5.902222189999974e-10\n",
      "yt : [INFO     ] 2023-01-31 10:38:33,187 Parameters: domain_dimensions         = [256  64 256]\n",
      "yt : [INFO     ] 2023-01-31 10:38:33,188 Parameters: domain_left_edge          = [0. 0. 0.]\n",
      "yt : [INFO     ] 2023-01-31 10:38:33,189 Parameters: domain_right_edge         = [2.636e-06 6.590e-07 2.636e-06]\n"
     ]
    },
    {
     "name": "stdout",
     "output_type": "stream",
     "text": [
      "~/nerscProject/dladiges/visctest100/0part/CPU19/plt000006000/\n"
     ]
    },
    {
     "name": "stderr",
     "output_type": "stream",
     "text": [
      "yt : [INFO     ] 2023-01-31 10:38:43,692 Parameters: current_time              = 5.902222189999974e-10\n",
      "yt : [INFO     ] 2023-01-31 10:38:43,693 Parameters: domain_dimensions         = [256  64 256]\n",
      "yt : [INFO     ] 2023-01-31 10:38:43,693 Parameters: domain_left_edge          = [0. 0. 0.]\n",
      "yt : [INFO     ] 2023-01-31 10:38:43,694 Parameters: domain_right_edge         = [2.636e-06 6.590e-07 2.636e-06]\n"
     ]
    },
    {
     "name": "stdout",
     "output_type": "stream",
     "text": [
      "~/nerscProject/dladiges/visctest100/0part/CPU20/plt000006000/\n"
     ]
    },
    {
     "name": "stderr",
     "output_type": "stream",
     "text": [
      "yt : [INFO     ] 2023-01-31 10:38:51,159 Parameters: current_time              = 5.902222189999974e-10\n",
      "yt : [INFO     ] 2023-01-31 10:38:51,160 Parameters: domain_dimensions         = [256  64 256]\n",
      "yt : [INFO     ] 2023-01-31 10:38:51,161 Parameters: domain_left_edge          = [0. 0. 0.]\n",
      "yt : [INFO     ] 2023-01-31 10:38:51,162 Parameters: domain_right_edge         = [2.636e-06 6.590e-07 2.636e-06]\n"
     ]
    },
    {
     "name": "stdout",
     "output_type": "stream",
     "text": [
      "~/nerscProject/dladiges/visctest100/0part/CPU21/plt000006000/\n"
     ]
    },
    {
     "name": "stderr",
     "output_type": "stream",
     "text": [
      "yt : [INFO     ] 2023-01-31 10:38:58,836 Parameters: current_time              = 5.902222189999974e-10\n",
      "yt : [INFO     ] 2023-01-31 10:38:58,837 Parameters: domain_dimensions         = [256  64 256]\n",
      "yt : [INFO     ] 2023-01-31 10:38:58,838 Parameters: domain_left_edge          = [0. 0. 0.]\n",
      "yt : [INFO     ] 2023-01-31 10:38:58,839 Parameters: domain_right_edge         = [2.636e-06 6.590e-07 2.636e-06]\n"
     ]
    },
    {
     "name": "stdout",
     "output_type": "stream",
     "text": [
      "~/nerscProject/dladiges/visctest100/0part/CPU22/plt000006000/\n"
     ]
    },
    {
     "name": "stderr",
     "output_type": "stream",
     "text": [
      "yt : [INFO     ] 2023-01-31 10:39:06,647 Parameters: current_time              = 5.902222189999974e-10\n",
      "yt : [INFO     ] 2023-01-31 10:39:06,648 Parameters: domain_dimensions         = [256  64 256]\n",
      "yt : [INFO     ] 2023-01-31 10:39:06,649 Parameters: domain_left_edge          = [0. 0. 0.]\n",
      "yt : [INFO     ] 2023-01-31 10:39:06,650 Parameters: domain_right_edge         = [2.636e-06 6.590e-07 2.636e-06]\n"
     ]
    },
    {
     "name": "stdout",
     "output_type": "stream",
     "text": [
      "~/nerscProject/dladiges/visctest100/0part/CPU23/plt000006000/\n"
     ]
    },
    {
     "name": "stderr",
     "output_type": "stream",
     "text": [
      "yt : [INFO     ] 2023-01-31 10:39:14,833 Parameters: current_time              = 5.902222189999974e-10\n",
      "yt : [INFO     ] 2023-01-31 10:39:14,834 Parameters: domain_dimensions         = [256  64 256]\n",
      "yt : [INFO     ] 2023-01-31 10:39:14,835 Parameters: domain_left_edge          = [0. 0. 0.]\n",
      "yt : [INFO     ] 2023-01-31 10:39:14,836 Parameters: domain_right_edge         = [2.636e-06 6.590e-07 2.636e-06]\n"
     ]
    },
    {
     "name": "stdout",
     "output_type": "stream",
     "text": [
      "~/nerscProject/dladiges/visctest100/0part/CPU24/plt000006000/\n"
     ]
    },
    {
     "name": "stderr",
     "output_type": "stream",
     "text": [
      "yt : [INFO     ] 2023-01-31 10:39:22,637 Parameters: current_time              = 5.902222189999974e-10\n",
      "yt : [INFO     ] 2023-01-31 10:39:22,638 Parameters: domain_dimensions         = [256  64 256]\n",
      "yt : [INFO     ] 2023-01-31 10:39:22,639 Parameters: domain_left_edge          = [0. 0. 0.]\n",
      "yt : [INFO     ] 2023-01-31 10:39:22,640 Parameters: domain_right_edge         = [2.636e-06 6.590e-07 2.636e-06]\n"
     ]
    },
    {
     "name": "stdout",
     "output_type": "stream",
     "text": [
      "~/nerscProject/dladiges/visctest100/0part/CPU25/plt000006000/\n"
     ]
    },
    {
     "name": "stderr",
     "output_type": "stream",
     "text": [
      "yt : [INFO     ] 2023-01-31 10:39:29,921 Parameters: current_time              = 5.902222189999974e-10\n",
      "yt : [INFO     ] 2023-01-31 10:39:29,922 Parameters: domain_dimensions         = [256  64 256]\n",
      "yt : [INFO     ] 2023-01-31 10:39:29,923 Parameters: domain_left_edge          = [0. 0. 0.]\n",
      "yt : [INFO     ] 2023-01-31 10:39:29,924 Parameters: domain_right_edge         = [2.636e-06 6.590e-07 2.636e-06]\n"
     ]
    },
    {
     "name": "stdout",
     "output_type": "stream",
     "text": [
      "~/nerscProject/dladiges/visctest100/0part/CPU26/plt000006000/\n"
     ]
    },
    {
     "name": "stderr",
     "output_type": "stream",
     "text": [
      "yt : [INFO     ] 2023-01-31 10:39:37,490 Parameters: current_time              = 5.902222189999974e-10\n",
      "yt : [INFO     ] 2023-01-31 10:39:37,491 Parameters: domain_dimensions         = [256  64 256]\n",
      "yt : [INFO     ] 2023-01-31 10:39:37,492 Parameters: domain_left_edge          = [0. 0. 0.]\n",
      "yt : [INFO     ] 2023-01-31 10:39:37,494 Parameters: domain_right_edge         = [2.636e-06 6.590e-07 2.636e-06]\n"
     ]
    },
    {
     "name": "stdout",
     "output_type": "stream",
     "text": [
      "~/nerscProject/dladiges/visctest100/0part/CPU27/plt000006000/\n"
     ]
    },
    {
     "name": "stderr",
     "output_type": "stream",
     "text": [
      "yt : [INFO     ] 2023-01-31 10:39:45,266 Parameters: current_time              = 5.902222189999974e-10\n",
      "yt : [INFO     ] 2023-01-31 10:39:45,268 Parameters: domain_dimensions         = [256  64 256]\n",
      "yt : [INFO     ] 2023-01-31 10:39:45,269 Parameters: domain_left_edge          = [0. 0. 0.]\n",
      "yt : [INFO     ] 2023-01-31 10:39:45,270 Parameters: domain_right_edge         = [2.636e-06 6.590e-07 2.636e-06]\n"
     ]
    },
    {
     "name": "stdout",
     "output_type": "stream",
     "text": [
      "~/nerscProject/dladiges/visctest100/0part/CPU28/plt000006000/\n"
     ]
    },
    {
     "name": "stderr",
     "output_type": "stream",
     "text": [
      "yt : [INFO     ] 2023-01-31 10:39:52,842 Parameters: current_time              = 5.902222189999974e-10\n",
      "yt : [INFO     ] 2023-01-31 10:39:52,843 Parameters: domain_dimensions         = [256  64 256]\n",
      "yt : [INFO     ] 2023-01-31 10:39:52,844 Parameters: domain_left_edge          = [0. 0. 0.]\n",
      "yt : [INFO     ] 2023-01-31 10:39:52,846 Parameters: domain_right_edge         = [2.636e-06 6.590e-07 2.636e-06]\n"
     ]
    },
    {
     "name": "stdout",
     "output_type": "stream",
     "text": [
      "~/nerscProject/dladiges/visctest100/0part/CPU29/plt000006000/\n"
     ]
    },
    {
     "name": "stderr",
     "output_type": "stream",
     "text": [
      "yt : [INFO     ] 2023-01-31 10:40:00,796 Parameters: current_time              = 5.902222189999974e-10\n",
      "yt : [INFO     ] 2023-01-31 10:40:00,797 Parameters: domain_dimensions         = [256  64 256]\n",
      "yt : [INFO     ] 2023-01-31 10:40:00,798 Parameters: domain_left_edge          = [0. 0. 0.]\n",
      "yt : [INFO     ] 2023-01-31 10:40:00,798 Parameters: domain_right_edge         = [2.636e-06 6.590e-07 2.636e-06]\n"
     ]
    },
    {
     "name": "stdout",
     "output_type": "stream",
     "text": [
      "~/nerscProject/dladiges/visctest100/0part/CPU30/plt000006000/\n"
     ]
    },
    {
     "name": "stderr",
     "output_type": "stream",
     "text": [
      "yt : [INFO     ] 2023-01-31 10:40:08,135 Parameters: current_time              = 5.902222189999974e-10\n",
      "yt : [INFO     ] 2023-01-31 10:40:08,137 Parameters: domain_dimensions         = [256  64 256]\n",
      "yt : [INFO     ] 2023-01-31 10:40:08,138 Parameters: domain_left_edge          = [0. 0. 0.]\n",
      "yt : [INFO     ] 2023-01-31 10:40:08,139 Parameters: domain_right_edge         = [2.636e-06 6.590e-07 2.636e-06]\n"
     ]
    },
    {
     "name": "stdout",
     "output_type": "stream",
     "text": [
      "~/nerscProject/dladiges/visctest100/0part/CPU31/plt000006000/\n"
     ]
    },
    {
     "name": "stderr",
     "output_type": "stream",
     "text": [
      "yt : [INFO     ] 2023-01-31 10:40:15,630 Parameters: current_time              = 5.902222189999974e-10\n",
      "yt : [INFO     ] 2023-01-31 10:40:15,631 Parameters: domain_dimensions         = [256  64 256]\n",
      "yt : [INFO     ] 2023-01-31 10:40:15,632 Parameters: domain_left_edge          = [0. 0. 0.]\n",
      "yt : [INFO     ] 2023-01-31 10:40:15,633 Parameters: domain_right_edge         = [2.636e-06 6.590e-07 2.636e-06]\n"
     ]
    },
    {
     "name": "stdout",
     "output_type": "stream",
     "text": [
      "~/nerscProject/dladiges/visctest100/0part/CPU32/plt000006000/\n"
     ]
    },
    {
     "name": "stderr",
     "output_type": "stream",
     "text": [
      "yt : [INFO     ] 2023-01-31 10:40:23,208 Parameters: current_time              = 5.902222189999974e-10\n",
      "yt : [INFO     ] 2023-01-31 10:40:23,210 Parameters: domain_dimensions         = [256  64 256]\n",
      "yt : [INFO     ] 2023-01-31 10:40:23,211 Parameters: domain_left_edge          = [0. 0. 0.]\n",
      "yt : [INFO     ] 2023-01-31 10:40:23,212 Parameters: domain_right_edge         = [2.636e-06 6.590e-07 2.636e-06]\n"
     ]
    },
    {
     "name": "stdout",
     "output_type": "stream",
     "text": [
      "~/nerscProject/dladiges/visctest100/0part/CPU33/plt000006000/\n"
     ]
    },
    {
     "name": "stderr",
     "output_type": "stream",
     "text": [
      "yt : [INFO     ] 2023-01-31 10:40:30,914 Parameters: current_time              = 5.902222189999974e-10\n",
      "yt : [INFO     ] 2023-01-31 10:40:30,915 Parameters: domain_dimensions         = [256  64 256]\n",
      "yt : [INFO     ] 2023-01-31 10:40:30,916 Parameters: domain_left_edge          = [0. 0. 0.]\n",
      "yt : [INFO     ] 2023-01-31 10:40:30,917 Parameters: domain_right_edge         = [2.636e-06 6.590e-07 2.636e-06]\n"
     ]
    },
    {
     "name": "stdout",
     "output_type": "stream",
     "text": [
      "~/nerscProject/dladiges/visctest100/0part/CPU34/plt000006000/\n"
     ]
    },
    {
     "name": "stderr",
     "output_type": "stream",
     "text": [
      "yt : [INFO     ] 2023-01-31 10:40:38,215 Parameters: current_time              = 5.902222189999974e-10\n",
      "yt : [INFO     ] 2023-01-31 10:40:38,216 Parameters: domain_dimensions         = [256  64 256]\n",
      "yt : [INFO     ] 2023-01-31 10:40:38,217 Parameters: domain_left_edge          = [0. 0. 0.]\n",
      "yt : [INFO     ] 2023-01-31 10:40:38,218 Parameters: domain_right_edge         = [2.636e-06 6.590e-07 2.636e-06]\n"
     ]
    },
    {
     "name": "stdout",
     "output_type": "stream",
     "text": [
      "~/nerscProject/dladiges/visctest100/0part/CPU35/plt000006000/\n"
     ]
    },
    {
     "name": "stderr",
     "output_type": "stream",
     "text": [
      "yt : [INFO     ] 2023-01-31 10:40:46,311 Parameters: current_time              = 5.902222189999974e-10\n",
      "yt : [INFO     ] 2023-01-31 10:40:46,313 Parameters: domain_dimensions         = [256  64 256]\n",
      "yt : [INFO     ] 2023-01-31 10:40:46,313 Parameters: domain_left_edge          = [0. 0. 0.]\n",
      "yt : [INFO     ] 2023-01-31 10:40:46,314 Parameters: domain_right_edge         = [2.636e-06 6.590e-07 2.636e-06]\n"
     ]
    },
    {
     "name": "stdout",
     "output_type": "stream",
     "text": [
      "~/nerscProject/dladiges/visctest100/0part/CPU36/plt000006000/\n"
     ]
    },
    {
     "name": "stderr",
     "output_type": "stream",
     "text": [
      "yt : [INFO     ] 2023-01-31 10:40:53,936 Parameters: current_time              = 5.902222189999974e-10\n",
      "yt : [INFO     ] 2023-01-31 10:40:53,937 Parameters: domain_dimensions         = [256  64 256]\n",
      "yt : [INFO     ] 2023-01-31 10:40:53,938 Parameters: domain_left_edge          = [0. 0. 0.]\n",
      "yt : [INFO     ] 2023-01-31 10:40:53,939 Parameters: domain_right_edge         = [2.636e-06 6.590e-07 2.636e-06]\n"
     ]
    },
    {
     "name": "stdout",
     "output_type": "stream",
     "text": [
      "~/nerscProject/dladiges/visctest100/0part/CPU37/plt000006000/\n"
     ]
    },
    {
     "name": "stderr",
     "output_type": "stream",
     "text": [
      "yt : [INFO     ] 2023-01-31 10:41:02,813 Parameters: current_time              = 5.902222189999974e-10\n",
      "yt : [INFO     ] 2023-01-31 10:41:02,814 Parameters: domain_dimensions         = [256  64 256]\n",
      "yt : [INFO     ] 2023-01-31 10:41:02,815 Parameters: domain_left_edge          = [0. 0. 0.]\n",
      "yt : [INFO     ] 2023-01-31 10:41:02,816 Parameters: domain_right_edge         = [2.636e-06 6.590e-07 2.636e-06]\n"
     ]
    },
    {
     "name": "stdout",
     "output_type": "stream",
     "text": [
      "~/nerscProject/dladiges/visctest100/0part/CPU38/plt000006000/\n"
     ]
    },
    {
     "name": "stderr",
     "output_type": "stream",
     "text": [
      "yt : [INFO     ] 2023-01-31 10:41:10,506 Parameters: current_time              = 5.902222189999974e-10\n",
      "yt : [INFO     ] 2023-01-31 10:41:10,507 Parameters: domain_dimensions         = [256  64 256]\n",
      "yt : [INFO     ] 2023-01-31 10:41:10,508 Parameters: domain_left_edge          = [0. 0. 0.]\n",
      "yt : [INFO     ] 2023-01-31 10:41:10,510 Parameters: domain_right_edge         = [2.636e-06 6.590e-07 2.636e-06]\n"
     ]
    },
    {
     "name": "stdout",
     "output_type": "stream",
     "text": [
      "~/nerscProject/dladiges/visctest100/0part/CPU39/plt000006000/\n"
     ]
    },
    {
     "name": "stderr",
     "output_type": "stream",
     "text": [
      "yt : [INFO     ] 2023-01-31 10:41:17,985 Parameters: current_time              = 5.902222189999974e-10\n",
      "yt : [INFO     ] 2023-01-31 10:41:17,986 Parameters: domain_dimensions         = [256  64 256]\n",
      "yt : [INFO     ] 2023-01-31 10:41:17,987 Parameters: domain_left_edge          = [0. 0. 0.]\n",
      "yt : [INFO     ] 2023-01-31 10:41:17,988 Parameters: domain_right_edge         = [2.636e-06 6.590e-07 2.636e-06]\n"
     ]
    },
    {
     "name": "stdout",
     "output_type": "stream",
     "text": [
      "~/nerscProject/dladiges/visctest100/0part/CPU40/plt000006000/\n"
     ]
    },
    {
     "name": "stderr",
     "output_type": "stream",
     "text": [
      "yt : [INFO     ] 2023-01-31 10:41:25,453 Parameters: current_time              = 5.902222189999974e-10\n",
      "yt : [INFO     ] 2023-01-31 10:41:25,455 Parameters: domain_dimensions         = [256  64 256]\n",
      "yt : [INFO     ] 2023-01-31 10:41:25,456 Parameters: domain_left_edge          = [0. 0. 0.]\n",
      "yt : [INFO     ] 2023-01-31 10:41:25,457 Parameters: domain_right_edge         = [2.636e-06 6.590e-07 2.636e-06]\n"
     ]
    },
    {
     "name": "stdout",
     "output_type": "stream",
     "text": [
      "~/nerscProject/dladiges/visctest100/0part/CPU41/plt000006000/\n"
     ]
    },
    {
     "name": "stderr",
     "output_type": "stream",
     "text": [
      "yt : [INFO     ] 2023-01-31 10:41:33,856 Parameters: current_time              = 5.902222189999974e-10\n",
      "yt : [INFO     ] 2023-01-31 10:41:33,858 Parameters: domain_dimensions         = [256  64 256]\n",
      "yt : [INFO     ] 2023-01-31 10:41:33,859 Parameters: domain_left_edge          = [0. 0. 0.]\n",
      "yt : [INFO     ] 2023-01-31 10:41:33,861 Parameters: domain_right_edge         = [2.636e-06 6.590e-07 2.636e-06]\n"
     ]
    },
    {
     "name": "stdout",
     "output_type": "stream",
     "text": [
      "~/nerscProject/dladiges/visctest100/0part/CPU42/plt000006000/\n"
     ]
    },
    {
     "name": "stderr",
     "output_type": "stream",
     "text": [
      "yt : [INFO     ] 2023-01-31 10:41:41,282 Parameters: current_time              = 5.902222189999974e-10\n",
      "yt : [INFO     ] 2023-01-31 10:41:41,283 Parameters: domain_dimensions         = [256  64 256]\n",
      "yt : [INFO     ] 2023-01-31 10:41:41,284 Parameters: domain_left_edge          = [0. 0. 0.]\n",
      "yt : [INFO     ] 2023-01-31 10:41:41,285 Parameters: domain_right_edge         = [2.636e-06 6.590e-07 2.636e-06]\n"
     ]
    },
    {
     "name": "stdout",
     "output_type": "stream",
     "text": [
      "~/nerscProject/dladiges/visctest100/0part/CPU43/plt000006000/\n"
     ]
    },
    {
     "name": "stderr",
     "output_type": "stream",
     "text": [
      "yt : [INFO     ] 2023-01-31 10:41:48,444 Parameters: current_time              = 5.902222189999974e-10\n",
      "yt : [INFO     ] 2023-01-31 10:41:48,445 Parameters: domain_dimensions         = [256  64 256]\n",
      "yt : [INFO     ] 2023-01-31 10:41:48,446 Parameters: domain_left_edge          = [0. 0. 0.]\n",
      "yt : [INFO     ] 2023-01-31 10:41:48,447 Parameters: domain_right_edge         = [2.636e-06 6.590e-07 2.636e-06]\n"
     ]
    },
    {
     "name": "stdout",
     "output_type": "stream",
     "text": [
      "~/nerscProject/dladiges/visctest100/0part/CPU44/plt000006000/\n"
     ]
    },
    {
     "name": "stderr",
     "output_type": "stream",
     "text": [
      "yt : [INFO     ] 2023-01-31 10:41:56,049 Parameters: current_time              = 5.902222189999974e-10\n",
      "yt : [INFO     ] 2023-01-31 10:41:56,050 Parameters: domain_dimensions         = [256  64 256]\n",
      "yt : [INFO     ] 2023-01-31 10:41:56,051 Parameters: domain_left_edge          = [0. 0. 0.]\n",
      "yt : [INFO     ] 2023-01-31 10:41:56,051 Parameters: domain_right_edge         = [2.636e-06 6.590e-07 2.636e-06]\n"
     ]
    },
    {
     "name": "stdout",
     "output_type": "stream",
     "text": [
      "~/nerscProject/dladiges/visctest100/0part/CPU45/plt000006000/\n"
     ]
    },
    {
     "name": "stderr",
     "output_type": "stream",
     "text": [
      "yt : [INFO     ] 2023-01-31 10:42:03,770 Parameters: current_time              = 5.902222189999974e-10\n",
      "yt : [INFO     ] 2023-01-31 10:42:03,771 Parameters: domain_dimensions         = [256  64 256]\n",
      "yt : [INFO     ] 2023-01-31 10:42:03,772 Parameters: domain_left_edge          = [0. 0. 0.]\n",
      "yt : [INFO     ] 2023-01-31 10:42:03,773 Parameters: domain_right_edge         = [2.636e-06 6.590e-07 2.636e-06]\n"
     ]
    },
    {
     "name": "stdout",
     "output_type": "stream",
     "text": [
      "~/nerscProject/dladiges/visctest100/0part/CPU46/plt000006000/\n"
     ]
    },
    {
     "name": "stderr",
     "output_type": "stream",
     "text": [
      "yt : [INFO     ] 2023-01-31 10:42:12,420 Parameters: current_time              = 5.902222189999974e-10\n",
      "yt : [INFO     ] 2023-01-31 10:42:12,421 Parameters: domain_dimensions         = [256  64 256]\n",
      "yt : [INFO     ] 2023-01-31 10:42:12,423 Parameters: domain_left_edge          = [0. 0. 0.]\n",
      "yt : [INFO     ] 2023-01-31 10:42:12,424 Parameters: domain_right_edge         = [2.636e-06 6.590e-07 2.636e-06]\n"
     ]
    },
    {
     "name": "stdout",
     "output_type": "stream",
     "text": [
      "~/nerscProject/dladiges/visctest100/0part/CPU47/plt000006000/\n"
     ]
    },
    {
     "name": "stderr",
     "output_type": "stream",
     "text": [
      "yt : [INFO     ] 2023-01-31 10:42:20,021 Parameters: current_time              = 5.902222189999974e-10\n",
      "yt : [INFO     ] 2023-01-31 10:42:20,022 Parameters: domain_dimensions         = [256  64 256]\n",
      "yt : [INFO     ] 2023-01-31 10:42:20,024 Parameters: domain_left_edge          = [0. 0. 0.]\n",
      "yt : [INFO     ] 2023-01-31 10:42:20,025 Parameters: domain_right_edge         = [2.636e-06 6.590e-07 2.636e-06]\n"
     ]
    },
    {
     "name": "stdout",
     "output_type": "stream",
     "text": [
      "~/nerscProject/dladiges/visctest100/0part/CPU48/plt000006000/\n"
     ]
    },
    {
     "name": "stderr",
     "output_type": "stream",
     "text": [
      "yt : [INFO     ] 2023-01-31 10:42:27,488 Parameters: current_time              = 5.902222189999974e-10\n",
      "yt : [INFO     ] 2023-01-31 10:42:27,489 Parameters: domain_dimensions         = [256  64 256]\n",
      "yt : [INFO     ] 2023-01-31 10:42:27,490 Parameters: domain_left_edge          = [0. 0. 0.]\n",
      "yt : [INFO     ] 2023-01-31 10:42:27,491 Parameters: domain_right_edge         = [2.636e-06 6.590e-07 2.636e-06]\n"
     ]
    },
    {
     "name": "stdout",
     "output_type": "stream",
     "text": [
      "~/nerscProject/dladiges/visctest100/0part/CPU49/plt000006000/\n"
     ]
    },
    {
     "name": "stderr",
     "output_type": "stream",
     "text": [
      "yt : [INFO     ] 2023-01-31 10:42:37,531 Parameters: current_time              = 5.902222189999974e-10\n",
      "yt : [INFO     ] 2023-01-31 10:42:37,532 Parameters: domain_dimensions         = [256  64 256]\n",
      "yt : [INFO     ] 2023-01-31 10:42:37,533 Parameters: domain_left_edge          = [0. 0. 0.]\n",
      "yt : [INFO     ] 2023-01-31 10:42:37,534 Parameters: domain_right_edge         = [2.636e-06 6.590e-07 2.636e-06]\n"
     ]
    },
    {
     "name": "stdout",
     "output_type": "stream",
     "text": [
      "~/nerscProject/dladiges/visctest100/0part/CPU50/plt000006000/\n"
     ]
    },
    {
     "name": "stderr",
     "output_type": "stream",
     "text": [
      "yt : [INFO     ] 2023-01-31 10:42:45,094 Parameters: current_time              = 5.902222189999974e-10\n",
      "yt : [INFO     ] 2023-01-31 10:42:45,095 Parameters: domain_dimensions         = [256  64 256]\n",
      "yt : [INFO     ] 2023-01-31 10:42:45,097 Parameters: domain_left_edge          = [0. 0. 0.]\n",
      "yt : [INFO     ] 2023-01-31 10:42:45,099 Parameters: domain_right_edge         = [2.636e-06 6.590e-07 2.636e-06]\n"
     ]
    },
    {
     "name": "stdout",
     "output_type": "stream",
     "text": [
      "~/nerscProject/dladiges/visctest100/0part/CPU51/plt000006000/\n"
     ]
    },
    {
     "name": "stderr",
     "output_type": "stream",
     "text": [
      "yt : [INFO     ] 2023-01-31 10:42:52,386 Parameters: current_time              = 5.902222189999974e-10\n",
      "yt : [INFO     ] 2023-01-31 10:42:52,387 Parameters: domain_dimensions         = [256  64 256]\n",
      "yt : [INFO     ] 2023-01-31 10:42:52,388 Parameters: domain_left_edge          = [0. 0. 0.]\n",
      "yt : [INFO     ] 2023-01-31 10:42:52,389 Parameters: domain_right_edge         = [2.636e-06 6.590e-07 2.636e-06]\n"
     ]
    },
    {
     "name": "stdout",
     "output_type": "stream",
     "text": [
      "~/nerscProject/dladiges/visctest100/0part/CPU52/plt000006000/\n"
     ]
    },
    {
     "name": "stderr",
     "output_type": "stream",
     "text": [
      "yt : [INFO     ] 2023-01-31 10:43:00,297 Parameters: current_time              = 5.902222189999974e-10\n",
      "yt : [INFO     ] 2023-01-31 10:43:00,298 Parameters: domain_dimensions         = [256  64 256]\n",
      "yt : [INFO     ] 2023-01-31 10:43:00,299 Parameters: domain_left_edge          = [0. 0. 0.]\n",
      "yt : [INFO     ] 2023-01-31 10:43:00,299 Parameters: domain_right_edge         = [2.636e-06 6.590e-07 2.636e-06]\n"
     ]
    },
    {
     "name": "stdout",
     "output_type": "stream",
     "text": [
      "~/nerscProject/dladiges/visctest100/0part/CPU53/plt000006000/\n"
     ]
    },
    {
     "name": "stderr",
     "output_type": "stream",
     "text": [
      "yt : [INFO     ] 2023-01-31 10:43:08,689 Parameters: current_time              = 5.902222189999974e-10\n",
      "yt : [INFO     ] 2023-01-31 10:43:08,690 Parameters: domain_dimensions         = [256  64 256]\n",
      "yt : [INFO     ] 2023-01-31 10:43:08,691 Parameters: domain_left_edge          = [0. 0. 0.]\n",
      "yt : [INFO     ] 2023-01-31 10:43:08,693 Parameters: domain_right_edge         = [2.636e-06 6.590e-07 2.636e-06]\n"
     ]
    },
    {
     "name": "stdout",
     "output_type": "stream",
     "text": [
      "~/nerscProject/dladiges/visctest100/0part/CPU54/plt000006000/\n"
     ]
    },
    {
     "name": "stderr",
     "output_type": "stream",
     "text": [
      "yt : [INFO     ] 2023-01-31 10:43:17,196 Parameters: current_time              = 5.902222189999974e-10\n",
      "yt : [INFO     ] 2023-01-31 10:43:17,198 Parameters: domain_dimensions         = [256  64 256]\n",
      "yt : [INFO     ] 2023-01-31 10:43:17,199 Parameters: domain_left_edge          = [0. 0. 0.]\n",
      "yt : [INFO     ] 2023-01-31 10:43:17,200 Parameters: domain_right_edge         = [2.636e-06 6.590e-07 2.636e-06]\n"
     ]
    },
    {
     "name": "stdout",
     "output_type": "stream",
     "text": [
      "~/nerscProject/dladiges/visctest100/0part/CPU55/plt000006000/\n"
     ]
    },
    {
     "name": "stderr",
     "output_type": "stream",
     "text": [
      "yt : [INFO     ] 2023-01-31 10:43:25,688 Parameters: current_time              = 5.902222189999974e-10\n",
      "yt : [INFO     ] 2023-01-31 10:43:25,689 Parameters: domain_dimensions         = [256  64 256]\n",
      "yt : [INFO     ] 2023-01-31 10:43:25,690 Parameters: domain_left_edge          = [0. 0. 0.]\n",
      "yt : [INFO     ] 2023-01-31 10:43:25,692 Parameters: domain_right_edge         = [2.636e-06 6.590e-07 2.636e-06]\n"
     ]
    },
    {
     "name": "stdout",
     "output_type": "stream",
     "text": [
      "~/nerscProject/dladiges/visctest100/0part/CPU56/plt000006000/\n"
     ]
    },
    {
     "name": "stderr",
     "output_type": "stream",
     "text": [
      "yt : [INFO     ] 2023-01-31 10:43:35,104 Parameters: current_time              = 5.902222189999974e-10\n",
      "yt : [INFO     ] 2023-01-31 10:43:35,105 Parameters: domain_dimensions         = [256  64 256]\n",
      "yt : [INFO     ] 2023-01-31 10:43:35,107 Parameters: domain_left_edge          = [0. 0. 0.]\n",
      "yt : [INFO     ] 2023-01-31 10:43:35,108 Parameters: domain_right_edge         = [2.636e-06 6.590e-07 2.636e-06]\n"
     ]
    },
    {
     "name": "stdout",
     "output_type": "stream",
     "text": [
      "~/nerscProject/dladiges/visctest100/0part/CPU57/plt000006000/\n"
     ]
    },
    {
     "name": "stderr",
     "output_type": "stream",
     "text": [
      "yt : [INFO     ] 2023-01-31 10:43:45,126 Parameters: current_time              = 5.902222189999974e-10\n",
      "yt : [INFO     ] 2023-01-31 10:43:45,127 Parameters: domain_dimensions         = [256  64 256]\n",
      "yt : [INFO     ] 2023-01-31 10:43:45,128 Parameters: domain_left_edge          = [0. 0. 0.]\n",
      "yt : [INFO     ] 2023-01-31 10:43:45,129 Parameters: domain_right_edge         = [2.636e-06 6.590e-07 2.636e-06]\n"
     ]
    },
    {
     "name": "stdout",
     "output_type": "stream",
     "text": [
      "~/nerscProject/dladiges/visctest100/0part/CPU58/plt000006000/\n"
     ]
    },
    {
     "name": "stderr",
     "output_type": "stream",
     "text": [
      "yt : [INFO     ] 2023-01-31 10:43:54,885 Parameters: current_time              = 5.902222189999974e-10\n",
      "yt : [INFO     ] 2023-01-31 10:43:54,887 Parameters: domain_dimensions         = [256  64 256]\n",
      "yt : [INFO     ] 2023-01-31 10:43:54,888 Parameters: domain_left_edge          = [0. 0. 0.]\n",
      "yt : [INFO     ] 2023-01-31 10:43:54,889 Parameters: domain_right_edge         = [2.636e-06 6.590e-07 2.636e-06]\n"
     ]
    },
    {
     "name": "stdout",
     "output_type": "stream",
     "text": [
      "~/nerscProject/dladiges/visctest100/0part/CPU59/plt000006000/\n"
     ]
    },
    {
     "name": "stderr",
     "output_type": "stream",
     "text": [
      "yt : [INFO     ] 2023-01-31 10:44:04,811 Parameters: current_time              = 5.902222189999974e-10\n",
      "yt : [INFO     ] 2023-01-31 10:44:04,812 Parameters: domain_dimensions         = [256  64 256]\n",
      "yt : [INFO     ] 2023-01-31 10:44:04,813 Parameters: domain_left_edge          = [0. 0. 0.]\n",
      "yt : [INFO     ] 2023-01-31 10:44:04,814 Parameters: domain_right_edge         = [2.636e-06 6.590e-07 2.636e-06]\n"
     ]
    },
    {
     "name": "stdout",
     "output_type": "stream",
     "text": [
      "~/nerscProject/dladiges/visctest100/0part/CPU60/plt000006000/\n"
     ]
    },
    {
     "name": "stderr",
     "output_type": "stream",
     "text": [
      "yt : [INFO     ] 2023-01-31 10:44:14,650 Parameters: current_time              = 5.902222189999974e-10\n",
      "yt : [INFO     ] 2023-01-31 10:44:14,652 Parameters: domain_dimensions         = [256  64 256]\n",
      "yt : [INFO     ] 2023-01-31 10:44:14,653 Parameters: domain_left_edge          = [0. 0. 0.]\n",
      "yt : [INFO     ] 2023-01-31 10:44:14,654 Parameters: domain_right_edge         = [2.636e-06 6.590e-07 2.636e-06]\n"
     ]
    },
    {
     "name": "stdout",
     "output_type": "stream",
     "text": [
      "~/nerscProject/dladiges/visctest100/0part/CPU61/plt000006000/\n"
     ]
    },
    {
     "name": "stderr",
     "output_type": "stream",
     "text": [
      "yt : [INFO     ] 2023-01-31 10:44:25,562 Parameters: current_time              = 5.902222189999974e-10\n",
      "yt : [INFO     ] 2023-01-31 10:44:25,563 Parameters: domain_dimensions         = [256  64 256]\n",
      "yt : [INFO     ] 2023-01-31 10:44:25,564 Parameters: domain_left_edge          = [0. 0. 0.]\n",
      "yt : [INFO     ] 2023-01-31 10:44:25,565 Parameters: domain_right_edge         = [2.636e-06 6.590e-07 2.636e-06]\n"
     ]
    },
    {
     "name": "stdout",
     "output_type": "stream",
     "text": [
      "~/nerscProject/dladiges/visctest100/0part/CPU62/plt000006000/\n"
     ]
    },
    {
     "name": "stderr",
     "output_type": "stream",
     "text": [
      "yt : [INFO     ] 2023-01-31 10:44:38,392 Parameters: current_time              = 5.902222189999974e-10\n",
      "yt : [INFO     ] 2023-01-31 10:44:38,394 Parameters: domain_dimensions         = [256  64 256]\n",
      "yt : [INFO     ] 2023-01-31 10:44:38,395 Parameters: domain_left_edge          = [0. 0. 0.]\n",
      "yt : [INFO     ] 2023-01-31 10:44:38,396 Parameters: domain_right_edge         = [2.636e-06 6.590e-07 2.636e-06]\n"
     ]
    },
    {
     "name": "stdout",
     "output_type": "stream",
     "text": [
      "~/nerscProject/dladiges/visctest100/0part/CPU63/plt000006000/\n"
     ]
    },
    {
     "name": "stderr",
     "output_type": "stream",
     "text": [
      "yt : [INFO     ] 2023-01-31 10:44:51,105 Parameters: current_time              = 5.902222189999974e-10\n",
      "yt : [INFO     ] 2023-01-31 10:44:51,106 Parameters: domain_dimensions         = [256  64 256]\n",
      "yt : [INFO     ] 2023-01-31 10:44:51,108 Parameters: domain_left_edge          = [0. 0. 0.]\n",
      "yt : [INFO     ] 2023-01-31 10:44:51,109 Parameters: domain_right_edge         = [2.636e-06 6.590e-07 2.636e-06]\n"
     ]
    }
   ],
   "source": [
    "data = \"~/nerscProject/dladiges/visctest100/0part/CPU\"\n",
    "time = \"/plt0000\"+\"06000/\"\n",
    "bins = 64\n",
    "ens= 64\n",
    "yall0 = np.zeros((ens,bins))\n",
    "i=0\n",
    "for i in range(ens):\n",
    "    stri = data + str(i).zfill(2)\n",
    "    xt, yall0[i] = return_y_plt(stri,time,nbins=bins,field=\"averaged_meanx\")"
   ]
  },
  {
   "cell_type": "code",
   "execution_count": 5,
   "id": "23f826c4",
   "metadata": {},
   "outputs": [
    {
     "name": "stdout",
     "output_type": "stream",
     "text": [
      "~/nerscProject/dladiges/visctest100/350partSC/CPU00/plt000018000/\n"
     ]
    },
    {
     "name": "stderr",
     "output_type": "stream",
     "text": [
      "yt : [INFO     ] 2023-01-31 10:44:59,775 Parameters: current_time              = 1.7253332459003455e-09\n",
      "yt : [INFO     ] 2023-01-31 10:44:59,776 Parameters: domain_dimensions         = [256  64 256]\n",
      "yt : [INFO     ] 2023-01-31 10:44:59,778 Parameters: domain_left_edge          = [0. 0. 0.]\n",
      "yt : [INFO     ] 2023-01-31 10:44:59,779 Parameters: domain_right_edge         = [2.636e-06 6.590e-07 2.636e-06]\n"
     ]
    },
    {
     "name": "stdout",
     "output_type": "stream",
     "text": [
      "~/nerscProject/dladiges/visctest100/350partSC/CPU01/plt000018000/\n"
     ]
    },
    {
     "name": "stderr",
     "output_type": "stream",
     "text": [
      "yt : [INFO     ] 2023-01-31 10:45:09,059 Parameters: current_time              = 1.7253332459003455e-09\n",
      "yt : [INFO     ] 2023-01-31 10:45:09,060 Parameters: domain_dimensions         = [256  64 256]\n",
      "yt : [INFO     ] 2023-01-31 10:45:09,060 Parameters: domain_left_edge          = [0. 0. 0.]\n",
      "yt : [INFO     ] 2023-01-31 10:45:09,061 Parameters: domain_right_edge         = [2.636e-06 6.590e-07 2.636e-06]\n"
     ]
    },
    {
     "name": "stdout",
     "output_type": "stream",
     "text": [
      "~/nerscProject/dladiges/visctest100/350partSC/CPU02/plt000018000/\n"
     ]
    },
    {
     "name": "stderr",
     "output_type": "stream",
     "text": [
      "yt : [INFO     ] 2023-01-31 10:45:18,624 Parameters: current_time              = 1.7253332459003455e-09\n",
      "yt : [INFO     ] 2023-01-31 10:45:18,625 Parameters: domain_dimensions         = [256  64 256]\n",
      "yt : [INFO     ] 2023-01-31 10:45:18,626 Parameters: domain_left_edge          = [0. 0. 0.]\n",
      "yt : [INFO     ] 2023-01-31 10:45:18,627 Parameters: domain_right_edge         = [2.636e-06 6.590e-07 2.636e-06]\n"
     ]
    },
    {
     "name": "stdout",
     "output_type": "stream",
     "text": [
      "~/nerscProject/dladiges/visctest100/350partSC/CPU03/plt000018000/\n"
     ]
    },
    {
     "name": "stderr",
     "output_type": "stream",
     "text": [
      "yt : [INFO     ] 2023-01-31 10:45:27,793 Parameters: current_time              = 1.7253332459003455e-09\n",
      "yt : [INFO     ] 2023-01-31 10:45:27,795 Parameters: domain_dimensions         = [256  64 256]\n",
      "yt : [INFO     ] 2023-01-31 10:45:27,796 Parameters: domain_left_edge          = [0. 0. 0.]\n",
      "yt : [INFO     ] 2023-01-31 10:45:27,797 Parameters: domain_right_edge         = [2.636e-06 6.590e-07 2.636e-06]\n"
     ]
    },
    {
     "name": "stdout",
     "output_type": "stream",
     "text": [
      "~/nerscProject/dladiges/visctest100/350partSC/CPU04/plt000018000/\n"
     ]
    },
    {
     "name": "stderr",
     "output_type": "stream",
     "text": [
      "yt : [INFO     ] 2023-01-31 10:45:36,940 Parameters: current_time              = 1.7253332459003455e-09\n",
      "yt : [INFO     ] 2023-01-31 10:45:36,941 Parameters: domain_dimensions         = [256  64 256]\n",
      "yt : [INFO     ] 2023-01-31 10:45:36,942 Parameters: domain_left_edge          = [0. 0. 0.]\n",
      "yt : [INFO     ] 2023-01-31 10:45:36,943 Parameters: domain_right_edge         = [2.636e-06 6.590e-07 2.636e-06]\n"
     ]
    },
    {
     "name": "stdout",
     "output_type": "stream",
     "text": [
      "~/nerscProject/dladiges/visctest100/350partSC/CPU05/plt000018000/\n"
     ]
    },
    {
     "name": "stderr",
     "output_type": "stream",
     "text": [
      "yt : [INFO     ] 2023-01-31 10:45:46,316 Parameters: current_time              = 1.7253332459003455e-09\n",
      "yt : [INFO     ] 2023-01-31 10:45:46,318 Parameters: domain_dimensions         = [256  64 256]\n",
      "yt : [INFO     ] 2023-01-31 10:45:46,319 Parameters: domain_left_edge          = [0. 0. 0.]\n",
      "yt : [INFO     ] 2023-01-31 10:45:46,320 Parameters: domain_right_edge         = [2.636e-06 6.590e-07 2.636e-06]\n"
     ]
    },
    {
     "name": "stdout",
     "output_type": "stream",
     "text": [
      "~/nerscProject/dladiges/visctest100/350partSC/CPU06/plt000018000/\n"
     ]
    },
    {
     "name": "stderr",
     "output_type": "stream",
     "text": [
      "yt : [INFO     ] 2023-01-31 10:45:56,005 Parameters: current_time              = 1.7253332459003455e-09\n",
      "yt : [INFO     ] 2023-01-31 10:45:56,006 Parameters: domain_dimensions         = [256  64 256]\n",
      "yt : [INFO     ] 2023-01-31 10:45:56,007 Parameters: domain_left_edge          = [0. 0. 0.]\n",
      "yt : [INFO     ] 2023-01-31 10:45:56,008 Parameters: domain_right_edge         = [2.636e-06 6.590e-07 2.636e-06]\n"
     ]
    },
    {
     "name": "stdout",
     "output_type": "stream",
     "text": [
      "~/nerscProject/dladiges/visctest100/350partSC/CPU07/plt000018000/\n"
     ]
    },
    {
     "name": "stderr",
     "output_type": "stream",
     "text": [
      "yt : [INFO     ] 2023-01-31 10:46:05,317 Parameters: current_time              = 1.7253332459003455e-09\n",
      "yt : [INFO     ] 2023-01-31 10:46:05,318 Parameters: domain_dimensions         = [256  64 256]\n",
      "yt : [INFO     ] 2023-01-31 10:46:05,319 Parameters: domain_left_edge          = [0. 0. 0.]\n",
      "yt : [INFO     ] 2023-01-31 10:46:05,320 Parameters: domain_right_edge         = [2.636e-06 6.590e-07 2.636e-06]\n"
     ]
    },
    {
     "name": "stdout",
     "output_type": "stream",
     "text": [
      "~/nerscProject/dladiges/visctest100/350partSC/CPU08/plt000018000/\n"
     ]
    },
    {
     "name": "stderr",
     "output_type": "stream",
     "text": [
      "yt : [INFO     ] 2023-01-31 10:46:14,745 Parameters: current_time              = 1.7253332459003455e-09\n",
      "yt : [INFO     ] 2023-01-31 10:46:14,747 Parameters: domain_dimensions         = [256  64 256]\n",
      "yt : [INFO     ] 2023-01-31 10:46:14,748 Parameters: domain_left_edge          = [0. 0. 0.]\n",
      "yt : [INFO     ] 2023-01-31 10:46:14,749 Parameters: domain_right_edge         = [2.636e-06 6.590e-07 2.636e-06]\n"
     ]
    },
    {
     "name": "stdout",
     "output_type": "stream",
     "text": [
      "~/nerscProject/dladiges/visctest100/350partSC/CPU09/plt000018000/\n"
     ]
    },
    {
     "name": "stderr",
     "output_type": "stream",
     "text": [
      "yt : [INFO     ] 2023-01-31 10:46:23,928 Parameters: current_time              = 1.7253332459003455e-09\n",
      "yt : [INFO     ] 2023-01-31 10:46:23,930 Parameters: domain_dimensions         = [256  64 256]\n",
      "yt : [INFO     ] 2023-01-31 10:46:23,931 Parameters: domain_left_edge          = [0. 0. 0.]\n",
      "yt : [INFO     ] 2023-01-31 10:46:23,932 Parameters: domain_right_edge         = [2.636e-06 6.590e-07 2.636e-06]\n"
     ]
    },
    {
     "name": "stdout",
     "output_type": "stream",
     "text": [
      "~/nerscProject/dladiges/visctest100/350partSC/CPU10/plt000018000/\n"
     ]
    },
    {
     "name": "stderr",
     "output_type": "stream",
     "text": [
      "yt : [INFO     ] 2023-01-31 10:46:32,592 Parameters: current_time              = 1.7253332459003455e-09\n",
      "yt : [INFO     ] 2023-01-31 10:46:32,593 Parameters: domain_dimensions         = [256  64 256]\n",
      "yt : [INFO     ] 2023-01-31 10:46:32,594 Parameters: domain_left_edge          = [0. 0. 0.]\n",
      "yt : [INFO     ] 2023-01-31 10:46:32,595 Parameters: domain_right_edge         = [2.636e-06 6.590e-07 2.636e-06]\n"
     ]
    },
    {
     "name": "stdout",
     "output_type": "stream",
     "text": [
      "~/nerscProject/dladiges/visctest100/350partSC/CPU11/plt000018000/\n"
     ]
    },
    {
     "name": "stderr",
     "output_type": "stream",
     "text": [
      "yt : [INFO     ] 2023-01-31 10:46:47,011 Parameters: current_time              = 1.7253332459003455e-09\n",
      "yt : [INFO     ] 2023-01-31 10:46:47,012 Parameters: domain_dimensions         = [256  64 256]\n",
      "yt : [INFO     ] 2023-01-31 10:46:47,013 Parameters: domain_left_edge          = [0. 0. 0.]\n",
      "yt : [INFO     ] 2023-01-31 10:46:47,014 Parameters: domain_right_edge         = [2.636e-06 6.590e-07 2.636e-06]\n"
     ]
    },
    {
     "name": "stdout",
     "output_type": "stream",
     "text": [
      "~/nerscProject/dladiges/visctest100/350partSC/CPU12/plt000018000/\n"
     ]
    },
    {
     "name": "stderr",
     "output_type": "stream",
     "text": [
      "yt : [INFO     ] 2023-01-31 10:46:55,999 Parameters: current_time              = 1.7253332459003455e-09\n",
      "yt : [INFO     ] 2023-01-31 10:46:56,000 Parameters: domain_dimensions         = [256  64 256]\n",
      "yt : [INFO     ] 2023-01-31 10:46:56,002 Parameters: domain_left_edge          = [0. 0. 0.]\n",
      "yt : [INFO     ] 2023-01-31 10:46:56,003 Parameters: domain_right_edge         = [2.636e-06 6.590e-07 2.636e-06]\n"
     ]
    },
    {
     "name": "stdout",
     "output_type": "stream",
     "text": [
      "~/nerscProject/dladiges/visctest100/350partSC/CPU13/plt000018000/\n"
     ]
    },
    {
     "name": "stderr",
     "output_type": "stream",
     "text": [
      "yt : [INFO     ] 2023-01-31 10:47:04,946 Parameters: current_time              = 1.7253332459003455e-09\n",
      "yt : [INFO     ] 2023-01-31 10:47:04,947 Parameters: domain_dimensions         = [256  64 256]\n",
      "yt : [INFO     ] 2023-01-31 10:47:04,948 Parameters: domain_left_edge          = [0. 0. 0.]\n",
      "yt : [INFO     ] 2023-01-31 10:47:04,949 Parameters: domain_right_edge         = [2.636e-06 6.590e-07 2.636e-06]\n"
     ]
    },
    {
     "name": "stdout",
     "output_type": "stream",
     "text": [
      "~/nerscProject/dladiges/visctest100/350partSC/CPU14/plt000018000/\n"
     ]
    },
    {
     "name": "stderr",
     "output_type": "stream",
     "text": [
      "yt : [INFO     ] 2023-01-31 10:47:13,636 Parameters: current_time              = 1.7253332459003455e-09\n",
      "yt : [INFO     ] 2023-01-31 10:47:13,638 Parameters: domain_dimensions         = [256  64 256]\n",
      "yt : [INFO     ] 2023-01-31 10:47:13,639 Parameters: domain_left_edge          = [0. 0. 0.]\n",
      "yt : [INFO     ] 2023-01-31 10:47:13,640 Parameters: domain_right_edge         = [2.636e-06 6.590e-07 2.636e-06]\n"
     ]
    },
    {
     "name": "stdout",
     "output_type": "stream",
     "text": [
      "~/nerscProject/dladiges/visctest100/350partSC/CPU15/plt000018000/\n"
     ]
    },
    {
     "name": "stderr",
     "output_type": "stream",
     "text": [
      "yt : [INFO     ] 2023-01-31 10:47:22,440 Parameters: current_time              = 1.7253332459003455e-09\n",
      "yt : [INFO     ] 2023-01-31 10:47:22,442 Parameters: domain_dimensions         = [256  64 256]\n",
      "yt : [INFO     ] 2023-01-31 10:47:22,443 Parameters: domain_left_edge          = [0. 0. 0.]\n",
      "yt : [INFO     ] 2023-01-31 10:47:22,444 Parameters: domain_right_edge         = [2.636e-06 6.590e-07 2.636e-06]\n"
     ]
    },
    {
     "name": "stdout",
     "output_type": "stream",
     "text": [
      "~/nerscProject/dladiges/visctest100/350partSC/CPU16/plt000018000/\n"
     ]
    },
    {
     "name": "stderr",
     "output_type": "stream",
     "text": [
      "yt : [INFO     ] 2023-01-31 10:47:31,095 Parameters: current_time              = 1.7253332459003455e-09\n",
      "yt : [INFO     ] 2023-01-31 10:47:31,096 Parameters: domain_dimensions         = [256  64 256]\n",
      "yt : [INFO     ] 2023-01-31 10:47:31,098 Parameters: domain_left_edge          = [0. 0. 0.]\n",
      "yt : [INFO     ] 2023-01-31 10:47:31,099 Parameters: domain_right_edge         = [2.636e-06 6.590e-07 2.636e-06]\n"
     ]
    },
    {
     "name": "stdout",
     "output_type": "stream",
     "text": [
      "~/nerscProject/dladiges/visctest100/350partSC/CPU17/plt000018000/\n"
     ]
    },
    {
     "name": "stderr",
     "output_type": "stream",
     "text": [
      "yt : [INFO     ] 2023-01-31 10:47:40,055 Parameters: current_time              = 1.7253332459003455e-09\n",
      "yt : [INFO     ] 2023-01-31 10:47:40,056 Parameters: domain_dimensions         = [256  64 256]\n",
      "yt : [INFO     ] 2023-01-31 10:47:40,057 Parameters: domain_left_edge          = [0. 0. 0.]\n",
      "yt : [INFO     ] 2023-01-31 10:47:40,058 Parameters: domain_right_edge         = [2.636e-06 6.590e-07 2.636e-06]\n"
     ]
    },
    {
     "name": "stdout",
     "output_type": "stream",
     "text": [
      "~/nerscProject/dladiges/visctest100/350partSC/CPU18/plt000018000/\n"
     ]
    },
    {
     "name": "stderr",
     "output_type": "stream",
     "text": [
      "yt : [INFO     ] 2023-01-31 10:47:49,295 Parameters: current_time              = 1.7253332459003455e-09\n",
      "yt : [INFO     ] 2023-01-31 10:47:49,296 Parameters: domain_dimensions         = [256  64 256]\n",
      "yt : [INFO     ] 2023-01-31 10:47:49,297 Parameters: domain_left_edge          = [0. 0. 0.]\n",
      "yt : [INFO     ] 2023-01-31 10:47:49,298 Parameters: domain_right_edge         = [2.636e-06 6.590e-07 2.636e-06]\n"
     ]
    },
    {
     "name": "stdout",
     "output_type": "stream",
     "text": [
      "~/nerscProject/dladiges/visctest100/350partSC/CPU19/plt000018000/\n"
     ]
    },
    {
     "name": "stderr",
     "output_type": "stream",
     "text": [
      "yt : [INFO     ] 2023-01-31 10:47:57,297 Parameters: current_time              = 1.7253332459003455e-09\n",
      "yt : [INFO     ] 2023-01-31 10:47:57,298 Parameters: domain_dimensions         = [256  64 256]\n",
      "yt : [INFO     ] 2023-01-31 10:47:57,299 Parameters: domain_left_edge          = [0. 0. 0.]\n",
      "yt : [INFO     ] 2023-01-31 10:47:57,300 Parameters: domain_right_edge         = [2.636e-06 6.590e-07 2.636e-06]\n"
     ]
    },
    {
     "name": "stdout",
     "output_type": "stream",
     "text": [
      "~/nerscProject/dladiges/visctest100/350partSC/CPU20/plt000018000/\n"
     ]
    },
    {
     "name": "stderr",
     "output_type": "stream",
     "text": [
      "yt : [INFO     ] 2023-01-31 10:48:05,086 Parameters: current_time              = 1.7253332459003455e-09\n",
      "yt : [INFO     ] 2023-01-31 10:48:05,087 Parameters: domain_dimensions         = [256  64 256]\n",
      "yt : [INFO     ] 2023-01-31 10:48:05,088 Parameters: domain_left_edge          = [0. 0. 0.]\n",
      "yt : [INFO     ] 2023-01-31 10:48:05,089 Parameters: domain_right_edge         = [2.636e-06 6.590e-07 2.636e-06]\n"
     ]
    },
    {
     "name": "stdout",
     "output_type": "stream",
     "text": [
      "~/nerscProject/dladiges/visctest100/350partSC/CPU21/plt000018000/\n"
     ]
    },
    {
     "name": "stderr",
     "output_type": "stream",
     "text": [
      "yt : [INFO     ] 2023-01-31 10:48:13,220 Parameters: current_time              = 1.7253332459003455e-09\n",
      "yt : [INFO     ] 2023-01-31 10:48:13,221 Parameters: domain_dimensions         = [256  64 256]\n",
      "yt : [INFO     ] 2023-01-31 10:48:13,222 Parameters: domain_left_edge          = [0. 0. 0.]\n",
      "yt : [INFO     ] 2023-01-31 10:48:13,224 Parameters: domain_right_edge         = [2.636e-06 6.590e-07 2.636e-06]\n"
     ]
    },
    {
     "name": "stdout",
     "output_type": "stream",
     "text": [
      "~/nerscProject/dladiges/visctest100/350partSC/CPU22/plt000018000/\n"
     ]
    },
    {
     "name": "stderr",
     "output_type": "stream",
     "text": [
      "yt : [INFO     ] 2023-01-31 10:48:20,741 Parameters: current_time              = 1.7253332459003455e-09\n",
      "yt : [INFO     ] 2023-01-31 10:48:20,742 Parameters: domain_dimensions         = [256  64 256]\n",
      "yt : [INFO     ] 2023-01-31 10:48:20,743 Parameters: domain_left_edge          = [0. 0. 0.]\n",
      "yt : [INFO     ] 2023-01-31 10:48:20,744 Parameters: domain_right_edge         = [2.636e-06 6.590e-07 2.636e-06]\n"
     ]
    },
    {
     "name": "stdout",
     "output_type": "stream",
     "text": [
      "~/nerscProject/dladiges/visctest100/350partSC/CPU23/plt000018000/\n"
     ]
    },
    {
     "name": "stderr",
     "output_type": "stream",
     "text": [
      "yt : [INFO     ] 2023-01-31 10:48:28,472 Parameters: current_time              = 1.7253332459003455e-09\n",
      "yt : [INFO     ] 2023-01-31 10:48:28,473 Parameters: domain_dimensions         = [256  64 256]\n",
      "yt : [INFO     ] 2023-01-31 10:48:28,474 Parameters: domain_left_edge          = [0. 0. 0.]\n",
      "yt : [INFO     ] 2023-01-31 10:48:28,476 Parameters: domain_right_edge         = [2.636e-06 6.590e-07 2.636e-06]\n"
     ]
    },
    {
     "name": "stdout",
     "output_type": "stream",
     "text": [
      "~/nerscProject/dladiges/visctest100/350partSC/CPU24/plt000018000/\n"
     ]
    },
    {
     "name": "stderr",
     "output_type": "stream",
     "text": [
      "yt : [INFO     ] 2023-01-31 10:48:35,981 Parameters: current_time              = 1.7253332459003455e-09\n",
      "yt : [INFO     ] 2023-01-31 10:48:35,983 Parameters: domain_dimensions         = [256  64 256]\n",
      "yt : [INFO     ] 2023-01-31 10:48:35,984 Parameters: domain_left_edge          = [0. 0. 0.]\n",
      "yt : [INFO     ] 2023-01-31 10:48:35,985 Parameters: domain_right_edge         = [2.636e-06 6.590e-07 2.636e-06]\n"
     ]
    },
    {
     "name": "stdout",
     "output_type": "stream",
     "text": [
      "~/nerscProject/dladiges/visctest100/350partSC/CPU25/plt000018000/\n"
     ]
    },
    {
     "name": "stderr",
     "output_type": "stream",
     "text": [
      "yt : [INFO     ] 2023-01-31 10:48:43,814 Parameters: current_time              = 1.7253332459003455e-09\n",
      "yt : [INFO     ] 2023-01-31 10:48:43,815 Parameters: domain_dimensions         = [256  64 256]\n",
      "yt : [INFO     ] 2023-01-31 10:48:43,816 Parameters: domain_left_edge          = [0. 0. 0.]\n",
      "yt : [INFO     ] 2023-01-31 10:48:43,818 Parameters: domain_right_edge         = [2.636e-06 6.590e-07 2.636e-06]\n"
     ]
    },
    {
     "name": "stdout",
     "output_type": "stream",
     "text": [
      "~/nerscProject/dladiges/visctest100/350partSC/CPU26/plt000018000/\n"
     ]
    },
    {
     "name": "stderr",
     "output_type": "stream",
     "text": [
      "yt : [INFO     ] 2023-01-31 10:48:51,452 Parameters: current_time              = 1.7253332459003455e-09\n",
      "yt : [INFO     ] 2023-01-31 10:48:51,453 Parameters: domain_dimensions         = [256  64 256]\n",
      "yt : [INFO     ] 2023-01-31 10:48:51,454 Parameters: domain_left_edge          = [0. 0. 0.]\n",
      "yt : [INFO     ] 2023-01-31 10:48:51,455 Parameters: domain_right_edge         = [2.636e-06 6.590e-07 2.636e-06]\n"
     ]
    },
    {
     "name": "stdout",
     "output_type": "stream",
     "text": [
      "~/nerscProject/dladiges/visctest100/350partSC/CPU27/plt000018000/\n"
     ]
    },
    {
     "name": "stderr",
     "output_type": "stream",
     "text": [
      "yt : [INFO     ] 2023-01-31 10:48:58,791 Parameters: current_time              = 1.7253332459003455e-09\n",
      "yt : [INFO     ] 2023-01-31 10:48:58,792 Parameters: domain_dimensions         = [256  64 256]\n",
      "yt : [INFO     ] 2023-01-31 10:48:58,793 Parameters: domain_left_edge          = [0. 0. 0.]\n",
      "yt : [INFO     ] 2023-01-31 10:48:58,794 Parameters: domain_right_edge         = [2.636e-06 6.590e-07 2.636e-06]\n"
     ]
    },
    {
     "name": "stdout",
     "output_type": "stream",
     "text": [
      "~/nerscProject/dladiges/visctest100/350partSC/CPU28/plt000018000/\n"
     ]
    },
    {
     "name": "stderr",
     "output_type": "stream",
     "text": [
      "yt : [INFO     ] 2023-01-31 10:49:06,136 Parameters: current_time              = 1.7253332459003455e-09\n",
      "yt : [INFO     ] 2023-01-31 10:49:06,138 Parameters: domain_dimensions         = [256  64 256]\n",
      "yt : [INFO     ] 2023-01-31 10:49:06,139 Parameters: domain_left_edge          = [0. 0. 0.]\n",
      "yt : [INFO     ] 2023-01-31 10:49:06,140 Parameters: domain_right_edge         = [2.636e-06 6.590e-07 2.636e-06]\n"
     ]
    },
    {
     "name": "stdout",
     "output_type": "stream",
     "text": [
      "~/nerscProject/dladiges/visctest100/350partSC/CPU29/plt000018000/\n"
     ]
    },
    {
     "name": "stderr",
     "output_type": "stream",
     "text": [
      "yt : [INFO     ] 2023-01-31 10:49:13,939 Parameters: current_time              = 1.7253332459003455e-09\n",
      "yt : [INFO     ] 2023-01-31 10:49:13,940 Parameters: domain_dimensions         = [256  64 256]\n",
      "yt : [INFO     ] 2023-01-31 10:49:13,941 Parameters: domain_left_edge          = [0. 0. 0.]\n",
      "yt : [INFO     ] 2023-01-31 10:49:13,942 Parameters: domain_right_edge         = [2.636e-06 6.590e-07 2.636e-06]\n"
     ]
    },
    {
     "name": "stdout",
     "output_type": "stream",
     "text": [
      "~/nerscProject/dladiges/visctest100/350partSC/CPU30/plt000018000/\n"
     ]
    },
    {
     "name": "stderr",
     "output_type": "stream",
     "text": [
      "yt : [INFO     ] 2023-01-31 10:49:21,505 Parameters: current_time              = 1.7253332459003455e-09\n",
      "yt : [INFO     ] 2023-01-31 10:49:21,507 Parameters: domain_dimensions         = [256  64 256]\n",
      "yt : [INFO     ] 2023-01-31 10:49:21,508 Parameters: domain_left_edge          = [0. 0. 0.]\n",
      "yt : [INFO     ] 2023-01-31 10:49:21,509 Parameters: domain_right_edge         = [2.636e-06 6.590e-07 2.636e-06]\n"
     ]
    },
    {
     "name": "stdout",
     "output_type": "stream",
     "text": [
      "~/nerscProject/dladiges/visctest100/350partSC/CPU31/plt000018000/\n"
     ]
    },
    {
     "name": "stderr",
     "output_type": "stream",
     "text": [
      "yt : [INFO     ] 2023-01-31 10:49:28,955 Parameters: current_time              = 1.7253332459003455e-09\n",
      "yt : [INFO     ] 2023-01-31 10:49:28,957 Parameters: domain_dimensions         = [256  64 256]\n",
      "yt : [INFO     ] 2023-01-31 10:49:28,958 Parameters: domain_left_edge          = [0. 0. 0.]\n",
      "yt : [INFO     ] 2023-01-31 10:49:28,959 Parameters: domain_right_edge         = [2.636e-06 6.590e-07 2.636e-06]\n"
     ]
    },
    {
     "name": "stdout",
     "output_type": "stream",
     "text": [
      "~/nerscProject/dladiges/visctest100/350partSC/CPU32/plt000018000/\n"
     ]
    },
    {
     "name": "stderr",
     "output_type": "stream",
     "text": [
      "yt : [INFO     ] 2023-01-31 10:49:36,252 Parameters: current_time              = 1.7253332459003455e-09\n",
      "yt : [INFO     ] 2023-01-31 10:49:36,253 Parameters: domain_dimensions         = [256  64 256]\n",
      "yt : [INFO     ] 2023-01-31 10:49:36,254 Parameters: domain_left_edge          = [0. 0. 0.]\n",
      "yt : [INFO     ] 2023-01-31 10:49:36,256 Parameters: domain_right_edge         = [2.636e-06 6.590e-07 2.636e-06]\n"
     ]
    },
    {
     "name": "stdout",
     "output_type": "stream",
     "text": [
      "~/nerscProject/dladiges/visctest100/350partSC/CPU33/plt000018000/\n"
     ]
    },
    {
     "name": "stderr",
     "output_type": "stream",
     "text": [
      "yt : [INFO     ] 2023-01-31 10:49:43,840 Parameters: current_time              = 1.7253332459003455e-09\n",
      "yt : [INFO     ] 2023-01-31 10:49:43,841 Parameters: domain_dimensions         = [256  64 256]\n",
      "yt : [INFO     ] 2023-01-31 10:49:43,842 Parameters: domain_left_edge          = [0. 0. 0.]\n",
      "yt : [INFO     ] 2023-01-31 10:49:43,843 Parameters: domain_right_edge         = [2.636e-06 6.590e-07 2.636e-06]\n"
     ]
    },
    {
     "name": "stdout",
     "output_type": "stream",
     "text": [
      "~/nerscProject/dladiges/visctest100/350partSC/CPU34/plt000018000/\n"
     ]
    },
    {
     "name": "stderr",
     "output_type": "stream",
     "text": [
      "yt : [INFO     ] 2023-01-31 10:49:51,472 Parameters: current_time              = 1.7253332459003455e-09\n",
      "yt : [INFO     ] 2023-01-31 10:49:51,473 Parameters: domain_dimensions         = [256  64 256]\n",
      "yt : [INFO     ] 2023-01-31 10:49:51,474 Parameters: domain_left_edge          = [0. 0. 0.]\n",
      "yt : [INFO     ] 2023-01-31 10:49:51,476 Parameters: domain_right_edge         = [2.636e-06 6.590e-07 2.636e-06]\n"
     ]
    },
    {
     "name": "stdout",
     "output_type": "stream",
     "text": [
      "~/nerscProject/dladiges/visctest100/350partSC/CPU35/plt000018000/\n"
     ]
    },
    {
     "name": "stderr",
     "output_type": "stream",
     "text": [
      "yt : [INFO     ] 2023-01-31 10:49:59,739 Parameters: current_time              = 1.7253332459003455e-09\n",
      "yt : [INFO     ] 2023-01-31 10:49:59,741 Parameters: domain_dimensions         = [256  64 256]\n",
      "yt : [INFO     ] 2023-01-31 10:49:59,742 Parameters: domain_left_edge          = [0. 0. 0.]\n",
      "yt : [INFO     ] 2023-01-31 10:49:59,743 Parameters: domain_right_edge         = [2.636e-06 6.590e-07 2.636e-06]\n"
     ]
    },
    {
     "name": "stdout",
     "output_type": "stream",
     "text": [
      "~/nerscProject/dladiges/visctest100/350partSC/CPU36/plt000018000/\n"
     ]
    },
    {
     "name": "stderr",
     "output_type": "stream",
     "text": [
      "yt : [INFO     ] 2023-01-31 10:50:07,314 Parameters: current_time              = 1.7253332459003455e-09\n",
      "yt : [INFO     ] 2023-01-31 10:50:07,315 Parameters: domain_dimensions         = [256  64 256]\n",
      "yt : [INFO     ] 2023-01-31 10:50:07,316 Parameters: domain_left_edge          = [0. 0. 0.]\n",
      "yt : [INFO     ] 2023-01-31 10:50:07,317 Parameters: domain_right_edge         = [2.636e-06 6.590e-07 2.636e-06]\n"
     ]
    },
    {
     "name": "stdout",
     "output_type": "stream",
     "text": [
      "~/nerscProject/dladiges/visctest100/350partSC/CPU37/plt000018000/\n"
     ]
    },
    {
     "name": "stderr",
     "output_type": "stream",
     "text": [
      "yt : [INFO     ] 2023-01-31 10:50:15,129 Parameters: current_time              = 1.7253332459003455e-09\n",
      "yt : [INFO     ] 2023-01-31 10:50:15,130 Parameters: domain_dimensions         = [256  64 256]\n",
      "yt : [INFO     ] 2023-01-31 10:50:15,131 Parameters: domain_left_edge          = [0. 0. 0.]\n",
      "yt : [INFO     ] 2023-01-31 10:50:15,132 Parameters: domain_right_edge         = [2.636e-06 6.590e-07 2.636e-06]\n"
     ]
    },
    {
     "name": "stdout",
     "output_type": "stream",
     "text": [
      "~/nerscProject/dladiges/visctest100/350partSC/CPU38/plt000018000/\n"
     ]
    },
    {
     "name": "stderr",
     "output_type": "stream",
     "text": [
      "yt : [INFO     ] 2023-01-31 10:50:22,707 Parameters: current_time              = 1.7253332459003455e-09\n",
      "yt : [INFO     ] 2023-01-31 10:50:22,708 Parameters: domain_dimensions         = [256  64 256]\n",
      "yt : [INFO     ] 2023-01-31 10:50:22,709 Parameters: domain_left_edge          = [0. 0. 0.]\n",
      "yt : [INFO     ] 2023-01-31 10:50:22,710 Parameters: domain_right_edge         = [2.636e-06 6.590e-07 2.636e-06]\n"
     ]
    },
    {
     "name": "stdout",
     "output_type": "stream",
     "text": [
      "~/nerscProject/dladiges/visctest100/350partSC/CPU39/plt000018000/\n"
     ]
    },
    {
     "name": "stderr",
     "output_type": "stream",
     "text": [
      "yt : [INFO     ] 2023-01-31 10:50:30,069 Parameters: current_time              = 1.7253332459003455e-09\n",
      "yt : [INFO     ] 2023-01-31 10:50:30,070 Parameters: domain_dimensions         = [256  64 256]\n",
      "yt : [INFO     ] 2023-01-31 10:50:30,071 Parameters: domain_left_edge          = [0. 0. 0.]\n",
      "yt : [INFO     ] 2023-01-31 10:50:30,072 Parameters: domain_right_edge         = [2.636e-06 6.590e-07 2.636e-06]\n"
     ]
    },
    {
     "name": "stdout",
     "output_type": "stream",
     "text": [
      "~/nerscProject/dladiges/visctest100/350partSC/CPU40/plt000018000/\n"
     ]
    },
    {
     "name": "stderr",
     "output_type": "stream",
     "text": [
      "yt : [INFO     ] 2023-01-31 10:50:37,540 Parameters: current_time              = 1.7253332459003455e-09\n",
      "yt : [INFO     ] 2023-01-31 10:50:37,542 Parameters: domain_dimensions         = [256  64 256]\n",
      "yt : [INFO     ] 2023-01-31 10:50:37,543 Parameters: domain_left_edge          = [0. 0. 0.]\n",
      "yt : [INFO     ] 2023-01-31 10:50:37,544 Parameters: domain_right_edge         = [2.636e-06 6.590e-07 2.636e-06]\n"
     ]
    },
    {
     "name": "stdout",
     "output_type": "stream",
     "text": [
      "~/nerscProject/dladiges/visctest100/350partSC/CPU41/plt000018000/\n"
     ]
    },
    {
     "name": "stderr",
     "output_type": "stream",
     "text": [
      "yt : [INFO     ] 2023-01-31 10:50:45,290 Parameters: current_time              = 1.7253332459003455e-09\n",
      "yt : [INFO     ] 2023-01-31 10:50:45,291 Parameters: domain_dimensions         = [256  64 256]\n",
      "yt : [INFO     ] 2023-01-31 10:50:45,292 Parameters: domain_left_edge          = [0. 0. 0.]\n",
      "yt : [INFO     ] 2023-01-31 10:50:45,293 Parameters: domain_right_edge         = [2.636e-06 6.590e-07 2.636e-06]\n"
     ]
    },
    {
     "name": "stdout",
     "output_type": "stream",
     "text": [
      "~/nerscProject/dladiges/visctest100/350partSC/CPU42/plt000018000/\n"
     ]
    },
    {
     "name": "stderr",
     "output_type": "stream",
     "text": [
      "yt : [INFO     ] 2023-01-31 10:50:52,614 Parameters: current_time              = 1.7253332459003455e-09\n",
      "yt : [INFO     ] 2023-01-31 10:50:52,615 Parameters: domain_dimensions         = [256  64 256]\n",
      "yt : [INFO     ] 2023-01-31 10:50:52,616 Parameters: domain_left_edge          = [0. 0. 0.]\n",
      "yt : [INFO     ] 2023-01-31 10:50:52,617 Parameters: domain_right_edge         = [2.636e-06 6.590e-07 2.636e-06]\n"
     ]
    },
    {
     "name": "stdout",
     "output_type": "stream",
     "text": [
      "~/nerscProject/dladiges/visctest100/350partSC/CPU43/plt000018000/\n"
     ]
    },
    {
     "name": "stderr",
     "output_type": "stream",
     "text": [
      "yt : [INFO     ] 2023-01-31 10:51:00,162 Parameters: current_time              = 1.7253332459003455e-09\n",
      "yt : [INFO     ] 2023-01-31 10:51:00,164 Parameters: domain_dimensions         = [256  64 256]\n",
      "yt : [INFO     ] 2023-01-31 10:51:00,165 Parameters: domain_left_edge          = [0. 0. 0.]\n",
      "yt : [INFO     ] 2023-01-31 10:51:00,166 Parameters: domain_right_edge         = [2.636e-06 6.590e-07 2.636e-06]\n"
     ]
    },
    {
     "name": "stdout",
     "output_type": "stream",
     "text": [
      "~/nerscProject/dladiges/visctest100/350partSC/CPU44/plt000018000/\n"
     ]
    },
    {
     "name": "stderr",
     "output_type": "stream",
     "text": [
      "yt : [INFO     ] 2023-01-31 10:51:08,162 Parameters: current_time              = 1.7253332459003455e-09\n",
      "yt : [INFO     ] 2023-01-31 10:51:08,163 Parameters: domain_dimensions         = [256  64 256]\n",
      "yt : [INFO     ] 2023-01-31 10:51:08,164 Parameters: domain_left_edge          = [0. 0. 0.]\n",
      "yt : [INFO     ] 2023-01-31 10:51:08,166 Parameters: domain_right_edge         = [2.636e-06 6.590e-07 2.636e-06]\n"
     ]
    },
    {
     "name": "stdout",
     "output_type": "stream",
     "text": [
      "~/nerscProject/dladiges/visctest100/350partSC/CPU45/plt000018000/\n"
     ]
    },
    {
     "name": "stderr",
     "output_type": "stream",
     "text": [
      "yt : [INFO     ] 2023-01-31 10:51:15,759 Parameters: current_time              = 1.7253332459003455e-09\n",
      "yt : [INFO     ] 2023-01-31 10:51:15,761 Parameters: domain_dimensions         = [256  64 256]\n",
      "yt : [INFO     ] 2023-01-31 10:51:15,762 Parameters: domain_left_edge          = [0. 0. 0.]\n",
      "yt : [INFO     ] 2023-01-31 10:51:15,763 Parameters: domain_right_edge         = [2.636e-06 6.590e-07 2.636e-06]\n"
     ]
    },
    {
     "name": "stdout",
     "output_type": "stream",
     "text": [
      "~/nerscProject/dladiges/visctest100/350partSC/CPU46/plt000018000/\n"
     ]
    },
    {
     "name": "stderr",
     "output_type": "stream",
     "text": [
      "yt : [INFO     ] 2023-01-31 10:51:23,067 Parameters: current_time              = 1.7253332459003455e-09\n",
      "yt : [INFO     ] 2023-01-31 10:51:23,068 Parameters: domain_dimensions         = [256  64 256]\n",
      "yt : [INFO     ] 2023-01-31 10:51:23,069 Parameters: domain_left_edge          = [0. 0. 0.]\n",
      "yt : [INFO     ] 2023-01-31 10:51:23,071 Parameters: domain_right_edge         = [2.636e-06 6.590e-07 2.636e-06]\n"
     ]
    },
    {
     "name": "stdout",
     "output_type": "stream",
     "text": [
      "~/nerscProject/dladiges/visctest100/350partSC/CPU47/plt000018000/\n"
     ]
    },
    {
     "name": "stderr",
     "output_type": "stream",
     "text": [
      "yt : [INFO     ] 2023-01-31 10:51:30,710 Parameters: current_time              = 1.7253332459003455e-09\n",
      "yt : [INFO     ] 2023-01-31 10:51:30,711 Parameters: domain_dimensions         = [256  64 256]\n",
      "yt : [INFO     ] 2023-01-31 10:51:30,712 Parameters: domain_left_edge          = [0. 0. 0.]\n",
      "yt : [INFO     ] 2023-01-31 10:51:30,713 Parameters: domain_right_edge         = [2.636e-06 6.590e-07 2.636e-06]\n"
     ]
    },
    {
     "name": "stdout",
     "output_type": "stream",
     "text": [
      "~/nerscProject/dladiges/visctest100/350partSC/CPU48/plt000018000/\n"
     ]
    },
    {
     "name": "stderr",
     "output_type": "stream",
     "text": [
      "yt : [INFO     ] 2023-01-31 10:51:38,139 Parameters: current_time              = 1.7253332459003455e-09\n",
      "yt : [INFO     ] 2023-01-31 10:51:38,141 Parameters: domain_dimensions         = [256  64 256]\n",
      "yt : [INFO     ] 2023-01-31 10:51:38,142 Parameters: domain_left_edge          = [0. 0. 0.]\n",
      "yt : [INFO     ] 2023-01-31 10:51:38,144 Parameters: domain_right_edge         = [2.636e-06 6.590e-07 2.636e-06]\n"
     ]
    },
    {
     "name": "stdout",
     "output_type": "stream",
     "text": [
      "~/nerscProject/dladiges/visctest100/350partSC/CPU49/plt000018000/\n"
     ]
    },
    {
     "name": "stderr",
     "output_type": "stream",
     "text": [
      "yt : [INFO     ] 2023-01-31 10:51:45,552 Parameters: current_time              = 1.7253332459003455e-09\n",
      "yt : [INFO     ] 2023-01-31 10:51:45,554 Parameters: domain_dimensions         = [256  64 256]\n",
      "yt : [INFO     ] 2023-01-31 10:51:45,555 Parameters: domain_left_edge          = [0. 0. 0.]\n",
      "yt : [INFO     ] 2023-01-31 10:51:45,556 Parameters: domain_right_edge         = [2.636e-06 6.590e-07 2.636e-06]\n"
     ]
    },
    {
     "name": "stdout",
     "output_type": "stream",
     "text": [
      "~/nerscProject/dladiges/visctest100/350partSC/CPU50/plt000018000/\n"
     ]
    },
    {
     "name": "stderr",
     "output_type": "stream",
     "text": [
      "yt : [INFO     ] 2023-01-31 10:51:53,012 Parameters: current_time              = 1.7253332459003455e-09\n",
      "yt : [INFO     ] 2023-01-31 10:51:53,014 Parameters: domain_dimensions         = [256  64 256]\n",
      "yt : [INFO     ] 2023-01-31 10:51:53,015 Parameters: domain_left_edge          = [0. 0. 0.]\n",
      "yt : [INFO     ] 2023-01-31 10:51:53,016 Parameters: domain_right_edge         = [2.636e-06 6.590e-07 2.636e-06]\n"
     ]
    },
    {
     "name": "stdout",
     "output_type": "stream",
     "text": [
      "~/nerscProject/dladiges/visctest100/350partSC/CPU51/plt000018000/\n"
     ]
    },
    {
     "name": "stderr",
     "output_type": "stream",
     "text": [
      "yt : [INFO     ] 2023-01-31 10:52:00,623 Parameters: current_time              = 1.7253332459003455e-09\n",
      "yt : [INFO     ] 2023-01-31 10:52:00,624 Parameters: domain_dimensions         = [256  64 256]\n",
      "yt : [INFO     ] 2023-01-31 10:52:00,625 Parameters: domain_left_edge          = [0. 0. 0.]\n",
      "yt : [INFO     ] 2023-01-31 10:52:00,626 Parameters: domain_right_edge         = [2.636e-06 6.590e-07 2.636e-06]\n"
     ]
    },
    {
     "name": "stdout",
     "output_type": "stream",
     "text": [
      "~/nerscProject/dladiges/visctest100/350partSC/CPU52/plt000018000/\n"
     ]
    },
    {
     "name": "stderr",
     "output_type": "stream",
     "text": [
      "yt : [INFO     ] 2023-01-31 10:52:08,290 Parameters: current_time              = 1.7253332459003455e-09\n",
      "yt : [INFO     ] 2023-01-31 10:52:08,291 Parameters: domain_dimensions         = [256  64 256]\n",
      "yt : [INFO     ] 2023-01-31 10:52:08,292 Parameters: domain_left_edge          = [0. 0. 0.]\n",
      "yt : [INFO     ] 2023-01-31 10:52:08,293 Parameters: domain_right_edge         = [2.636e-06 6.590e-07 2.636e-06]\n"
     ]
    },
    {
     "name": "stdout",
     "output_type": "stream",
     "text": [
      "~/nerscProject/dladiges/visctest100/350partSC/CPU53/plt000018000/\n"
     ]
    },
    {
     "name": "stderr",
     "output_type": "stream",
     "text": [
      "yt : [INFO     ] 2023-01-31 10:52:15,853 Parameters: current_time              = 1.7253332459003455e-09\n",
      "yt : [INFO     ] 2023-01-31 10:52:15,854 Parameters: domain_dimensions         = [256  64 256]\n",
      "yt : [INFO     ] 2023-01-31 10:52:15,856 Parameters: domain_left_edge          = [0. 0. 0.]\n",
      "yt : [INFO     ] 2023-01-31 10:52:15,857 Parameters: domain_right_edge         = [2.636e-06 6.590e-07 2.636e-06]\n"
     ]
    },
    {
     "name": "stdout",
     "output_type": "stream",
     "text": [
      "~/nerscProject/dladiges/visctest100/350partSC/CPU54/plt000018000/\n"
     ]
    },
    {
     "name": "stderr",
     "output_type": "stream",
     "text": [
      "yt : [INFO     ] 2023-01-31 10:52:23,382 Parameters: current_time              = 1.7253332459003455e-09\n",
      "yt : [INFO     ] 2023-01-31 10:52:23,384 Parameters: domain_dimensions         = [256  64 256]\n",
      "yt : [INFO     ] 2023-01-31 10:52:23,385 Parameters: domain_left_edge          = [0. 0. 0.]\n",
      "yt : [INFO     ] 2023-01-31 10:52:23,386 Parameters: domain_right_edge         = [2.636e-06 6.590e-07 2.636e-06]\n"
     ]
    },
    {
     "name": "stdout",
     "output_type": "stream",
     "text": [
      "~/nerscProject/dladiges/visctest100/350partSC/CPU55/plt000018000/\n"
     ]
    },
    {
     "name": "stderr",
     "output_type": "stream",
     "text": [
      "yt : [INFO     ] 2023-01-31 10:52:31,036 Parameters: current_time              = 1.7253332459003455e-09\n",
      "yt : [INFO     ] 2023-01-31 10:52:31,037 Parameters: domain_dimensions         = [256  64 256]\n",
      "yt : [INFO     ] 2023-01-31 10:52:31,038 Parameters: domain_left_edge          = [0. 0. 0.]\n",
      "yt : [INFO     ] 2023-01-31 10:52:31,040 Parameters: domain_right_edge         = [2.636e-06 6.590e-07 2.636e-06]\n"
     ]
    },
    {
     "name": "stdout",
     "output_type": "stream",
     "text": [
      "~/nerscProject/dladiges/visctest100/350partSC/CPU56/plt000018000/\n"
     ]
    },
    {
     "name": "stderr",
     "output_type": "stream",
     "text": [
      "yt : [INFO     ] 2023-01-31 10:52:38,444 Parameters: current_time              = 1.7253332459003455e-09\n",
      "yt : [INFO     ] 2023-01-31 10:52:38,445 Parameters: domain_dimensions         = [256  64 256]\n",
      "yt : [INFO     ] 2023-01-31 10:52:38,446 Parameters: domain_left_edge          = [0. 0. 0.]\n",
      "yt : [INFO     ] 2023-01-31 10:52:38,447 Parameters: domain_right_edge         = [2.636e-06 6.590e-07 2.636e-06]\n"
     ]
    },
    {
     "name": "stdout",
     "output_type": "stream",
     "text": [
      "~/nerscProject/dladiges/visctest100/350partSC/CPU57/plt000018000/\n"
     ]
    },
    {
     "name": "stderr",
     "output_type": "stream",
     "text": [
      "yt : [INFO     ] 2023-01-31 10:52:46,214 Parameters: current_time              = 1.7253332459003455e-09\n",
      "yt : [INFO     ] 2023-01-31 10:52:46,215 Parameters: domain_dimensions         = [256  64 256]\n",
      "yt : [INFO     ] 2023-01-31 10:52:46,216 Parameters: domain_left_edge          = [0. 0. 0.]\n",
      "yt : [INFO     ] 2023-01-31 10:52:46,218 Parameters: domain_right_edge         = [2.636e-06 6.590e-07 2.636e-06]\n"
     ]
    },
    {
     "name": "stdout",
     "output_type": "stream",
     "text": [
      "~/nerscProject/dladiges/visctest100/350partSC/CPU58/plt000018000/\n"
     ]
    },
    {
     "name": "stderr",
     "output_type": "stream",
     "text": [
      "yt : [INFO     ] 2023-01-31 10:52:53,750 Parameters: current_time              = 1.7253332459003455e-09\n",
      "yt : [INFO     ] 2023-01-31 10:52:53,751 Parameters: domain_dimensions         = [256  64 256]\n",
      "yt : [INFO     ] 2023-01-31 10:52:53,752 Parameters: domain_left_edge          = [0. 0. 0.]\n",
      "yt : [INFO     ] 2023-01-31 10:52:53,753 Parameters: domain_right_edge         = [2.636e-06 6.590e-07 2.636e-06]\n"
     ]
    },
    {
     "name": "stdout",
     "output_type": "stream",
     "text": [
      "~/nerscProject/dladiges/visctest100/350partSC/CPU59/plt000018000/\n"
     ]
    },
    {
     "name": "stderr",
     "output_type": "stream",
     "text": [
      "yt : [INFO     ] 2023-01-31 10:53:01,076 Parameters: current_time              = 1.7253332459003455e-09\n",
      "yt : [INFO     ] 2023-01-31 10:53:01,077 Parameters: domain_dimensions         = [256  64 256]\n",
      "yt : [INFO     ] 2023-01-31 10:53:01,078 Parameters: domain_left_edge          = [0. 0. 0.]\n",
      "yt : [INFO     ] 2023-01-31 10:53:01,079 Parameters: domain_right_edge         = [2.636e-06 6.590e-07 2.636e-06]\n"
     ]
    },
    {
     "name": "stdout",
     "output_type": "stream",
     "text": [
      "~/nerscProject/dladiges/visctest100/350partSC/CPU60/plt000018000/\n"
     ]
    },
    {
     "name": "stderr",
     "output_type": "stream",
     "text": [
      "yt : [INFO     ] 2023-01-31 10:53:08,371 Parameters: current_time              = 1.7253332459003455e-09\n",
      "yt : [INFO     ] 2023-01-31 10:53:08,372 Parameters: domain_dimensions         = [256  64 256]\n",
      "yt : [INFO     ] 2023-01-31 10:53:08,373 Parameters: domain_left_edge          = [0. 0. 0.]\n",
      "yt : [INFO     ] 2023-01-31 10:53:08,374 Parameters: domain_right_edge         = [2.636e-06 6.590e-07 2.636e-06]\n"
     ]
    },
    {
     "name": "stdout",
     "output_type": "stream",
     "text": [
      "~/nerscProject/dladiges/visctest100/350partSC/CPU61/plt000018000/\n"
     ]
    },
    {
     "name": "stderr",
     "output_type": "stream",
     "text": [
      "yt : [INFO     ] 2023-01-31 10:53:15,693 Parameters: current_time              = 1.7253332459003455e-09\n",
      "yt : [INFO     ] 2023-01-31 10:53:15,694 Parameters: domain_dimensions         = [256  64 256]\n",
      "yt : [INFO     ] 2023-01-31 10:53:15,695 Parameters: domain_left_edge          = [0. 0. 0.]\n",
      "yt : [INFO     ] 2023-01-31 10:53:15,696 Parameters: domain_right_edge         = [2.636e-06 6.590e-07 2.636e-06]\n"
     ]
    },
    {
     "name": "stdout",
     "output_type": "stream",
     "text": [
      "~/nerscProject/dladiges/visctest100/350partSC/CPU62/plt000018000/\n"
     ]
    },
    {
     "name": "stderr",
     "output_type": "stream",
     "text": [
      "yt : [INFO     ] 2023-01-31 10:53:23,023 Parameters: current_time              = 1.7253332459003455e-09\n",
      "yt : [INFO     ] 2023-01-31 10:53:23,025 Parameters: domain_dimensions         = [256  64 256]\n",
      "yt : [INFO     ] 2023-01-31 10:53:23,026 Parameters: domain_left_edge          = [0. 0. 0.]\n",
      "yt : [INFO     ] 2023-01-31 10:53:23,027 Parameters: domain_right_edge         = [2.636e-06 6.590e-07 2.636e-06]\n"
     ]
    },
    {
     "name": "stdout",
     "output_type": "stream",
     "text": [
      "~/nerscProject/dladiges/visctest100/350partSC/CPU63/plt000018000/\n"
     ]
    },
    {
     "name": "stderr",
     "output_type": "stream",
     "text": [
      "yt : [INFO     ] 2023-01-31 10:53:30,639 Parameters: current_time              = 1.7253332459003455e-09\n",
      "yt : [INFO     ] 2023-01-31 10:53:30,640 Parameters: domain_dimensions         = [256  64 256]\n",
      "yt : [INFO     ] 2023-01-31 10:53:30,641 Parameters: domain_left_edge          = [0. 0. 0.]\n",
      "yt : [INFO     ] 2023-01-31 10:53:30,642 Parameters: domain_right_edge         = [2.636e-06 6.590e-07 2.636e-06]\n"
     ]
    }
   ],
   "source": [
    "data = \"~/nerscProject/dladiges/visctest100/350partSC/CPU\"\n",
    "#num = [\"00\",\"01\",\"02\",\"03\",\"04\",\"05\",\"06\",\"07\",\"08\",\"09\",\"10\",\"11\",\"12\",\"13\",\"14\",\"15\",\"16\",\"17\",\"18\",\"19\",\"20\",\"21\",\"22\",\"23\",\"24\",\"25\",\"26\",\"27\",\"28\",\"29\",\"30\",\"31\",\"32\",\"33\",\"34\",\"35\",\"36\",\"37\",\"38\",\"39\",\"40\",\"41\",\"40\",\"41\",\"42\",\"43\",\"44\",\"45\",\"46\",\"47\"]\n",
    "time = \"/plt0000\"+\"18000/\"\n",
    "bins = 64\n",
    "ens= 64\n",
    "yall350 = np.zeros((ens,bins))\n",
    "i=0\n",
    "for i in range(ens):\n",
    "    stri = data + str(i).zfill(2)\n",
    "    xt, yall350[i] = return_y_plt(stri,time,nbins=bins,field=\"averaged_meanx\")"
   ]
  },
  {
   "cell_type": "code",
   "execution_count": 6,
   "id": "c862b395-9236-4803-816f-e891b48ef8f4",
   "metadata": {},
   "outputs": [
    {
     "name": "stdout",
     "output_type": "stream",
     "text": [
      "~/nerscProject/dladiges/visctest100/625partSC/CPU00/plt000018000/\n"
     ]
    },
    {
     "name": "stderr",
     "output_type": "stream",
     "text": [
      "yt : [INFO     ] 2023-01-31 10:53:38,170 Parameters: current_time              = 1.7253332459003455e-09\n",
      "yt : [INFO     ] 2023-01-31 10:53:38,172 Parameters: domain_dimensions         = [256  64 256]\n",
      "yt : [INFO     ] 2023-01-31 10:53:38,173 Parameters: domain_left_edge          = [0. 0. 0.]\n",
      "yt : [INFO     ] 2023-01-31 10:53:38,174 Parameters: domain_right_edge         = [2.636e-06 6.590e-07 2.636e-06]\n"
     ]
    },
    {
     "name": "stdout",
     "output_type": "stream",
     "text": [
      "~/nerscProject/dladiges/visctest100/625partSC/CPU01/plt000018000/\n"
     ]
    },
    {
     "name": "stderr",
     "output_type": "stream",
     "text": [
      "yt : [INFO     ] 2023-01-31 10:53:46,413 Parameters: current_time              = 1.7253332459003455e-09\n",
      "yt : [INFO     ] 2023-01-31 10:53:46,415 Parameters: domain_dimensions         = [256  64 256]\n",
      "yt : [INFO     ] 2023-01-31 10:53:46,416 Parameters: domain_left_edge          = [0. 0. 0.]\n",
      "yt : [INFO     ] 2023-01-31 10:53:46,417 Parameters: domain_right_edge         = [2.636e-06 6.590e-07 2.636e-06]\n"
     ]
    },
    {
     "name": "stdout",
     "output_type": "stream",
     "text": [
      "~/nerscProject/dladiges/visctest100/625partSC/CPU02/plt000018000/\n"
     ]
    },
    {
     "name": "stderr",
     "output_type": "stream",
     "text": [
      "yt : [INFO     ] 2023-01-31 10:53:54,299 Parameters: current_time              = 1.7253332459003455e-09\n",
      "yt : [INFO     ] 2023-01-31 10:53:54,300 Parameters: domain_dimensions         = [256  64 256]\n",
      "yt : [INFO     ] 2023-01-31 10:53:54,301 Parameters: domain_left_edge          = [0. 0. 0.]\n",
      "yt : [INFO     ] 2023-01-31 10:53:54,302 Parameters: domain_right_edge         = [2.636e-06 6.590e-07 2.636e-06]\n"
     ]
    },
    {
     "name": "stdout",
     "output_type": "stream",
     "text": [
      "~/nerscProject/dladiges/visctest100/625partSC/CPU03/plt000018000/\n"
     ]
    },
    {
     "name": "stderr",
     "output_type": "stream",
     "text": [
      "yt : [INFO     ] 2023-01-31 10:54:01,769 Parameters: current_time              = 1.7253332459003455e-09\n",
      "yt : [INFO     ] 2023-01-31 10:54:01,770 Parameters: domain_dimensions         = [256  64 256]\n",
      "yt : [INFO     ] 2023-01-31 10:54:01,771 Parameters: domain_left_edge          = [0. 0. 0.]\n",
      "yt : [INFO     ] 2023-01-31 10:54:01,772 Parameters: domain_right_edge         = [2.636e-06 6.590e-07 2.636e-06]\n"
     ]
    },
    {
     "name": "stdout",
     "output_type": "stream",
     "text": [
      "~/nerscProject/dladiges/visctest100/625partSC/CPU04/plt000018000/\n"
     ]
    },
    {
     "name": "stderr",
     "output_type": "stream",
     "text": [
      "yt : [INFO     ] 2023-01-31 10:54:09,362 Parameters: current_time              = 1.7253332459003455e-09\n",
      "yt : [INFO     ] 2023-01-31 10:54:09,363 Parameters: domain_dimensions         = [256  64 256]\n",
      "yt : [INFO     ] 2023-01-31 10:54:09,364 Parameters: domain_left_edge          = [0. 0. 0.]\n",
      "yt : [INFO     ] 2023-01-31 10:54:09,365 Parameters: domain_right_edge         = [2.636e-06 6.590e-07 2.636e-06]\n"
     ]
    },
    {
     "name": "stdout",
     "output_type": "stream",
     "text": [
      "~/nerscProject/dladiges/visctest100/625partSC/CPU05/plt000018000/\n"
     ]
    },
    {
     "name": "stderr",
     "output_type": "stream",
     "text": [
      "yt : [INFO     ] 2023-01-31 10:54:17,132 Parameters: current_time              = 1.7253332459003455e-09\n",
      "yt : [INFO     ] 2023-01-31 10:54:17,134 Parameters: domain_dimensions         = [256  64 256]\n",
      "yt : [INFO     ] 2023-01-31 10:54:17,135 Parameters: domain_left_edge          = [0. 0. 0.]\n",
      "yt : [INFO     ] 2023-01-31 10:54:17,135 Parameters: domain_right_edge         = [2.636e-06 6.590e-07 2.636e-06]\n"
     ]
    },
    {
     "name": "stdout",
     "output_type": "stream",
     "text": [
      "~/nerscProject/dladiges/visctest100/625partSC/CPU06/plt000018000/\n"
     ]
    },
    {
     "name": "stderr",
     "output_type": "stream",
     "text": [
      "yt : [INFO     ] 2023-01-31 10:54:24,468 Parameters: current_time              = 1.7253332459003455e-09\n",
      "yt : [INFO     ] 2023-01-31 10:54:24,470 Parameters: domain_dimensions         = [256  64 256]\n",
      "yt : [INFO     ] 2023-01-31 10:54:24,471 Parameters: domain_left_edge          = [0. 0. 0.]\n",
      "yt : [INFO     ] 2023-01-31 10:54:24,472 Parameters: domain_right_edge         = [2.636e-06 6.590e-07 2.636e-06]\n"
     ]
    },
    {
     "name": "stdout",
     "output_type": "stream",
     "text": [
      "~/nerscProject/dladiges/visctest100/625partSC/CPU07/plt000018000/\n"
     ]
    },
    {
     "name": "stderr",
     "output_type": "stream",
     "text": [
      "yt : [INFO     ] 2023-01-31 10:54:32,029 Parameters: current_time              = 1.7253332459003455e-09\n",
      "yt : [INFO     ] 2023-01-31 10:54:32,030 Parameters: domain_dimensions         = [256  64 256]\n",
      "yt : [INFO     ] 2023-01-31 10:54:32,032 Parameters: domain_left_edge          = [0. 0. 0.]\n",
      "yt : [INFO     ] 2023-01-31 10:54:32,033 Parameters: domain_right_edge         = [2.636e-06 6.590e-07 2.636e-06]\n"
     ]
    },
    {
     "name": "stdout",
     "output_type": "stream",
     "text": [
      "~/nerscProject/dladiges/visctest100/625partSC/CPU08/plt000018000/\n"
     ]
    },
    {
     "name": "stderr",
     "output_type": "stream",
     "text": [
      "yt : [INFO     ] 2023-01-31 10:54:39,497 Parameters: current_time              = 1.7253332459003455e-09\n",
      "yt : [INFO     ] 2023-01-31 10:54:39,498 Parameters: domain_dimensions         = [256  64 256]\n",
      "yt : [INFO     ] 2023-01-31 10:54:39,499 Parameters: domain_left_edge          = [0. 0. 0.]\n",
      "yt : [INFO     ] 2023-01-31 10:54:39,500 Parameters: domain_right_edge         = [2.636e-06 6.590e-07 2.636e-06]\n"
     ]
    },
    {
     "name": "stdout",
     "output_type": "stream",
     "text": [
      "~/nerscProject/dladiges/visctest100/625partSC/CPU09/plt000018000/\n"
     ]
    },
    {
     "name": "stderr",
     "output_type": "stream",
     "text": [
      "yt : [INFO     ] 2023-01-31 10:54:46,708 Parameters: current_time              = 1.7253332459003455e-09\n",
      "yt : [INFO     ] 2023-01-31 10:54:46,710 Parameters: domain_dimensions         = [256  64 256]\n",
      "yt : [INFO     ] 2023-01-31 10:54:46,711 Parameters: domain_left_edge          = [0. 0. 0.]\n",
      "yt : [INFO     ] 2023-01-31 10:54:46,712 Parameters: domain_right_edge         = [2.636e-06 6.590e-07 2.636e-06]\n"
     ]
    },
    {
     "name": "stdout",
     "output_type": "stream",
     "text": [
      "~/nerscProject/dladiges/visctest100/625partSC/CPU10/plt000018000/\n"
     ]
    },
    {
     "name": "stderr",
     "output_type": "stream",
     "text": [
      "yt : [INFO     ] 2023-01-31 10:54:54,027 Parameters: current_time              = 1.7253332459003455e-09\n",
      "yt : [INFO     ] 2023-01-31 10:54:54,028 Parameters: domain_dimensions         = [256  64 256]\n",
      "yt : [INFO     ] 2023-01-31 10:54:54,029 Parameters: domain_left_edge          = [0. 0. 0.]\n",
      "yt : [INFO     ] 2023-01-31 10:54:54,030 Parameters: domain_right_edge         = [2.636e-06 6.590e-07 2.636e-06]\n"
     ]
    },
    {
     "name": "stdout",
     "output_type": "stream",
     "text": [
      "~/nerscProject/dladiges/visctest100/625partSC/CPU11/plt000018000/\n"
     ]
    },
    {
     "name": "stderr",
     "output_type": "stream",
     "text": [
      "yt : [INFO     ] 2023-01-31 10:55:01,699 Parameters: current_time              = 1.7253332459003455e-09\n",
      "yt : [INFO     ] 2023-01-31 10:55:01,701 Parameters: domain_dimensions         = [256  64 256]\n",
      "yt : [INFO     ] 2023-01-31 10:55:01,701 Parameters: domain_left_edge          = [0. 0. 0.]\n",
      "yt : [INFO     ] 2023-01-31 10:55:01,703 Parameters: domain_right_edge         = [2.636e-06 6.590e-07 2.636e-06]\n"
     ]
    },
    {
     "name": "stdout",
     "output_type": "stream",
     "text": [
      "~/nerscProject/dladiges/visctest100/625partSC/CPU12/plt000018000/\n"
     ]
    },
    {
     "name": "stderr",
     "output_type": "stream",
     "text": [
      "yt : [INFO     ] 2023-01-31 10:55:09,203 Parameters: current_time              = 1.7253332459003455e-09\n",
      "yt : [INFO     ] 2023-01-31 10:55:09,204 Parameters: domain_dimensions         = [256  64 256]\n",
      "yt : [INFO     ] 2023-01-31 10:55:09,204 Parameters: domain_left_edge          = [0. 0. 0.]\n",
      "yt : [INFO     ] 2023-01-31 10:55:09,205 Parameters: domain_right_edge         = [2.636e-06 6.590e-07 2.636e-06]\n"
     ]
    },
    {
     "name": "stdout",
     "output_type": "stream",
     "text": [
      "~/nerscProject/dladiges/visctest100/625partSC/CPU13/plt000018000/\n"
     ]
    },
    {
     "name": "stderr",
     "output_type": "stream",
     "text": [
      "yt : [INFO     ] 2023-01-31 10:55:16,706 Parameters: current_time              = 1.7253332459003455e-09\n",
      "yt : [INFO     ] 2023-01-31 10:55:16,706 Parameters: domain_dimensions         = [256  64 256]\n",
      "yt : [INFO     ] 2023-01-31 10:55:16,707 Parameters: domain_left_edge          = [0. 0. 0.]\n",
      "yt : [INFO     ] 2023-01-31 10:55:16,708 Parameters: domain_right_edge         = [2.636e-06 6.590e-07 2.636e-06]\n"
     ]
    },
    {
     "name": "stdout",
     "output_type": "stream",
     "text": [
      "~/nerscProject/dladiges/visctest100/625partSC/CPU14/plt000018000/\n"
     ]
    },
    {
     "name": "stderr",
     "output_type": "stream",
     "text": [
      "yt : [INFO     ] 2023-01-31 10:55:23,931 Parameters: current_time              = 1.7253332459003455e-09\n",
      "yt : [INFO     ] 2023-01-31 10:55:23,932 Parameters: domain_dimensions         = [256  64 256]\n",
      "yt : [INFO     ] 2023-01-31 10:55:23,933 Parameters: domain_left_edge          = [0. 0. 0.]\n",
      "yt : [INFO     ] 2023-01-31 10:55:23,934 Parameters: domain_right_edge         = [2.636e-06 6.590e-07 2.636e-06]\n"
     ]
    },
    {
     "name": "stdout",
     "output_type": "stream",
     "text": [
      "~/nerscProject/dladiges/visctest100/625partSC/CPU15/plt000018000/\n"
     ]
    },
    {
     "name": "stderr",
     "output_type": "stream",
     "text": [
      "yt : [INFO     ] 2023-01-31 10:55:31,191 Parameters: current_time              = 1.7253332459003455e-09\n",
      "yt : [INFO     ] 2023-01-31 10:55:31,193 Parameters: domain_dimensions         = [256  64 256]\n",
      "yt : [INFO     ] 2023-01-31 10:55:31,194 Parameters: domain_left_edge          = [0. 0. 0.]\n",
      "yt : [INFO     ] 2023-01-31 10:55:31,195 Parameters: domain_right_edge         = [2.636e-06 6.590e-07 2.636e-06]\n"
     ]
    },
    {
     "name": "stdout",
     "output_type": "stream",
     "text": [
      "~/nerscProject/dladiges/visctest100/625partSC/CPU16/plt000018000/\n"
     ]
    },
    {
     "name": "stderr",
     "output_type": "stream",
     "text": [
      "yt : [INFO     ] 2023-01-31 10:55:38,526 Parameters: current_time              = 1.7253332459003455e-09\n",
      "yt : [INFO     ] 2023-01-31 10:55:38,527 Parameters: domain_dimensions         = [256  64 256]\n",
      "yt : [INFO     ] 2023-01-31 10:55:38,528 Parameters: domain_left_edge          = [0. 0. 0.]\n",
      "yt : [INFO     ] 2023-01-31 10:55:38,529 Parameters: domain_right_edge         = [2.636e-06 6.590e-07 2.636e-06]\n"
     ]
    },
    {
     "name": "stdout",
     "output_type": "stream",
     "text": [
      "~/nerscProject/dladiges/visctest100/625partSC/CPU17/plt000018000/\n"
     ]
    },
    {
     "name": "stderr",
     "output_type": "stream",
     "text": [
      "yt : [INFO     ] 2023-01-31 10:55:46,117 Parameters: current_time              = 1.7253332459003455e-09\n",
      "yt : [INFO     ] 2023-01-31 10:55:46,118 Parameters: domain_dimensions         = [256  64 256]\n",
      "yt : [INFO     ] 2023-01-31 10:55:46,119 Parameters: domain_left_edge          = [0. 0. 0.]\n",
      "yt : [INFO     ] 2023-01-31 10:55:46,119 Parameters: domain_right_edge         = [2.636e-06 6.590e-07 2.636e-06]\n"
     ]
    },
    {
     "name": "stdout",
     "output_type": "stream",
     "text": [
      "~/nerscProject/dladiges/visctest100/625partSC/CPU18/plt000018000/\n"
     ]
    },
    {
     "name": "stderr",
     "output_type": "stream",
     "text": [
      "yt : [INFO     ] 2023-01-31 10:55:53,512 Parameters: current_time              = 1.7253332459003455e-09\n",
      "yt : [INFO     ] 2023-01-31 10:55:53,514 Parameters: domain_dimensions         = [256  64 256]\n",
      "yt : [INFO     ] 2023-01-31 10:55:53,515 Parameters: domain_left_edge          = [0. 0. 0.]\n",
      "yt : [INFO     ] 2023-01-31 10:55:53,516 Parameters: domain_right_edge         = [2.636e-06 6.590e-07 2.636e-06]\n"
     ]
    },
    {
     "name": "stdout",
     "output_type": "stream",
     "text": [
      "~/nerscProject/dladiges/visctest100/625partSC/CPU19/plt000018000/\n"
     ]
    },
    {
     "name": "stderr",
     "output_type": "stream",
     "text": [
      "yt : [INFO     ] 2023-01-31 10:56:01,017 Parameters: current_time              = 1.7253332459003455e-09\n",
      "yt : [INFO     ] 2023-01-31 10:56:01,018 Parameters: domain_dimensions         = [256  64 256]\n",
      "yt : [INFO     ] 2023-01-31 10:56:01,019 Parameters: domain_left_edge          = [0. 0. 0.]\n",
      "yt : [INFO     ] 2023-01-31 10:56:01,021 Parameters: domain_right_edge         = [2.636e-06 6.590e-07 2.636e-06]\n"
     ]
    },
    {
     "name": "stdout",
     "output_type": "stream",
     "text": [
      "~/nerscProject/dladiges/visctest100/625partSC/CPU20/plt000018000/\n"
     ]
    },
    {
     "name": "stderr",
     "output_type": "stream",
     "text": [
      "yt : [INFO     ] 2023-01-31 10:56:09,442 Parameters: current_time              = 1.7253332459003455e-09\n",
      "yt : [INFO     ] 2023-01-31 10:56:09,443 Parameters: domain_dimensions         = [256  64 256]\n",
      "yt : [INFO     ] 2023-01-31 10:56:09,444 Parameters: domain_left_edge          = [0. 0. 0.]\n",
      "yt : [INFO     ] 2023-01-31 10:56:09,445 Parameters: domain_right_edge         = [2.636e-06 6.590e-07 2.636e-06]\n"
     ]
    },
    {
     "name": "stdout",
     "output_type": "stream",
     "text": [
      "~/nerscProject/dladiges/visctest100/625partSC/CPU21/plt000018000/\n"
     ]
    },
    {
     "name": "stderr",
     "output_type": "stream",
     "text": [
      "yt : [INFO     ] 2023-01-31 10:56:17,295 Parameters: current_time              = 1.7253332459003455e-09\n",
      "yt : [INFO     ] 2023-01-31 10:56:17,296 Parameters: domain_dimensions         = [256  64 256]\n",
      "yt : [INFO     ] 2023-01-31 10:56:17,298 Parameters: domain_left_edge          = [0. 0. 0.]\n",
      "yt : [INFO     ] 2023-01-31 10:56:17,299 Parameters: domain_right_edge         = [2.636e-06 6.590e-07 2.636e-06]\n"
     ]
    },
    {
     "name": "stdout",
     "output_type": "stream",
     "text": [
      "~/nerscProject/dladiges/visctest100/625partSC/CPU22/plt000018000/\n"
     ]
    },
    {
     "name": "stderr",
     "output_type": "stream",
     "text": [
      "yt : [INFO     ] 2023-01-31 10:56:24,455 Parameters: current_time              = 1.7253332459003455e-09\n",
      "yt : [INFO     ] 2023-01-31 10:56:24,456 Parameters: domain_dimensions         = [256  64 256]\n",
      "yt : [INFO     ] 2023-01-31 10:56:24,457 Parameters: domain_left_edge          = [0. 0. 0.]\n",
      "yt : [INFO     ] 2023-01-31 10:56:24,458 Parameters: domain_right_edge         = [2.636e-06 6.590e-07 2.636e-06]\n"
     ]
    },
    {
     "name": "stdout",
     "output_type": "stream",
     "text": [
      "~/nerscProject/dladiges/visctest100/625partSC/CPU23/plt000018000/\n"
     ]
    },
    {
     "name": "stderr",
     "output_type": "stream",
     "text": [
      "yt : [INFO     ] 2023-01-31 10:56:32,101 Parameters: current_time              = 1.7253332459003455e-09\n",
      "yt : [INFO     ] 2023-01-31 10:56:32,102 Parameters: domain_dimensions         = [256  64 256]\n",
      "yt : [INFO     ] 2023-01-31 10:56:32,103 Parameters: domain_left_edge          = [0. 0. 0.]\n",
      "yt : [INFO     ] 2023-01-31 10:56:32,104 Parameters: domain_right_edge         = [2.636e-06 6.590e-07 2.636e-06]\n"
     ]
    },
    {
     "name": "stdout",
     "output_type": "stream",
     "text": [
      "~/nerscProject/dladiges/visctest100/625partSC/CPU24/plt000018000/\n"
     ]
    },
    {
     "name": "stderr",
     "output_type": "stream",
     "text": [
      "yt : [INFO     ] 2023-01-31 10:56:39,540 Parameters: current_time              = 1.7253332459003455e-09\n",
      "yt : [INFO     ] 2023-01-31 10:56:39,542 Parameters: domain_dimensions         = [256  64 256]\n",
      "yt : [INFO     ] 2023-01-31 10:56:39,543 Parameters: domain_left_edge          = [0. 0. 0.]\n",
      "yt : [INFO     ] 2023-01-31 10:56:39,544 Parameters: domain_right_edge         = [2.636e-06 6.590e-07 2.636e-06]\n"
     ]
    },
    {
     "name": "stdout",
     "output_type": "stream",
     "text": [
      "~/nerscProject/dladiges/visctest100/625partSC/CPU25/plt000018000/\n"
     ]
    },
    {
     "name": "stderr",
     "output_type": "stream",
     "text": [
      "yt : [INFO     ] 2023-01-31 10:56:47,273 Parameters: current_time              = 1.7253332459003455e-09\n",
      "yt : [INFO     ] 2023-01-31 10:56:47,275 Parameters: domain_dimensions         = [256  64 256]\n",
      "yt : [INFO     ] 2023-01-31 10:56:47,276 Parameters: domain_left_edge          = [0. 0. 0.]\n",
      "yt : [INFO     ] 2023-01-31 10:56:47,277 Parameters: domain_right_edge         = [2.636e-06 6.590e-07 2.636e-06]\n"
     ]
    },
    {
     "name": "stdout",
     "output_type": "stream",
     "text": [
      "~/nerscProject/dladiges/visctest100/625partSC/CPU26/plt000018000/\n"
     ]
    },
    {
     "name": "stderr",
     "output_type": "stream",
     "text": [
      "yt : [INFO     ] 2023-01-31 10:56:54,912 Parameters: current_time              = 1.7253332459003455e-09\n",
      "yt : [INFO     ] 2023-01-31 10:56:54,913 Parameters: domain_dimensions         = [256  64 256]\n",
      "yt : [INFO     ] 2023-01-31 10:56:54,915 Parameters: domain_left_edge          = [0. 0. 0.]\n",
      "yt : [INFO     ] 2023-01-31 10:56:54,916 Parameters: domain_right_edge         = [2.636e-06 6.590e-07 2.636e-06]\n"
     ]
    },
    {
     "name": "stdout",
     "output_type": "stream",
     "text": [
      "~/nerscProject/dladiges/visctest100/625partSC/CPU27/plt000018000/\n"
     ]
    },
    {
     "name": "stderr",
     "output_type": "stream",
     "text": [
      "yt : [INFO     ] 2023-01-31 10:57:02,814 Parameters: current_time              = 1.7253332459003455e-09\n",
      "yt : [INFO     ] 2023-01-31 10:57:02,815 Parameters: domain_dimensions         = [256  64 256]\n",
      "yt : [INFO     ] 2023-01-31 10:57:02,816 Parameters: domain_left_edge          = [0. 0. 0.]\n",
      "yt : [INFO     ] 2023-01-31 10:57:02,817 Parameters: domain_right_edge         = [2.636e-06 6.590e-07 2.636e-06]\n"
     ]
    },
    {
     "name": "stdout",
     "output_type": "stream",
     "text": [
      "~/nerscProject/dladiges/visctest100/625partSC/CPU28/plt000018000/\n"
     ]
    },
    {
     "name": "stderr",
     "output_type": "stream",
     "text": [
      "yt : [INFO     ] 2023-01-31 10:57:10,303 Parameters: current_time              = 1.7253332459003455e-09\n",
      "yt : [INFO     ] 2023-01-31 10:57:10,304 Parameters: domain_dimensions         = [256  64 256]\n",
      "yt : [INFO     ] 2023-01-31 10:57:10,305 Parameters: domain_left_edge          = [0. 0. 0.]\n",
      "yt : [INFO     ] 2023-01-31 10:57:10,306 Parameters: domain_right_edge         = [2.636e-06 6.590e-07 2.636e-06]\n"
     ]
    },
    {
     "name": "stdout",
     "output_type": "stream",
     "text": [
      "~/nerscProject/dladiges/visctest100/625partSC/CPU29/plt000018000/\n"
     ]
    },
    {
     "name": "stderr",
     "output_type": "stream",
     "text": [
      "yt : [INFO     ] 2023-01-31 10:57:17,750 Parameters: current_time              = 1.7253332459003455e-09\n",
      "yt : [INFO     ] 2023-01-31 10:57:17,752 Parameters: domain_dimensions         = [256  64 256]\n",
      "yt : [INFO     ] 2023-01-31 10:57:17,753 Parameters: domain_left_edge          = [0. 0. 0.]\n",
      "yt : [INFO     ] 2023-01-31 10:57:17,754 Parameters: domain_right_edge         = [2.636e-06 6.590e-07 2.636e-06]\n"
     ]
    },
    {
     "name": "stdout",
     "output_type": "stream",
     "text": [
      "~/nerscProject/dladiges/visctest100/625partSC/CPU30/plt000018000/\n"
     ]
    },
    {
     "name": "stderr",
     "output_type": "stream",
     "text": [
      "yt : [INFO     ] 2023-01-31 10:57:24,986 Parameters: current_time              = 1.7253332459003455e-09\n",
      "yt : [INFO     ] 2023-01-31 10:57:24,987 Parameters: domain_dimensions         = [256  64 256]\n",
      "yt : [INFO     ] 2023-01-31 10:57:24,988 Parameters: domain_left_edge          = [0. 0. 0.]\n",
      "yt : [INFO     ] 2023-01-31 10:57:24,989 Parameters: domain_right_edge         = [2.636e-06 6.590e-07 2.636e-06]\n"
     ]
    },
    {
     "name": "stdout",
     "output_type": "stream",
     "text": [
      "~/nerscProject/dladiges/visctest100/625partSC/CPU31/plt000018000/\n"
     ]
    },
    {
     "name": "stderr",
     "output_type": "stream",
     "text": [
      "yt : [INFO     ] 2023-01-31 10:57:32,415 Parameters: current_time              = 1.7253332459003455e-09\n",
      "yt : [INFO     ] 2023-01-31 10:57:32,416 Parameters: domain_dimensions         = [256  64 256]\n",
      "yt : [INFO     ] 2023-01-31 10:57:32,418 Parameters: domain_left_edge          = [0. 0. 0.]\n",
      "yt : [INFO     ] 2023-01-31 10:57:32,419 Parameters: domain_right_edge         = [2.636e-06 6.590e-07 2.636e-06]\n"
     ]
    },
    {
     "name": "stdout",
     "output_type": "stream",
     "text": [
      "~/nerscProject/dladiges/visctest100/625partSC/CPU32/plt000018000/\n"
     ]
    },
    {
     "name": "stderr",
     "output_type": "stream",
     "text": [
      "yt : [INFO     ] 2023-01-31 10:57:39,479 Parameters: current_time              = 1.7253332459003455e-09\n",
      "yt : [INFO     ] 2023-01-31 10:57:39,480 Parameters: domain_dimensions         = [256  64 256]\n",
      "yt : [INFO     ] 2023-01-31 10:57:39,480 Parameters: domain_left_edge          = [0. 0. 0.]\n",
      "yt : [INFO     ] 2023-01-31 10:57:39,481 Parameters: domain_right_edge         = [2.636e-06 6.590e-07 2.636e-06]\n"
     ]
    },
    {
     "name": "stdout",
     "output_type": "stream",
     "text": [
      "~/nerscProject/dladiges/visctest100/625partSC/CPU33/plt000018000/\n"
     ]
    },
    {
     "name": "stderr",
     "output_type": "stream",
     "text": [
      "yt : [INFO     ] 2023-01-31 10:57:46,965 Parameters: current_time              = 1.7253332459003455e-09\n",
      "yt : [INFO     ] 2023-01-31 10:57:46,966 Parameters: domain_dimensions         = [256  64 256]\n",
      "yt : [INFO     ] 2023-01-31 10:57:46,968 Parameters: domain_left_edge          = [0. 0. 0.]\n",
      "yt : [INFO     ] 2023-01-31 10:57:46,969 Parameters: domain_right_edge         = [2.636e-06 6.590e-07 2.636e-06]\n"
     ]
    },
    {
     "name": "stdout",
     "output_type": "stream",
     "text": [
      "~/nerscProject/dladiges/visctest100/625partSC/CPU34/plt000018000/\n"
     ]
    },
    {
     "name": "stderr",
     "output_type": "stream",
     "text": [
      "yt : [INFO     ] 2023-01-31 10:57:54,985 Parameters: current_time              = 1.7253332459003455e-09\n",
      "yt : [INFO     ] 2023-01-31 10:57:54,986 Parameters: domain_dimensions         = [256  64 256]\n",
      "yt : [INFO     ] 2023-01-31 10:57:54,988 Parameters: domain_left_edge          = [0. 0. 0.]\n",
      "yt : [INFO     ] 2023-01-31 10:57:54,989 Parameters: domain_right_edge         = [2.636e-06 6.590e-07 2.636e-06]\n"
     ]
    },
    {
     "name": "stdout",
     "output_type": "stream",
     "text": [
      "~/nerscProject/dladiges/visctest100/625partSC/CPU35/plt000018000/\n"
     ]
    },
    {
     "name": "stderr",
     "output_type": "stream",
     "text": [
      "yt : [INFO     ] 2023-01-31 10:58:02,662 Parameters: current_time              = 1.7253332459003455e-09\n",
      "yt : [INFO     ] 2023-01-31 10:58:02,663 Parameters: domain_dimensions         = [256  64 256]\n",
      "yt : [INFO     ] 2023-01-31 10:58:02,665 Parameters: domain_left_edge          = [0. 0. 0.]\n",
      "yt : [INFO     ] 2023-01-31 10:58:02,666 Parameters: domain_right_edge         = [2.636e-06 6.590e-07 2.636e-06]\n"
     ]
    },
    {
     "name": "stdout",
     "output_type": "stream",
     "text": [
      "~/nerscProject/dladiges/visctest100/625partSC/CPU36/plt000018000/\n"
     ]
    },
    {
     "name": "stderr",
     "output_type": "stream",
     "text": [
      "yt : [INFO     ] 2023-01-31 10:58:09,940 Parameters: current_time              = 1.7253332459003455e-09\n",
      "yt : [INFO     ] 2023-01-31 10:58:09,942 Parameters: domain_dimensions         = [256  64 256]\n",
      "yt : [INFO     ] 2023-01-31 10:58:09,943 Parameters: domain_left_edge          = [0. 0. 0.]\n",
      "yt : [INFO     ] 2023-01-31 10:58:09,944 Parameters: domain_right_edge         = [2.636e-06 6.590e-07 2.636e-06]\n"
     ]
    },
    {
     "name": "stdout",
     "output_type": "stream",
     "text": [
      "~/nerscProject/dladiges/visctest100/625partSC/CPU37/plt000018000/\n"
     ]
    },
    {
     "name": "stderr",
     "output_type": "stream",
     "text": [
      "yt : [INFO     ] 2023-01-31 10:58:17,423 Parameters: current_time              = 1.7253332459003455e-09\n",
      "yt : [INFO     ] 2023-01-31 10:58:17,425 Parameters: domain_dimensions         = [256  64 256]\n",
      "yt : [INFO     ] 2023-01-31 10:58:17,426 Parameters: domain_left_edge          = [0. 0. 0.]\n",
      "yt : [INFO     ] 2023-01-31 10:58:17,427 Parameters: domain_right_edge         = [2.636e-06 6.590e-07 2.636e-06]\n"
     ]
    },
    {
     "name": "stdout",
     "output_type": "stream",
     "text": [
      "~/nerscProject/dladiges/visctest100/625partSC/CPU38/plt000018000/\n"
     ]
    },
    {
     "name": "stderr",
     "output_type": "stream",
     "text": [
      "yt : [INFO     ] 2023-01-31 10:58:25,351 Parameters: current_time              = 1.7253332459003455e-09\n",
      "yt : [INFO     ] 2023-01-31 10:58:25,352 Parameters: domain_dimensions         = [256  64 256]\n",
      "yt : [INFO     ] 2023-01-31 10:58:25,353 Parameters: domain_left_edge          = [0. 0. 0.]\n",
      "yt : [INFO     ] 2023-01-31 10:58:25,355 Parameters: domain_right_edge         = [2.636e-06 6.590e-07 2.636e-06]\n"
     ]
    },
    {
     "name": "stdout",
     "output_type": "stream",
     "text": [
      "~/nerscProject/dladiges/visctest100/625partSC/CPU39/plt000018000/\n"
     ]
    },
    {
     "name": "stderr",
     "output_type": "stream",
     "text": [
      "yt : [INFO     ] 2023-01-31 10:58:32,954 Parameters: current_time              = 1.7253332459003455e-09\n",
      "yt : [INFO     ] 2023-01-31 10:58:32,955 Parameters: domain_dimensions         = [256  64 256]\n",
      "yt : [INFO     ] 2023-01-31 10:58:32,957 Parameters: domain_left_edge          = [0. 0. 0.]\n",
      "yt : [INFO     ] 2023-01-31 10:58:32,958 Parameters: domain_right_edge         = [2.636e-06 6.590e-07 2.636e-06]\n"
     ]
    },
    {
     "name": "stdout",
     "output_type": "stream",
     "text": [
      "~/nerscProject/dladiges/visctest100/625partSC/CPU40/plt000018000/\n"
     ]
    },
    {
     "name": "stderr",
     "output_type": "stream",
     "text": [
      "yt : [INFO     ] 2023-01-31 10:58:40,324 Parameters: current_time              = 1.7253332459003455e-09\n",
      "yt : [INFO     ] 2023-01-31 10:58:40,325 Parameters: domain_dimensions         = [256  64 256]\n",
      "yt : [INFO     ] 2023-01-31 10:58:40,327 Parameters: domain_left_edge          = [0. 0. 0.]\n",
      "yt : [INFO     ] 2023-01-31 10:58:40,328 Parameters: domain_right_edge         = [2.636e-06 6.590e-07 2.636e-06]\n"
     ]
    },
    {
     "name": "stdout",
     "output_type": "stream",
     "text": [
      "~/nerscProject/dladiges/visctest100/625partSC/CPU41/plt000018000/\n"
     ]
    },
    {
     "name": "stderr",
     "output_type": "stream",
     "text": [
      "yt : [INFO     ] 2023-01-31 10:58:47,867 Parameters: current_time              = 1.7253332459003455e-09\n",
      "yt : [INFO     ] 2023-01-31 10:58:47,868 Parameters: domain_dimensions         = [256  64 256]\n",
      "yt : [INFO     ] 2023-01-31 10:58:47,870 Parameters: domain_left_edge          = [0. 0. 0.]\n",
      "yt : [INFO     ] 2023-01-31 10:58:47,871 Parameters: domain_right_edge         = [2.636e-06 6.590e-07 2.636e-06]\n"
     ]
    },
    {
     "name": "stdout",
     "output_type": "stream",
     "text": [
      "~/nerscProject/dladiges/visctest100/625partSC/CPU42/plt000018000/\n"
     ]
    },
    {
     "name": "stderr",
     "output_type": "stream",
     "text": [
      "yt : [INFO     ] 2023-01-31 10:58:55,556 Parameters: current_time              = 1.7253332459003455e-09\n",
      "yt : [INFO     ] 2023-01-31 10:58:55,557 Parameters: domain_dimensions         = [256  64 256]\n",
      "yt : [INFO     ] 2023-01-31 10:58:55,558 Parameters: domain_left_edge          = [0. 0. 0.]\n",
      "yt : [INFO     ] 2023-01-31 10:58:55,559 Parameters: domain_right_edge         = [2.636e-06 6.590e-07 2.636e-06]\n"
     ]
    },
    {
     "name": "stdout",
     "output_type": "stream",
     "text": [
      "~/nerscProject/dladiges/visctest100/625partSC/CPU43/plt000018000/\n"
     ]
    },
    {
     "name": "stderr",
     "output_type": "stream",
     "text": [
      "yt : [INFO     ] 2023-01-31 10:59:03,035 Parameters: current_time              = 1.7253332459003455e-09\n",
      "yt : [INFO     ] 2023-01-31 10:59:03,037 Parameters: domain_dimensions         = [256  64 256]\n",
      "yt : [INFO     ] 2023-01-31 10:59:03,038 Parameters: domain_left_edge          = [0. 0. 0.]\n",
      "yt : [INFO     ] 2023-01-31 10:59:03,040 Parameters: domain_right_edge         = [2.636e-06 6.590e-07 2.636e-06]\n"
     ]
    },
    {
     "name": "stdout",
     "output_type": "stream",
     "text": [
      "~/nerscProject/dladiges/visctest100/625partSC/CPU44/plt000018000/\n"
     ]
    },
    {
     "name": "stderr",
     "output_type": "stream",
     "text": [
      "yt : [INFO     ] 2023-01-31 10:59:10,512 Parameters: current_time              = 1.7253332459003455e-09\n",
      "yt : [INFO     ] 2023-01-31 10:59:10,513 Parameters: domain_dimensions         = [256  64 256]\n",
      "yt : [INFO     ] 2023-01-31 10:59:10,515 Parameters: domain_left_edge          = [0. 0. 0.]\n",
      "yt : [INFO     ] 2023-01-31 10:59:10,515 Parameters: domain_right_edge         = [2.636e-06 6.590e-07 2.636e-06]\n"
     ]
    },
    {
     "name": "stdout",
     "output_type": "stream",
     "text": [
      "~/nerscProject/dladiges/visctest100/625partSC/CPU45/plt000018000/\n"
     ]
    },
    {
     "name": "stderr",
     "output_type": "stream",
     "text": [
      "yt : [INFO     ] 2023-01-31 10:59:18,232 Parameters: current_time              = 1.7253332459003455e-09\n",
      "yt : [INFO     ] 2023-01-31 10:59:18,233 Parameters: domain_dimensions         = [256  64 256]\n",
      "yt : [INFO     ] 2023-01-31 10:59:18,235 Parameters: domain_left_edge          = [0. 0. 0.]\n",
      "yt : [INFO     ] 2023-01-31 10:59:18,236 Parameters: domain_right_edge         = [2.636e-06 6.590e-07 2.636e-06]\n"
     ]
    },
    {
     "name": "stdout",
     "output_type": "stream",
     "text": [
      "~/nerscProject/dladiges/visctest100/625partSC/CPU46/plt000018000/\n"
     ]
    },
    {
     "name": "stderr",
     "output_type": "stream",
     "text": [
      "yt : [INFO     ] 2023-01-31 10:59:25,650 Parameters: current_time              = 1.7253332459003455e-09\n",
      "yt : [INFO     ] 2023-01-31 10:59:25,651 Parameters: domain_dimensions         = [256  64 256]\n",
      "yt : [INFO     ] 2023-01-31 10:59:25,652 Parameters: domain_left_edge          = [0. 0. 0.]\n",
      "yt : [INFO     ] 2023-01-31 10:59:25,654 Parameters: domain_right_edge         = [2.636e-06 6.590e-07 2.636e-06]\n"
     ]
    },
    {
     "name": "stdout",
     "output_type": "stream",
     "text": [
      "~/nerscProject/dladiges/visctest100/625partSC/CPU47/plt000018000/\n"
     ]
    },
    {
     "name": "stderr",
     "output_type": "stream",
     "text": [
      "yt : [INFO     ] 2023-01-31 10:59:33,158 Parameters: current_time              = 1.7253332459003455e-09\n",
      "yt : [INFO     ] 2023-01-31 10:59:33,159 Parameters: domain_dimensions         = [256  64 256]\n",
      "yt : [INFO     ] 2023-01-31 10:59:33,161 Parameters: domain_left_edge          = [0. 0. 0.]\n",
      "yt : [INFO     ] 2023-01-31 10:59:33,162 Parameters: domain_right_edge         = [2.636e-06 6.590e-07 2.636e-06]\n"
     ]
    },
    {
     "name": "stdout",
     "output_type": "stream",
     "text": [
      "~/nerscProject/dladiges/visctest100/625partSC/CPU48/plt000018000/\n"
     ]
    },
    {
     "name": "stderr",
     "output_type": "stream",
     "text": [
      "yt : [INFO     ] 2023-01-31 10:59:40,779 Parameters: current_time              = 1.7253332459003455e-09\n",
      "yt : [INFO     ] 2023-01-31 10:59:40,780 Parameters: domain_dimensions         = [256  64 256]\n",
      "yt : [INFO     ] 2023-01-31 10:59:40,781 Parameters: domain_left_edge          = [0. 0. 0.]\n",
      "yt : [INFO     ] 2023-01-31 10:59:40,782 Parameters: domain_right_edge         = [2.636e-06 6.590e-07 2.636e-06]\n"
     ]
    },
    {
     "name": "stdout",
     "output_type": "stream",
     "text": [
      "~/nerscProject/dladiges/visctest100/625partSC/CPU49/plt000018000/\n"
     ]
    },
    {
     "name": "stderr",
     "output_type": "stream",
     "text": [
      "yt : [INFO     ] 2023-01-31 10:59:47,968 Parameters: current_time              = 1.7253332459003455e-09\n",
      "yt : [INFO     ] 2023-01-31 10:59:47,970 Parameters: domain_dimensions         = [256  64 256]\n",
      "yt : [INFO     ] 2023-01-31 10:59:47,971 Parameters: domain_left_edge          = [0. 0. 0.]\n",
      "yt : [INFO     ] 2023-01-31 10:59:47,972 Parameters: domain_right_edge         = [2.636e-06 6.590e-07 2.636e-06]\n"
     ]
    },
    {
     "name": "stdout",
     "output_type": "stream",
     "text": [
      "~/nerscProject/dladiges/visctest100/625partSC/CPU50/plt000018000/\n"
     ]
    },
    {
     "name": "stderr",
     "output_type": "stream",
     "text": [
      "yt : [INFO     ] 2023-01-31 10:59:55,550 Parameters: current_time              = 1.7253332459003455e-09\n",
      "yt : [INFO     ] 2023-01-31 10:59:55,551 Parameters: domain_dimensions         = [256  64 256]\n",
      "yt : [INFO     ] 2023-01-31 10:59:55,552 Parameters: domain_left_edge          = [0. 0. 0.]\n",
      "yt : [INFO     ] 2023-01-31 10:59:55,553 Parameters: domain_right_edge         = [2.636e-06 6.590e-07 2.636e-06]\n"
     ]
    },
    {
     "name": "stdout",
     "output_type": "stream",
     "text": [
      "~/nerscProject/dladiges/visctest100/625partSC/CPU51/plt000018000/\n"
     ]
    },
    {
     "name": "stderr",
     "output_type": "stream",
     "text": [
      "yt : [INFO     ] 2023-01-31 11:00:03,080 Parameters: current_time              = 1.7253332459003455e-09\n",
      "yt : [INFO     ] 2023-01-31 11:00:03,081 Parameters: domain_dimensions         = [256  64 256]\n",
      "yt : [INFO     ] 2023-01-31 11:00:03,083 Parameters: domain_left_edge          = [0. 0. 0.]\n",
      "yt : [INFO     ] 2023-01-31 11:00:03,084 Parameters: domain_right_edge         = [2.636e-06 6.590e-07 2.636e-06]\n"
     ]
    },
    {
     "name": "stdout",
     "output_type": "stream",
     "text": [
      "~/nerscProject/dladiges/visctest100/625partSC/CPU52/plt000018000/\n"
     ]
    },
    {
     "name": "stderr",
     "output_type": "stream",
     "text": [
      "yt : [INFO     ] 2023-01-31 11:00:10,528 Parameters: current_time              = 1.7253332459003455e-09\n",
      "yt : [INFO     ] 2023-01-31 11:00:10,529 Parameters: domain_dimensions         = [256  64 256]\n",
      "yt : [INFO     ] 2023-01-31 11:00:10,531 Parameters: domain_left_edge          = [0. 0. 0.]\n",
      "yt : [INFO     ] 2023-01-31 11:00:10,532 Parameters: domain_right_edge         = [2.636e-06 6.590e-07 2.636e-06]\n"
     ]
    },
    {
     "name": "stdout",
     "output_type": "stream",
     "text": [
      "~/nerscProject/dladiges/visctest100/625partSC/CPU53/plt000018000/\n"
     ]
    },
    {
     "name": "stderr",
     "output_type": "stream",
     "text": [
      "yt : [INFO     ] 2023-01-31 11:00:18,240 Parameters: current_time              = 1.7253332459003455e-09\n",
      "yt : [INFO     ] 2023-01-31 11:00:18,241 Parameters: domain_dimensions         = [256  64 256]\n",
      "yt : [INFO     ] 2023-01-31 11:00:18,242 Parameters: domain_left_edge          = [0. 0. 0.]\n",
      "yt : [INFO     ] 2023-01-31 11:00:18,243 Parameters: domain_right_edge         = [2.636e-06 6.590e-07 2.636e-06]\n"
     ]
    },
    {
     "name": "stdout",
     "output_type": "stream",
     "text": [
      "~/nerscProject/dladiges/visctest100/625partSC/CPU54/plt000018000/\n"
     ]
    },
    {
     "name": "stderr",
     "output_type": "stream",
     "text": [
      "yt : [INFO     ] 2023-01-31 11:00:25,860 Parameters: current_time              = 1.7253332459003455e-09\n",
      "yt : [INFO     ] 2023-01-31 11:00:25,861 Parameters: domain_dimensions         = [256  64 256]\n",
      "yt : [INFO     ] 2023-01-31 11:00:25,862 Parameters: domain_left_edge          = [0. 0. 0.]\n",
      "yt : [INFO     ] 2023-01-31 11:00:25,863 Parameters: domain_right_edge         = [2.636e-06 6.590e-07 2.636e-06]\n"
     ]
    },
    {
     "name": "stdout",
     "output_type": "stream",
     "text": [
      "~/nerscProject/dladiges/visctest100/625partSC/CPU55/plt000018000/\n"
     ]
    },
    {
     "name": "stderr",
     "output_type": "stream",
     "text": [
      "yt : [INFO     ] 2023-01-31 11:00:33,522 Parameters: current_time              = 1.7253332459003455e-09\n",
      "yt : [INFO     ] 2023-01-31 11:00:33,523 Parameters: domain_dimensions         = [256  64 256]\n",
      "yt : [INFO     ] 2023-01-31 11:00:33,524 Parameters: domain_left_edge          = [0. 0. 0.]\n",
      "yt : [INFO     ] 2023-01-31 11:00:33,526 Parameters: domain_right_edge         = [2.636e-06 6.590e-07 2.636e-06]\n"
     ]
    },
    {
     "name": "stdout",
     "output_type": "stream",
     "text": [
      "~/nerscProject/dladiges/visctest100/625partSC/CPU56/plt000018000/\n"
     ]
    },
    {
     "name": "stderr",
     "output_type": "stream",
     "text": [
      "yt : [INFO     ] 2023-01-31 11:00:41,860 Parameters: current_time              = 1.7253332459003455e-09\n",
      "yt : [INFO     ] 2023-01-31 11:00:41,861 Parameters: domain_dimensions         = [256  64 256]\n",
      "yt : [INFO     ] 2023-01-31 11:00:41,863 Parameters: domain_left_edge          = [0. 0. 0.]\n",
      "yt : [INFO     ] 2023-01-31 11:00:41,864 Parameters: domain_right_edge         = [2.636e-06 6.590e-07 2.636e-06]\n"
     ]
    },
    {
     "name": "stdout",
     "output_type": "stream",
     "text": [
      "~/nerscProject/dladiges/visctest100/625partSC/CPU57/plt000018000/\n"
     ]
    },
    {
     "name": "stderr",
     "output_type": "stream",
     "text": [
      "yt : [INFO     ] 2023-01-31 11:00:49,232 Parameters: current_time              = 1.7253332459003455e-09\n",
      "yt : [INFO     ] 2023-01-31 11:00:49,234 Parameters: domain_dimensions         = [256  64 256]\n",
      "yt : [INFO     ] 2023-01-31 11:00:49,235 Parameters: domain_left_edge          = [0. 0. 0.]\n",
      "yt : [INFO     ] 2023-01-31 11:00:49,236 Parameters: domain_right_edge         = [2.636e-06 6.590e-07 2.636e-06]\n"
     ]
    },
    {
     "name": "stdout",
     "output_type": "stream",
     "text": [
      "~/nerscProject/dladiges/visctest100/625partSC/CPU58/plt000018000/\n"
     ]
    },
    {
     "name": "stderr",
     "output_type": "stream",
     "text": [
      "yt : [INFO     ] 2023-01-31 11:00:56,977 Parameters: current_time              = 1.7253332459003455e-09\n",
      "yt : [INFO     ] 2023-01-31 11:00:56,978 Parameters: domain_dimensions         = [256  64 256]\n",
      "yt : [INFO     ] 2023-01-31 11:00:56,979 Parameters: domain_left_edge          = [0. 0. 0.]\n",
      "yt : [INFO     ] 2023-01-31 11:00:56,980 Parameters: domain_right_edge         = [2.636e-06 6.590e-07 2.636e-06]\n"
     ]
    },
    {
     "name": "stdout",
     "output_type": "stream",
     "text": [
      "~/nerscProject/dladiges/visctest100/625partSC/CPU59/plt000018000/\n"
     ]
    },
    {
     "name": "stderr",
     "output_type": "stream",
     "text": [
      "yt : [INFO     ] 2023-01-31 11:01:04,412 Parameters: current_time              = 1.7253332459003455e-09\n",
      "yt : [INFO     ] 2023-01-31 11:01:04,414 Parameters: domain_dimensions         = [256  64 256]\n",
      "yt : [INFO     ] 2023-01-31 11:01:04,415 Parameters: domain_left_edge          = [0. 0. 0.]\n",
      "yt : [INFO     ] 2023-01-31 11:01:04,416 Parameters: domain_right_edge         = [2.636e-06 6.590e-07 2.636e-06]\n"
     ]
    },
    {
     "name": "stdout",
     "output_type": "stream",
     "text": [
      "~/nerscProject/dladiges/visctest100/625partSC/CPU60/plt000018000/\n"
     ]
    },
    {
     "name": "stderr",
     "output_type": "stream",
     "text": [
      "yt : [INFO     ] 2023-01-31 11:01:12,086 Parameters: current_time              = 1.7253332459003455e-09\n",
      "yt : [INFO     ] 2023-01-31 11:01:12,087 Parameters: domain_dimensions         = [256  64 256]\n",
      "yt : [INFO     ] 2023-01-31 11:01:12,088 Parameters: domain_left_edge          = [0. 0. 0.]\n",
      "yt : [INFO     ] 2023-01-31 11:01:12,089 Parameters: domain_right_edge         = [2.636e-06 6.590e-07 2.636e-06]\n"
     ]
    },
    {
     "name": "stdout",
     "output_type": "stream",
     "text": [
      "~/nerscProject/dladiges/visctest100/625partSC/CPU61/plt000018000/\n"
     ]
    },
    {
     "name": "stderr",
     "output_type": "stream",
     "text": [
      "yt : [INFO     ] 2023-01-31 11:01:19,610 Parameters: current_time              = 1.7253332459003455e-09\n",
      "yt : [INFO     ] 2023-01-31 11:01:19,611 Parameters: domain_dimensions         = [256  64 256]\n",
      "yt : [INFO     ] 2023-01-31 11:01:19,612 Parameters: domain_left_edge          = [0. 0. 0.]\n",
      "yt : [INFO     ] 2023-01-31 11:01:19,613 Parameters: domain_right_edge         = [2.636e-06 6.590e-07 2.636e-06]\n"
     ]
    },
    {
     "name": "stdout",
     "output_type": "stream",
     "text": [
      "~/nerscProject/dladiges/visctest100/625partSC/CPU62/plt000018000/\n"
     ]
    },
    {
     "name": "stderr",
     "output_type": "stream",
     "text": [
      "yt : [INFO     ] 2023-01-31 11:01:27,137 Parameters: current_time              = 1.7253332459003455e-09\n",
      "yt : [INFO     ] 2023-01-31 11:01:27,138 Parameters: domain_dimensions         = [256  64 256]\n",
      "yt : [INFO     ] 2023-01-31 11:01:27,139 Parameters: domain_left_edge          = [0. 0. 0.]\n",
      "yt : [INFO     ] 2023-01-31 11:01:27,140 Parameters: domain_right_edge         = [2.636e-06 6.590e-07 2.636e-06]\n"
     ]
    },
    {
     "name": "stdout",
     "output_type": "stream",
     "text": [
      "~/nerscProject/dladiges/visctest100/625partSC/CPU63/plt000018000/\n"
     ]
    },
    {
     "name": "stderr",
     "output_type": "stream",
     "text": [
      "yt : [INFO     ] 2023-01-31 11:01:34,748 Parameters: current_time              = 1.7253332459003455e-09\n",
      "yt : [INFO     ] 2023-01-31 11:01:34,749 Parameters: domain_dimensions         = [256  64 256]\n",
      "yt : [INFO     ] 2023-01-31 11:01:34,750 Parameters: domain_left_edge          = [0. 0. 0.]\n",
      "yt : [INFO     ] 2023-01-31 11:01:34,752 Parameters: domain_right_edge         = [2.636e-06 6.590e-07 2.636e-06]\n"
     ]
    }
   ],
   "source": [
    "data = \"~/nerscProject/dladiges/visctest100/625partSC/CPU\"\n",
    "time = \"/plt0000\"+\"18000/\"\n",
    "bins = 64\n",
    "ens= 64\n",
    "yall625 = np.zeros((ens,bins))\n",
    "i=0\n",
    "for i in range(ens):\n",
    "    stri = data + str(i).zfill(2)\n",
    "    xt, yall625[i] = return_y_plt(stri,time,nbins=bins,field=\"averaged_meanx\")"
   ]
  },
  {
   "cell_type": "code",
   "execution_count": 8,
   "id": "75e7ecf4-64a5-47fc-bd66-28308bd328e3",
   "metadata": {},
   "outputs": [
    {
     "name": "stdout",
     "output_type": "stream",
     "text": [
      "~/nerscProject/dladiges/visctest100/1250partSC/CPU00/plt000018000/\n"
     ]
    },
    {
     "name": "stderr",
     "output_type": "stream",
     "text": [
      "yt : [INFO     ] 2023-01-31 11:48:30,334 Parameters: current_time              = 1.7253332459003455e-09\n",
      "yt : [INFO     ] 2023-01-31 11:48:30,335 Parameters: domain_dimensions         = [256  64 256]\n",
      "yt : [INFO     ] 2023-01-31 11:48:30,336 Parameters: domain_left_edge          = [0. 0. 0.]\n",
      "yt : [INFO     ] 2023-01-31 11:48:30,337 Parameters: domain_right_edge         = [2.636e-06 6.590e-07 2.636e-06]\n"
     ]
    },
    {
     "name": "stdout",
     "output_type": "stream",
     "text": [
      "~/nerscProject/dladiges/visctest100/1250partSC/CPU01/plt000018000/\n"
     ]
    },
    {
     "name": "stderr",
     "output_type": "stream",
     "text": [
      "yt : [INFO     ] 2023-01-31 11:48:32,192 Parameters: current_time              = 1.7253332459003455e-09\n",
      "yt : [INFO     ] 2023-01-31 11:48:32,193 Parameters: domain_dimensions         = [256  64 256]\n",
      "yt : [INFO     ] 2023-01-31 11:48:32,194 Parameters: domain_left_edge          = [0. 0. 0.]\n",
      "yt : [INFO     ] 2023-01-31 11:48:32,195 Parameters: domain_right_edge         = [2.636e-06 6.590e-07 2.636e-06]\n"
     ]
    },
    {
     "name": "stdout",
     "output_type": "stream",
     "text": [
      "~/nerscProject/dladiges/visctest100/1250partSC/CPU02/plt000018000/\n"
     ]
    },
    {
     "name": "stderr",
     "output_type": "stream",
     "text": [
      "yt : [INFO     ] 2023-01-31 11:48:34,629 Parameters: current_time              = 1.7253332459003455e-09\n",
      "yt : [INFO     ] 2023-01-31 11:48:34,630 Parameters: domain_dimensions         = [256  64 256]\n",
      "yt : [INFO     ] 2023-01-31 11:48:34,631 Parameters: domain_left_edge          = [0. 0. 0.]\n",
      "yt : [INFO     ] 2023-01-31 11:48:34,632 Parameters: domain_right_edge         = [2.636e-06 6.590e-07 2.636e-06]\n"
     ]
    },
    {
     "name": "stdout",
     "output_type": "stream",
     "text": [
      "~/nerscProject/dladiges/visctest100/1250partSC/CPU03/plt000018000/\n"
     ]
    },
    {
     "name": "stderr",
     "output_type": "stream",
     "text": [
      "yt : [INFO     ] 2023-01-31 11:48:36,185 Parameters: current_time              = 1.7253332459003455e-09\n",
      "yt : [INFO     ] 2023-01-31 11:48:36,185 Parameters: domain_dimensions         = [256  64 256]\n",
      "yt : [INFO     ] 2023-01-31 11:48:36,186 Parameters: domain_left_edge          = [0. 0. 0.]\n",
      "yt : [INFO     ] 2023-01-31 11:48:36,187 Parameters: domain_right_edge         = [2.636e-06 6.590e-07 2.636e-06]\n"
     ]
    },
    {
     "name": "stdout",
     "output_type": "stream",
     "text": [
      "~/nerscProject/dladiges/visctest100/1250partSC/CPU04/plt000018000/\n"
     ]
    },
    {
     "name": "stderr",
     "output_type": "stream",
     "text": [
      "yt : [INFO     ] 2023-01-31 11:48:37,974 Parameters: current_time              = 1.7253332459003455e-09\n",
      "yt : [INFO     ] 2023-01-31 11:48:37,975 Parameters: domain_dimensions         = [256  64 256]\n",
      "yt : [INFO     ] 2023-01-31 11:48:37,975 Parameters: domain_left_edge          = [0. 0. 0.]\n",
      "yt : [INFO     ] 2023-01-31 11:48:37,976 Parameters: domain_right_edge         = [2.636e-06 6.590e-07 2.636e-06]\n"
     ]
    },
    {
     "name": "stdout",
     "output_type": "stream",
     "text": [
      "~/nerscProject/dladiges/visctest100/1250partSC/CPU05/plt000018000/\n"
     ]
    },
    {
     "name": "stderr",
     "output_type": "stream",
     "text": [
      "yt : [INFO     ] 2023-01-31 11:48:39,851 Parameters: current_time              = 1.7253332459003455e-09\n",
      "yt : [INFO     ] 2023-01-31 11:48:39,852 Parameters: domain_dimensions         = [256  64 256]\n",
      "yt : [INFO     ] 2023-01-31 11:48:39,853 Parameters: domain_left_edge          = [0. 0. 0.]\n",
      "yt : [INFO     ] 2023-01-31 11:48:39,854 Parameters: domain_right_edge         = [2.636e-06 6.590e-07 2.636e-06]\n"
     ]
    },
    {
     "name": "stdout",
     "output_type": "stream",
     "text": [
      "~/nerscProject/dladiges/visctest100/1250partSC/CPU06/plt000018000/\n"
     ]
    },
    {
     "name": "stderr",
     "output_type": "stream",
     "text": [
      "yt : [INFO     ] 2023-01-31 11:48:41,701 Parameters: current_time              = 1.7253332459003455e-09\n",
      "yt : [INFO     ] 2023-01-31 11:48:41,702 Parameters: domain_dimensions         = [256  64 256]\n",
      "yt : [INFO     ] 2023-01-31 11:48:41,703 Parameters: domain_left_edge          = [0. 0. 0.]\n",
      "yt : [INFO     ] 2023-01-31 11:48:41,703 Parameters: domain_right_edge         = [2.636e-06 6.590e-07 2.636e-06]\n"
     ]
    },
    {
     "name": "stdout",
     "output_type": "stream",
     "text": [
      "~/nerscProject/dladiges/visctest100/1250partSC/CPU07/plt000018000/\n"
     ]
    },
    {
     "name": "stderr",
     "output_type": "stream",
     "text": [
      "yt : [INFO     ] 2023-01-31 11:48:43,478 Parameters: current_time              = 1.7253332459003455e-09\n",
      "yt : [INFO     ] 2023-01-31 11:48:43,479 Parameters: domain_dimensions         = [256  64 256]\n",
      "yt : [INFO     ] 2023-01-31 11:48:43,480 Parameters: domain_left_edge          = [0. 0. 0.]\n",
      "yt : [INFO     ] 2023-01-31 11:48:43,480 Parameters: domain_right_edge         = [2.636e-06 6.590e-07 2.636e-06]\n"
     ]
    },
    {
     "name": "stdout",
     "output_type": "stream",
     "text": [
      "~/nerscProject/dladiges/visctest100/1250partSC/CPU08/plt000018000/\n"
     ]
    },
    {
     "name": "stderr",
     "output_type": "stream",
     "text": [
      "yt : [INFO     ] 2023-01-31 11:48:45,374 Parameters: current_time              = 1.7253332459003455e-09\n",
      "yt : [INFO     ] 2023-01-31 11:48:45,375 Parameters: domain_dimensions         = [256  64 256]\n",
      "yt : [INFO     ] 2023-01-31 11:48:45,375 Parameters: domain_left_edge          = [0. 0. 0.]\n",
      "yt : [INFO     ] 2023-01-31 11:48:45,376 Parameters: domain_right_edge         = [2.636e-06 6.590e-07 2.636e-06]\n"
     ]
    },
    {
     "name": "stdout",
     "output_type": "stream",
     "text": [
      "~/nerscProject/dladiges/visctest100/1250partSC/CPU09/plt000018000/\n"
     ]
    },
    {
     "name": "stderr",
     "output_type": "stream",
     "text": [
      "yt : [INFO     ] 2023-01-31 11:48:47,447 Parameters: current_time              = 1.7253332459003455e-09\n",
      "yt : [INFO     ] 2023-01-31 11:48:47,449 Parameters: domain_dimensions         = [256  64 256]\n",
      "yt : [INFO     ] 2023-01-31 11:48:47,450 Parameters: domain_left_edge          = [0. 0. 0.]\n",
      "yt : [INFO     ] 2023-01-31 11:48:47,451 Parameters: domain_right_edge         = [2.636e-06 6.590e-07 2.636e-06]\n"
     ]
    },
    {
     "name": "stdout",
     "output_type": "stream",
     "text": [
      "~/nerscProject/dladiges/visctest100/1250partSC/CPU10/plt000018000/\n"
     ]
    },
    {
     "name": "stderr",
     "output_type": "stream",
     "text": [
      "yt : [INFO     ] 2023-01-31 11:48:49,480 Parameters: current_time              = 1.7253332459003455e-09\n",
      "yt : [INFO     ] 2023-01-31 11:48:49,481 Parameters: domain_dimensions         = [256  64 256]\n",
      "yt : [INFO     ] 2023-01-31 11:48:49,481 Parameters: domain_left_edge          = [0. 0. 0.]\n",
      "yt : [INFO     ] 2023-01-31 11:48:49,482 Parameters: domain_right_edge         = [2.636e-06 6.590e-07 2.636e-06]\n"
     ]
    },
    {
     "name": "stdout",
     "output_type": "stream",
     "text": [
      "~/nerscProject/dladiges/visctest100/1250partSC/CPU11/plt000018000/\n"
     ]
    },
    {
     "name": "stderr",
     "output_type": "stream",
     "text": [
      "yt : [INFO     ] 2023-01-31 11:48:51,320 Parameters: current_time              = 1.7253332459003455e-09\n",
      "yt : [INFO     ] 2023-01-31 11:48:51,321 Parameters: domain_dimensions         = [256  64 256]\n",
      "yt : [INFO     ] 2023-01-31 11:48:51,322 Parameters: domain_left_edge          = [0. 0. 0.]\n",
      "yt : [INFO     ] 2023-01-31 11:48:51,323 Parameters: domain_right_edge         = [2.636e-06 6.590e-07 2.636e-06]\n"
     ]
    },
    {
     "name": "stdout",
     "output_type": "stream",
     "text": [
      "~/nerscProject/dladiges/visctest100/1250partSC/CPU12/plt000018000/\n"
     ]
    },
    {
     "name": "stderr",
     "output_type": "stream",
     "text": [
      "yt : [INFO     ] 2023-01-31 11:48:53,133 Parameters: current_time              = 1.7253332459003455e-09\n",
      "yt : [INFO     ] 2023-01-31 11:48:53,134 Parameters: domain_dimensions         = [256  64 256]\n",
      "yt : [INFO     ] 2023-01-31 11:48:53,136 Parameters: domain_left_edge          = [0. 0. 0.]\n",
      "yt : [INFO     ] 2023-01-31 11:48:53,137 Parameters: domain_right_edge         = [2.636e-06 6.590e-07 2.636e-06]\n"
     ]
    },
    {
     "name": "stdout",
     "output_type": "stream",
     "text": [
      "~/nerscProject/dladiges/visctest100/1250partSC/CPU13/plt000018000/\n"
     ]
    },
    {
     "name": "stderr",
     "output_type": "stream",
     "text": [
      "yt : [INFO     ] 2023-01-31 11:48:54,975 Parameters: current_time              = 1.7253332459003455e-09\n",
      "yt : [INFO     ] 2023-01-31 11:48:54,976 Parameters: domain_dimensions         = [256  64 256]\n",
      "yt : [INFO     ] 2023-01-31 11:48:54,977 Parameters: domain_left_edge          = [0. 0. 0.]\n",
      "yt : [INFO     ] 2023-01-31 11:48:54,978 Parameters: domain_right_edge         = [2.636e-06 6.590e-07 2.636e-06]\n"
     ]
    },
    {
     "name": "stdout",
     "output_type": "stream",
     "text": [
      "~/nerscProject/dladiges/visctest100/1250partSC/CPU14/plt000018000/\n"
     ]
    },
    {
     "name": "stderr",
     "output_type": "stream",
     "text": [
      "yt : [INFO     ] 2023-01-31 11:48:56,869 Parameters: current_time              = 1.7253332459003455e-09\n",
      "yt : [INFO     ] 2023-01-31 11:48:56,870 Parameters: domain_dimensions         = [256  64 256]\n",
      "yt : [INFO     ] 2023-01-31 11:48:56,871 Parameters: domain_left_edge          = [0. 0. 0.]\n",
      "yt : [INFO     ] 2023-01-31 11:48:56,872 Parameters: domain_right_edge         = [2.636e-06 6.590e-07 2.636e-06]\n"
     ]
    },
    {
     "name": "stdout",
     "output_type": "stream",
     "text": [
      "~/nerscProject/dladiges/visctest100/1250partSC/CPU15/plt000018000/\n"
     ]
    },
    {
     "name": "stderr",
     "output_type": "stream",
     "text": [
      "yt : [INFO     ] 2023-01-31 11:48:58,649 Parameters: current_time              = 1.7253332459003455e-09\n",
      "yt : [INFO     ] 2023-01-31 11:48:58,650 Parameters: domain_dimensions         = [256  64 256]\n",
      "yt : [INFO     ] 2023-01-31 11:48:58,650 Parameters: domain_left_edge          = [0. 0. 0.]\n",
      "yt : [INFO     ] 2023-01-31 11:48:58,651 Parameters: domain_right_edge         = [2.636e-06 6.590e-07 2.636e-06]\n"
     ]
    },
    {
     "name": "stdout",
     "output_type": "stream",
     "text": [
      "~/nerscProject/dladiges/visctest100/1250partSC/CPU16/plt000018000/\n"
     ]
    },
    {
     "name": "stderr",
     "output_type": "stream",
     "text": [
      "yt : [INFO     ] 2023-01-31 11:49:00,463 Parameters: current_time              = 1.7253332459003455e-09\n",
      "yt : [INFO     ] 2023-01-31 11:49:00,463 Parameters: domain_dimensions         = [256  64 256]\n",
      "yt : [INFO     ] 2023-01-31 11:49:00,464 Parameters: domain_left_edge          = [0. 0. 0.]\n",
      "yt : [INFO     ] 2023-01-31 11:49:00,465 Parameters: domain_right_edge         = [2.636e-06 6.590e-07 2.636e-06]\n"
     ]
    },
    {
     "name": "stdout",
     "output_type": "stream",
     "text": [
      "~/nerscProject/dladiges/visctest100/1250partSC/CPU17/plt000018000/\n"
     ]
    },
    {
     "name": "stderr",
     "output_type": "stream",
     "text": [
      "yt : [INFO     ] 2023-01-31 11:49:02,253 Parameters: current_time              = 1.7253332459003455e-09\n",
      "yt : [INFO     ] 2023-01-31 11:49:02,254 Parameters: domain_dimensions         = [256  64 256]\n",
      "yt : [INFO     ] 2023-01-31 11:49:02,256 Parameters: domain_left_edge          = [0. 0. 0.]\n",
      "yt : [INFO     ] 2023-01-31 11:49:02,257 Parameters: domain_right_edge         = [2.636e-06 6.590e-07 2.636e-06]\n"
     ]
    },
    {
     "name": "stdout",
     "output_type": "stream",
     "text": [
      "~/nerscProject/dladiges/visctest100/1250partSC/CPU18/plt000018000/\n"
     ]
    },
    {
     "name": "stderr",
     "output_type": "stream",
     "text": [
      "yt : [INFO     ] 2023-01-31 11:49:04,162 Parameters: current_time              = 1.7253332459003455e-09\n",
      "yt : [INFO     ] 2023-01-31 11:49:04,162 Parameters: domain_dimensions         = [256  64 256]\n",
      "yt : [INFO     ] 2023-01-31 11:49:04,163 Parameters: domain_left_edge          = [0. 0. 0.]\n",
      "yt : [INFO     ] 2023-01-31 11:49:04,163 Parameters: domain_right_edge         = [2.636e-06 6.590e-07 2.636e-06]\n"
     ]
    },
    {
     "name": "stdout",
     "output_type": "stream",
     "text": [
      "~/nerscProject/dladiges/visctest100/1250partSC/CPU19/plt000018000/\n"
     ]
    },
    {
     "name": "stderr",
     "output_type": "stream",
     "text": [
      "yt : [INFO     ] 2023-01-31 11:49:05,899 Parameters: current_time              = 1.7253332459003455e-09\n",
      "yt : [INFO     ] 2023-01-31 11:49:05,900 Parameters: domain_dimensions         = [256  64 256]\n",
      "yt : [INFO     ] 2023-01-31 11:49:05,900 Parameters: domain_left_edge          = [0. 0. 0.]\n",
      "yt : [INFO     ] 2023-01-31 11:49:05,901 Parameters: domain_right_edge         = [2.636e-06 6.590e-07 2.636e-06]\n"
     ]
    },
    {
     "name": "stdout",
     "output_type": "stream",
     "text": [
      "~/nerscProject/dladiges/visctest100/1250partSC/CPU20/plt000018000/\n"
     ]
    },
    {
     "name": "stderr",
     "output_type": "stream",
     "text": [
      "yt : [INFO     ] 2023-01-31 11:49:07,636 Parameters: current_time              = 1.7253332459003455e-09\n",
      "yt : [INFO     ] 2023-01-31 11:49:07,637 Parameters: domain_dimensions         = [256  64 256]\n",
      "yt : [INFO     ] 2023-01-31 11:49:07,638 Parameters: domain_left_edge          = [0. 0. 0.]\n",
      "yt : [INFO     ] 2023-01-31 11:49:07,638 Parameters: domain_right_edge         = [2.636e-06 6.590e-07 2.636e-06]\n"
     ]
    },
    {
     "name": "stdout",
     "output_type": "stream",
     "text": [
      "~/nerscProject/dladiges/visctest100/1250partSC/CPU21/plt000018000/\n"
     ]
    },
    {
     "name": "stderr",
     "output_type": "stream",
     "text": [
      "yt : [INFO     ] 2023-01-31 11:49:09,417 Parameters: current_time              = 1.7253332459003455e-09\n",
      "yt : [INFO     ] 2023-01-31 11:49:09,417 Parameters: domain_dimensions         = [256  64 256]\n",
      "yt : [INFO     ] 2023-01-31 11:49:09,418 Parameters: domain_left_edge          = [0. 0. 0.]\n",
      "yt : [INFO     ] 2023-01-31 11:49:09,419 Parameters: domain_right_edge         = [2.636e-06 6.590e-07 2.636e-06]\n"
     ]
    },
    {
     "name": "stdout",
     "output_type": "stream",
     "text": [
      "~/nerscProject/dladiges/visctest100/1250partSC/CPU22/plt000018000/\n"
     ]
    },
    {
     "name": "stderr",
     "output_type": "stream",
     "text": [
      "yt : [INFO     ] 2023-01-31 11:49:11,161 Parameters: current_time              = 1.7253332459003455e-09\n",
      "yt : [INFO     ] 2023-01-31 11:49:11,162 Parameters: domain_dimensions         = [256  64 256]\n",
      "yt : [INFO     ] 2023-01-31 11:49:11,163 Parameters: domain_left_edge          = [0. 0. 0.]\n",
      "yt : [INFO     ] 2023-01-31 11:49:11,163 Parameters: domain_right_edge         = [2.636e-06 6.590e-07 2.636e-06]\n"
     ]
    },
    {
     "name": "stdout",
     "output_type": "stream",
     "text": [
      "~/nerscProject/dladiges/visctest100/1250partSC/CPU23/plt000018000/\n"
     ]
    },
    {
     "name": "stderr",
     "output_type": "stream",
     "text": [
      "yt : [INFO     ] 2023-01-31 11:49:13,007 Parameters: current_time              = 1.7253332459003455e-09\n",
      "yt : [INFO     ] 2023-01-31 11:49:13,009 Parameters: domain_dimensions         = [256  64 256]\n",
      "yt : [INFO     ] 2023-01-31 11:49:13,010 Parameters: domain_left_edge          = [0. 0. 0.]\n",
      "yt : [INFO     ] 2023-01-31 11:49:13,011 Parameters: domain_right_edge         = [2.636e-06 6.590e-07 2.636e-06]\n"
     ]
    },
    {
     "name": "stdout",
     "output_type": "stream",
     "text": [
      "~/nerscProject/dladiges/visctest100/1250partSC/CPU24/plt000018000/\n"
     ]
    },
    {
     "name": "stderr",
     "output_type": "stream",
     "text": [
      "yt : [INFO     ] 2023-01-31 11:49:14,983 Parameters: current_time              = 1.7253332459003455e-09\n",
      "yt : [INFO     ] 2023-01-31 11:49:14,984 Parameters: domain_dimensions         = [256  64 256]\n",
      "yt : [INFO     ] 2023-01-31 11:49:14,984 Parameters: domain_left_edge          = [0. 0. 0.]\n",
      "yt : [INFO     ] 2023-01-31 11:49:14,985 Parameters: domain_right_edge         = [2.636e-06 6.590e-07 2.636e-06]\n"
     ]
    },
    {
     "name": "stdout",
     "output_type": "stream",
     "text": [
      "~/nerscProject/dladiges/visctest100/1250partSC/CPU25/plt000018000/\n"
     ]
    },
    {
     "name": "stderr",
     "output_type": "stream",
     "text": [
      "yt : [INFO     ] 2023-01-31 11:49:16,792 Parameters: current_time              = 1.7253332459003455e-09\n",
      "yt : [INFO     ] 2023-01-31 11:49:16,793 Parameters: domain_dimensions         = [256  64 256]\n",
      "yt : [INFO     ] 2023-01-31 11:49:16,794 Parameters: domain_left_edge          = [0. 0. 0.]\n",
      "yt : [INFO     ] 2023-01-31 11:49:16,794 Parameters: domain_right_edge         = [2.636e-06 6.590e-07 2.636e-06]\n"
     ]
    },
    {
     "name": "stdout",
     "output_type": "stream",
     "text": [
      "~/nerscProject/dladiges/visctest100/1250partSC/CPU26/plt000018000/\n"
     ]
    },
    {
     "name": "stderr",
     "output_type": "stream",
     "text": [
      "yt : [INFO     ] 2023-01-31 11:49:18,548 Parameters: current_time              = 1.7253332459003455e-09\n",
      "yt : [INFO     ] 2023-01-31 11:49:18,549 Parameters: domain_dimensions         = [256  64 256]\n",
      "yt : [INFO     ] 2023-01-31 11:49:18,549 Parameters: domain_left_edge          = [0. 0. 0.]\n",
      "yt : [INFO     ] 2023-01-31 11:49:18,550 Parameters: domain_right_edge         = [2.636e-06 6.590e-07 2.636e-06]\n"
     ]
    },
    {
     "name": "stdout",
     "output_type": "stream",
     "text": [
      "~/nerscProject/dladiges/visctest100/1250partSC/CPU27/plt000018000/\n"
     ]
    },
    {
     "name": "stderr",
     "output_type": "stream",
     "text": [
      "yt : [INFO     ] 2023-01-31 11:49:20,452 Parameters: current_time              = 1.7253332459003455e-09\n",
      "yt : [INFO     ] 2023-01-31 11:49:20,453 Parameters: domain_dimensions         = [256  64 256]\n",
      "yt : [INFO     ] 2023-01-31 11:49:20,454 Parameters: domain_left_edge          = [0. 0. 0.]\n",
      "yt : [INFO     ] 2023-01-31 11:49:20,455 Parameters: domain_right_edge         = [2.636e-06 6.590e-07 2.636e-06]\n"
     ]
    },
    {
     "name": "stdout",
     "output_type": "stream",
     "text": [
      "~/nerscProject/dladiges/visctest100/1250partSC/CPU28/plt000018000/\n"
     ]
    },
    {
     "name": "stderr",
     "output_type": "stream",
     "text": [
      "yt : [INFO     ] 2023-01-31 11:49:22,211 Parameters: current_time              = 1.7253332459003455e-09\n",
      "yt : [INFO     ] 2023-01-31 11:49:22,212 Parameters: domain_dimensions         = [256  64 256]\n",
      "yt : [INFO     ] 2023-01-31 11:49:22,213 Parameters: domain_left_edge          = [0. 0. 0.]\n",
      "yt : [INFO     ] 2023-01-31 11:49:22,213 Parameters: domain_right_edge         = [2.636e-06 6.590e-07 2.636e-06]\n"
     ]
    },
    {
     "name": "stdout",
     "output_type": "stream",
     "text": [
      "~/nerscProject/dladiges/visctest100/1250partSC/CPU29/plt000018000/\n"
     ]
    },
    {
     "name": "stderr",
     "output_type": "stream",
     "text": [
      "yt : [INFO     ] 2023-01-31 11:49:24,045 Parameters: current_time              = 1.7253332459003455e-09\n",
      "yt : [INFO     ] 2023-01-31 11:49:24,045 Parameters: domain_dimensions         = [256  64 256]\n",
      "yt : [INFO     ] 2023-01-31 11:49:24,046 Parameters: domain_left_edge          = [0. 0. 0.]\n",
      "yt : [INFO     ] 2023-01-31 11:49:24,046 Parameters: domain_right_edge         = [2.636e-06 6.590e-07 2.636e-06]\n"
     ]
    },
    {
     "name": "stdout",
     "output_type": "stream",
     "text": [
      "~/nerscProject/dladiges/visctest100/1250partSC/CPU30/plt000018000/\n"
     ]
    },
    {
     "name": "stderr",
     "output_type": "stream",
     "text": [
      "yt : [INFO     ] 2023-01-31 11:49:25,824 Parameters: current_time              = 1.7253332459003455e-09\n",
      "yt : [INFO     ] 2023-01-31 11:49:25,825 Parameters: domain_dimensions         = [256  64 256]\n",
      "yt : [INFO     ] 2023-01-31 11:49:25,825 Parameters: domain_left_edge          = [0. 0. 0.]\n",
      "yt : [INFO     ] 2023-01-31 11:49:25,826 Parameters: domain_right_edge         = [2.636e-06 6.590e-07 2.636e-06]\n"
     ]
    },
    {
     "name": "stdout",
     "output_type": "stream",
     "text": [
      "~/nerscProject/dladiges/visctest100/1250partSC/CPU31/plt000018000/\n"
     ]
    },
    {
     "name": "stderr",
     "output_type": "stream",
     "text": [
      "yt : [INFO     ] 2023-01-31 11:49:27,597 Parameters: current_time              = 1.7253332459003455e-09\n",
      "yt : [INFO     ] 2023-01-31 11:49:27,598 Parameters: domain_dimensions         = [256  64 256]\n",
      "yt : [INFO     ] 2023-01-31 11:49:27,598 Parameters: domain_left_edge          = [0. 0. 0.]\n",
      "yt : [INFO     ] 2023-01-31 11:49:27,599 Parameters: domain_right_edge         = [2.636e-06 6.590e-07 2.636e-06]\n"
     ]
    },
    {
     "name": "stdout",
     "output_type": "stream",
     "text": [
      "~/nerscProject/dladiges/visctest100/1250partSC/CPU32/plt000018000/\n"
     ]
    },
    {
     "name": "stderr",
     "output_type": "stream",
     "text": [
      "yt : [INFO     ] 2023-01-31 11:49:29,436 Parameters: current_time              = 1.7253332459003455e-09\n",
      "yt : [INFO     ] 2023-01-31 11:49:29,437 Parameters: domain_dimensions         = [256  64 256]\n",
      "yt : [INFO     ] 2023-01-31 11:49:29,437 Parameters: domain_left_edge          = [0. 0. 0.]\n",
      "yt : [INFO     ] 2023-01-31 11:49:29,438 Parameters: domain_right_edge         = [2.636e-06 6.590e-07 2.636e-06]\n"
     ]
    },
    {
     "name": "stdout",
     "output_type": "stream",
     "text": [
      "~/nerscProject/dladiges/visctest100/1250partSC/CPU33/plt000018000/\n"
     ]
    },
    {
     "name": "stderr",
     "output_type": "stream",
     "text": [
      "yt : [INFO     ] 2023-01-31 11:49:32,878 Parameters: current_time              = 1.7253332459003455e-09\n",
      "yt : [INFO     ] 2023-01-31 11:49:32,879 Parameters: domain_dimensions         = [256  64 256]\n",
      "yt : [INFO     ] 2023-01-31 11:49:32,880 Parameters: domain_left_edge          = [0. 0. 0.]\n",
      "yt : [INFO     ] 2023-01-31 11:49:32,882 Parameters: domain_right_edge         = [2.636e-06 6.590e-07 2.636e-06]\n"
     ]
    },
    {
     "name": "stdout",
     "output_type": "stream",
     "text": [
      "~/nerscProject/dladiges/visctest100/1250partSC/CPU34/plt000018000/\n"
     ]
    },
    {
     "name": "stderr",
     "output_type": "stream",
     "text": [
      "yt : [INFO     ] 2023-01-31 11:49:40,700 Parameters: current_time              = 1.7253332459003455e-09\n",
      "yt : [INFO     ] 2023-01-31 11:49:40,702 Parameters: domain_dimensions         = [256  64 256]\n",
      "yt : [INFO     ] 2023-01-31 11:49:40,703 Parameters: domain_left_edge          = [0. 0. 0.]\n",
      "yt : [INFO     ] 2023-01-31 11:49:40,704 Parameters: domain_right_edge         = [2.636e-06 6.590e-07 2.636e-06]\n"
     ]
    },
    {
     "name": "stdout",
     "output_type": "stream",
     "text": [
      "~/nerscProject/dladiges/visctest100/1250partSC/CPU35/plt000018000/\n"
     ]
    },
    {
     "name": "stderr",
     "output_type": "stream",
     "text": [
      "yt : [INFO     ] 2023-01-31 11:49:48,051 Parameters: current_time              = 1.7253332459003455e-09\n",
      "yt : [INFO     ] 2023-01-31 11:49:48,052 Parameters: domain_dimensions         = [256  64 256]\n",
      "yt : [INFO     ] 2023-01-31 11:49:48,054 Parameters: domain_left_edge          = [0. 0. 0.]\n",
      "yt : [INFO     ] 2023-01-31 11:49:48,055 Parameters: domain_right_edge         = [2.636e-06 6.590e-07 2.636e-06]\n"
     ]
    },
    {
     "name": "stdout",
     "output_type": "stream",
     "text": [
      "~/nerscProject/dladiges/visctest100/1250partSC/CPU36/plt000018000/\n"
     ]
    },
    {
     "name": "stderr",
     "output_type": "stream",
     "text": [
      "yt : [INFO     ] 2023-01-31 11:49:55,101 Parameters: current_time              = 1.7253332459003455e-09\n",
      "yt : [INFO     ] 2023-01-31 11:49:55,103 Parameters: domain_dimensions         = [256  64 256]\n",
      "yt : [INFO     ] 2023-01-31 11:49:55,104 Parameters: domain_left_edge          = [0. 0. 0.]\n",
      "yt : [INFO     ] 2023-01-31 11:49:55,105 Parameters: domain_right_edge         = [2.636e-06 6.590e-07 2.636e-06]\n"
     ]
    },
    {
     "name": "stdout",
     "output_type": "stream",
     "text": [
      "~/nerscProject/dladiges/visctest100/1250partSC/CPU37/plt000018000/\n"
     ]
    },
    {
     "name": "stderr",
     "output_type": "stream",
     "text": [
      "yt : [INFO     ] 2023-01-31 11:50:02,026 Parameters: current_time              = 1.7253332459003455e-09\n",
      "yt : [INFO     ] 2023-01-31 11:50:02,028 Parameters: domain_dimensions         = [256  64 256]\n",
      "yt : [INFO     ] 2023-01-31 11:50:02,029 Parameters: domain_left_edge          = [0. 0. 0.]\n",
      "yt : [INFO     ] 2023-01-31 11:50:02,030 Parameters: domain_right_edge         = [2.636e-06 6.590e-07 2.636e-06]\n"
     ]
    },
    {
     "name": "stdout",
     "output_type": "stream",
     "text": [
      "~/nerscProject/dladiges/visctest100/1250partSC/CPU38/plt000018000/\n"
     ]
    },
    {
     "name": "stderr",
     "output_type": "stream",
     "text": [
      "yt : [INFO     ] 2023-01-31 11:50:08,936 Parameters: current_time              = 1.7253332459003455e-09\n",
      "yt : [INFO     ] 2023-01-31 11:50:08,937 Parameters: domain_dimensions         = [256  64 256]\n",
      "yt : [INFO     ] 2023-01-31 11:50:08,938 Parameters: domain_left_edge          = [0. 0. 0.]\n",
      "yt : [INFO     ] 2023-01-31 11:50:08,939 Parameters: domain_right_edge         = [2.636e-06 6.590e-07 2.636e-06]\n"
     ]
    },
    {
     "name": "stdout",
     "output_type": "stream",
     "text": [
      "~/nerscProject/dladiges/visctest100/1250partSC/CPU39/plt000018000/\n"
     ]
    },
    {
     "name": "stderr",
     "output_type": "stream",
     "text": [
      "yt : [INFO     ] 2023-01-31 11:50:15,956 Parameters: current_time              = 1.7253332459003455e-09\n",
      "yt : [INFO     ] 2023-01-31 11:50:15,957 Parameters: domain_dimensions         = [256  64 256]\n",
      "yt : [INFO     ] 2023-01-31 11:50:15,958 Parameters: domain_left_edge          = [0. 0. 0.]\n",
      "yt : [INFO     ] 2023-01-31 11:50:15,959 Parameters: domain_right_edge         = [2.636e-06 6.590e-07 2.636e-06]\n"
     ]
    },
    {
     "name": "stdout",
     "output_type": "stream",
     "text": [
      "~/nerscProject/dladiges/visctest100/1250partSC/CPU40/plt000018000/\n"
     ]
    },
    {
     "name": "stderr",
     "output_type": "stream",
     "text": [
      "yt : [INFO     ] 2023-01-31 11:50:23,017 Parameters: current_time              = 1.7253332459003455e-09\n",
      "yt : [INFO     ] 2023-01-31 11:50:23,018 Parameters: domain_dimensions         = [256  64 256]\n",
      "yt : [INFO     ] 2023-01-31 11:50:23,018 Parameters: domain_left_edge          = [0. 0. 0.]\n",
      "yt : [INFO     ] 2023-01-31 11:50:23,019 Parameters: domain_right_edge         = [2.636e-06 6.590e-07 2.636e-06]\n"
     ]
    },
    {
     "name": "stdout",
     "output_type": "stream",
     "text": [
      "~/nerscProject/dladiges/visctest100/1250partSC/CPU41/plt000018000/\n"
     ]
    },
    {
     "name": "stderr",
     "output_type": "stream",
     "text": [
      "yt : [INFO     ] 2023-01-31 11:50:30,288 Parameters: current_time              = 1.7253332459003455e-09\n",
      "yt : [INFO     ] 2023-01-31 11:50:30,289 Parameters: domain_dimensions         = [256  64 256]\n",
      "yt : [INFO     ] 2023-01-31 11:50:30,290 Parameters: domain_left_edge          = [0. 0. 0.]\n",
      "yt : [INFO     ] 2023-01-31 11:50:30,292 Parameters: domain_right_edge         = [2.636e-06 6.590e-07 2.636e-06]\n"
     ]
    },
    {
     "name": "stdout",
     "output_type": "stream",
     "text": [
      "~/nerscProject/dladiges/visctest100/1250partSC/CPU42/plt000018000/\n"
     ]
    },
    {
     "name": "stderr",
     "output_type": "stream",
     "text": [
      "yt : [INFO     ] 2023-01-31 11:50:38,427 Parameters: current_time              = 1.7253332459003455e-09\n",
      "yt : [INFO     ] 2023-01-31 11:50:38,428 Parameters: domain_dimensions         = [256  64 256]\n",
      "yt : [INFO     ] 2023-01-31 11:50:38,429 Parameters: domain_left_edge          = [0. 0. 0.]\n",
      "yt : [INFO     ] 2023-01-31 11:50:38,430 Parameters: domain_right_edge         = [2.636e-06 6.590e-07 2.636e-06]\n"
     ]
    },
    {
     "name": "stdout",
     "output_type": "stream",
     "text": [
      "~/nerscProject/dladiges/visctest100/1250partSC/CPU43/plt000018000/\n"
     ]
    },
    {
     "name": "stderr",
     "output_type": "stream",
     "text": [
      "yt : [INFO     ] 2023-01-31 11:50:45,611 Parameters: current_time              = 1.7253332459003455e-09\n",
      "yt : [INFO     ] 2023-01-31 11:50:45,613 Parameters: domain_dimensions         = [256  64 256]\n",
      "yt : [INFO     ] 2023-01-31 11:50:45,614 Parameters: domain_left_edge          = [0. 0. 0.]\n",
      "yt : [INFO     ] 2023-01-31 11:50:45,615 Parameters: domain_right_edge         = [2.636e-06 6.590e-07 2.636e-06]\n"
     ]
    },
    {
     "name": "stdout",
     "output_type": "stream",
     "text": [
      "~/nerscProject/dladiges/visctest100/1250partSC/CPU44/plt000018000/\n"
     ]
    },
    {
     "name": "stderr",
     "output_type": "stream",
     "text": [
      "yt : [INFO     ] 2023-01-31 11:50:52,623 Parameters: current_time              = 1.7253332459003455e-09\n",
      "yt : [INFO     ] 2023-01-31 11:50:52,625 Parameters: domain_dimensions         = [256  64 256]\n",
      "yt : [INFO     ] 2023-01-31 11:50:52,626 Parameters: domain_left_edge          = [0. 0. 0.]\n",
      "yt : [INFO     ] 2023-01-31 11:50:52,627 Parameters: domain_right_edge         = [2.636e-06 6.590e-07 2.636e-06]\n"
     ]
    },
    {
     "name": "stdout",
     "output_type": "stream",
     "text": [
      "~/nerscProject/dladiges/visctest100/1250partSC/CPU45/plt000018000/\n"
     ]
    },
    {
     "name": "stderr",
     "output_type": "stream",
     "text": [
      "yt : [INFO     ] 2023-01-31 11:50:59,484 Parameters: current_time              = 1.7253332459003455e-09\n",
      "yt : [INFO     ] 2023-01-31 11:50:59,486 Parameters: domain_dimensions         = [256  64 256]\n",
      "yt : [INFO     ] 2023-01-31 11:50:59,487 Parameters: domain_left_edge          = [0. 0. 0.]\n",
      "yt : [INFO     ] 2023-01-31 11:50:59,488 Parameters: domain_right_edge         = [2.636e-06 6.590e-07 2.636e-06]\n"
     ]
    },
    {
     "name": "stdout",
     "output_type": "stream",
     "text": [
      "~/nerscProject/dladiges/visctest100/1250partSC/CPU46/plt000018000/\n"
     ]
    },
    {
     "name": "stderr",
     "output_type": "stream",
     "text": [
      "yt : [INFO     ] 2023-01-31 11:51:06,745 Parameters: current_time              = 1.7253332459003455e-09\n",
      "yt : [INFO     ] 2023-01-31 11:51:06,746 Parameters: domain_dimensions         = [256  64 256]\n",
      "yt : [INFO     ] 2023-01-31 11:51:06,747 Parameters: domain_left_edge          = [0. 0. 0.]\n",
      "yt : [INFO     ] 2023-01-31 11:51:06,748 Parameters: domain_right_edge         = [2.636e-06 6.590e-07 2.636e-06]\n"
     ]
    },
    {
     "name": "stdout",
     "output_type": "stream",
     "text": [
      "~/nerscProject/dladiges/visctest100/1250partSC/CPU47/plt000018000/\n"
     ]
    },
    {
     "name": "stderr",
     "output_type": "stream",
     "text": [
      "yt : [INFO     ] 2023-01-31 11:51:14,052 Parameters: current_time              = 1.7253332459003455e-09\n",
      "yt : [INFO     ] 2023-01-31 11:51:14,054 Parameters: domain_dimensions         = [256  64 256]\n",
      "yt : [INFO     ] 2023-01-31 11:51:14,055 Parameters: domain_left_edge          = [0. 0. 0.]\n",
      "yt : [INFO     ] 2023-01-31 11:51:14,056 Parameters: domain_right_edge         = [2.636e-06 6.590e-07 2.636e-06]\n"
     ]
    },
    {
     "name": "stdout",
     "output_type": "stream",
     "text": [
      "~/nerscProject/dladiges/visctest100/1250partSC/CPU48/plt000018000/\n"
     ]
    },
    {
     "name": "stderr",
     "output_type": "stream",
     "text": [
      "yt : [INFO     ] 2023-01-31 11:51:21,090 Parameters: current_time              = 1.7253332459003455e-09\n",
      "yt : [INFO     ] 2023-01-31 11:51:21,091 Parameters: domain_dimensions         = [256  64 256]\n",
      "yt : [INFO     ] 2023-01-31 11:51:21,092 Parameters: domain_left_edge          = [0. 0. 0.]\n",
      "yt : [INFO     ] 2023-01-31 11:51:21,093 Parameters: domain_right_edge         = [2.636e-06 6.590e-07 2.636e-06]\n"
     ]
    },
    {
     "name": "stdout",
     "output_type": "stream",
     "text": [
      "~/nerscProject/dladiges/visctest100/1250partSC/CPU49/plt000018000/\n"
     ]
    },
    {
     "name": "stderr",
     "output_type": "stream",
     "text": [
      "yt : [INFO     ] 2023-01-31 11:51:28,214 Parameters: current_time              = 1.7253332459003455e-09\n",
      "yt : [INFO     ] 2023-01-31 11:51:28,215 Parameters: domain_dimensions         = [256  64 256]\n",
      "yt : [INFO     ] 2023-01-31 11:51:28,216 Parameters: domain_left_edge          = [0. 0. 0.]\n",
      "yt : [INFO     ] 2023-01-31 11:51:28,217 Parameters: domain_right_edge         = [2.636e-06 6.590e-07 2.636e-06]\n"
     ]
    },
    {
     "name": "stdout",
     "output_type": "stream",
     "text": [
      "~/nerscProject/dladiges/visctest100/1250partSC/CPU50/plt000018000/\n"
     ]
    },
    {
     "name": "stderr",
     "output_type": "stream",
     "text": [
      "yt : [INFO     ] 2023-01-31 11:51:35,483 Parameters: current_time              = 1.7253332459003455e-09\n",
      "yt : [INFO     ] 2023-01-31 11:51:35,485 Parameters: domain_dimensions         = [256  64 256]\n",
      "yt : [INFO     ] 2023-01-31 11:51:35,486 Parameters: domain_left_edge          = [0. 0. 0.]\n",
      "yt : [INFO     ] 2023-01-31 11:51:35,487 Parameters: domain_right_edge         = [2.636e-06 6.590e-07 2.636e-06]\n"
     ]
    },
    {
     "name": "stdout",
     "output_type": "stream",
     "text": [
      "~/nerscProject/dladiges/visctest100/1250partSC/CPU51/plt000018000/\n"
     ]
    },
    {
     "name": "stderr",
     "output_type": "stream",
     "text": [
      "yt : [INFO     ] 2023-01-31 11:51:42,560 Parameters: current_time              = 1.7253332459003455e-09\n",
      "yt : [INFO     ] 2023-01-31 11:51:42,562 Parameters: domain_dimensions         = [256  64 256]\n",
      "yt : [INFO     ] 2023-01-31 11:51:42,563 Parameters: domain_left_edge          = [0. 0. 0.]\n",
      "yt : [INFO     ] 2023-01-31 11:51:42,564 Parameters: domain_right_edge         = [2.636e-06 6.590e-07 2.636e-06]\n"
     ]
    },
    {
     "name": "stdout",
     "output_type": "stream",
     "text": [
      "~/nerscProject/dladiges/visctest100/1250partSC/CPU52/plt000018000/\n"
     ]
    },
    {
     "name": "stderr",
     "output_type": "stream",
     "text": [
      "yt : [INFO     ] 2023-01-31 11:51:49,450 Parameters: current_time              = 1.7253332459003455e-09\n",
      "yt : [INFO     ] 2023-01-31 11:51:49,451 Parameters: domain_dimensions         = [256  64 256]\n",
      "yt : [INFO     ] 2023-01-31 11:51:49,452 Parameters: domain_left_edge          = [0. 0. 0.]\n",
      "yt : [INFO     ] 2023-01-31 11:51:49,453 Parameters: domain_right_edge         = [2.636e-06 6.590e-07 2.636e-06]\n"
     ]
    },
    {
     "name": "stdout",
     "output_type": "stream",
     "text": [
      "~/nerscProject/dladiges/visctest100/1250partSC/CPU53/plt000018000/\n"
     ]
    },
    {
     "name": "stderr",
     "output_type": "stream",
     "text": [
      "yt : [INFO     ] 2023-01-31 11:51:57,592 Parameters: current_time              = 1.7253332459003455e-09\n",
      "yt : [INFO     ] 2023-01-31 11:51:57,593 Parameters: domain_dimensions         = [256  64 256]\n",
      "yt : [INFO     ] 2023-01-31 11:51:57,594 Parameters: domain_left_edge          = [0. 0. 0.]\n",
      "yt : [INFO     ] 2023-01-31 11:51:57,595 Parameters: domain_right_edge         = [2.636e-06 6.590e-07 2.636e-06]\n"
     ]
    },
    {
     "name": "stdout",
     "output_type": "stream",
     "text": [
      "~/nerscProject/dladiges/visctest100/1250partSC/CPU54/plt000018000/\n"
     ]
    },
    {
     "name": "stderr",
     "output_type": "stream",
     "text": [
      "yt : [INFO     ] 2023-01-31 11:52:04,716 Parameters: current_time              = 1.7253332459003455e-09\n",
      "yt : [INFO     ] 2023-01-31 11:52:04,718 Parameters: domain_dimensions         = [256  64 256]\n",
      "yt : [INFO     ] 2023-01-31 11:52:04,719 Parameters: domain_left_edge          = [0. 0. 0.]\n",
      "yt : [INFO     ] 2023-01-31 11:52:04,720 Parameters: domain_right_edge         = [2.636e-06 6.590e-07 2.636e-06]\n"
     ]
    },
    {
     "name": "stdout",
     "output_type": "stream",
     "text": [
      "~/nerscProject/dladiges/visctest100/1250partSC/CPU55/plt000018000/\n"
     ]
    },
    {
     "name": "stderr",
     "output_type": "stream",
     "text": [
      "yt : [INFO     ] 2023-01-31 11:52:12,117 Parameters: current_time              = 1.7253332459003455e-09\n",
      "yt : [INFO     ] 2023-01-31 11:52:12,118 Parameters: domain_dimensions         = [256  64 256]\n",
      "yt : [INFO     ] 2023-01-31 11:52:12,119 Parameters: domain_left_edge          = [0. 0. 0.]\n",
      "yt : [INFO     ] 2023-01-31 11:52:12,120 Parameters: domain_right_edge         = [2.636e-06 6.590e-07 2.636e-06]\n"
     ]
    },
    {
     "name": "stdout",
     "output_type": "stream",
     "text": [
      "~/nerscProject/dladiges/visctest100/1250partSC/CPU56/plt000018000/\n"
     ]
    },
    {
     "name": "stderr",
     "output_type": "stream",
     "text": [
      "yt : [INFO     ] 2023-01-31 11:52:19,524 Parameters: current_time              = 1.7253332459003455e-09\n",
      "yt : [INFO     ] 2023-01-31 11:52:19,526 Parameters: domain_dimensions         = [256  64 256]\n",
      "yt : [INFO     ] 2023-01-31 11:52:19,527 Parameters: domain_left_edge          = [0. 0. 0.]\n",
      "yt : [INFO     ] 2023-01-31 11:52:19,528 Parameters: domain_right_edge         = [2.636e-06 6.590e-07 2.636e-06]\n"
     ]
    },
    {
     "name": "stdout",
     "output_type": "stream",
     "text": [
      "~/nerscProject/dladiges/visctest100/1250partSC/CPU57/plt000018000/\n"
     ]
    },
    {
     "name": "stderr",
     "output_type": "stream",
     "text": [
      "yt : [INFO     ] 2023-01-31 11:52:26,276 Parameters: current_time              = 1.7253332459003455e-09\n",
      "yt : [INFO     ] 2023-01-31 11:52:26,279 Parameters: domain_dimensions         = [256  64 256]\n",
      "yt : [INFO     ] 2023-01-31 11:52:26,280 Parameters: domain_left_edge          = [0. 0. 0.]\n",
      "yt : [INFO     ] 2023-01-31 11:52:26,280 Parameters: domain_right_edge         = [2.636e-06 6.590e-07 2.636e-06]\n"
     ]
    },
    {
     "name": "stdout",
     "output_type": "stream",
     "text": [
      "~/nerscProject/dladiges/visctest100/1250partSC/CPU58/plt000018000/\n"
     ]
    },
    {
     "name": "stderr",
     "output_type": "stream",
     "text": [
      "yt : [INFO     ] 2023-01-31 11:52:33,577 Parameters: current_time              = 1.7253332459003455e-09\n",
      "yt : [INFO     ] 2023-01-31 11:52:33,578 Parameters: domain_dimensions         = [256  64 256]\n",
      "yt : [INFO     ] 2023-01-31 11:52:33,580 Parameters: domain_left_edge          = [0. 0. 0.]\n",
      "yt : [INFO     ] 2023-01-31 11:52:33,581 Parameters: domain_right_edge         = [2.636e-06 6.590e-07 2.636e-06]\n"
     ]
    },
    {
     "name": "stdout",
     "output_type": "stream",
     "text": [
      "~/nerscProject/dladiges/visctest100/1250partSC/CPU59/plt000018000/\n"
     ]
    },
    {
     "name": "stderr",
     "output_type": "stream",
     "text": [
      "yt : [INFO     ] 2023-01-31 11:52:40,674 Parameters: current_time              = 1.7253332459003455e-09\n",
      "yt : [INFO     ] 2023-01-31 11:52:40,675 Parameters: domain_dimensions         = [256  64 256]\n",
      "yt : [INFO     ] 2023-01-31 11:52:40,676 Parameters: domain_left_edge          = [0. 0. 0.]\n",
      "yt : [INFO     ] 2023-01-31 11:52:40,677 Parameters: domain_right_edge         = [2.636e-06 6.590e-07 2.636e-06]\n"
     ]
    },
    {
     "name": "stdout",
     "output_type": "stream",
     "text": [
      "~/nerscProject/dladiges/visctest100/1250partSC/CPU60/plt000018000/\n"
     ]
    },
    {
     "name": "stderr",
     "output_type": "stream",
     "text": [
      "yt : [INFO     ] 2023-01-31 11:52:47,623 Parameters: current_time              = 1.7253332459003455e-09\n",
      "yt : [INFO     ] 2023-01-31 11:52:47,624 Parameters: domain_dimensions         = [256  64 256]\n",
      "yt : [INFO     ] 2023-01-31 11:52:47,625 Parameters: domain_left_edge          = [0. 0. 0.]\n",
      "yt : [INFO     ] 2023-01-31 11:52:47,626 Parameters: domain_right_edge         = [2.636e-06 6.590e-07 2.636e-06]\n"
     ]
    },
    {
     "name": "stdout",
     "output_type": "stream",
     "text": [
      "~/nerscProject/dladiges/visctest100/1250partSC/CPU61/plt000018000/\n"
     ]
    },
    {
     "name": "stderr",
     "output_type": "stream",
     "text": [
      "yt : [INFO     ] 2023-01-31 11:52:55,009 Parameters: current_time              = 1.7253332459003455e-09\n",
      "yt : [INFO     ] 2023-01-31 11:52:55,010 Parameters: domain_dimensions         = [256  64 256]\n",
      "yt : [INFO     ] 2023-01-31 11:52:55,012 Parameters: domain_left_edge          = [0. 0. 0.]\n",
      "yt : [INFO     ] 2023-01-31 11:52:55,013 Parameters: domain_right_edge         = [2.636e-06 6.590e-07 2.636e-06]\n"
     ]
    },
    {
     "name": "stdout",
     "output_type": "stream",
     "text": [
      "~/nerscProject/dladiges/visctest100/1250partSC/CPU62/plt000018000/\n"
     ]
    },
    {
     "name": "stderr",
     "output_type": "stream",
     "text": [
      "yt : [INFO     ] 2023-01-31 11:53:02,110 Parameters: current_time              = 1.7253332459003455e-09\n",
      "yt : [INFO     ] 2023-01-31 11:53:02,112 Parameters: domain_dimensions         = [256  64 256]\n",
      "yt : [INFO     ] 2023-01-31 11:53:02,113 Parameters: domain_left_edge          = [0. 0. 0.]\n",
      "yt : [INFO     ] 2023-01-31 11:53:02,114 Parameters: domain_right_edge         = [2.636e-06 6.590e-07 2.636e-06]\n"
     ]
    },
    {
     "name": "stdout",
     "output_type": "stream",
     "text": [
      "~/nerscProject/dladiges/visctest100/1250partSC/CPU63/plt000018000/\n"
     ]
    },
    {
     "name": "stderr",
     "output_type": "stream",
     "text": [
      "yt : [INFO     ] 2023-01-31 11:53:08,962 Parameters: current_time              = 1.7253332459003455e-09\n",
      "yt : [INFO     ] 2023-01-31 11:53:08,963 Parameters: domain_dimensions         = [256  64 256]\n",
      "yt : [INFO     ] 2023-01-31 11:53:08,964 Parameters: domain_left_edge          = [0. 0. 0.]\n",
      "yt : [INFO     ] 2023-01-31 11:53:08,965 Parameters: domain_right_edge         = [2.636e-06 6.590e-07 2.636e-06]\n"
     ]
    }
   ],
   "source": [
    "data = \"~/nerscProject/dladiges/visctest100/1250partSC/CPU\"\n",
    "time = \"/plt0000\"+\"18000/\"\n",
    "bins = 64\n",
    "ens= 64\n",
    "yall1250 = np.zeros((ens,bins))\n",
    "i=0\n",
    "for i in range(ens):\n",
    "    stri = data + str(i).zfill(2)\n",
    "    xt, yall1250[i] = return_y_plt(stri,time,nbins=bins,field=\"averaged_meanx\")"
   ]
  },
  {
   "cell_type": "code",
   "execution_count": 46,
   "id": "e588f552-dc5f-4b2b-883a-e1ea53561e45",
   "metadata": {},
   "outputs": [
    {
     "name": "stdout",
     "output_type": "stream",
     "text": [
      "~/nerscProject/dladiges/visctest100/2500partSC/CPU00/plt000018000/\n"
     ]
    },
    {
     "name": "stderr",
     "output_type": "stream",
     "text": [
      "yt : [INFO     ] 2023-01-31 13:55:28,783 Parameters: current_time              = 1.7253332459003455e-09\n",
      "yt : [INFO     ] 2023-01-31 13:55:28,784 Parameters: domain_dimensions         = [256  64 256]\n",
      "yt : [INFO     ] 2023-01-31 13:55:28,785 Parameters: domain_left_edge          = [0. 0. 0.]\n",
      "yt : [INFO     ] 2023-01-31 13:55:28,785 Parameters: domain_right_edge         = [2.636e-06 6.590e-07 2.636e-06]\n"
     ]
    },
    {
     "name": "stdout",
     "output_type": "stream",
     "text": [
      "~/nerscProject/dladiges/visctest100/2500partSC/CPU01/plt000018000/\n"
     ]
    },
    {
     "name": "stderr",
     "output_type": "stream",
     "text": [
      "yt : [INFO     ] 2023-01-31 13:55:32,544 Parameters: current_time              = 1.7253332459003455e-09\n",
      "yt : [INFO     ] 2023-01-31 13:55:32,546 Parameters: domain_dimensions         = [256  64 256]\n",
      "yt : [INFO     ] 2023-01-31 13:55:32,547 Parameters: domain_left_edge          = [0. 0. 0.]\n",
      "yt : [INFO     ] 2023-01-31 13:55:32,548 Parameters: domain_right_edge         = [2.636e-06 6.590e-07 2.636e-06]\n"
     ]
    },
    {
     "name": "stdout",
     "output_type": "stream",
     "text": [
      "~/nerscProject/dladiges/visctest100/2500partSC/CPU02/plt000018000/\n"
     ]
    },
    {
     "name": "stderr",
     "output_type": "stream",
     "text": [
      "yt : [INFO     ] 2023-01-31 13:55:40,579 Parameters: current_time              = 1.7253332459003455e-09\n",
      "yt : [INFO     ] 2023-01-31 13:55:40,581 Parameters: domain_dimensions         = [256  64 256]\n",
      "yt : [INFO     ] 2023-01-31 13:55:40,582 Parameters: domain_left_edge          = [0. 0. 0.]\n",
      "yt : [INFO     ] 2023-01-31 13:55:40,583 Parameters: domain_right_edge         = [2.636e-06 6.590e-07 2.636e-06]\n"
     ]
    },
    {
     "name": "stdout",
     "output_type": "stream",
     "text": [
      "~/nerscProject/dladiges/visctest100/2500partSC/CPU03/plt000018000/\n"
     ]
    },
    {
     "name": "stderr",
     "output_type": "stream",
     "text": [
      "yt : [INFO     ] 2023-01-31 13:55:49,127 Parameters: current_time              = 1.7253332459003455e-09\n",
      "yt : [INFO     ] 2023-01-31 13:55:49,129 Parameters: domain_dimensions         = [256  64 256]\n",
      "yt : [INFO     ] 2023-01-31 13:55:49,130 Parameters: domain_left_edge          = [0. 0. 0.]\n",
      "yt : [INFO     ] 2023-01-31 13:55:49,131 Parameters: domain_right_edge         = [2.636e-06 6.590e-07 2.636e-06]\n"
     ]
    },
    {
     "name": "stdout",
     "output_type": "stream",
     "text": [
      "~/nerscProject/dladiges/visctest100/2500partSC/CPU04/plt000018000/\n"
     ]
    },
    {
     "name": "stderr",
     "output_type": "stream",
     "text": [
      "yt : [INFO     ] 2023-01-31 13:55:57,298 Parameters: current_time              = 1.7253332459003455e-09\n",
      "yt : [INFO     ] 2023-01-31 13:55:57,299 Parameters: domain_dimensions         = [256  64 256]\n",
      "yt : [INFO     ] 2023-01-31 13:55:57,300 Parameters: domain_left_edge          = [0. 0. 0.]\n",
      "yt : [INFO     ] 2023-01-31 13:55:57,302 Parameters: domain_right_edge         = [2.636e-06 6.590e-07 2.636e-06]\n"
     ]
    },
    {
     "name": "stdout",
     "output_type": "stream",
     "text": [
      "~/nerscProject/dladiges/visctest100/2500partSC/CPU05/plt000018000/\n"
     ]
    },
    {
     "name": "stderr",
     "output_type": "stream",
     "text": [
      "yt : [INFO     ] 2023-01-31 13:56:05,445 Parameters: current_time              = 1.7253332459003455e-09\n",
      "yt : [INFO     ] 2023-01-31 13:56:05,445 Parameters: domain_dimensions         = [256  64 256]\n",
      "yt : [INFO     ] 2023-01-31 13:56:05,446 Parameters: domain_left_edge          = [0. 0. 0.]\n",
      "yt : [INFO     ] 2023-01-31 13:56:05,447 Parameters: domain_right_edge         = [2.636e-06 6.590e-07 2.636e-06]\n"
     ]
    },
    {
     "name": "stdout",
     "output_type": "stream",
     "text": [
      "~/nerscProject/dladiges/visctest100/2500partSC/CPU06/plt000018000/\n"
     ]
    },
    {
     "name": "stderr",
     "output_type": "stream",
     "text": [
      "yt : [INFO     ] 2023-01-31 13:56:13,746 Parameters: current_time              = 1.7253332459003455e-09\n",
      "yt : [INFO     ] 2023-01-31 13:56:13,748 Parameters: domain_dimensions         = [256  64 256]\n",
      "yt : [INFO     ] 2023-01-31 13:56:13,749 Parameters: domain_left_edge          = [0. 0. 0.]\n",
      "yt : [INFO     ] 2023-01-31 13:56:13,750 Parameters: domain_right_edge         = [2.636e-06 6.590e-07 2.636e-06]\n"
     ]
    },
    {
     "name": "stdout",
     "output_type": "stream",
     "text": [
      "~/nerscProject/dladiges/visctest100/2500partSC/CPU07/plt000018000/\n"
     ]
    },
    {
     "name": "stderr",
     "output_type": "stream",
     "text": [
      "yt : [INFO     ] 2023-01-31 13:56:22,618 Parameters: current_time              = 1.7253332459003455e-09\n",
      "yt : [INFO     ] 2023-01-31 13:56:22,619 Parameters: domain_dimensions         = [256  64 256]\n",
      "yt : [INFO     ] 2023-01-31 13:56:22,620 Parameters: domain_left_edge          = [0. 0. 0.]\n",
      "yt : [INFO     ] 2023-01-31 13:56:22,621 Parameters: domain_right_edge         = [2.636e-06 6.590e-07 2.636e-06]\n"
     ]
    },
    {
     "name": "stdout",
     "output_type": "stream",
     "text": [
      "~/nerscProject/dladiges/visctest100/2500partSC/CPU08/plt000018000/\n"
     ]
    },
    {
     "name": "stderr",
     "output_type": "stream",
     "text": [
      "yt : [INFO     ] 2023-01-31 13:56:31,515 Parameters: current_time              = 1.7253332459003455e-09\n",
      "yt : [INFO     ] 2023-01-31 13:56:31,515 Parameters: domain_dimensions         = [256  64 256]\n",
      "yt : [INFO     ] 2023-01-31 13:56:31,516 Parameters: domain_left_edge          = [0. 0. 0.]\n",
      "yt : [INFO     ] 2023-01-31 13:56:31,517 Parameters: domain_right_edge         = [2.636e-06 6.590e-07 2.636e-06]\n"
     ]
    },
    {
     "name": "stdout",
     "output_type": "stream",
     "text": [
      "~/nerscProject/dladiges/visctest100/2500partSC/CPU09/plt000018000/\n"
     ]
    },
    {
     "name": "stderr",
     "output_type": "stream",
     "text": [
      "yt : [INFO     ] 2023-01-31 13:56:39,633 Parameters: current_time              = 1.7253332459003455e-09\n",
      "yt : [INFO     ] 2023-01-31 13:56:39,634 Parameters: domain_dimensions         = [256  64 256]\n",
      "yt : [INFO     ] 2023-01-31 13:56:39,635 Parameters: domain_left_edge          = [0. 0. 0.]\n",
      "yt : [INFO     ] 2023-01-31 13:56:39,636 Parameters: domain_right_edge         = [2.636e-06 6.590e-07 2.636e-06]\n"
     ]
    },
    {
     "name": "stdout",
     "output_type": "stream",
     "text": [
      "~/nerscProject/dladiges/visctest100/2500partSC/CPU10/plt000018000/\n"
     ]
    },
    {
     "name": "stderr",
     "output_type": "stream",
     "text": [
      "yt : [INFO     ] 2023-01-31 13:56:47,795 Parameters: current_time              = 1.7253332459003455e-09\n",
      "yt : [INFO     ] 2023-01-31 13:56:47,797 Parameters: domain_dimensions         = [256  64 256]\n",
      "yt : [INFO     ] 2023-01-31 13:56:47,798 Parameters: domain_left_edge          = [0. 0. 0.]\n",
      "yt : [INFO     ] 2023-01-31 13:56:47,799 Parameters: domain_right_edge         = [2.636e-06 6.590e-07 2.636e-06]\n"
     ]
    },
    {
     "name": "stdout",
     "output_type": "stream",
     "text": [
      "~/nerscProject/dladiges/visctest100/2500partSC/CPU11/plt000018000/\n"
     ]
    },
    {
     "name": "stderr",
     "output_type": "stream",
     "text": [
      "yt : [INFO     ] 2023-01-31 13:56:52,611 Parameters: current_time              = 1.7253332459003455e-09\n",
      "yt : [INFO     ] 2023-01-31 13:56:52,612 Parameters: domain_dimensions         = [256  64 256]\n",
      "yt : [INFO     ] 2023-01-31 13:56:52,613 Parameters: domain_left_edge          = [0. 0. 0.]\n",
      "yt : [INFO     ] 2023-01-31 13:56:52,614 Parameters: domain_right_edge         = [2.636e-06 6.590e-07 2.636e-06]\n"
     ]
    },
    {
     "name": "stdout",
     "output_type": "stream",
     "text": [
      "~/nerscProject/dladiges/visctest100/2500partSC/CPU12/plt000018000/\n"
     ]
    },
    {
     "name": "stderr",
     "output_type": "stream",
     "text": [
      "yt : [INFO     ] 2023-01-31 13:57:01,198 Parameters: current_time              = 1.7253332459003455e-09\n",
      "yt : [INFO     ] 2023-01-31 13:57:01,200 Parameters: domain_dimensions         = [256  64 256]\n",
      "yt : [INFO     ] 2023-01-31 13:57:01,201 Parameters: domain_left_edge          = [0. 0. 0.]\n",
      "yt : [INFO     ] 2023-01-31 13:57:01,203 Parameters: domain_right_edge         = [2.636e-06 6.590e-07 2.636e-06]\n"
     ]
    },
    {
     "name": "stdout",
     "output_type": "stream",
     "text": [
      "~/nerscProject/dladiges/visctest100/2500partSC/CPU13/plt000018000/\n"
     ]
    },
    {
     "name": "stderr",
     "output_type": "stream",
     "text": [
      "yt : [INFO     ] 2023-01-31 13:57:09,392 Parameters: current_time              = 1.7253332459003455e-09\n",
      "yt : [INFO     ] 2023-01-31 13:57:09,394 Parameters: domain_dimensions         = [256  64 256]\n",
      "yt : [INFO     ] 2023-01-31 13:57:09,395 Parameters: domain_left_edge          = [0. 0. 0.]\n",
      "yt : [INFO     ] 2023-01-31 13:57:09,396 Parameters: domain_right_edge         = [2.636e-06 6.590e-07 2.636e-06]\n"
     ]
    },
    {
     "name": "stdout",
     "output_type": "stream",
     "text": [
      "~/nerscProject/dladiges/visctest100/2500partSC/CPU14/plt000018000/\n"
     ]
    },
    {
     "name": "stderr",
     "output_type": "stream",
     "text": [
      "yt : [INFO     ] 2023-01-31 13:57:17,573 Parameters: current_time              = 1.7253332459003455e-09\n",
      "yt : [INFO     ] 2023-01-31 13:57:17,574 Parameters: domain_dimensions         = [256  64 256]\n",
      "yt : [INFO     ] 2023-01-31 13:57:17,575 Parameters: domain_left_edge          = [0. 0. 0.]\n",
      "yt : [INFO     ] 2023-01-31 13:57:17,576 Parameters: domain_right_edge         = [2.636e-06 6.590e-07 2.636e-06]\n"
     ]
    },
    {
     "name": "stdout",
     "output_type": "stream",
     "text": [
      "~/nerscProject/dladiges/visctest100/2500partSC/CPU15/plt000018000/\n"
     ]
    },
    {
     "name": "stderr",
     "output_type": "stream",
     "text": [
      "yt : [INFO     ] 2023-01-31 13:57:26,083 Parameters: current_time              = 1.7253332459003455e-09\n",
      "yt : [INFO     ] 2023-01-31 13:57:26,084 Parameters: domain_dimensions         = [256  64 256]\n",
      "yt : [INFO     ] 2023-01-31 13:57:26,085 Parameters: domain_left_edge          = [0. 0. 0.]\n",
      "yt : [INFO     ] 2023-01-31 13:57:26,086 Parameters: domain_right_edge         = [2.636e-06 6.590e-07 2.636e-06]\n"
     ]
    },
    {
     "name": "stdout",
     "output_type": "stream",
     "text": [
      "~/nerscProject/dladiges/visctest100/2500partSC/CPU16/plt000018000/\n"
     ]
    },
    {
     "name": "stderr",
     "output_type": "stream",
     "text": [
      "yt : [INFO     ] 2023-01-31 13:57:34,819 Parameters: current_time              = 1.7253332459003455e-09\n",
      "yt : [INFO     ] 2023-01-31 13:57:34,820 Parameters: domain_dimensions         = [256  64 256]\n",
      "yt : [INFO     ] 2023-01-31 13:57:34,821 Parameters: domain_left_edge          = [0. 0. 0.]\n",
      "yt : [INFO     ] 2023-01-31 13:57:34,822 Parameters: domain_right_edge         = [2.636e-06 6.590e-07 2.636e-06]\n"
     ]
    },
    {
     "name": "stdout",
     "output_type": "stream",
     "text": [
      "~/nerscProject/dladiges/visctest100/2500partSC/CPU17/plt000018000/\n"
     ]
    },
    {
     "name": "stderr",
     "output_type": "stream",
     "text": [
      "yt : [INFO     ] 2023-01-31 13:57:43,457 Parameters: current_time              = 1.7253332459003455e-09\n",
      "yt : [INFO     ] 2023-01-31 13:57:43,459 Parameters: domain_dimensions         = [256  64 256]\n",
      "yt : [INFO     ] 2023-01-31 13:57:43,460 Parameters: domain_left_edge          = [0. 0. 0.]\n",
      "yt : [INFO     ] 2023-01-31 13:57:43,461 Parameters: domain_right_edge         = [2.636e-06 6.590e-07 2.636e-06]\n"
     ]
    },
    {
     "name": "stdout",
     "output_type": "stream",
     "text": [
      "~/nerscProject/dladiges/visctest100/2500partSC/CPU18/plt000018000/\n"
     ]
    },
    {
     "name": "stderr",
     "output_type": "stream",
     "text": [
      "yt : [INFO     ] 2023-01-31 13:57:52,023 Parameters: current_time              = 1.7253332459003455e-09\n",
      "yt : [INFO     ] 2023-01-31 13:57:52,024 Parameters: domain_dimensions         = [256  64 256]\n",
      "yt : [INFO     ] 2023-01-31 13:57:52,024 Parameters: domain_left_edge          = [0. 0. 0.]\n",
      "yt : [INFO     ] 2023-01-31 13:57:52,025 Parameters: domain_right_edge         = [2.636e-06 6.590e-07 2.636e-06]\n"
     ]
    },
    {
     "name": "stdout",
     "output_type": "stream",
     "text": [
      "~/nerscProject/dladiges/visctest100/2500partSC/CPU19/plt000018000/\n"
     ]
    },
    {
     "name": "stderr",
     "output_type": "stream",
     "text": [
      "yt : [INFO     ] 2023-01-31 13:58:00,666 Parameters: current_time              = 1.7253332459003455e-09\n",
      "yt : [INFO     ] 2023-01-31 13:58:00,667 Parameters: domain_dimensions         = [256  64 256]\n",
      "yt : [INFO     ] 2023-01-31 13:58:00,668 Parameters: domain_left_edge          = [0. 0. 0.]\n",
      "yt : [INFO     ] 2023-01-31 13:58:00,669 Parameters: domain_right_edge         = [2.636e-06 6.590e-07 2.636e-06]\n"
     ]
    },
    {
     "name": "stdout",
     "output_type": "stream",
     "text": [
      "~/nerscProject/dladiges/visctest100/2500partSC/CPU20/plt000018000/\n"
     ]
    },
    {
     "name": "stderr",
     "output_type": "stream",
     "text": [
      "yt : [INFO     ] 2023-01-31 13:58:09,464 Parameters: current_time              = 1.7253332459003455e-09\n",
      "yt : [INFO     ] 2023-01-31 13:58:09,465 Parameters: domain_dimensions         = [256  64 256]\n",
      "yt : [INFO     ] 2023-01-31 13:58:09,466 Parameters: domain_left_edge          = [0. 0. 0.]\n",
      "yt : [INFO     ] 2023-01-31 13:58:09,467 Parameters: domain_right_edge         = [2.636e-06 6.590e-07 2.636e-06]\n"
     ]
    },
    {
     "name": "stdout",
     "output_type": "stream",
     "text": [
      "~/nerscProject/dladiges/visctest100/2500partSC/CPU21/plt000018000/\n"
     ]
    },
    {
     "name": "stderr",
     "output_type": "stream",
     "text": [
      "yt : [INFO     ] 2023-01-31 13:58:17,612 Parameters: current_time              = 1.7253332459003455e-09\n",
      "yt : [INFO     ] 2023-01-31 13:58:17,613 Parameters: domain_dimensions         = [256  64 256]\n",
      "yt : [INFO     ] 2023-01-31 13:58:17,615 Parameters: domain_left_edge          = [0. 0. 0.]\n",
      "yt : [INFO     ] 2023-01-31 13:58:17,616 Parameters: domain_right_edge         = [2.636e-06 6.590e-07 2.636e-06]\n"
     ]
    },
    {
     "name": "stdout",
     "output_type": "stream",
     "text": [
      "~/nerscProject/dladiges/visctest100/2500partSC/CPU22/plt000018000/\n"
     ]
    },
    {
     "name": "stderr",
     "output_type": "stream",
     "text": [
      "yt : [INFO     ] 2023-01-31 13:58:26,505 Parameters: current_time              = 1.7253332459003455e-09\n",
      "yt : [INFO     ] 2023-01-31 13:58:26,506 Parameters: domain_dimensions         = [256  64 256]\n",
      "yt : [INFO     ] 2023-01-31 13:58:26,508 Parameters: domain_left_edge          = [0. 0. 0.]\n",
      "yt : [INFO     ] 2023-01-31 13:58:26,509 Parameters: domain_right_edge         = [2.636e-06 6.590e-07 2.636e-06]\n"
     ]
    },
    {
     "name": "stdout",
     "output_type": "stream",
     "text": [
      "~/nerscProject/dladiges/visctest100/2500partSC/CPU23/plt000018000/\n"
     ]
    },
    {
     "name": "stderr",
     "output_type": "stream",
     "text": [
      "yt : [INFO     ] 2023-01-31 13:58:35,467 Parameters: current_time              = 1.7253332459003455e-09\n",
      "yt : [INFO     ] 2023-01-31 13:58:35,469 Parameters: domain_dimensions         = [256  64 256]\n",
      "yt : [INFO     ] 2023-01-31 13:58:35,470 Parameters: domain_left_edge          = [0. 0. 0.]\n",
      "yt : [INFO     ] 2023-01-31 13:58:35,471 Parameters: domain_right_edge         = [2.636e-06 6.590e-07 2.636e-06]\n"
     ]
    },
    {
     "name": "stdout",
     "output_type": "stream",
     "text": [
      "~/nerscProject/dladiges/visctest100/2500partSC/CPU24/plt000018000/\n"
     ]
    },
    {
     "name": "stderr",
     "output_type": "stream",
     "text": [
      "yt : [INFO     ] 2023-01-31 13:58:43,743 Parameters: current_time              = 1.7253332459003455e-09\n",
      "yt : [INFO     ] 2023-01-31 13:58:43,745 Parameters: domain_dimensions         = [256  64 256]\n",
      "yt : [INFO     ] 2023-01-31 13:58:43,746 Parameters: domain_left_edge          = [0. 0. 0.]\n",
      "yt : [INFO     ] 2023-01-31 13:58:43,747 Parameters: domain_right_edge         = [2.636e-06 6.590e-07 2.636e-06]\n"
     ]
    },
    {
     "name": "stdout",
     "output_type": "stream",
     "text": [
      "~/nerscProject/dladiges/visctest100/2500partSC/CPU25/plt000018000/\n"
     ]
    },
    {
     "name": "stderr",
     "output_type": "stream",
     "text": [
      "yt : [INFO     ] 2023-01-31 13:58:52,521 Parameters: current_time              = 1.7253332459003455e-09\n",
      "yt : [INFO     ] 2023-01-31 13:58:52,522 Parameters: domain_dimensions         = [256  64 256]\n",
      "yt : [INFO     ] 2023-01-31 13:58:52,522 Parameters: domain_left_edge          = [0. 0. 0.]\n",
      "yt : [INFO     ] 2023-01-31 13:58:52,523 Parameters: domain_right_edge         = [2.636e-06 6.590e-07 2.636e-06]\n"
     ]
    },
    {
     "name": "stdout",
     "output_type": "stream",
     "text": [
      "~/nerscProject/dladiges/visctest100/2500partSC/CPU26/plt000018000/\n"
     ]
    },
    {
     "name": "stderr",
     "output_type": "stream",
     "text": [
      "yt : [INFO     ] 2023-01-31 13:59:00,981 Parameters: current_time              = 1.7253332459003455e-09\n",
      "yt : [INFO     ] 2023-01-31 13:59:00,982 Parameters: domain_dimensions         = [256  64 256]\n",
      "yt : [INFO     ] 2023-01-31 13:59:00,983 Parameters: domain_left_edge          = [0. 0. 0.]\n",
      "yt : [INFO     ] 2023-01-31 13:59:00,984 Parameters: domain_right_edge         = [2.636e-06 6.590e-07 2.636e-06]\n"
     ]
    },
    {
     "name": "stdout",
     "output_type": "stream",
     "text": [
      "~/nerscProject/dladiges/visctest100/2500partSC/CPU27/plt000018000/\n"
     ]
    },
    {
     "name": "stderr",
     "output_type": "stream",
     "text": [
      "yt : [INFO     ] 2023-01-31 13:59:09,771 Parameters: current_time              = 1.7253332459003455e-09\n",
      "yt : [INFO     ] 2023-01-31 13:59:09,773 Parameters: domain_dimensions         = [256  64 256]\n",
      "yt : [INFO     ] 2023-01-31 13:59:09,775 Parameters: domain_left_edge          = [0. 0. 0.]\n",
      "yt : [INFO     ] 2023-01-31 13:59:09,776 Parameters: domain_right_edge         = [2.636e-06 6.590e-07 2.636e-06]\n"
     ]
    },
    {
     "name": "stdout",
     "output_type": "stream",
     "text": [
      "~/nerscProject/dladiges/visctest100/2500partSC/CPU28/plt000018000/\n"
     ]
    },
    {
     "name": "stderr",
     "output_type": "stream",
     "text": [
      "yt : [INFO     ] 2023-01-31 13:59:18,939 Parameters: current_time              = 1.7253332459003455e-09\n",
      "yt : [INFO     ] 2023-01-31 13:59:18,940 Parameters: domain_dimensions         = [256  64 256]\n",
      "yt : [INFO     ] 2023-01-31 13:59:18,941 Parameters: domain_left_edge          = [0. 0. 0.]\n",
      "yt : [INFO     ] 2023-01-31 13:59:18,943 Parameters: domain_right_edge         = [2.636e-06 6.590e-07 2.636e-06]\n"
     ]
    },
    {
     "name": "stdout",
     "output_type": "stream",
     "text": [
      "~/nerscProject/dladiges/visctest100/2500partSC/CPU29/plt000018000/\n"
     ]
    },
    {
     "name": "stderr",
     "output_type": "stream",
     "text": [
      "yt : [INFO     ] 2023-01-31 13:59:35,963 Parameters: current_time              = 1.7253332459003455e-09\n",
      "yt : [INFO     ] 2023-01-31 13:59:35,964 Parameters: domain_dimensions         = [256  64 256]\n",
      "yt : [INFO     ] 2023-01-31 13:59:35,966 Parameters: domain_left_edge          = [0. 0. 0.]\n",
      "yt : [INFO     ] 2023-01-31 13:59:35,967 Parameters: domain_right_edge         = [2.636e-06 6.590e-07 2.636e-06]\n"
     ]
    },
    {
     "name": "stdout",
     "output_type": "stream",
     "text": [
      "~/nerscProject/dladiges/visctest100/2500partSC/CPU30/plt000018000/\n"
     ]
    },
    {
     "name": "stderr",
     "output_type": "stream",
     "text": [
      "yt : [INFO     ] 2023-01-31 13:59:44,344 Parameters: current_time              = 1.7253332459003455e-09\n",
      "yt : [INFO     ] 2023-01-31 13:59:44,346 Parameters: domain_dimensions         = [256  64 256]\n",
      "yt : [INFO     ] 2023-01-31 13:59:44,347 Parameters: domain_left_edge          = [0. 0. 0.]\n",
      "yt : [INFO     ] 2023-01-31 13:59:44,348 Parameters: domain_right_edge         = [2.636e-06 6.590e-07 2.636e-06]\n"
     ]
    },
    {
     "name": "stdout",
     "output_type": "stream",
     "text": [
      "~/nerscProject/dladiges/visctest100/2500partSC/CPU31/plt000018000/\n"
     ]
    },
    {
     "name": "stderr",
     "output_type": "stream",
     "text": [
      "yt : [INFO     ] 2023-01-31 13:59:52,972 Parameters: current_time              = 1.7253332459003455e-09\n",
      "yt : [INFO     ] 2023-01-31 13:59:52,972 Parameters: domain_dimensions         = [256  64 256]\n",
      "yt : [INFO     ] 2023-01-31 13:59:52,973 Parameters: domain_left_edge          = [0. 0. 0.]\n",
      "yt : [INFO     ] 2023-01-31 13:59:52,975 Parameters: domain_right_edge         = [2.636e-06 6.590e-07 2.636e-06]\n"
     ]
    },
    {
     "name": "stdout",
     "output_type": "stream",
     "text": [
      "~/nerscProject/dladiges/visctest100/2500partSC/CPU32/plt000018000/\n"
     ]
    },
    {
     "name": "stderr",
     "output_type": "stream",
     "text": [
      "yt : [INFO     ] 2023-01-31 14:00:01,577 Parameters: current_time              = 1.7253332459003455e-09\n",
      "yt : [INFO     ] 2023-01-31 14:00:01,578 Parameters: domain_dimensions         = [256  64 256]\n",
      "yt : [INFO     ] 2023-01-31 14:00:01,579 Parameters: domain_left_edge          = [0. 0. 0.]\n",
      "yt : [INFO     ] 2023-01-31 14:00:01,580 Parameters: domain_right_edge         = [2.636e-06 6.590e-07 2.636e-06]\n"
     ]
    },
    {
     "name": "stdout",
     "output_type": "stream",
     "text": [
      "~/nerscProject/dladiges/visctest100/2500partSC/CPU33/plt000018000/\n"
     ]
    },
    {
     "name": "stderr",
     "output_type": "stream",
     "text": [
      "yt : [INFO     ] 2023-01-31 14:00:10,215 Parameters: current_time              = 1.7253332459003455e-09\n",
      "yt : [INFO     ] 2023-01-31 14:00:10,216 Parameters: domain_dimensions         = [256  64 256]\n",
      "yt : [INFO     ] 2023-01-31 14:00:10,217 Parameters: domain_left_edge          = [0. 0. 0.]\n",
      "yt : [INFO     ] 2023-01-31 14:00:10,218 Parameters: domain_right_edge         = [2.636e-06 6.590e-07 2.636e-06]\n"
     ]
    },
    {
     "name": "stdout",
     "output_type": "stream",
     "text": [
      "~/nerscProject/dladiges/visctest100/2500partSC/CPU34/plt000018000/\n"
     ]
    },
    {
     "name": "stderr",
     "output_type": "stream",
     "text": [
      "yt : [INFO     ] 2023-01-31 14:00:18,770 Parameters: current_time              = 1.7253332459003455e-09\n",
      "yt : [INFO     ] 2023-01-31 14:00:18,771 Parameters: domain_dimensions         = [256  64 256]\n",
      "yt : [INFO     ] 2023-01-31 14:00:18,772 Parameters: domain_left_edge          = [0. 0. 0.]\n",
      "yt : [INFO     ] 2023-01-31 14:00:18,773 Parameters: domain_right_edge         = [2.636e-06 6.590e-07 2.636e-06]\n"
     ]
    },
    {
     "name": "stdout",
     "output_type": "stream",
     "text": [
      "~/nerscProject/dladiges/visctest100/2500partSC/CPU35/plt000018000/\n"
     ]
    },
    {
     "name": "stderr",
     "output_type": "stream",
     "text": [
      "yt : [INFO     ] 2023-01-31 14:00:27,350 Parameters: current_time              = 1.7253332459003455e-09\n",
      "yt : [INFO     ] 2023-01-31 14:00:27,350 Parameters: domain_dimensions         = [256  64 256]\n",
      "yt : [INFO     ] 2023-01-31 14:00:27,351 Parameters: domain_left_edge          = [0. 0. 0.]\n",
      "yt : [INFO     ] 2023-01-31 14:00:27,351 Parameters: domain_right_edge         = [2.636e-06 6.590e-07 2.636e-06]\n"
     ]
    },
    {
     "name": "stdout",
     "output_type": "stream",
     "text": [
      "~/nerscProject/dladiges/visctest100/2500partSC/CPU36/plt000018000/\n"
     ]
    },
    {
     "name": "stderr",
     "output_type": "stream",
     "text": [
      "yt : [INFO     ] 2023-01-31 14:00:35,656 Parameters: current_time              = 1.7253332459003455e-09\n",
      "yt : [INFO     ] 2023-01-31 14:00:35,658 Parameters: domain_dimensions         = [256  64 256]\n",
      "yt : [INFO     ] 2023-01-31 14:00:35,659 Parameters: domain_left_edge          = [0. 0. 0.]\n",
      "yt : [INFO     ] 2023-01-31 14:00:35,660 Parameters: domain_right_edge         = [2.636e-06 6.590e-07 2.636e-06]\n"
     ]
    },
    {
     "name": "stdout",
     "output_type": "stream",
     "text": [
      "~/nerscProject/dladiges/visctest100/2500partSC/CPU37/plt000018000/\n"
     ]
    },
    {
     "name": "stderr",
     "output_type": "stream",
     "text": [
      "yt : [INFO     ] 2023-01-31 14:00:44,280 Parameters: current_time              = 1.7253332459003455e-09\n",
      "yt : [INFO     ] 2023-01-31 14:00:44,282 Parameters: domain_dimensions         = [256  64 256]\n",
      "yt : [INFO     ] 2023-01-31 14:00:44,284 Parameters: domain_left_edge          = [0. 0. 0.]\n",
      "yt : [INFO     ] 2023-01-31 14:00:44,285 Parameters: domain_right_edge         = [2.636e-06 6.590e-07 2.636e-06]\n"
     ]
    },
    {
     "name": "stdout",
     "output_type": "stream",
     "text": [
      "~/nerscProject/dladiges/visctest100/2500partSC/CPU38/plt000018000/\n"
     ]
    },
    {
     "name": "stderr",
     "output_type": "stream",
     "text": [
      "yt : [INFO     ] 2023-01-31 14:00:52,734 Parameters: current_time              = 1.7253332459003455e-09\n",
      "yt : [INFO     ] 2023-01-31 14:00:52,736 Parameters: domain_dimensions         = [256  64 256]\n",
      "yt : [INFO     ] 2023-01-31 14:00:52,737 Parameters: domain_left_edge          = [0. 0. 0.]\n",
      "yt : [INFO     ] 2023-01-31 14:00:52,738 Parameters: domain_right_edge         = [2.636e-06 6.590e-07 2.636e-06]\n"
     ]
    },
    {
     "name": "stdout",
     "output_type": "stream",
     "text": [
      "~/nerscProject/dladiges/visctest100/2500partSC/CPU39/plt000018000/\n"
     ]
    },
    {
     "name": "stderr",
     "output_type": "stream",
     "text": [
      "yt : [INFO     ] 2023-01-31 14:01:01,441 Parameters: current_time              = 1.7253332459003455e-09\n",
      "yt : [INFO     ] 2023-01-31 14:01:01,442 Parameters: domain_dimensions         = [256  64 256]\n",
      "yt : [INFO     ] 2023-01-31 14:01:01,443 Parameters: domain_left_edge          = [0. 0. 0.]\n",
      "yt : [INFO     ] 2023-01-31 14:01:01,444 Parameters: domain_right_edge         = [2.636e-06 6.590e-07 2.636e-06]\n"
     ]
    },
    {
     "name": "stdout",
     "output_type": "stream",
     "text": [
      "~/nerscProject/dladiges/visctest100/2500partSC/CPU40/plt000018000/\n"
     ]
    },
    {
     "name": "stderr",
     "output_type": "stream",
     "text": [
      "yt : [INFO     ] 2023-01-31 14:01:10,075 Parameters: current_time              = 1.7253332459003455e-09\n",
      "yt : [INFO     ] 2023-01-31 14:01:10,075 Parameters: domain_dimensions         = [256  64 256]\n",
      "yt : [INFO     ] 2023-01-31 14:01:10,076 Parameters: domain_left_edge          = [0. 0. 0.]\n",
      "yt : [INFO     ] 2023-01-31 14:01:10,076 Parameters: domain_right_edge         = [2.636e-06 6.590e-07 2.636e-06]\n"
     ]
    },
    {
     "name": "stdout",
     "output_type": "stream",
     "text": [
      "~/nerscProject/dladiges/visctest100/2500partSC/CPU41/plt000018000/\n"
     ]
    },
    {
     "name": "stderr",
     "output_type": "stream",
     "text": [
      "yt : [INFO     ] 2023-01-31 14:01:18,577 Parameters: current_time              = 1.7253332459003455e-09\n",
      "yt : [INFO     ] 2023-01-31 14:01:18,578 Parameters: domain_dimensions         = [256  64 256]\n",
      "yt : [INFO     ] 2023-01-31 14:01:18,579 Parameters: domain_left_edge          = [0. 0. 0.]\n",
      "yt : [INFO     ] 2023-01-31 14:01:18,580 Parameters: domain_right_edge         = [2.636e-06 6.590e-07 2.636e-06]\n"
     ]
    },
    {
     "name": "stdout",
     "output_type": "stream",
     "text": [
      "~/nerscProject/dladiges/visctest100/2500partSC/CPU42/plt000018000/\n"
     ]
    },
    {
     "name": "stderr",
     "output_type": "stream",
     "text": [
      "yt : [INFO     ] 2023-01-31 14:01:27,261 Parameters: current_time              = 1.7253332459003455e-09\n",
      "yt : [INFO     ] 2023-01-31 14:01:27,262 Parameters: domain_dimensions         = [256  64 256]\n",
      "yt : [INFO     ] 2023-01-31 14:01:27,263 Parameters: domain_left_edge          = [0. 0. 0.]\n",
      "yt : [INFO     ] 2023-01-31 14:01:27,264 Parameters: domain_right_edge         = [2.636e-06 6.590e-07 2.636e-06]\n"
     ]
    },
    {
     "name": "stdout",
     "output_type": "stream",
     "text": [
      "~/nerscProject/dladiges/visctest100/2500partSC/CPU43/plt000018000/\n"
     ]
    },
    {
     "name": "stderr",
     "output_type": "stream",
     "text": [
      "yt : [INFO     ] 2023-01-31 14:01:36,304 Parameters: current_time              = 1.7253332459003455e-09\n",
      "yt : [INFO     ] 2023-01-31 14:01:36,306 Parameters: domain_dimensions         = [256  64 256]\n",
      "yt : [INFO     ] 2023-01-31 14:01:36,307 Parameters: domain_left_edge          = [0. 0. 0.]\n",
      "yt : [INFO     ] 2023-01-31 14:01:36,308 Parameters: domain_right_edge         = [2.636e-06 6.590e-07 2.636e-06]\n"
     ]
    },
    {
     "name": "stdout",
     "output_type": "stream",
     "text": [
      "~/nerscProject/dladiges/visctest100/2500partSC/CPU44/plt000018000/\n"
     ]
    },
    {
     "name": "stderr",
     "output_type": "stream",
     "text": [
      "yt : [INFO     ] 2023-01-31 14:01:44,691 Parameters: current_time              = 1.7253332459003455e-09\n",
      "yt : [INFO     ] 2023-01-31 14:01:44,692 Parameters: domain_dimensions         = [256  64 256]\n",
      "yt : [INFO     ] 2023-01-31 14:01:44,694 Parameters: domain_left_edge          = [0. 0. 0.]\n",
      "yt : [INFO     ] 2023-01-31 14:01:44,695 Parameters: domain_right_edge         = [2.636e-06 6.590e-07 2.636e-06]\n"
     ]
    },
    {
     "name": "stdout",
     "output_type": "stream",
     "text": [
      "~/nerscProject/dladiges/visctest100/2500partSC/CPU45/plt000018000/\n"
     ]
    },
    {
     "name": "stderr",
     "output_type": "stream",
     "text": [
      "yt : [INFO     ] 2023-01-31 14:01:54,957 Parameters: current_time              = 1.7253332459003455e-09\n",
      "yt : [INFO     ] 2023-01-31 14:01:54,958 Parameters: domain_dimensions         = [256  64 256]\n",
      "yt : [INFO     ] 2023-01-31 14:01:54,959 Parameters: domain_left_edge          = [0. 0. 0.]\n",
      "yt : [INFO     ] 2023-01-31 14:01:54,960 Parameters: domain_right_edge         = [2.636e-06 6.590e-07 2.636e-06]\n"
     ]
    },
    {
     "name": "stdout",
     "output_type": "stream",
     "text": [
      "~/nerscProject/dladiges/visctest100/2500partSC/CPU46/plt000018000/\n"
     ]
    },
    {
     "name": "stderr",
     "output_type": "stream",
     "text": [
      "yt : [INFO     ] 2023-01-31 14:02:03,557 Parameters: current_time              = 1.7253332459003455e-09\n",
      "yt : [INFO     ] 2023-01-31 14:02:03,559 Parameters: domain_dimensions         = [256  64 256]\n",
      "yt : [INFO     ] 2023-01-31 14:02:03,560 Parameters: domain_left_edge          = [0. 0. 0.]\n",
      "yt : [INFO     ] 2023-01-31 14:02:03,561 Parameters: domain_right_edge         = [2.636e-06 6.590e-07 2.636e-06]\n"
     ]
    },
    {
     "name": "stdout",
     "output_type": "stream",
     "text": [
      "~/nerscProject/dladiges/visctest100/2500partSC/CPU47/plt000018000/\n"
     ]
    },
    {
     "name": "stderr",
     "output_type": "stream",
     "text": [
      "yt : [INFO     ] 2023-01-31 14:02:11,294 Parameters: current_time              = 1.7253332459003455e-09\n",
      "yt : [INFO     ] 2023-01-31 14:02:11,295 Parameters: domain_dimensions         = [256  64 256]\n",
      "yt : [INFO     ] 2023-01-31 14:02:11,296 Parameters: domain_left_edge          = [0. 0. 0.]\n",
      "yt : [INFO     ] 2023-01-31 14:02:11,298 Parameters: domain_right_edge         = [2.636e-06 6.590e-07 2.636e-06]\n"
     ]
    },
    {
     "name": "stdout",
     "output_type": "stream",
     "text": [
      "~/nerscProject/dladiges/visctest100/2500partSC/CPU48/plt000018000/\n"
     ]
    },
    {
     "name": "stderr",
     "output_type": "stream",
     "text": [
      "yt : [INFO     ] 2023-01-31 14:02:19,678 Parameters: current_time              = 1.7253332459003455e-09\n",
      "yt : [INFO     ] 2023-01-31 14:02:19,679 Parameters: domain_dimensions         = [256  64 256]\n",
      "yt : [INFO     ] 2023-01-31 14:02:19,679 Parameters: domain_left_edge          = [0. 0. 0.]\n",
      "yt : [INFO     ] 2023-01-31 14:02:19,680 Parameters: domain_right_edge         = [2.636e-06 6.590e-07 2.636e-06]\n"
     ]
    },
    {
     "name": "stdout",
     "output_type": "stream",
     "text": [
      "~/nerscProject/dladiges/visctest100/2500partSC/CPU49/plt000018000/\n"
     ]
    },
    {
     "name": "stderr",
     "output_type": "stream",
     "text": [
      "yt : [INFO     ] 2023-01-31 14:02:28,995 Parameters: current_time              = 1.7253332459003455e-09\n",
      "yt : [INFO     ] 2023-01-31 14:02:28,996 Parameters: domain_dimensions         = [256  64 256]\n",
      "yt : [INFO     ] 2023-01-31 14:02:28,996 Parameters: domain_left_edge          = [0. 0. 0.]\n",
      "yt : [INFO     ] 2023-01-31 14:02:28,997 Parameters: domain_right_edge         = [2.636e-06 6.590e-07 2.636e-06]\n"
     ]
    },
    {
     "name": "stdout",
     "output_type": "stream",
     "text": [
      "~/nerscProject/dladiges/visctest100/2500partSC/CPU50/plt000018000/\n"
     ]
    },
    {
     "name": "stderr",
     "output_type": "stream",
     "text": [
      "yt : [INFO     ] 2023-01-31 14:02:37,266 Parameters: current_time              = 1.7253332459003455e-09\n",
      "yt : [INFO     ] 2023-01-31 14:02:37,268 Parameters: domain_dimensions         = [256  64 256]\n",
      "yt : [INFO     ] 2023-01-31 14:02:37,269 Parameters: domain_left_edge          = [0. 0. 0.]\n",
      "yt : [INFO     ] 2023-01-31 14:02:37,270 Parameters: domain_right_edge         = [2.636e-06 6.590e-07 2.636e-06]\n"
     ]
    },
    {
     "name": "stdout",
     "output_type": "stream",
     "text": [
      "~/nerscProject/dladiges/visctest100/2500partSC/CPU51/plt000018000/\n"
     ]
    },
    {
     "name": "stderr",
     "output_type": "stream",
     "text": [
      "yt : [INFO     ] 2023-01-31 14:02:45,799 Parameters: current_time              = 1.7253332459003455e-09\n",
      "yt : [INFO     ] 2023-01-31 14:02:45,800 Parameters: domain_dimensions         = [256  64 256]\n",
      "yt : [INFO     ] 2023-01-31 14:02:45,801 Parameters: domain_left_edge          = [0. 0. 0.]\n",
      "yt : [INFO     ] 2023-01-31 14:02:45,802 Parameters: domain_right_edge         = [2.636e-06 6.590e-07 2.636e-06]\n"
     ]
    },
    {
     "name": "stdout",
     "output_type": "stream",
     "text": [
      "~/nerscProject/dladiges/visctest100/2500partSC/CPU52/plt000018000/\n"
     ]
    },
    {
     "name": "stderr",
     "output_type": "stream",
     "text": [
      "yt : [INFO     ] 2023-01-31 14:02:53,984 Parameters: current_time              = 1.7253332459003455e-09\n",
      "yt : [INFO     ] 2023-01-31 14:02:53,985 Parameters: domain_dimensions         = [256  64 256]\n",
      "yt : [INFO     ] 2023-01-31 14:02:53,986 Parameters: domain_left_edge          = [0. 0. 0.]\n",
      "yt : [INFO     ] 2023-01-31 14:02:53,986 Parameters: domain_right_edge         = [2.636e-06 6.590e-07 2.636e-06]\n"
     ]
    },
    {
     "name": "stdout",
     "output_type": "stream",
     "text": [
      "~/nerscProject/dladiges/visctest100/2500partSC/CPU53/plt000018000/\n"
     ]
    },
    {
     "name": "stderr",
     "output_type": "stream",
     "text": [
      "yt : [INFO     ] 2023-01-31 14:03:02,607 Parameters: current_time              = 1.7253332459003455e-09\n",
      "yt : [INFO     ] 2023-01-31 14:03:02,609 Parameters: domain_dimensions         = [256  64 256]\n",
      "yt : [INFO     ] 2023-01-31 14:03:02,610 Parameters: domain_left_edge          = [0. 0. 0.]\n",
      "yt : [INFO     ] 2023-01-31 14:03:02,611 Parameters: domain_right_edge         = [2.636e-06 6.590e-07 2.636e-06]\n"
     ]
    },
    {
     "name": "stdout",
     "output_type": "stream",
     "text": [
      "~/nerscProject/dladiges/visctest100/2500partSC/CPU54/plt000018000/\n"
     ]
    },
    {
     "name": "stderr",
     "output_type": "stream",
     "text": [
      "yt : [INFO     ] 2023-01-31 14:03:11,207 Parameters: current_time              = 1.7253332459003455e-09\n",
      "yt : [INFO     ] 2023-01-31 14:03:11,208 Parameters: domain_dimensions         = [256  64 256]\n",
      "yt : [INFO     ] 2023-01-31 14:03:11,210 Parameters: domain_left_edge          = [0. 0. 0.]\n",
      "yt : [INFO     ] 2023-01-31 14:03:11,211 Parameters: domain_right_edge         = [2.636e-06 6.590e-07 2.636e-06]\n"
     ]
    },
    {
     "name": "stdout",
     "output_type": "stream",
     "text": [
      "~/nerscProject/dladiges/visctest100/2500partSC/CPU55/plt000018000/\n"
     ]
    },
    {
     "name": "stderr",
     "output_type": "stream",
     "text": [
      "yt : [INFO     ] 2023-01-31 14:03:19,587 Parameters: current_time              = 1.7253332459003455e-09\n",
      "yt : [INFO     ] 2023-01-31 14:03:19,588 Parameters: domain_dimensions         = [256  64 256]\n",
      "yt : [INFO     ] 2023-01-31 14:03:19,589 Parameters: domain_left_edge          = [0. 0. 0.]\n",
      "yt : [INFO     ] 2023-01-31 14:03:19,590 Parameters: domain_right_edge         = [2.636e-06 6.590e-07 2.636e-06]\n"
     ]
    },
    {
     "name": "stdout",
     "output_type": "stream",
     "text": [
      "~/nerscProject/dladiges/visctest100/2500partSC/CPU56/plt000018000/\n"
     ]
    },
    {
     "name": "stderr",
     "output_type": "stream",
     "text": [
      "yt : [INFO     ] 2023-01-31 14:03:30,455 Parameters: current_time              = 1.7253332459003455e-09\n",
      "yt : [INFO     ] 2023-01-31 14:03:30,457 Parameters: domain_dimensions         = [256  64 256]\n",
      "yt : [INFO     ] 2023-01-31 14:03:30,458 Parameters: domain_left_edge          = [0. 0. 0.]\n",
      "yt : [INFO     ] 2023-01-31 14:03:30,459 Parameters: domain_right_edge         = [2.636e-06 6.590e-07 2.636e-06]\n"
     ]
    },
    {
     "name": "stdout",
     "output_type": "stream",
     "text": [
      "~/nerscProject/dladiges/visctest100/2500partSC/CPU57/plt000018000/\n"
     ]
    },
    {
     "name": "stderr",
     "output_type": "stream",
     "text": [
      "yt : [INFO     ] 2023-01-31 14:03:38,680 Parameters: current_time              = 1.7253332459003455e-09\n",
      "yt : [INFO     ] 2023-01-31 14:03:38,681 Parameters: domain_dimensions         = [256  64 256]\n",
      "yt : [INFO     ] 2023-01-31 14:03:38,682 Parameters: domain_left_edge          = [0. 0. 0.]\n",
      "yt : [INFO     ] 2023-01-31 14:03:38,683 Parameters: domain_right_edge         = [2.636e-06 6.590e-07 2.636e-06]\n"
     ]
    },
    {
     "name": "stdout",
     "output_type": "stream",
     "text": [
      "~/nerscProject/dladiges/visctest100/2500partSC/CPU58/plt000018000/\n"
     ]
    },
    {
     "name": "stderr",
     "output_type": "stream",
     "text": [
      "yt : [INFO     ] 2023-01-31 14:03:47,397 Parameters: current_time              = 1.7253332459003455e-09\n",
      "yt : [INFO     ] 2023-01-31 14:03:47,398 Parameters: domain_dimensions         = [256  64 256]\n",
      "yt : [INFO     ] 2023-01-31 14:03:47,399 Parameters: domain_left_edge          = [0. 0. 0.]\n",
      "yt : [INFO     ] 2023-01-31 14:03:47,400 Parameters: domain_right_edge         = [2.636e-06 6.590e-07 2.636e-06]\n"
     ]
    },
    {
     "name": "stdout",
     "output_type": "stream",
     "text": [
      "~/nerscProject/dladiges/visctest100/2500partSC/CPU59/plt000018000/\n"
     ]
    },
    {
     "name": "stderr",
     "output_type": "stream",
     "text": [
      "yt : [INFO     ] 2023-01-31 14:03:56,314 Parameters: current_time              = 1.7253332459003455e-09\n",
      "yt : [INFO     ] 2023-01-31 14:03:56,315 Parameters: domain_dimensions         = [256  64 256]\n",
      "yt : [INFO     ] 2023-01-31 14:03:56,316 Parameters: domain_left_edge          = [0. 0. 0.]\n",
      "yt : [INFO     ] 2023-01-31 14:03:56,318 Parameters: domain_right_edge         = [2.636e-06 6.590e-07 2.636e-06]\n"
     ]
    },
    {
     "name": "stdout",
     "output_type": "stream",
     "text": [
      "~/nerscProject/dladiges/visctest100/2500partSC/CPU60/plt000018000/\n"
     ]
    },
    {
     "name": "stderr",
     "output_type": "stream",
     "text": [
      "yt : [INFO     ] 2023-01-31 14:04:04,915 Parameters: current_time              = 1.7253332459003455e-09\n",
      "yt : [INFO     ] 2023-01-31 14:04:04,916 Parameters: domain_dimensions         = [256  64 256]\n",
      "yt : [INFO     ] 2023-01-31 14:04:04,917 Parameters: domain_left_edge          = [0. 0. 0.]\n",
      "yt : [INFO     ] 2023-01-31 14:04:04,919 Parameters: domain_right_edge         = [2.636e-06 6.590e-07 2.636e-06]\n"
     ]
    },
    {
     "name": "stdout",
     "output_type": "stream",
     "text": [
      "~/nerscProject/dladiges/visctest100/2500partSC/CPU61/plt000018000/\n"
     ]
    },
    {
     "name": "stderr",
     "output_type": "stream",
     "text": [
      "yt : [INFO     ] 2023-01-31 14:04:13,558 Parameters: current_time              = 1.7253332459003455e-09\n",
      "yt : [INFO     ] 2023-01-31 14:04:13,560 Parameters: domain_dimensions         = [256  64 256]\n",
      "yt : [INFO     ] 2023-01-31 14:04:13,561 Parameters: domain_left_edge          = [0. 0. 0.]\n",
      "yt : [INFO     ] 2023-01-31 14:04:13,562 Parameters: domain_right_edge         = [2.636e-06 6.590e-07 2.636e-06]\n"
     ]
    },
    {
     "name": "stdout",
     "output_type": "stream",
     "text": [
      "~/nerscProject/dladiges/visctest100/2500partSC/CPU62/plt000018000/\n"
     ]
    },
    {
     "name": "stderr",
     "output_type": "stream",
     "text": [
      "yt : [INFO     ] 2023-01-31 14:04:22,485 Parameters: current_time              = 1.7253332459003455e-09\n",
      "yt : [INFO     ] 2023-01-31 14:04:22,486 Parameters: domain_dimensions         = [256  64 256]\n",
      "yt : [INFO     ] 2023-01-31 14:04:22,487 Parameters: domain_left_edge          = [0. 0. 0.]\n",
      "yt : [INFO     ] 2023-01-31 14:04:22,489 Parameters: domain_right_edge         = [2.636e-06 6.590e-07 2.636e-06]\n"
     ]
    },
    {
     "name": "stdout",
     "output_type": "stream",
     "text": [
      "~/nerscProject/dladiges/visctest100/2500partSC/CPU63/plt000018000/\n"
     ]
    },
    {
     "name": "stderr",
     "output_type": "stream",
     "text": [
      "yt : [INFO     ] 2023-01-31 14:04:34,101 Parameters: current_time              = 1.7253332459003455e-09\n",
      "yt : [INFO     ] 2023-01-31 14:04:34,102 Parameters: domain_dimensions         = [256  64 256]\n",
      "yt : [INFO     ] 2023-01-31 14:04:34,103 Parameters: domain_left_edge          = [0. 0. 0.]\n",
      "yt : [INFO     ] 2023-01-31 14:04:34,103 Parameters: domain_right_edge         = [2.636e-06 6.590e-07 2.636e-06]\n"
     ]
    }
   ],
   "source": [
    "data = \"~/nerscProject/dladiges/visctest100/2500partSC/CPU\"\n",
    "time = \"/plt0000\"+\"18000/\"\n",
    "bins = 64\n",
    "ens= 64\n",
    "yall2500 = np.zeros((ens,bins))\n",
    "i=0\n",
    "for i in range(ens):\n",
    "    stri = data + str(i).zfill(2)\n",
    "    xt, yall2500[i] = return_y_plt(stri,time,nbins=bins,field=\"averaged_meanx\")"
   ]
  },
  {
   "cell_type": "code",
   "execution_count": 12,
   "id": "36dc4d18-d396-43c9-aa97-849fbe998484",
   "metadata": {},
   "outputs": [
    {
     "name": "stdout",
     "output_type": "stream",
     "text": [
      "~/nerscProject/dladiges/visctest100/5000partSC/CPU00/plt000017000/\n"
     ]
    },
    {
     "name": "stderr",
     "output_type": "stream",
     "text": [
      "yt : [INFO     ] 2023-01-31 13:29:16,840 Parameters: current_time              = 1.6253332459003148e-09\n",
      "yt : [INFO     ] 2023-01-31 13:29:16,840 Parameters: domain_dimensions         = [256  64 256]\n",
      "yt : [INFO     ] 2023-01-31 13:29:16,841 Parameters: domain_left_edge          = [0. 0. 0.]\n",
      "yt : [INFO     ] 2023-01-31 13:29:16,842 Parameters: domain_right_edge         = [2.636e-06 6.590e-07 2.636e-06]\n"
     ]
    },
    {
     "name": "stdout",
     "output_type": "stream",
     "text": [
      "~/nerscProject/dladiges/visctest100/5000partSC/CPU01/plt000017000/\n"
     ]
    },
    {
     "name": "stderr",
     "output_type": "stream",
     "text": [
      "yt : [INFO     ] 2023-01-31 13:29:19,017 Parameters: current_time              = 1.6253332459003148e-09\n",
      "yt : [INFO     ] 2023-01-31 13:29:19,018 Parameters: domain_dimensions         = [256  64 256]\n",
      "yt : [INFO     ] 2023-01-31 13:29:19,019 Parameters: domain_left_edge          = [0. 0. 0.]\n",
      "yt : [INFO     ] 2023-01-31 13:29:19,019 Parameters: domain_right_edge         = [2.636e-06 6.590e-07 2.636e-06]\n"
     ]
    },
    {
     "name": "stdout",
     "output_type": "stream",
     "text": [
      "~/nerscProject/dladiges/visctest100/5000partSC/CPU02/plt000017000/\n"
     ]
    },
    {
     "name": "stderr",
     "output_type": "stream",
     "text": [
      "yt : [INFO     ] 2023-01-31 13:29:21,187 Parameters: current_time              = 1.6253332459003148e-09\n",
      "yt : [INFO     ] 2023-01-31 13:29:21,188 Parameters: domain_dimensions         = [256  64 256]\n",
      "yt : [INFO     ] 2023-01-31 13:29:21,188 Parameters: domain_left_edge          = [0. 0. 0.]\n",
      "yt : [INFO     ] 2023-01-31 13:29:21,189 Parameters: domain_right_edge         = [2.636e-06 6.590e-07 2.636e-06]\n"
     ]
    },
    {
     "name": "stdout",
     "output_type": "stream",
     "text": [
      "~/nerscProject/dladiges/visctest100/5000partSC/CPU03/plt000017000/\n"
     ]
    },
    {
     "name": "stderr",
     "output_type": "stream",
     "text": [
      "yt : [INFO     ] 2023-01-31 13:29:22,992 Parameters: current_time              = 1.6253332459003148e-09\n",
      "yt : [INFO     ] 2023-01-31 13:29:22,993 Parameters: domain_dimensions         = [256  64 256]\n",
      "yt : [INFO     ] 2023-01-31 13:29:22,994 Parameters: domain_left_edge          = [0. 0. 0.]\n",
      "yt : [INFO     ] 2023-01-31 13:29:22,994 Parameters: domain_right_edge         = [2.636e-06 6.590e-07 2.636e-06]\n"
     ]
    },
    {
     "name": "stdout",
     "output_type": "stream",
     "text": [
      "~/nerscProject/dladiges/visctest100/5000partSC/CPU04/plt000017000/\n"
     ]
    },
    {
     "name": "stderr",
     "output_type": "stream",
     "text": [
      "yt : [INFO     ] 2023-01-31 13:29:25,319 Parameters: current_time              = 1.6253332459003148e-09\n",
      "yt : [INFO     ] 2023-01-31 13:29:25,320 Parameters: domain_dimensions         = [256  64 256]\n",
      "yt : [INFO     ] 2023-01-31 13:29:25,321 Parameters: domain_left_edge          = [0. 0. 0.]\n",
      "yt : [INFO     ] 2023-01-31 13:29:25,321 Parameters: domain_right_edge         = [2.636e-06 6.590e-07 2.636e-06]\n"
     ]
    },
    {
     "name": "stdout",
     "output_type": "stream",
     "text": [
      "~/nerscProject/dladiges/visctest100/5000partSC/CPU05/plt000017000/\n"
     ]
    },
    {
     "name": "stderr",
     "output_type": "stream",
     "text": [
      "yt : [INFO     ] 2023-01-31 13:29:27,284 Parameters: current_time              = 1.6253332459003148e-09\n",
      "yt : [INFO     ] 2023-01-31 13:29:27,286 Parameters: domain_dimensions         = [256  64 256]\n",
      "yt : [INFO     ] 2023-01-31 13:29:27,287 Parameters: domain_left_edge          = [0. 0. 0.]\n",
      "yt : [INFO     ] 2023-01-31 13:29:27,288 Parameters: domain_right_edge         = [2.636e-06 6.590e-07 2.636e-06]\n"
     ]
    },
    {
     "name": "stdout",
     "output_type": "stream",
     "text": [
      "~/nerscProject/dladiges/visctest100/5000partSC/CPU06/plt000017000/\n"
     ]
    },
    {
     "name": "stderr",
     "output_type": "stream",
     "text": [
      "yt : [INFO     ] 2023-01-31 13:29:29,185 Parameters: current_time              = 1.6253332459003148e-09\n",
      "yt : [INFO     ] 2023-01-31 13:29:29,187 Parameters: domain_dimensions         = [256  64 256]\n",
      "yt : [INFO     ] 2023-01-31 13:29:29,188 Parameters: domain_left_edge          = [0. 0. 0.]\n",
      "yt : [INFO     ] 2023-01-31 13:29:29,189 Parameters: domain_right_edge         = [2.636e-06 6.590e-07 2.636e-06]\n"
     ]
    },
    {
     "name": "stdout",
     "output_type": "stream",
     "text": [
      "~/nerscProject/dladiges/visctest100/5000partSC/CPU07/plt000017000/\n"
     ]
    },
    {
     "name": "stderr",
     "output_type": "stream",
     "text": [
      "yt : [INFO     ] 2023-01-31 13:29:31,077 Parameters: current_time              = 1.6253332459003148e-09\n",
      "yt : [INFO     ] 2023-01-31 13:29:31,077 Parameters: domain_dimensions         = [256  64 256]\n",
      "yt : [INFO     ] 2023-01-31 13:29:31,078 Parameters: domain_left_edge          = [0. 0. 0.]\n",
      "yt : [INFO     ] 2023-01-31 13:29:31,079 Parameters: domain_right_edge         = [2.636e-06 6.590e-07 2.636e-06]\n"
     ]
    },
    {
     "name": "stdout",
     "output_type": "stream",
     "text": [
      "~/nerscProject/dladiges/visctest100/5000partSC/CPU08/plt000017000/\n"
     ]
    },
    {
     "name": "stderr",
     "output_type": "stream",
     "text": [
      "yt : [INFO     ] 2023-01-31 13:29:34,255 Parameters: current_time              = 1.6253332459003148e-09\n",
      "yt : [INFO     ] 2023-01-31 13:29:34,256 Parameters: domain_dimensions         = [256  64 256]\n",
      "yt : [INFO     ] 2023-01-31 13:29:34,257 Parameters: domain_left_edge          = [0. 0. 0.]\n",
      "yt : [INFO     ] 2023-01-31 13:29:34,258 Parameters: domain_right_edge         = [2.636e-06 6.590e-07 2.636e-06]\n"
     ]
    },
    {
     "name": "stdout",
     "output_type": "stream",
     "text": [
      "~/nerscProject/dladiges/visctest100/5000partSC/CPU09/plt000017000/\n"
     ]
    },
    {
     "name": "stderr",
     "output_type": "stream",
     "text": [
      "yt : [INFO     ] 2023-01-31 13:29:35,917 Parameters: current_time              = 1.6253332459003148e-09\n",
      "yt : [INFO     ] 2023-01-31 13:29:35,917 Parameters: domain_dimensions         = [256  64 256]\n",
      "yt : [INFO     ] 2023-01-31 13:29:35,918 Parameters: domain_left_edge          = [0. 0. 0.]\n",
      "yt : [INFO     ] 2023-01-31 13:29:35,919 Parameters: domain_right_edge         = [2.636e-06 6.590e-07 2.636e-06]\n"
     ]
    },
    {
     "name": "stdout",
     "output_type": "stream",
     "text": [
      "~/nerscProject/dladiges/visctest100/5000partSC/CPU10/plt000017000/\n"
     ]
    },
    {
     "name": "stderr",
     "output_type": "stream",
     "text": [
      "yt : [INFO     ] 2023-01-31 13:29:37,837 Parameters: current_time              = 1.6253332459003148e-09\n",
      "yt : [INFO     ] 2023-01-31 13:29:37,838 Parameters: domain_dimensions         = [256  64 256]\n",
      "yt : [INFO     ] 2023-01-31 13:29:37,839 Parameters: domain_left_edge          = [0. 0. 0.]\n",
      "yt : [INFO     ] 2023-01-31 13:29:37,840 Parameters: domain_right_edge         = [2.636e-06 6.590e-07 2.636e-06]\n"
     ]
    },
    {
     "name": "stdout",
     "output_type": "stream",
     "text": [
      "~/nerscProject/dladiges/visctest100/5000partSC/CPU11/plt000017000/\n"
     ]
    },
    {
     "name": "stderr",
     "output_type": "stream",
     "text": [
      "yt : [INFO     ] 2023-01-31 13:29:39,850 Parameters: current_time              = 1.6253332459003148e-09\n",
      "yt : [INFO     ] 2023-01-31 13:29:39,851 Parameters: domain_dimensions         = [256  64 256]\n",
      "yt : [INFO     ] 2023-01-31 13:29:39,852 Parameters: domain_left_edge          = [0. 0. 0.]\n",
      "yt : [INFO     ] 2023-01-31 13:29:39,853 Parameters: domain_right_edge         = [2.636e-06 6.590e-07 2.636e-06]\n"
     ]
    },
    {
     "name": "stdout",
     "output_type": "stream",
     "text": [
      "~/nerscProject/dladiges/visctest100/5000partSC/CPU12/plt000017000/\n"
     ]
    },
    {
     "name": "stderr",
     "output_type": "stream",
     "text": [
      "yt : [INFO     ] 2023-01-31 13:29:41,537 Parameters: current_time              = 1.6253332459003148e-09\n",
      "yt : [INFO     ] 2023-01-31 13:29:41,538 Parameters: domain_dimensions         = [256  64 256]\n",
      "yt : [INFO     ] 2023-01-31 13:29:41,539 Parameters: domain_left_edge          = [0. 0. 0.]\n",
      "yt : [INFO     ] 2023-01-31 13:29:41,540 Parameters: domain_right_edge         = [2.636e-06 6.590e-07 2.636e-06]\n"
     ]
    },
    {
     "name": "stdout",
     "output_type": "stream",
     "text": [
      "~/nerscProject/dladiges/visctest100/5000partSC/CPU13/plt000017000/\n"
     ]
    },
    {
     "name": "stderr",
     "output_type": "stream",
     "text": [
      "yt : [INFO     ] 2023-01-31 13:29:43,403 Parameters: current_time              = 1.6253332459003148e-09\n",
      "yt : [INFO     ] 2023-01-31 13:29:43,404 Parameters: domain_dimensions         = [256  64 256]\n",
      "yt : [INFO     ] 2023-01-31 13:29:43,405 Parameters: domain_left_edge          = [0. 0. 0.]\n",
      "yt : [INFO     ] 2023-01-31 13:29:43,405 Parameters: domain_right_edge         = [2.636e-06 6.590e-07 2.636e-06]\n"
     ]
    },
    {
     "name": "stdout",
     "output_type": "stream",
     "text": [
      "~/nerscProject/dladiges/visctest100/5000partSC/CPU14/plt000017000/\n"
     ]
    },
    {
     "name": "stderr",
     "output_type": "stream",
     "text": [
      "yt : [INFO     ] 2023-01-31 13:29:45,199 Parameters: current_time              = 1.6253332459003148e-09\n",
      "yt : [INFO     ] 2023-01-31 13:29:45,200 Parameters: domain_dimensions         = [256  64 256]\n",
      "yt : [INFO     ] 2023-01-31 13:29:45,200 Parameters: domain_left_edge          = [0. 0. 0.]\n",
      "yt : [INFO     ] 2023-01-31 13:29:45,201 Parameters: domain_right_edge         = [2.636e-06 6.590e-07 2.636e-06]\n"
     ]
    },
    {
     "name": "stdout",
     "output_type": "stream",
     "text": [
      "~/nerscProject/dladiges/visctest100/5000partSC/CPU15/plt000017000/\n"
     ]
    },
    {
     "name": "stderr",
     "output_type": "stream",
     "text": [
      "yt : [INFO     ] 2023-01-31 13:29:46,980 Parameters: current_time              = 1.6253332459003148e-09\n",
      "yt : [INFO     ] 2023-01-31 13:29:46,981 Parameters: domain_dimensions         = [256  64 256]\n",
      "yt : [INFO     ] 2023-01-31 13:29:46,982 Parameters: domain_left_edge          = [0. 0. 0.]\n",
      "yt : [INFO     ] 2023-01-31 13:29:46,983 Parameters: domain_right_edge         = [2.636e-06 6.590e-07 2.636e-06]\n"
     ]
    },
    {
     "name": "stdout",
     "output_type": "stream",
     "text": [
      "~/nerscProject/dladiges/visctest100/5000partSC/CPU16/plt000017000/\n"
     ]
    },
    {
     "name": "stderr",
     "output_type": "stream",
     "text": [
      "yt : [INFO     ] 2023-01-31 13:29:48,814 Parameters: current_time              = 1.6253332459003148e-09\n",
      "yt : [INFO     ] 2023-01-31 13:29:48,814 Parameters: domain_dimensions         = [256  64 256]\n",
      "yt : [INFO     ] 2023-01-31 13:29:48,815 Parameters: domain_left_edge          = [0. 0. 0.]\n",
      "yt : [INFO     ] 2023-01-31 13:29:48,816 Parameters: domain_right_edge         = [2.636e-06 6.590e-07 2.636e-06]\n"
     ]
    },
    {
     "name": "stdout",
     "output_type": "stream",
     "text": [
      "~/nerscProject/dladiges/visctest100/5000partSC/CPU17/plt000017000/\n"
     ]
    },
    {
     "name": "stderr",
     "output_type": "stream",
     "text": [
      "yt : [INFO     ] 2023-01-31 13:29:50,602 Parameters: current_time              = 1.6253332459003148e-09\n",
      "yt : [INFO     ] 2023-01-31 13:29:50,604 Parameters: domain_dimensions         = [256  64 256]\n",
      "yt : [INFO     ] 2023-01-31 13:29:50,605 Parameters: domain_left_edge          = [0. 0. 0.]\n",
      "yt : [INFO     ] 2023-01-31 13:29:50,607 Parameters: domain_right_edge         = [2.636e-06 6.590e-07 2.636e-06]\n"
     ]
    },
    {
     "name": "stdout",
     "output_type": "stream",
     "text": [
      "~/nerscProject/dladiges/visctest100/5000partSC/CPU18/plt000017000/\n"
     ]
    },
    {
     "name": "stderr",
     "output_type": "stream",
     "text": [
      "yt : [INFO     ] 2023-01-31 13:29:52,439 Parameters: current_time              = 1.6253332459003148e-09\n",
      "yt : [INFO     ] 2023-01-31 13:29:52,440 Parameters: domain_dimensions         = [256  64 256]\n",
      "yt : [INFO     ] 2023-01-31 13:29:52,441 Parameters: domain_left_edge          = [0. 0. 0.]\n",
      "yt : [INFO     ] 2023-01-31 13:29:52,442 Parameters: domain_right_edge         = [2.636e-06 6.590e-07 2.636e-06]\n"
     ]
    },
    {
     "name": "stdout",
     "output_type": "stream",
     "text": [
      "~/nerscProject/dladiges/visctest100/5000partSC/CPU19/plt000017000/\n"
     ]
    },
    {
     "name": "stderr",
     "output_type": "stream",
     "text": [
      "yt : [INFO     ] 2023-01-31 13:29:54,567 Parameters: current_time              = 1.6253332459003148e-09\n",
      "yt : [INFO     ] 2023-01-31 13:29:54,568 Parameters: domain_dimensions         = [256  64 256]\n",
      "yt : [INFO     ] 2023-01-31 13:29:54,569 Parameters: domain_left_edge          = [0. 0. 0.]\n",
      "yt : [INFO     ] 2023-01-31 13:29:54,569 Parameters: domain_right_edge         = [2.636e-06 6.590e-07 2.636e-06]\n"
     ]
    },
    {
     "name": "stdout",
     "output_type": "stream",
     "text": [
      "~/nerscProject/dladiges/visctest100/5000partSC/CPU20/plt000017000/\n"
     ]
    },
    {
     "name": "stderr",
     "output_type": "stream",
     "text": [
      "yt : [INFO     ] 2023-01-31 13:29:56,505 Parameters: current_time              = 1.6253332459003148e-09\n",
      "yt : [INFO     ] 2023-01-31 13:29:56,506 Parameters: domain_dimensions         = [256  64 256]\n",
      "yt : [INFO     ] 2023-01-31 13:29:56,507 Parameters: domain_left_edge          = [0. 0. 0.]\n",
      "yt : [INFO     ] 2023-01-31 13:29:56,508 Parameters: domain_right_edge         = [2.636e-06 6.590e-07 2.636e-06]\n"
     ]
    },
    {
     "name": "stdout",
     "output_type": "stream",
     "text": [
      "~/nerscProject/dladiges/visctest100/5000partSC/CPU21/plt000017000/\n"
     ]
    },
    {
     "name": "stderr",
     "output_type": "stream",
     "text": [
      "yt : [INFO     ] 2023-01-31 13:29:58,475 Parameters: current_time              = 1.6253332459003148e-09\n",
      "yt : [INFO     ] 2023-01-31 13:29:58,476 Parameters: domain_dimensions         = [256  64 256]\n",
      "yt : [INFO     ] 2023-01-31 13:29:58,476 Parameters: domain_left_edge          = [0. 0. 0.]\n",
      "yt : [INFO     ] 2023-01-31 13:29:58,477 Parameters: domain_right_edge         = [2.636e-06 6.590e-07 2.636e-06]\n"
     ]
    },
    {
     "name": "stdout",
     "output_type": "stream",
     "text": [
      "~/nerscProject/dladiges/visctest100/5000partSC/CPU22/plt000017000/\n"
     ]
    },
    {
     "name": "stderr",
     "output_type": "stream",
     "text": [
      "yt : [INFO     ] 2023-01-31 13:30:00,550 Parameters: current_time              = 1.6253332459003148e-09\n",
      "yt : [INFO     ] 2023-01-31 13:30:00,551 Parameters: domain_dimensions         = [256  64 256]\n",
      "yt : [INFO     ] 2023-01-31 13:30:00,551 Parameters: domain_left_edge          = [0. 0. 0.]\n",
      "yt : [INFO     ] 2023-01-31 13:30:00,552 Parameters: domain_right_edge         = [2.636e-06 6.590e-07 2.636e-06]\n"
     ]
    },
    {
     "name": "stdout",
     "output_type": "stream",
     "text": [
      "~/nerscProject/dladiges/visctest100/5000partSC/CPU23/plt000017000/\n"
     ]
    },
    {
     "name": "stderr",
     "output_type": "stream",
     "text": [
      "yt : [INFO     ] 2023-01-31 13:30:02,650 Parameters: current_time              = 1.6253332459003148e-09\n",
      "yt : [INFO     ] 2023-01-31 13:30:02,651 Parameters: domain_dimensions         = [256  64 256]\n",
      "yt : [INFO     ] 2023-01-31 13:30:02,653 Parameters: domain_left_edge          = [0. 0. 0.]\n",
      "yt : [INFO     ] 2023-01-31 13:30:02,655 Parameters: domain_right_edge         = [2.636e-06 6.590e-07 2.636e-06]\n"
     ]
    },
    {
     "name": "stdout",
     "output_type": "stream",
     "text": [
      "~/nerscProject/dladiges/visctest100/5000partSC/CPU24/plt000017000/\n"
     ]
    },
    {
     "name": "stderr",
     "output_type": "stream",
     "text": [
      "yt : [INFO     ] 2023-01-31 13:30:04,746 Parameters: current_time              = 1.6253332459003148e-09\n",
      "yt : [INFO     ] 2023-01-31 13:30:04,747 Parameters: domain_dimensions         = [256  64 256]\n",
      "yt : [INFO     ] 2023-01-31 13:30:04,747 Parameters: domain_left_edge          = [0. 0. 0.]\n",
      "yt : [INFO     ] 2023-01-31 13:30:04,748 Parameters: domain_right_edge         = [2.636e-06 6.590e-07 2.636e-06]\n"
     ]
    },
    {
     "name": "stdout",
     "output_type": "stream",
     "text": [
      "~/nerscProject/dladiges/visctest100/5000partSC/CPU25/plt000017000/\n"
     ]
    },
    {
     "name": "stderr",
     "output_type": "stream",
     "text": [
      "yt : [INFO     ] 2023-01-31 13:30:06,625 Parameters: current_time              = 1.6253332459003148e-09\n",
      "yt : [INFO     ] 2023-01-31 13:30:06,626 Parameters: domain_dimensions         = [256  64 256]\n",
      "yt : [INFO     ] 2023-01-31 13:30:06,627 Parameters: domain_left_edge          = [0. 0. 0.]\n",
      "yt : [INFO     ] 2023-01-31 13:30:06,628 Parameters: domain_right_edge         = [2.636e-06 6.590e-07 2.636e-06]\n"
     ]
    },
    {
     "name": "stdout",
     "output_type": "stream",
     "text": [
      "~/nerscProject/dladiges/visctest100/5000partSC/CPU26/plt000017000/\n"
     ]
    },
    {
     "name": "stderr",
     "output_type": "stream",
     "text": [
      "yt : [INFO     ] 2023-01-31 13:30:08,678 Parameters: current_time              = 1.6253332459003148e-09\n",
      "yt : [INFO     ] 2023-01-31 13:30:08,679 Parameters: domain_dimensions         = [256  64 256]\n",
      "yt : [INFO     ] 2023-01-31 13:30:08,680 Parameters: domain_left_edge          = [0. 0. 0.]\n",
      "yt : [INFO     ] 2023-01-31 13:30:08,680 Parameters: domain_right_edge         = [2.636e-06 6.590e-07 2.636e-06]\n"
     ]
    },
    {
     "name": "stdout",
     "output_type": "stream",
     "text": [
      "~/nerscProject/dladiges/visctest100/5000partSC/CPU27/plt000017000/\n"
     ]
    },
    {
     "name": "stderr",
     "output_type": "stream",
     "text": [
      "yt : [INFO     ] 2023-01-31 13:30:10,421 Parameters: current_time              = 1.6253332459003148e-09\n",
      "yt : [INFO     ] 2023-01-31 13:30:10,422 Parameters: domain_dimensions         = [256  64 256]\n",
      "yt : [INFO     ] 2023-01-31 13:30:10,423 Parameters: domain_left_edge          = [0. 0. 0.]\n",
      "yt : [INFO     ] 2023-01-31 13:30:10,423 Parameters: domain_right_edge         = [2.636e-06 6.590e-07 2.636e-06]\n"
     ]
    },
    {
     "name": "stdout",
     "output_type": "stream",
     "text": [
      "~/nerscProject/dladiges/visctest100/5000partSC/CPU28/plt000017000/\n"
     ]
    },
    {
     "name": "stderr",
     "output_type": "stream",
     "text": [
      "yt : [INFO     ] 2023-01-31 13:30:12,185 Parameters: current_time              = 1.6253332459003148e-09\n",
      "yt : [INFO     ] 2023-01-31 13:30:12,186 Parameters: domain_dimensions         = [256  64 256]\n",
      "yt : [INFO     ] 2023-01-31 13:30:12,187 Parameters: domain_left_edge          = [0. 0. 0.]\n",
      "yt : [INFO     ] 2023-01-31 13:30:12,187 Parameters: domain_right_edge         = [2.636e-06 6.590e-07 2.636e-06]\n"
     ]
    },
    {
     "name": "stdout",
     "output_type": "stream",
     "text": [
      "~/nerscProject/dladiges/visctest100/5000partSC/CPU29/plt000017000/\n"
     ]
    },
    {
     "name": "stderr",
     "output_type": "stream",
     "text": [
      "yt : [INFO     ] 2023-01-31 13:30:14,184 Parameters: current_time              = 1.6253332459003148e-09\n",
      "yt : [INFO     ] 2023-01-31 13:30:14,185 Parameters: domain_dimensions         = [256  64 256]\n",
      "yt : [INFO     ] 2023-01-31 13:30:14,187 Parameters: domain_left_edge          = [0. 0. 0.]\n",
      "yt : [INFO     ] 2023-01-31 13:30:14,188 Parameters: domain_right_edge         = [2.636e-06 6.590e-07 2.636e-06]\n"
     ]
    },
    {
     "name": "stdout",
     "output_type": "stream",
     "text": [
      "~/nerscProject/dladiges/visctest100/5000partSC/CPU30/plt000017000/\n"
     ]
    },
    {
     "name": "stderr",
     "output_type": "stream",
     "text": [
      "yt : [INFO     ] 2023-01-31 13:30:16,021 Parameters: current_time              = 1.6253332459003148e-09\n",
      "yt : [INFO     ] 2023-01-31 13:30:16,021 Parameters: domain_dimensions         = [256  64 256]\n",
      "yt : [INFO     ] 2023-01-31 13:30:16,022 Parameters: domain_left_edge          = [0. 0. 0.]\n",
      "yt : [INFO     ] 2023-01-31 13:30:16,023 Parameters: domain_right_edge         = [2.636e-06 6.590e-07 2.636e-06]\n"
     ]
    },
    {
     "name": "stdout",
     "output_type": "stream",
     "text": [
      "~/nerscProject/dladiges/visctest100/5000partSC/CPU31/plt000017000/\n"
     ]
    },
    {
     "name": "stderr",
     "output_type": "stream",
     "text": [
      "yt : [INFO     ] 2023-01-31 13:30:17,880 Parameters: current_time              = 1.6253332459003148e-09\n",
      "yt : [INFO     ] 2023-01-31 13:30:17,881 Parameters: domain_dimensions         = [256  64 256]\n",
      "yt : [INFO     ] 2023-01-31 13:30:17,882 Parameters: domain_left_edge          = [0. 0. 0.]\n",
      "yt : [INFO     ] 2023-01-31 13:30:17,882 Parameters: domain_right_edge         = [2.636e-06 6.590e-07 2.636e-06]\n"
     ]
    },
    {
     "name": "stdout",
     "output_type": "stream",
     "text": [
      "~/nerscProject/dladiges/visctest100/5000partSC/CPU32/plt000017000/\n"
     ]
    },
    {
     "name": "stderr",
     "output_type": "stream",
     "text": [
      "yt : [INFO     ] 2023-01-31 13:30:20,262 Parameters: current_time              = 1.6253332459003148e-09\n",
      "yt : [INFO     ] 2023-01-31 13:30:20,263 Parameters: domain_dimensions         = [256  64 256]\n",
      "yt : [INFO     ] 2023-01-31 13:30:20,264 Parameters: domain_left_edge          = [0. 0. 0.]\n",
      "yt : [INFO     ] 2023-01-31 13:30:20,264 Parameters: domain_right_edge         = [2.636e-06 6.590e-07 2.636e-06]\n"
     ]
    },
    {
     "name": "stdout",
     "output_type": "stream",
     "text": [
      "~/nerscProject/dladiges/visctest100/5000partSC/CPU33/plt000017000/\n"
     ]
    },
    {
     "name": "stderr",
     "output_type": "stream",
     "text": [
      "yt : [INFO     ] 2023-01-31 13:30:21,958 Parameters: current_time              = 1.6253332459003148e-09\n",
      "yt : [INFO     ] 2023-01-31 13:30:21,959 Parameters: domain_dimensions         = [256  64 256]\n",
      "yt : [INFO     ] 2023-01-31 13:30:21,960 Parameters: domain_left_edge          = [0. 0. 0.]\n",
      "yt : [INFO     ] 2023-01-31 13:30:21,961 Parameters: domain_right_edge         = [2.636e-06 6.590e-07 2.636e-06]\n"
     ]
    },
    {
     "name": "stdout",
     "output_type": "stream",
     "text": [
      "~/nerscProject/dladiges/visctest100/5000partSC/CPU34/plt000017000/\n"
     ]
    },
    {
     "name": "stderr",
     "output_type": "stream",
     "text": [
      "yt : [INFO     ] 2023-01-31 13:30:23,747 Parameters: current_time              = 1.6253332459003148e-09\n",
      "yt : [INFO     ] 2023-01-31 13:30:23,748 Parameters: domain_dimensions         = [256  64 256]\n",
      "yt : [INFO     ] 2023-01-31 13:30:23,749 Parameters: domain_left_edge          = [0. 0. 0.]\n",
      "yt : [INFO     ] 2023-01-31 13:30:23,749 Parameters: domain_right_edge         = [2.636e-06 6.590e-07 2.636e-06]\n"
     ]
    },
    {
     "name": "stdout",
     "output_type": "stream",
     "text": [
      "~/nerscProject/dladiges/visctest100/5000partSC/CPU35/plt000017000/\n"
     ]
    },
    {
     "name": "stderr",
     "output_type": "stream",
     "text": [
      "yt : [INFO     ] 2023-01-31 13:30:25,779 Parameters: current_time              = 1.6253332459003148e-09\n",
      "yt : [INFO     ] 2023-01-31 13:30:25,780 Parameters: domain_dimensions         = [256  64 256]\n",
      "yt : [INFO     ] 2023-01-31 13:30:25,781 Parameters: domain_left_edge          = [0. 0. 0.]\n",
      "yt : [INFO     ] 2023-01-31 13:30:25,781 Parameters: domain_right_edge         = [2.636e-06 6.590e-07 2.636e-06]\n"
     ]
    },
    {
     "name": "stdout",
     "output_type": "stream",
     "text": [
      "~/nerscProject/dladiges/visctest100/5000partSC/CPU36/plt000017000/\n"
     ]
    },
    {
     "name": "stderr",
     "output_type": "stream",
     "text": [
      "yt : [INFO     ] 2023-01-31 13:30:27,542 Parameters: current_time              = 1.6253332459003148e-09\n",
      "yt : [INFO     ] 2023-01-31 13:30:27,544 Parameters: domain_dimensions         = [256  64 256]\n",
      "yt : [INFO     ] 2023-01-31 13:30:27,544 Parameters: domain_left_edge          = [0. 0. 0.]\n",
      "yt : [INFO     ] 2023-01-31 13:30:27,545 Parameters: domain_right_edge         = [2.636e-06 6.590e-07 2.636e-06]\n"
     ]
    },
    {
     "name": "stdout",
     "output_type": "stream",
     "text": [
      "~/nerscProject/dladiges/visctest100/5000partSC/CPU37/plt000017000/\n"
     ]
    },
    {
     "name": "stderr",
     "output_type": "stream",
     "text": [
      "yt : [INFO     ] 2023-01-31 13:30:29,432 Parameters: current_time              = 1.6253332459003148e-09\n",
      "yt : [INFO     ] 2023-01-31 13:30:29,433 Parameters: domain_dimensions         = [256  64 256]\n",
      "yt : [INFO     ] 2023-01-31 13:30:29,434 Parameters: domain_left_edge          = [0. 0. 0.]\n",
      "yt : [INFO     ] 2023-01-31 13:30:29,435 Parameters: domain_right_edge         = [2.636e-06 6.590e-07 2.636e-06]\n"
     ]
    },
    {
     "name": "stdout",
     "output_type": "stream",
     "text": [
      "~/nerscProject/dladiges/visctest100/5000partSC/CPU38/plt000017000/\n"
     ]
    },
    {
     "name": "stderr",
     "output_type": "stream",
     "text": [
      "yt : [INFO     ] 2023-01-31 13:30:31,731 Parameters: current_time              = 1.6253332459003148e-09\n",
      "yt : [INFO     ] 2023-01-31 13:30:31,732 Parameters: domain_dimensions         = [256  64 256]\n",
      "yt : [INFO     ] 2023-01-31 13:30:31,733 Parameters: domain_left_edge          = [0. 0. 0.]\n",
      "yt : [INFO     ] 2023-01-31 13:30:31,733 Parameters: domain_right_edge         = [2.636e-06 6.590e-07 2.636e-06]\n"
     ]
    },
    {
     "name": "stdout",
     "output_type": "stream",
     "text": [
      "~/nerscProject/dladiges/visctest100/5000partSC/CPU39/plt000017000/\n"
     ]
    },
    {
     "name": "stderr",
     "output_type": "stream",
     "text": [
      "yt : [INFO     ] 2023-01-31 13:30:33,405 Parameters: current_time              = 1.6253332459003148e-09\n",
      "yt : [INFO     ] 2023-01-31 13:30:33,406 Parameters: domain_dimensions         = [256  64 256]\n",
      "yt : [INFO     ] 2023-01-31 13:30:33,407 Parameters: domain_left_edge          = [0. 0. 0.]\n",
      "yt : [INFO     ] 2023-01-31 13:30:33,408 Parameters: domain_right_edge         = [2.636e-06 6.590e-07 2.636e-06]\n"
     ]
    },
    {
     "name": "stdout",
     "output_type": "stream",
     "text": [
      "~/nerscProject/dladiges/visctest100/5000partSC/CPU40/plt000017000/\n"
     ]
    },
    {
     "name": "stderr",
     "output_type": "stream",
     "text": [
      "yt : [INFO     ] 2023-01-31 13:30:35,115 Parameters: current_time              = 1.6253332459003148e-09\n",
      "yt : [INFO     ] 2023-01-31 13:30:35,116 Parameters: domain_dimensions         = [256  64 256]\n",
      "yt : [INFO     ] 2023-01-31 13:30:35,117 Parameters: domain_left_edge          = [0. 0. 0.]\n",
      "yt : [INFO     ] 2023-01-31 13:30:35,118 Parameters: domain_right_edge         = [2.636e-06 6.590e-07 2.636e-06]\n"
     ]
    },
    {
     "name": "stdout",
     "output_type": "stream",
     "text": [
      "~/nerscProject/dladiges/visctest100/5000partSC/CPU41/plt000017000/\n"
     ]
    },
    {
     "name": "stderr",
     "output_type": "stream",
     "text": [
      "yt : [INFO     ] 2023-01-31 13:30:36,993 Parameters: current_time              = 1.6253332459003148e-09\n",
      "yt : [INFO     ] 2023-01-31 13:30:36,994 Parameters: domain_dimensions         = [256  64 256]\n",
      "yt : [INFO     ] 2023-01-31 13:30:36,995 Parameters: domain_left_edge          = [0. 0. 0.]\n",
      "yt : [INFO     ] 2023-01-31 13:30:36,995 Parameters: domain_right_edge         = [2.636e-06 6.590e-07 2.636e-06]\n"
     ]
    },
    {
     "name": "stdout",
     "output_type": "stream",
     "text": [
      "~/nerscProject/dladiges/visctest100/5000partSC/CPU42/plt000017000/\n"
     ]
    },
    {
     "name": "stderr",
     "output_type": "stream",
     "text": [
      "yt : [INFO     ] 2023-01-31 13:30:38,674 Parameters: current_time              = 1.6253332459003148e-09\n",
      "yt : [INFO     ] 2023-01-31 13:30:38,675 Parameters: domain_dimensions         = [256  64 256]\n",
      "yt : [INFO     ] 2023-01-31 13:30:38,675 Parameters: domain_left_edge          = [0. 0. 0.]\n",
      "yt : [INFO     ] 2023-01-31 13:30:38,675 Parameters: domain_right_edge         = [2.636e-06 6.590e-07 2.636e-06]\n"
     ]
    },
    {
     "name": "stdout",
     "output_type": "stream",
     "text": [
      "~/nerscProject/dladiges/visctest100/5000partSC/CPU43/plt000017000/\n"
     ]
    },
    {
     "name": "stderr",
     "output_type": "stream",
     "text": [
      "yt : [INFO     ] 2023-01-31 13:30:40,427 Parameters: current_time              = 1.6253332459003148e-09\n",
      "yt : [INFO     ] 2023-01-31 13:30:40,428 Parameters: domain_dimensions         = [256  64 256]\n",
      "yt : [INFO     ] 2023-01-31 13:30:40,428 Parameters: domain_left_edge          = [0. 0. 0.]\n",
      "yt : [INFO     ] 2023-01-31 13:30:40,429 Parameters: domain_right_edge         = [2.636e-06 6.590e-07 2.636e-06]\n"
     ]
    },
    {
     "name": "stdout",
     "output_type": "stream",
     "text": [
      "~/nerscProject/dladiges/visctest100/5000partSC/CPU44/plt000017000/\n"
     ]
    },
    {
     "name": "stderr",
     "output_type": "stream",
     "text": [
      "yt : [INFO     ] 2023-01-31 13:30:42,242 Parameters: current_time              = 1.6253332459003148e-09\n",
      "yt : [INFO     ] 2023-01-31 13:30:42,243 Parameters: domain_dimensions         = [256  64 256]\n",
      "yt : [INFO     ] 2023-01-31 13:30:42,244 Parameters: domain_left_edge          = [0. 0. 0.]\n",
      "yt : [INFO     ] 2023-01-31 13:30:42,246 Parameters: domain_right_edge         = [2.636e-06 6.590e-07 2.636e-06]\n"
     ]
    },
    {
     "name": "stdout",
     "output_type": "stream",
     "text": [
      "~/nerscProject/dladiges/visctest100/5000partSC/CPU45/plt000017000/\n"
     ]
    },
    {
     "name": "stderr",
     "output_type": "stream",
     "text": [
      "yt : [INFO     ] 2023-01-31 13:30:44,600 Parameters: current_time              = 1.6253332459003148e-09\n",
      "yt : [INFO     ] 2023-01-31 13:30:44,601 Parameters: domain_dimensions         = [256  64 256]\n",
      "yt : [INFO     ] 2023-01-31 13:30:44,601 Parameters: domain_left_edge          = [0. 0. 0.]\n",
      "yt : [INFO     ] 2023-01-31 13:30:44,602 Parameters: domain_right_edge         = [2.636e-06 6.590e-07 2.636e-06]\n"
     ]
    },
    {
     "name": "stdout",
     "output_type": "stream",
     "text": [
      "~/nerscProject/dladiges/visctest100/5000partSC/CPU46/plt000017000/\n"
     ]
    },
    {
     "name": "stderr",
     "output_type": "stream",
     "text": [
      "yt : [INFO     ] 2023-01-31 13:30:46,557 Parameters: current_time              = 1.6253332459003148e-09\n",
      "yt : [INFO     ] 2023-01-31 13:30:46,558 Parameters: domain_dimensions         = [256  64 256]\n",
      "yt : [INFO     ] 2023-01-31 13:30:46,558 Parameters: domain_left_edge          = [0. 0. 0.]\n",
      "yt : [INFO     ] 2023-01-31 13:30:46,559 Parameters: domain_right_edge         = [2.636e-06 6.590e-07 2.636e-06]\n"
     ]
    },
    {
     "name": "stdout",
     "output_type": "stream",
     "text": [
      "~/nerscProject/dladiges/visctest100/5000partSC/CPU47/plt000017000/\n"
     ]
    },
    {
     "name": "stderr",
     "output_type": "stream",
     "text": [
      "yt : [INFO     ] 2023-01-31 13:30:48,300 Parameters: current_time              = 1.6253332459003148e-09\n",
      "yt : [INFO     ] 2023-01-31 13:30:48,301 Parameters: domain_dimensions         = [256  64 256]\n",
      "yt : [INFO     ] 2023-01-31 13:30:48,302 Parameters: domain_left_edge          = [0. 0. 0.]\n",
      "yt : [INFO     ] 2023-01-31 13:30:48,303 Parameters: domain_right_edge         = [2.636e-06 6.590e-07 2.636e-06]\n"
     ]
    },
    {
     "name": "stdout",
     "output_type": "stream",
     "text": [
      "~/nerscProject/dladiges/visctest100/5000partSC/CPU48/plt000017000/\n"
     ]
    },
    {
     "name": "stderr",
     "output_type": "stream",
     "text": [
      "yt : [INFO     ] 2023-01-31 13:30:50,189 Parameters: current_time              = 1.6253332459003148e-09\n",
      "yt : [INFO     ] 2023-01-31 13:30:50,190 Parameters: domain_dimensions         = [256  64 256]\n",
      "yt : [INFO     ] 2023-01-31 13:30:50,192 Parameters: domain_left_edge          = [0. 0. 0.]\n",
      "yt : [INFO     ] 2023-01-31 13:30:50,193 Parameters: domain_right_edge         = [2.636e-06 6.590e-07 2.636e-06]\n"
     ]
    },
    {
     "name": "stdout",
     "output_type": "stream",
     "text": [
      "~/nerscProject/dladiges/visctest100/5000partSC/CPU49/plt000017000/\n"
     ]
    },
    {
     "name": "stderr",
     "output_type": "stream",
     "text": [
      "yt : [INFO     ] 2023-01-31 13:30:51,880 Parameters: current_time              = 1.6253332459003148e-09\n",
      "yt : [INFO     ] 2023-01-31 13:30:51,881 Parameters: domain_dimensions         = [256  64 256]\n",
      "yt : [INFO     ] 2023-01-31 13:30:51,882 Parameters: domain_left_edge          = [0. 0. 0.]\n",
      "yt : [INFO     ] 2023-01-31 13:30:51,882 Parameters: domain_right_edge         = [2.636e-06 6.590e-07 2.636e-06]\n"
     ]
    },
    {
     "name": "stdout",
     "output_type": "stream",
     "text": [
      "~/nerscProject/dladiges/visctest100/5000partSC/CPU50/plt000017000/\n"
     ]
    },
    {
     "name": "stderr",
     "output_type": "stream",
     "text": [
      "yt : [INFO     ] 2023-01-31 13:30:53,710 Parameters: current_time              = 1.6253332459003148e-09\n",
      "yt : [INFO     ] 2023-01-31 13:30:53,711 Parameters: domain_dimensions         = [256  64 256]\n",
      "yt : [INFO     ] 2023-01-31 13:30:53,711 Parameters: domain_left_edge          = [0. 0. 0.]\n",
      "yt : [INFO     ] 2023-01-31 13:30:53,712 Parameters: domain_right_edge         = [2.636e-06 6.590e-07 2.636e-06]\n"
     ]
    },
    {
     "name": "stdout",
     "output_type": "stream",
     "text": [
      "~/nerscProject/dladiges/visctest100/5000partSC/CPU51/plt000017000/\n"
     ]
    },
    {
     "name": "stderr",
     "output_type": "stream",
     "text": [
      "yt : [INFO     ] 2023-01-31 13:30:55,617 Parameters: current_time              = 1.6253332459003148e-09\n",
      "yt : [INFO     ] 2023-01-31 13:30:55,619 Parameters: domain_dimensions         = [256  64 256]\n",
      "yt : [INFO     ] 2023-01-31 13:30:55,620 Parameters: domain_left_edge          = [0. 0. 0.]\n",
      "yt : [INFO     ] 2023-01-31 13:30:55,620 Parameters: domain_right_edge         = [2.636e-06 6.590e-07 2.636e-06]\n"
     ]
    },
    {
     "name": "stdout",
     "output_type": "stream",
     "text": [
      "~/nerscProject/dladiges/visctest100/5000partSC/CPU52/plt000017000/\n"
     ]
    },
    {
     "name": "stderr",
     "output_type": "stream",
     "text": [
      "yt : [INFO     ] 2023-01-31 13:30:57,380 Parameters: current_time              = 1.6253332459003148e-09\n",
      "yt : [INFO     ] 2023-01-31 13:30:57,381 Parameters: domain_dimensions         = [256  64 256]\n",
      "yt : [INFO     ] 2023-01-31 13:30:57,381 Parameters: domain_left_edge          = [0. 0. 0.]\n",
      "yt : [INFO     ] 2023-01-31 13:30:57,382 Parameters: domain_right_edge         = [2.636e-06 6.590e-07 2.636e-06]\n"
     ]
    },
    {
     "name": "stdout",
     "output_type": "stream",
     "text": [
      "~/nerscProject/dladiges/visctest100/5000partSC/CPU53/plt000017000/\n"
     ]
    },
    {
     "name": "stderr",
     "output_type": "stream",
     "text": [
      "yt : [INFO     ] 2023-01-31 13:30:59,366 Parameters: current_time              = 1.6253332459003148e-09\n",
      "yt : [INFO     ] 2023-01-31 13:30:59,367 Parameters: domain_dimensions         = [256  64 256]\n",
      "yt : [INFO     ] 2023-01-31 13:30:59,368 Parameters: domain_left_edge          = [0. 0. 0.]\n",
      "yt : [INFO     ] 2023-01-31 13:30:59,369 Parameters: domain_right_edge         = [2.636e-06 6.590e-07 2.636e-06]\n"
     ]
    },
    {
     "name": "stdout",
     "output_type": "stream",
     "text": [
      "~/nerscProject/dladiges/visctest100/5000partSC/CPU54/plt000017000/\n"
     ]
    },
    {
     "name": "stderr",
     "output_type": "stream",
     "text": [
      "yt : [INFO     ] 2023-01-31 13:31:04,197 Parameters: current_time              = 1.6253332459003148e-09\n",
      "yt : [INFO     ] 2023-01-31 13:31:04,198 Parameters: domain_dimensions         = [256  64 256]\n",
      "yt : [INFO     ] 2023-01-31 13:31:04,199 Parameters: domain_left_edge          = [0. 0. 0.]\n",
      "yt : [INFO     ] 2023-01-31 13:31:04,200 Parameters: domain_right_edge         = [2.636e-06 6.590e-07 2.636e-06]\n"
     ]
    },
    {
     "name": "stdout",
     "output_type": "stream",
     "text": [
      "~/nerscProject/dladiges/visctest100/5000partSC/CPU55/plt000017000/\n"
     ]
    },
    {
     "name": "stderr",
     "output_type": "stream",
     "text": [
      "yt : [INFO     ] 2023-01-31 13:31:11,132 Parameters: current_time              = 1.6253332459003148e-09\n",
      "yt : [INFO     ] 2023-01-31 13:31:11,133 Parameters: domain_dimensions         = [256  64 256]\n",
      "yt : [INFO     ] 2023-01-31 13:31:11,134 Parameters: domain_left_edge          = [0. 0. 0.]\n",
      "yt : [INFO     ] 2023-01-31 13:31:11,136 Parameters: domain_right_edge         = [2.636e-06 6.590e-07 2.636e-06]\n"
     ]
    },
    {
     "name": "stdout",
     "output_type": "stream",
     "text": [
      "~/nerscProject/dladiges/visctest100/5000partSC/CPU56/plt000017000/\n"
     ]
    },
    {
     "name": "stderr",
     "output_type": "stream",
     "text": [
      "yt : [INFO     ] 2023-01-31 13:31:17,938 Parameters: current_time              = 1.6253332459003148e-09\n",
      "yt : [INFO     ] 2023-01-31 13:31:17,939 Parameters: domain_dimensions         = [256  64 256]\n",
      "yt : [INFO     ] 2023-01-31 13:31:17,940 Parameters: domain_left_edge          = [0. 0. 0.]\n",
      "yt : [INFO     ] 2023-01-31 13:31:17,941 Parameters: domain_right_edge         = [2.636e-06 6.590e-07 2.636e-06]\n"
     ]
    },
    {
     "name": "stdout",
     "output_type": "stream",
     "text": [
      "~/nerscProject/dladiges/visctest100/5000partSC/CPU57/plt000017000/\n"
     ]
    },
    {
     "name": "stderr",
     "output_type": "stream",
     "text": [
      "yt : [INFO     ] 2023-01-31 13:31:25,015 Parameters: current_time              = 1.6253332459003148e-09\n",
      "yt : [INFO     ] 2023-01-31 13:31:25,016 Parameters: domain_dimensions         = [256  64 256]\n",
      "yt : [INFO     ] 2023-01-31 13:31:25,017 Parameters: domain_left_edge          = [0. 0. 0.]\n",
      "yt : [INFO     ] 2023-01-31 13:31:25,018 Parameters: domain_right_edge         = [2.636e-06 6.590e-07 2.636e-06]\n"
     ]
    },
    {
     "name": "stdout",
     "output_type": "stream",
     "text": [
      "~/nerscProject/dladiges/visctest100/5000partSC/CPU58/plt000017000/\n"
     ]
    },
    {
     "name": "stderr",
     "output_type": "stream",
     "text": [
      "yt : [INFO     ] 2023-01-31 13:31:31,799 Parameters: current_time              = 1.6253332459003148e-09\n",
      "yt : [INFO     ] 2023-01-31 13:31:31,800 Parameters: domain_dimensions         = [256  64 256]\n",
      "yt : [INFO     ] 2023-01-31 13:31:31,801 Parameters: domain_left_edge          = [0. 0. 0.]\n",
      "yt : [INFO     ] 2023-01-31 13:31:31,802 Parameters: domain_right_edge         = [2.636e-06 6.590e-07 2.636e-06]\n"
     ]
    },
    {
     "name": "stdout",
     "output_type": "stream",
     "text": [
      "~/nerscProject/dladiges/visctest100/5000partSC/CPU59/plt000017000/\n"
     ]
    },
    {
     "name": "stderr",
     "output_type": "stream",
     "text": [
      "yt : [INFO     ] 2023-01-31 13:31:39,146 Parameters: current_time              = 1.6253332459003148e-09\n",
      "yt : [INFO     ] 2023-01-31 13:31:39,148 Parameters: domain_dimensions         = [256  64 256]\n",
      "yt : [INFO     ] 2023-01-31 13:31:39,149 Parameters: domain_left_edge          = [0. 0. 0.]\n",
      "yt : [INFO     ] 2023-01-31 13:31:39,150 Parameters: domain_right_edge         = [2.636e-06 6.590e-07 2.636e-06]\n"
     ]
    },
    {
     "name": "stdout",
     "output_type": "stream",
     "text": [
      "~/nerscProject/dladiges/visctest100/5000partSC/CPU60/plt000017000/\n"
     ]
    },
    {
     "name": "stderr",
     "output_type": "stream",
     "text": [
      "yt : [INFO     ] 2023-01-31 13:31:45,990 Parameters: current_time              = 1.6253332459003148e-09\n",
      "yt : [INFO     ] 2023-01-31 13:31:45,991 Parameters: domain_dimensions         = [256  64 256]\n",
      "yt : [INFO     ] 2023-01-31 13:31:45,992 Parameters: domain_left_edge          = [0. 0. 0.]\n",
      "yt : [INFO     ] 2023-01-31 13:31:45,993 Parameters: domain_right_edge         = [2.636e-06 6.590e-07 2.636e-06]\n"
     ]
    },
    {
     "name": "stdout",
     "output_type": "stream",
     "text": [
      "~/nerscProject/dladiges/visctest100/5000partSC/CPU61/plt000017000/\n"
     ]
    },
    {
     "name": "stderr",
     "output_type": "stream",
     "text": [
      "yt : [INFO     ] 2023-01-31 13:31:52,950 Parameters: current_time              = 1.6253332459003148e-09\n",
      "yt : [INFO     ] 2023-01-31 13:31:52,952 Parameters: domain_dimensions         = [256  64 256]\n",
      "yt : [INFO     ] 2023-01-31 13:31:52,953 Parameters: domain_left_edge          = [0. 0. 0.]\n",
      "yt : [INFO     ] 2023-01-31 13:31:52,954 Parameters: domain_right_edge         = [2.636e-06 6.590e-07 2.636e-06]\n"
     ]
    },
    {
     "name": "stdout",
     "output_type": "stream",
     "text": [
      "~/nerscProject/dladiges/visctest100/5000partSC/CPU62/plt000017000/\n"
     ]
    },
    {
     "name": "stderr",
     "output_type": "stream",
     "text": [
      "yt : [INFO     ] 2023-01-31 13:32:00,271 Parameters: current_time              = 1.6253332459003148e-09\n",
      "yt : [INFO     ] 2023-01-31 13:32:00,273 Parameters: domain_dimensions         = [256  64 256]\n",
      "yt : [INFO     ] 2023-01-31 13:32:00,274 Parameters: domain_left_edge          = [0. 0. 0.]\n",
      "yt : [INFO     ] 2023-01-31 13:32:00,275 Parameters: domain_right_edge         = [2.636e-06 6.590e-07 2.636e-06]\n"
     ]
    },
    {
     "name": "stdout",
     "output_type": "stream",
     "text": [
      "~/nerscProject/dladiges/visctest100/5000partSC/CPU63/plt000017000/\n"
     ]
    },
    {
     "name": "stderr",
     "output_type": "stream",
     "text": [
      "yt : [INFO     ] 2023-01-31 13:32:06,970 Parameters: current_time              = 1.6253332459003148e-09\n",
      "yt : [INFO     ] 2023-01-31 13:32:06,971 Parameters: domain_dimensions         = [256  64 256]\n",
      "yt : [INFO     ] 2023-01-31 13:32:06,973 Parameters: domain_left_edge          = [0. 0. 0.]\n",
      "yt : [INFO     ] 2023-01-31 13:32:06,974 Parameters: domain_right_edge         = [2.636e-06 6.590e-07 2.636e-06]\n"
     ]
    }
   ],
   "source": [
    "data = \"~/nerscProject/dladiges/visctest100/5000partSC/CPU\"\n",
    "time = \"/plt0000\"+\"17000/\"\n",
    "bins = 64\n",
    "ens= 64\n",
    "yall5000 = np.zeros((ens,bins))\n",
    "i=0\n",
    "for i in range(ens):\n",
    "    stri = data + str(i).zfill(2)\n",
    "    xt, yall5000[i] = return_y_plt(stri,time,nbins=bins,field=\"averaged_meanx\")"
   ]
  },
  {
   "cell_type": "code",
   "execution_count": 14,
   "id": "17ecaede-657d-47ba-8f2e-e1528acb9713",
   "metadata": {},
   "outputs": [
    {
     "name": "stdout",
     "output_type": "stream",
     "text": [
      "~/nerscProject/dladiges/visctest100/10000partSC/CPU00/plt000017000/\n"
     ]
    },
    {
     "name": "stderr",
     "output_type": "stream",
     "text": [
      "yt : [INFO     ] 2023-01-31 13:35:55,573 Parameters: current_time              = 8.126666229501574e-10\n",
      "yt : [INFO     ] 2023-01-31 13:35:55,574 Parameters: domain_dimensions         = [256  64 256]\n",
      "yt : [INFO     ] 2023-01-31 13:35:55,574 Parameters: domain_left_edge          = [0. 0. 0.]\n",
      "yt : [INFO     ] 2023-01-31 13:35:55,575 Parameters: domain_right_edge         = [2.636e-06 6.590e-07 2.636e-06]\n"
     ]
    },
    {
     "name": "stdout",
     "output_type": "stream",
     "text": [
      "~/nerscProject/dladiges/visctest100/10000partSC/CPU01/plt000017000/\n"
     ]
    },
    {
     "name": "stderr",
     "output_type": "stream",
     "text": [
      "yt : [INFO     ] 2023-01-31 13:35:57,358 Parameters: current_time              = 8.126666229501574e-10\n",
      "yt : [INFO     ] 2023-01-31 13:35:57,358 Parameters: domain_dimensions         = [256  64 256]\n",
      "yt : [INFO     ] 2023-01-31 13:35:57,359 Parameters: domain_left_edge          = [0. 0. 0.]\n",
      "yt : [INFO     ] 2023-01-31 13:35:57,360 Parameters: domain_right_edge         = [2.636e-06 6.590e-07 2.636e-06]\n"
     ]
    },
    {
     "name": "stdout",
     "output_type": "stream",
     "text": [
      "~/nerscProject/dladiges/visctest100/10000partSC/CPU02/plt000017000/\n"
     ]
    },
    {
     "name": "stderr",
     "output_type": "stream",
     "text": [
      "yt : [INFO     ] 2023-01-31 13:35:59,219 Parameters: current_time              = 8.126666229501574e-10\n",
      "yt : [INFO     ] 2023-01-31 13:35:59,220 Parameters: domain_dimensions         = [256  64 256]\n",
      "yt : [INFO     ] 2023-01-31 13:35:59,221 Parameters: domain_left_edge          = [0. 0. 0.]\n",
      "yt : [INFO     ] 2023-01-31 13:35:59,222 Parameters: domain_right_edge         = [2.636e-06 6.590e-07 2.636e-06]\n"
     ]
    },
    {
     "name": "stdout",
     "output_type": "stream",
     "text": [
      "~/nerscProject/dladiges/visctest100/10000partSC/CPU03/plt000017000/\n"
     ]
    },
    {
     "name": "stderr",
     "output_type": "stream",
     "text": [
      "yt : [INFO     ] 2023-01-31 13:36:00,993 Parameters: current_time              = 8.126666229501574e-10\n",
      "yt : [INFO     ] 2023-01-31 13:36:00,994 Parameters: domain_dimensions         = [256  64 256]\n",
      "yt : [INFO     ] 2023-01-31 13:36:00,995 Parameters: domain_left_edge          = [0. 0. 0.]\n",
      "yt : [INFO     ] 2023-01-31 13:36:00,997 Parameters: domain_right_edge         = [2.636e-06 6.590e-07 2.636e-06]\n"
     ]
    },
    {
     "name": "stdout",
     "output_type": "stream",
     "text": [
      "~/nerscProject/dladiges/visctest100/10000partSC/CPU04/plt000017000/\n"
     ]
    },
    {
     "name": "stderr",
     "output_type": "stream",
     "text": [
      "yt : [INFO     ] 2023-01-31 13:36:02,625 Parameters: current_time              = 8.126666229501574e-10\n",
      "yt : [INFO     ] 2023-01-31 13:36:02,626 Parameters: domain_dimensions         = [256  64 256]\n",
      "yt : [INFO     ] 2023-01-31 13:36:02,626 Parameters: domain_left_edge          = [0. 0. 0.]\n",
      "yt : [INFO     ] 2023-01-31 13:36:02,627 Parameters: domain_right_edge         = [2.636e-06 6.590e-07 2.636e-06]\n"
     ]
    },
    {
     "name": "stdout",
     "output_type": "stream",
     "text": [
      "~/nerscProject/dladiges/visctest100/10000partSC/CPU05/plt000017000/\n"
     ]
    },
    {
     "name": "stderr",
     "output_type": "stream",
     "text": [
      "yt : [INFO     ] 2023-01-31 13:36:04,303 Parameters: current_time              = 8.126666229501574e-10\n",
      "yt : [INFO     ] 2023-01-31 13:36:04,304 Parameters: domain_dimensions         = [256  64 256]\n",
      "yt : [INFO     ] 2023-01-31 13:36:04,304 Parameters: domain_left_edge          = [0. 0. 0.]\n",
      "yt : [INFO     ] 2023-01-31 13:36:04,305 Parameters: domain_right_edge         = [2.636e-06 6.590e-07 2.636e-06]\n"
     ]
    },
    {
     "name": "stdout",
     "output_type": "stream",
     "text": [
      "~/nerscProject/dladiges/visctest100/10000partSC/CPU06/plt000017000/\n"
     ]
    },
    {
     "name": "stderr",
     "output_type": "stream",
     "text": [
      "yt : [INFO     ] 2023-01-31 13:36:05,922 Parameters: current_time              = 8.126666229501574e-10\n",
      "yt : [INFO     ] 2023-01-31 13:36:05,923 Parameters: domain_dimensions         = [256  64 256]\n",
      "yt : [INFO     ] 2023-01-31 13:36:05,923 Parameters: domain_left_edge          = [0. 0. 0.]\n",
      "yt : [INFO     ] 2023-01-31 13:36:05,924 Parameters: domain_right_edge         = [2.636e-06 6.590e-07 2.636e-06]\n"
     ]
    },
    {
     "name": "stdout",
     "output_type": "stream",
     "text": [
      "~/nerscProject/dladiges/visctest100/10000partSC/CPU07/plt000017000/\n"
     ]
    },
    {
     "name": "stderr",
     "output_type": "stream",
     "text": [
      "yt : [INFO     ] 2023-01-31 13:36:07,585 Parameters: current_time              = 8.126666229501574e-10\n",
      "yt : [INFO     ] 2023-01-31 13:36:07,586 Parameters: domain_dimensions         = [256  64 256]\n",
      "yt : [INFO     ] 2023-01-31 13:36:07,587 Parameters: domain_left_edge          = [0. 0. 0.]\n",
      "yt : [INFO     ] 2023-01-31 13:36:07,588 Parameters: domain_right_edge         = [2.636e-06 6.590e-07 2.636e-06]\n"
     ]
    },
    {
     "name": "stdout",
     "output_type": "stream",
     "text": [
      "~/nerscProject/dladiges/visctest100/10000partSC/CPU08/plt000017000/\n"
     ]
    },
    {
     "name": "stderr",
     "output_type": "stream",
     "text": [
      "yt : [INFO     ] 2023-01-31 13:36:09,277 Parameters: current_time              = 8.126666229501574e-10\n",
      "yt : [INFO     ] 2023-01-31 13:36:09,278 Parameters: domain_dimensions         = [256  64 256]\n",
      "yt : [INFO     ] 2023-01-31 13:36:09,278 Parameters: domain_left_edge          = [0. 0. 0.]\n",
      "yt : [INFO     ] 2023-01-31 13:36:09,279 Parameters: domain_right_edge         = [2.636e-06 6.590e-07 2.636e-06]\n"
     ]
    },
    {
     "name": "stdout",
     "output_type": "stream",
     "text": [
      "~/nerscProject/dladiges/visctest100/10000partSC/CPU09/plt000017000/\n"
     ]
    },
    {
     "name": "stderr",
     "output_type": "stream",
     "text": [
      "yt : [INFO     ] 2023-01-31 13:36:10,944 Parameters: current_time              = 8.126666229501574e-10\n",
      "yt : [INFO     ] 2023-01-31 13:36:10,945 Parameters: domain_dimensions         = [256  64 256]\n",
      "yt : [INFO     ] 2023-01-31 13:36:10,946 Parameters: domain_left_edge          = [0. 0. 0.]\n",
      "yt : [INFO     ] 2023-01-31 13:36:10,946 Parameters: domain_right_edge         = [2.636e-06 6.590e-07 2.636e-06]\n"
     ]
    },
    {
     "name": "stdout",
     "output_type": "stream",
     "text": [
      "~/nerscProject/dladiges/visctest100/10000partSC/CPU10/plt000017000/\n"
     ]
    },
    {
     "name": "stderr",
     "output_type": "stream",
     "text": [
      "yt : [INFO     ] 2023-01-31 13:36:12,727 Parameters: current_time              = 8.126666229501574e-10\n",
      "yt : [INFO     ] 2023-01-31 13:36:12,727 Parameters: domain_dimensions         = [256  64 256]\n",
      "yt : [INFO     ] 2023-01-31 13:36:12,728 Parameters: domain_left_edge          = [0. 0. 0.]\n",
      "yt : [INFO     ] 2023-01-31 13:36:12,729 Parameters: domain_right_edge         = [2.636e-06 6.590e-07 2.636e-06]\n"
     ]
    },
    {
     "name": "stdout",
     "output_type": "stream",
     "text": [
      "~/nerscProject/dladiges/visctest100/10000partSC/CPU11/plt000017000/\n"
     ]
    },
    {
     "name": "stderr",
     "output_type": "stream",
     "text": [
      "yt : [INFO     ] 2023-01-31 13:36:14,448 Parameters: current_time              = 8.126666229501574e-10\n",
      "yt : [INFO     ] 2023-01-31 13:36:14,449 Parameters: domain_dimensions         = [256  64 256]\n",
      "yt : [INFO     ] 2023-01-31 13:36:14,450 Parameters: domain_left_edge          = [0. 0. 0.]\n",
      "yt : [INFO     ] 2023-01-31 13:36:14,450 Parameters: domain_right_edge         = [2.636e-06 6.590e-07 2.636e-06]\n"
     ]
    },
    {
     "name": "stdout",
     "output_type": "stream",
     "text": [
      "~/nerscProject/dladiges/visctest100/10000partSC/CPU12/plt000017000/\n"
     ]
    },
    {
     "name": "stderr",
     "output_type": "stream",
     "text": [
      "yt : [INFO     ] 2023-01-31 13:36:18,504 Parameters: current_time              = 8.126666229501574e-10\n",
      "yt : [INFO     ] 2023-01-31 13:36:18,505 Parameters: domain_dimensions         = [256  64 256]\n",
      "yt : [INFO     ] 2023-01-31 13:36:18,505 Parameters: domain_left_edge          = [0. 0. 0.]\n",
      "yt : [INFO     ] 2023-01-31 13:36:18,506 Parameters: domain_right_edge         = [2.636e-06 6.590e-07 2.636e-06]\n"
     ]
    },
    {
     "name": "stdout",
     "output_type": "stream",
     "text": [
      "~/nerscProject/dladiges/visctest100/10000partSC/CPU13/plt000017000/\n"
     ]
    },
    {
     "name": "stderr",
     "output_type": "stream",
     "text": [
      "yt : [INFO     ] 2023-01-31 13:36:20,155 Parameters: current_time              = 8.126666229501574e-10\n",
      "yt : [INFO     ] 2023-01-31 13:36:20,156 Parameters: domain_dimensions         = [256  64 256]\n",
      "yt : [INFO     ] 2023-01-31 13:36:20,156 Parameters: domain_left_edge          = [0. 0. 0.]\n",
      "yt : [INFO     ] 2023-01-31 13:36:20,157 Parameters: domain_right_edge         = [2.636e-06 6.590e-07 2.636e-06]\n"
     ]
    },
    {
     "name": "stdout",
     "output_type": "stream",
     "text": [
      "~/nerscProject/dladiges/visctest100/10000partSC/CPU14/plt000017000/\n"
     ]
    },
    {
     "name": "stderr",
     "output_type": "stream",
     "text": [
      "yt : [INFO     ] 2023-01-31 13:36:21,939 Parameters: current_time              = 8.126666229501574e-10\n",
      "yt : [INFO     ] 2023-01-31 13:36:21,940 Parameters: domain_dimensions         = [256  64 256]\n",
      "yt : [INFO     ] 2023-01-31 13:36:21,941 Parameters: domain_left_edge          = [0. 0. 0.]\n",
      "yt : [INFO     ] 2023-01-31 13:36:21,942 Parameters: domain_right_edge         = [2.636e-06 6.590e-07 2.636e-06]\n"
     ]
    },
    {
     "name": "stdout",
     "output_type": "stream",
     "text": [
      "~/nerscProject/dladiges/visctest100/10000partSC/CPU15/plt000017000/\n"
     ]
    },
    {
     "name": "stderr",
     "output_type": "stream",
     "text": [
      "yt : [INFO     ] 2023-01-31 13:36:23,774 Parameters: current_time              = 8.126666229501574e-10\n",
      "yt : [INFO     ] 2023-01-31 13:36:23,775 Parameters: domain_dimensions         = [256  64 256]\n",
      "yt : [INFO     ] 2023-01-31 13:36:23,776 Parameters: domain_left_edge          = [0. 0. 0.]\n",
      "yt : [INFO     ] 2023-01-31 13:36:23,776 Parameters: domain_right_edge         = [2.636e-06 6.590e-07 2.636e-06]\n"
     ]
    },
    {
     "name": "stdout",
     "output_type": "stream",
     "text": [
      "~/nerscProject/dladiges/visctest100/10000partSC/CPU16/plt000017000/\n"
     ]
    },
    {
     "name": "stderr",
     "output_type": "stream",
     "text": [
      "yt : [INFO     ] 2023-01-31 13:36:25,466 Parameters: current_time              = 8.126666229501574e-10\n",
      "yt : [INFO     ] 2023-01-31 13:36:25,467 Parameters: domain_dimensions         = [256  64 256]\n",
      "yt : [INFO     ] 2023-01-31 13:36:25,469 Parameters: domain_left_edge          = [0. 0. 0.]\n",
      "yt : [INFO     ] 2023-01-31 13:36:25,470 Parameters: domain_right_edge         = [2.636e-06 6.590e-07 2.636e-06]\n"
     ]
    },
    {
     "name": "stdout",
     "output_type": "stream",
     "text": [
      "~/nerscProject/dladiges/visctest100/10000partSC/CPU17/plt000017000/\n"
     ]
    },
    {
     "name": "stderr",
     "output_type": "stream",
     "text": [
      "yt : [INFO     ] 2023-01-31 13:36:27,237 Parameters: current_time              = 8.126666229501574e-10\n",
      "yt : [INFO     ] 2023-01-31 13:36:27,238 Parameters: domain_dimensions         = [256  64 256]\n",
      "yt : [INFO     ] 2023-01-31 13:36:27,239 Parameters: domain_left_edge          = [0. 0. 0.]\n",
      "yt : [INFO     ] 2023-01-31 13:36:27,241 Parameters: domain_right_edge         = [2.636e-06 6.590e-07 2.636e-06]\n"
     ]
    },
    {
     "name": "stdout",
     "output_type": "stream",
     "text": [
      "~/nerscProject/dladiges/visctest100/10000partSC/CPU18/plt000017000/\n"
     ]
    },
    {
     "name": "stderr",
     "output_type": "stream",
     "text": [
      "yt : [INFO     ] 2023-01-31 13:36:29,097 Parameters: current_time              = 8.126666229501574e-10\n",
      "yt : [INFO     ] 2023-01-31 13:36:29,098 Parameters: domain_dimensions         = [256  64 256]\n",
      "yt : [INFO     ] 2023-01-31 13:36:29,099 Parameters: domain_left_edge          = [0. 0. 0.]\n",
      "yt : [INFO     ] 2023-01-31 13:36:29,099 Parameters: domain_right_edge         = [2.636e-06 6.590e-07 2.636e-06]\n"
     ]
    },
    {
     "name": "stdout",
     "output_type": "stream",
     "text": [
      "~/nerscProject/dladiges/visctest100/10000partSC/CPU19/plt000017000/\n"
     ]
    },
    {
     "name": "stderr",
     "output_type": "stream",
     "text": [
      "yt : [INFO     ] 2023-01-31 13:36:30,847 Parameters: current_time              = 8.126666229501574e-10\n",
      "yt : [INFO     ] 2023-01-31 13:36:30,848 Parameters: domain_dimensions         = [256  64 256]\n",
      "yt : [INFO     ] 2023-01-31 13:36:30,848 Parameters: domain_left_edge          = [0. 0. 0.]\n",
      "yt : [INFO     ] 2023-01-31 13:36:30,849 Parameters: domain_right_edge         = [2.636e-06 6.590e-07 2.636e-06]\n"
     ]
    },
    {
     "name": "stdout",
     "output_type": "stream",
     "text": [
      "~/nerscProject/dladiges/visctest100/10000partSC/CPU20/plt000017000/\n"
     ]
    },
    {
     "name": "stderr",
     "output_type": "stream",
     "text": [
      "yt : [INFO     ] 2023-01-31 13:36:32,657 Parameters: current_time              = 8.126666229501574e-10\n",
      "yt : [INFO     ] 2023-01-31 13:36:32,658 Parameters: domain_dimensions         = [256  64 256]\n",
      "yt : [INFO     ] 2023-01-31 13:36:32,659 Parameters: domain_left_edge          = [0. 0. 0.]\n",
      "yt : [INFO     ] 2023-01-31 13:36:32,660 Parameters: domain_right_edge         = [2.636e-06 6.590e-07 2.636e-06]\n"
     ]
    },
    {
     "name": "stdout",
     "output_type": "stream",
     "text": [
      "~/nerscProject/dladiges/visctest100/10000partSC/CPU21/plt000017000/\n"
     ]
    },
    {
     "name": "stderr",
     "output_type": "stream",
     "text": [
      "yt : [INFO     ] 2023-01-31 13:36:34,273 Parameters: current_time              = 8.126666229501574e-10\n",
      "yt : [INFO     ] 2023-01-31 13:36:34,274 Parameters: domain_dimensions         = [256  64 256]\n",
      "yt : [INFO     ] 2023-01-31 13:36:34,275 Parameters: domain_left_edge          = [0. 0. 0.]\n",
      "yt : [INFO     ] 2023-01-31 13:36:34,276 Parameters: domain_right_edge         = [2.636e-06 6.590e-07 2.636e-06]\n"
     ]
    },
    {
     "name": "stdout",
     "output_type": "stream",
     "text": [
      "~/nerscProject/dladiges/visctest100/10000partSC/CPU22/plt000017000/\n"
     ]
    },
    {
     "name": "stderr",
     "output_type": "stream",
     "text": [
      "yt : [INFO     ] 2023-01-31 13:36:36,314 Parameters: current_time              = 8.126666229501574e-10\n",
      "yt : [INFO     ] 2023-01-31 13:36:36,315 Parameters: domain_dimensions         = [256  64 256]\n",
      "yt : [INFO     ] 2023-01-31 13:36:36,316 Parameters: domain_left_edge          = [0. 0. 0.]\n",
      "yt : [INFO     ] 2023-01-31 13:36:36,316 Parameters: domain_right_edge         = [2.636e-06 6.590e-07 2.636e-06]\n"
     ]
    },
    {
     "name": "stdout",
     "output_type": "stream",
     "text": [
      "~/nerscProject/dladiges/visctest100/10000partSC/CPU23/plt000017000/\n"
     ]
    },
    {
     "name": "stderr",
     "output_type": "stream",
     "text": [
      "yt : [INFO     ] 2023-01-31 13:36:38,049 Parameters: current_time              = 8.126666229501574e-10\n",
      "yt : [INFO     ] 2023-01-31 13:36:38,050 Parameters: domain_dimensions         = [256  64 256]\n",
      "yt : [INFO     ] 2023-01-31 13:36:38,051 Parameters: domain_left_edge          = [0. 0. 0.]\n",
      "yt : [INFO     ] 2023-01-31 13:36:38,052 Parameters: domain_right_edge         = [2.636e-06 6.590e-07 2.636e-06]\n"
     ]
    },
    {
     "name": "stdout",
     "output_type": "stream",
     "text": [
      "~/nerscProject/dladiges/visctest100/10000partSC/CPU24/plt000017000/\n"
     ]
    },
    {
     "name": "stderr",
     "output_type": "stream",
     "text": [
      "yt : [INFO     ] 2023-01-31 13:36:39,891 Parameters: current_time              = 8.126666229501574e-10\n",
      "yt : [INFO     ] 2023-01-31 13:36:39,892 Parameters: domain_dimensions         = [256  64 256]\n",
      "yt : [INFO     ] 2023-01-31 13:36:39,892 Parameters: domain_left_edge          = [0. 0. 0.]\n",
      "yt : [INFO     ] 2023-01-31 13:36:39,893 Parameters: domain_right_edge         = [2.636e-06 6.590e-07 2.636e-06]\n"
     ]
    },
    {
     "name": "stdout",
     "output_type": "stream",
     "text": [
      "~/nerscProject/dladiges/visctest100/10000partSC/CPU25/plt000017000/\n"
     ]
    },
    {
     "name": "stderr",
     "output_type": "stream",
     "text": [
      "yt : [INFO     ] 2023-01-31 13:36:43,337 Parameters: current_time              = 8.126666229501574e-10\n",
      "yt : [INFO     ] 2023-01-31 13:36:43,339 Parameters: domain_dimensions         = [256  64 256]\n",
      "yt : [INFO     ] 2023-01-31 13:36:43,340 Parameters: domain_left_edge          = [0. 0. 0.]\n",
      "yt : [INFO     ] 2023-01-31 13:36:43,342 Parameters: domain_right_edge         = [2.636e-06 6.590e-07 2.636e-06]\n"
     ]
    },
    {
     "name": "stdout",
     "output_type": "stream",
     "text": [
      "~/nerscProject/dladiges/visctest100/10000partSC/CPU26/plt000017000/\n"
     ]
    },
    {
     "name": "stderr",
     "output_type": "stream",
     "text": [
      "yt : [INFO     ] 2023-01-31 13:36:50,146 Parameters: current_time              = 8.126666229501574e-10\n",
      "yt : [INFO     ] 2023-01-31 13:36:50,147 Parameters: domain_dimensions         = [256  64 256]\n",
      "yt : [INFO     ] 2023-01-31 13:36:50,148 Parameters: domain_left_edge          = [0. 0. 0.]\n",
      "yt : [INFO     ] 2023-01-31 13:36:50,149 Parameters: domain_right_edge         = [2.636e-06 6.590e-07 2.636e-06]\n"
     ]
    },
    {
     "name": "stdout",
     "output_type": "stream",
     "text": [
      "~/nerscProject/dladiges/visctest100/10000partSC/CPU27/plt000017000/\n"
     ]
    },
    {
     "name": "stderr",
     "output_type": "stream",
     "text": [
      "yt : [INFO     ] 2023-01-31 13:36:57,168 Parameters: current_time              = 8.126666229501574e-10\n",
      "yt : [INFO     ] 2023-01-31 13:36:57,170 Parameters: domain_dimensions         = [256  64 256]\n",
      "yt : [INFO     ] 2023-01-31 13:36:57,171 Parameters: domain_left_edge          = [0. 0. 0.]\n",
      "yt : [INFO     ] 2023-01-31 13:36:57,172 Parameters: domain_right_edge         = [2.636e-06 6.590e-07 2.636e-06]\n"
     ]
    },
    {
     "name": "stdout",
     "output_type": "stream",
     "text": [
      "~/nerscProject/dladiges/visctest100/10000partSC/CPU28/plt000017000/\n"
     ]
    },
    {
     "name": "stderr",
     "output_type": "stream",
     "text": [
      "yt : [INFO     ] 2023-01-31 13:37:04,064 Parameters: current_time              = 8.126666229501574e-10\n",
      "yt : [INFO     ] 2023-01-31 13:37:04,065 Parameters: domain_dimensions         = [256  64 256]\n",
      "yt : [INFO     ] 2023-01-31 13:37:04,066 Parameters: domain_left_edge          = [0. 0. 0.]\n",
      "yt : [INFO     ] 2023-01-31 13:37:04,068 Parameters: domain_right_edge         = [2.636e-06 6.590e-07 2.636e-06]\n"
     ]
    },
    {
     "name": "stdout",
     "output_type": "stream",
     "text": [
      "~/nerscProject/dladiges/visctest100/10000partSC/CPU29/plt000017000/\n"
     ]
    },
    {
     "name": "stderr",
     "output_type": "stream",
     "text": [
      "yt : [INFO     ] 2023-01-31 13:37:11,011 Parameters: current_time              = 8.126666229501574e-10\n",
      "yt : [INFO     ] 2023-01-31 13:37:11,012 Parameters: domain_dimensions         = [256  64 256]\n",
      "yt : [INFO     ] 2023-01-31 13:37:11,014 Parameters: domain_left_edge          = [0. 0. 0.]\n",
      "yt : [INFO     ] 2023-01-31 13:37:11,015 Parameters: domain_right_edge         = [2.636e-06 6.590e-07 2.636e-06]\n"
     ]
    },
    {
     "name": "stdout",
     "output_type": "stream",
     "text": [
      "~/nerscProject/dladiges/visctest100/10000partSC/CPU30/plt000017000/\n"
     ]
    },
    {
     "name": "stderr",
     "output_type": "stream",
     "text": [
      "yt : [INFO     ] 2023-01-31 13:37:18,021 Parameters: current_time              = 8.126666229501574e-10\n",
      "yt : [INFO     ] 2023-01-31 13:37:18,022 Parameters: domain_dimensions         = [256  64 256]\n",
      "yt : [INFO     ] 2023-01-31 13:37:18,024 Parameters: domain_left_edge          = [0. 0. 0.]\n",
      "yt : [INFO     ] 2023-01-31 13:37:18,025 Parameters: domain_right_edge         = [2.636e-06 6.590e-07 2.636e-06]\n"
     ]
    },
    {
     "name": "stdout",
     "output_type": "stream",
     "text": [
      "~/nerscProject/dladiges/visctest100/10000partSC/CPU31/plt000017000/\n"
     ]
    },
    {
     "name": "stderr",
     "output_type": "stream",
     "text": [
      "yt : [INFO     ] 2023-01-31 13:37:24,812 Parameters: current_time              = 8.126666229501574e-10\n",
      "yt : [INFO     ] 2023-01-31 13:37:24,813 Parameters: domain_dimensions         = [256  64 256]\n",
      "yt : [INFO     ] 2023-01-31 13:37:24,814 Parameters: domain_left_edge          = [0. 0. 0.]\n",
      "yt : [INFO     ] 2023-01-31 13:37:24,815 Parameters: domain_right_edge         = [2.636e-06 6.590e-07 2.636e-06]\n"
     ]
    },
    {
     "name": "stdout",
     "output_type": "stream",
     "text": [
      "~/nerscProject/dladiges/visctest100/10000partSC/CPU32/plt000017000/\n"
     ]
    },
    {
     "name": "stderr",
     "output_type": "stream",
     "text": [
      "yt : [INFO     ] 2023-01-31 13:37:31,892 Parameters: current_time              = 8.126666229501574e-10\n",
      "yt : [INFO     ] 2023-01-31 13:37:31,893 Parameters: domain_dimensions         = [256  64 256]\n",
      "yt : [INFO     ] 2023-01-31 13:37:31,894 Parameters: domain_left_edge          = [0. 0. 0.]\n",
      "yt : [INFO     ] 2023-01-31 13:37:31,895 Parameters: domain_right_edge         = [2.636e-06 6.590e-07 2.636e-06]\n"
     ]
    },
    {
     "name": "stdout",
     "output_type": "stream",
     "text": [
      "~/nerscProject/dladiges/visctest100/10000partSC/CPU33/plt000017000/\n"
     ]
    },
    {
     "name": "stderr",
     "output_type": "stream",
     "text": [
      "yt : [INFO     ] 2023-01-31 13:37:38,674 Parameters: current_time              = 8.126666229501574e-10\n",
      "yt : [INFO     ] 2023-01-31 13:37:38,676 Parameters: domain_dimensions         = [256  64 256]\n",
      "yt : [INFO     ] 2023-01-31 13:37:38,677 Parameters: domain_left_edge          = [0. 0. 0.]\n",
      "yt : [INFO     ] 2023-01-31 13:37:38,678 Parameters: domain_right_edge         = [2.636e-06 6.590e-07 2.636e-06]\n"
     ]
    },
    {
     "name": "stdout",
     "output_type": "stream",
     "text": [
      "~/nerscProject/dladiges/visctest100/10000partSC/CPU34/plt000017000/\n"
     ]
    },
    {
     "name": "stderr",
     "output_type": "stream",
     "text": [
      "yt : [INFO     ] 2023-01-31 13:37:45,401 Parameters: current_time              = 8.126666229501574e-10\n",
      "yt : [INFO     ] 2023-01-31 13:37:45,402 Parameters: domain_dimensions         = [256  64 256]\n",
      "yt : [INFO     ] 2023-01-31 13:37:45,403 Parameters: domain_left_edge          = [0. 0. 0.]\n",
      "yt : [INFO     ] 2023-01-31 13:37:45,404 Parameters: domain_right_edge         = [2.636e-06 6.590e-07 2.636e-06]\n"
     ]
    },
    {
     "name": "stdout",
     "output_type": "stream",
     "text": [
      "~/nerscProject/dladiges/visctest100/10000partSC/CPU35/plt000017000/\n"
     ]
    },
    {
     "name": "stderr",
     "output_type": "stream",
     "text": [
      "yt : [INFO     ] 2023-01-31 13:37:52,194 Parameters: current_time              = 8.126666229501574e-10\n",
      "yt : [INFO     ] 2023-01-31 13:37:52,195 Parameters: domain_dimensions         = [256  64 256]\n",
      "yt : [INFO     ] 2023-01-31 13:37:52,197 Parameters: domain_left_edge          = [0. 0. 0.]\n",
      "yt : [INFO     ] 2023-01-31 13:37:52,198 Parameters: domain_right_edge         = [2.636e-06 6.590e-07 2.636e-06]\n"
     ]
    },
    {
     "name": "stdout",
     "output_type": "stream",
     "text": [
      "~/nerscProject/dladiges/visctest100/10000partSC/CPU36/plt000017000/\n"
     ]
    },
    {
     "name": "stderr",
     "output_type": "stream",
     "text": [
      "yt : [INFO     ] 2023-01-31 13:37:58,939 Parameters: current_time              = 8.126666229501574e-10\n",
      "yt : [INFO     ] 2023-01-31 13:37:58,941 Parameters: domain_dimensions         = [256  64 256]\n",
      "yt : [INFO     ] 2023-01-31 13:37:58,942 Parameters: domain_left_edge          = [0. 0. 0.]\n",
      "yt : [INFO     ] 2023-01-31 13:37:58,943 Parameters: domain_right_edge         = [2.636e-06 6.590e-07 2.636e-06]\n"
     ]
    },
    {
     "name": "stdout",
     "output_type": "stream",
     "text": [
      "~/nerscProject/dladiges/visctest100/10000partSC/CPU37/plt000017000/\n"
     ]
    },
    {
     "name": "stderr",
     "output_type": "stream",
     "text": [
      "yt : [INFO     ] 2023-01-31 13:38:05,638 Parameters: current_time              = 8.126666229501574e-10\n",
      "yt : [INFO     ] 2023-01-31 13:38:05,639 Parameters: domain_dimensions         = [256  64 256]\n",
      "yt : [INFO     ] 2023-01-31 13:38:05,641 Parameters: domain_left_edge          = [0. 0. 0.]\n",
      "yt : [INFO     ] 2023-01-31 13:38:05,642 Parameters: domain_right_edge         = [2.636e-06 6.590e-07 2.636e-06]\n"
     ]
    },
    {
     "name": "stdout",
     "output_type": "stream",
     "text": [
      "~/nerscProject/dladiges/visctest100/10000partSC/CPU38/plt000017000/\n"
     ]
    },
    {
     "name": "stderr",
     "output_type": "stream",
     "text": [
      "yt : [INFO     ] 2023-01-31 13:38:12,640 Parameters: current_time              = 8.126666229501574e-10\n",
      "yt : [INFO     ] 2023-01-31 13:38:12,641 Parameters: domain_dimensions         = [256  64 256]\n",
      "yt : [INFO     ] 2023-01-31 13:38:12,642 Parameters: domain_left_edge          = [0. 0. 0.]\n",
      "yt : [INFO     ] 2023-01-31 13:38:12,643 Parameters: domain_right_edge         = [2.636e-06 6.590e-07 2.636e-06]\n"
     ]
    },
    {
     "name": "stdout",
     "output_type": "stream",
     "text": [
      "~/nerscProject/dladiges/visctest100/10000partSC/CPU39/plt000017000/\n"
     ]
    },
    {
     "name": "stderr",
     "output_type": "stream",
     "text": [
      "yt : [INFO     ] 2023-01-31 13:38:19,515 Parameters: current_time              = 8.126666229501574e-10\n",
      "yt : [INFO     ] 2023-01-31 13:38:19,517 Parameters: domain_dimensions         = [256  64 256]\n",
      "yt : [INFO     ] 2023-01-31 13:38:19,518 Parameters: domain_left_edge          = [0. 0. 0.]\n",
      "yt : [INFO     ] 2023-01-31 13:38:19,519 Parameters: domain_right_edge         = [2.636e-06 6.590e-07 2.636e-06]\n"
     ]
    },
    {
     "name": "stdout",
     "output_type": "stream",
     "text": [
      "~/nerscProject/dladiges/visctest100/10000partSC/CPU40/plt000017000/\n"
     ]
    },
    {
     "name": "stderr",
     "output_type": "stream",
     "text": [
      "yt : [INFO     ] 2023-01-31 13:38:26,336 Parameters: current_time              = 8.126666229501574e-10\n",
      "yt : [INFO     ] 2023-01-31 13:38:26,337 Parameters: domain_dimensions         = [256  64 256]\n",
      "yt : [INFO     ] 2023-01-31 13:38:26,338 Parameters: domain_left_edge          = [0. 0. 0.]\n",
      "yt : [INFO     ] 2023-01-31 13:38:26,339 Parameters: domain_right_edge         = [2.636e-06 6.590e-07 2.636e-06]\n"
     ]
    },
    {
     "name": "stdout",
     "output_type": "stream",
     "text": [
      "~/nerscProject/dladiges/visctest100/10000partSC/CPU41/plt000017000/\n"
     ]
    },
    {
     "name": "stderr",
     "output_type": "stream",
     "text": [
      "yt : [INFO     ] 2023-01-31 13:38:33,025 Parameters: current_time              = 8.126666229501574e-10\n",
      "yt : [INFO     ] 2023-01-31 13:38:33,026 Parameters: domain_dimensions         = [256  64 256]\n",
      "yt : [INFO     ] 2023-01-31 13:38:33,027 Parameters: domain_left_edge          = [0. 0. 0.]\n",
      "yt : [INFO     ] 2023-01-31 13:38:33,029 Parameters: domain_right_edge         = [2.636e-06 6.590e-07 2.636e-06]\n"
     ]
    },
    {
     "name": "stdout",
     "output_type": "stream",
     "text": [
      "~/nerscProject/dladiges/visctest100/10000partSC/CPU42/plt000017000/\n"
     ]
    },
    {
     "name": "stderr",
     "output_type": "stream",
     "text": [
      "yt : [INFO     ] 2023-01-31 13:38:39,654 Parameters: current_time              = 8.126666229501574e-10\n",
      "yt : [INFO     ] 2023-01-31 13:38:39,656 Parameters: domain_dimensions         = [256  64 256]\n",
      "yt : [INFO     ] 2023-01-31 13:38:39,657 Parameters: domain_left_edge          = [0. 0. 0.]\n",
      "yt : [INFO     ] 2023-01-31 13:38:39,658 Parameters: domain_right_edge         = [2.636e-06 6.590e-07 2.636e-06]\n"
     ]
    },
    {
     "name": "stdout",
     "output_type": "stream",
     "text": [
      "~/nerscProject/dladiges/visctest100/10000partSC/CPU43/plt000017000/\n"
     ]
    },
    {
     "name": "stderr",
     "output_type": "stream",
     "text": [
      "yt : [INFO     ] 2023-01-31 13:38:46,637 Parameters: current_time              = 8.126666229501574e-10\n",
      "yt : [INFO     ] 2023-01-31 13:38:46,639 Parameters: domain_dimensions         = [256  64 256]\n",
      "yt : [INFO     ] 2023-01-31 13:38:46,640 Parameters: domain_left_edge          = [0. 0. 0.]\n",
      "yt : [INFO     ] 2023-01-31 13:38:46,641 Parameters: domain_right_edge         = [2.636e-06 6.590e-07 2.636e-06]\n"
     ]
    },
    {
     "name": "stdout",
     "output_type": "stream",
     "text": [
      "~/nerscProject/dladiges/visctest100/10000partSC/CPU44/plt000017000/\n"
     ]
    },
    {
     "name": "stderr",
     "output_type": "stream",
     "text": [
      "yt : [INFO     ] 2023-01-31 13:38:53,475 Parameters: current_time              = 8.126666229501574e-10\n",
      "yt : [INFO     ] 2023-01-31 13:38:53,476 Parameters: domain_dimensions         = [256  64 256]\n",
      "yt : [INFO     ] 2023-01-31 13:38:53,477 Parameters: domain_left_edge          = [0. 0. 0.]\n",
      "yt : [INFO     ] 2023-01-31 13:38:53,479 Parameters: domain_right_edge         = [2.636e-06 6.590e-07 2.636e-06]\n"
     ]
    },
    {
     "name": "stdout",
     "output_type": "stream",
     "text": [
      "~/nerscProject/dladiges/visctest100/10000partSC/CPU45/plt000017000/\n"
     ]
    },
    {
     "name": "stderr",
     "output_type": "stream",
     "text": [
      "yt : [INFO     ] 2023-01-31 13:39:00,332 Parameters: current_time              = 8.126666229501574e-10\n",
      "yt : [INFO     ] 2023-01-31 13:39:00,333 Parameters: domain_dimensions         = [256  64 256]\n",
      "yt : [INFO     ] 2023-01-31 13:39:00,334 Parameters: domain_left_edge          = [0. 0. 0.]\n",
      "yt : [INFO     ] 2023-01-31 13:39:00,335 Parameters: domain_right_edge         = [2.636e-06 6.590e-07 2.636e-06]\n"
     ]
    },
    {
     "name": "stdout",
     "output_type": "stream",
     "text": [
      "~/nerscProject/dladiges/visctest100/10000partSC/CPU46/plt000017000/\n"
     ]
    },
    {
     "name": "stderr",
     "output_type": "stream",
     "text": [
      "yt : [INFO     ] 2023-01-31 13:39:07,716 Parameters: current_time              = 8.126666229501574e-10\n",
      "yt : [INFO     ] 2023-01-31 13:39:07,717 Parameters: domain_dimensions         = [256  64 256]\n",
      "yt : [INFO     ] 2023-01-31 13:39:07,719 Parameters: domain_left_edge          = [0. 0. 0.]\n",
      "yt : [INFO     ] 2023-01-31 13:39:07,720 Parameters: domain_right_edge         = [2.636e-06 6.590e-07 2.636e-06]\n"
     ]
    },
    {
     "name": "stdout",
     "output_type": "stream",
     "text": [
      "~/nerscProject/dladiges/visctest100/10000partSC/CPU47/plt000017000/\n"
     ]
    },
    {
     "name": "stderr",
     "output_type": "stream",
     "text": [
      "yt : [INFO     ] 2023-01-31 13:39:17,980 Parameters: current_time              = 8.126666229501574e-10\n",
      "yt : [INFO     ] 2023-01-31 13:39:17,982 Parameters: domain_dimensions         = [256  64 256]\n",
      "yt : [INFO     ] 2023-01-31 13:39:17,983 Parameters: domain_left_edge          = [0. 0. 0.]\n",
      "yt : [INFO     ] 2023-01-31 13:39:17,984 Parameters: domain_right_edge         = [2.636e-06 6.590e-07 2.636e-06]\n"
     ]
    },
    {
     "name": "stdout",
     "output_type": "stream",
     "text": [
      "~/nerscProject/dladiges/visctest100/10000partSC/CPU48/plt000017000/\n"
     ]
    },
    {
     "name": "stderr",
     "output_type": "stream",
     "text": [
      "yt : [INFO     ] 2023-01-31 13:39:24,615 Parameters: current_time              = 8.126666229501574e-10\n",
      "yt : [INFO     ] 2023-01-31 13:39:24,617 Parameters: domain_dimensions         = [256  64 256]\n",
      "yt : [INFO     ] 2023-01-31 13:39:24,618 Parameters: domain_left_edge          = [0. 0. 0.]\n",
      "yt : [INFO     ] 2023-01-31 13:39:24,619 Parameters: domain_right_edge         = [2.636e-06 6.590e-07 2.636e-06]\n"
     ]
    },
    {
     "name": "stdout",
     "output_type": "stream",
     "text": [
      "~/nerscProject/dladiges/visctest100/10000partSC/CPU49/plt000017000/\n"
     ]
    },
    {
     "name": "stderr",
     "output_type": "stream",
     "text": [
      "yt : [INFO     ] 2023-01-31 13:39:31,285 Parameters: current_time              = 8.126666229501574e-10\n",
      "yt : [INFO     ] 2023-01-31 13:39:31,286 Parameters: domain_dimensions         = [256  64 256]\n",
      "yt : [INFO     ] 2023-01-31 13:39:31,287 Parameters: domain_left_edge          = [0. 0. 0.]\n",
      "yt : [INFO     ] 2023-01-31 13:39:31,288 Parameters: domain_right_edge         = [2.636e-06 6.590e-07 2.636e-06]\n"
     ]
    },
    {
     "name": "stdout",
     "output_type": "stream",
     "text": [
      "~/nerscProject/dladiges/visctest100/10000partSC/CPU50/plt000017000/\n"
     ]
    },
    {
     "name": "stderr",
     "output_type": "stream",
     "text": [
      "yt : [INFO     ] 2023-01-31 13:39:47,606 Parameters: current_time              = 8.126666229501574e-10\n",
      "yt : [INFO     ] 2023-01-31 13:39:47,607 Parameters: domain_dimensions         = [256  64 256]\n",
      "yt : [INFO     ] 2023-01-31 13:39:47,608 Parameters: domain_left_edge          = [0. 0. 0.]\n",
      "yt : [INFO     ] 2023-01-31 13:39:47,610 Parameters: domain_right_edge         = [2.636e-06 6.590e-07 2.636e-06]\n"
     ]
    },
    {
     "name": "stdout",
     "output_type": "stream",
     "text": [
      "~/nerscProject/dladiges/visctest100/10000partSC/CPU51/plt000017000/\n"
     ]
    },
    {
     "name": "stderr",
     "output_type": "stream",
     "text": [
      "yt : [INFO     ] 2023-01-31 13:39:54,656 Parameters: current_time              = 8.126666229501574e-10\n",
      "yt : [INFO     ] 2023-01-31 13:39:54,657 Parameters: domain_dimensions         = [256  64 256]\n",
      "yt : [INFO     ] 2023-01-31 13:39:54,658 Parameters: domain_left_edge          = [0. 0. 0.]\n",
      "yt : [INFO     ] 2023-01-31 13:39:54,660 Parameters: domain_right_edge         = [2.636e-06 6.590e-07 2.636e-06]\n"
     ]
    },
    {
     "name": "stdout",
     "output_type": "stream",
     "text": [
      "~/nerscProject/dladiges/visctest100/10000partSC/CPU52/plt000017000/\n"
     ]
    },
    {
     "name": "stderr",
     "output_type": "stream",
     "text": [
      "yt : [INFO     ] 2023-01-31 13:40:01,586 Parameters: current_time              = 8.126666229501574e-10\n",
      "yt : [INFO     ] 2023-01-31 13:40:01,587 Parameters: domain_dimensions         = [256  64 256]\n",
      "yt : [INFO     ] 2023-01-31 13:40:01,588 Parameters: domain_left_edge          = [0. 0. 0.]\n",
      "yt : [INFO     ] 2023-01-31 13:40:01,589 Parameters: domain_right_edge         = [2.636e-06 6.590e-07 2.636e-06]\n"
     ]
    },
    {
     "name": "stdout",
     "output_type": "stream",
     "text": [
      "~/nerscProject/dladiges/visctest100/10000partSC/CPU53/plt000017000/\n"
     ]
    },
    {
     "name": "stderr",
     "output_type": "stream",
     "text": [
      "yt : [INFO     ] 2023-01-31 13:40:08,451 Parameters: current_time              = 8.126666229501574e-10\n",
      "yt : [INFO     ] 2023-01-31 13:40:08,452 Parameters: domain_dimensions         = [256  64 256]\n",
      "yt : [INFO     ] 2023-01-31 13:40:08,453 Parameters: domain_left_edge          = [0. 0. 0.]\n",
      "yt : [INFO     ] 2023-01-31 13:40:08,454 Parameters: domain_right_edge         = [2.636e-06 6.590e-07 2.636e-06]\n"
     ]
    },
    {
     "name": "stdout",
     "output_type": "stream",
     "text": [
      "~/nerscProject/dladiges/visctest100/10000partSC/CPU54/plt000017000/\n"
     ]
    },
    {
     "name": "stderr",
     "output_type": "stream",
     "text": [
      "yt : [INFO     ] 2023-01-31 13:40:15,574 Parameters: current_time              = 8.126666229501574e-10\n",
      "yt : [INFO     ] 2023-01-31 13:40:15,575 Parameters: domain_dimensions         = [256  64 256]\n",
      "yt : [INFO     ] 2023-01-31 13:40:15,576 Parameters: domain_left_edge          = [0. 0. 0.]\n",
      "yt : [INFO     ] 2023-01-31 13:40:15,577 Parameters: domain_right_edge         = [2.636e-06 6.590e-07 2.636e-06]\n"
     ]
    },
    {
     "name": "stdout",
     "output_type": "stream",
     "text": [
      "~/nerscProject/dladiges/visctest100/10000partSC/CPU55/plt000017000/\n"
     ]
    },
    {
     "name": "stderr",
     "output_type": "stream",
     "text": [
      "yt : [INFO     ] 2023-01-31 13:40:22,530 Parameters: current_time              = 8.126666229501574e-10\n",
      "yt : [INFO     ] 2023-01-31 13:40:22,532 Parameters: domain_dimensions         = [256  64 256]\n",
      "yt : [INFO     ] 2023-01-31 13:40:22,533 Parameters: domain_left_edge          = [0. 0. 0.]\n",
      "yt : [INFO     ] 2023-01-31 13:40:22,534 Parameters: domain_right_edge         = [2.636e-06 6.590e-07 2.636e-06]\n"
     ]
    },
    {
     "name": "stdout",
     "output_type": "stream",
     "text": [
      "~/nerscProject/dladiges/visctest100/10000partSC/CPU56/plt000017000/\n"
     ]
    },
    {
     "name": "stderr",
     "output_type": "stream",
     "text": [
      "yt : [INFO     ] 2023-01-31 13:40:29,479 Parameters: current_time              = 8.126666229501574e-10\n",
      "yt : [INFO     ] 2023-01-31 13:40:29,480 Parameters: domain_dimensions         = [256  64 256]\n",
      "yt : [INFO     ] 2023-01-31 13:40:29,480 Parameters: domain_left_edge          = [0. 0. 0.]\n",
      "yt : [INFO     ] 2023-01-31 13:40:29,481 Parameters: domain_right_edge         = [2.636e-06 6.590e-07 2.636e-06]\n"
     ]
    },
    {
     "name": "stdout",
     "output_type": "stream",
     "text": [
      "~/nerscProject/dladiges/visctest100/10000partSC/CPU57/plt000017000/\n"
     ]
    },
    {
     "name": "stderr",
     "output_type": "stream",
     "text": [
      "yt : [INFO     ] 2023-01-31 13:40:36,398 Parameters: current_time              = 8.126666229501574e-10\n",
      "yt : [INFO     ] 2023-01-31 13:40:36,399 Parameters: domain_dimensions         = [256  64 256]\n",
      "yt : [INFO     ] 2023-01-31 13:40:36,400 Parameters: domain_left_edge          = [0. 0. 0.]\n",
      "yt : [INFO     ] 2023-01-31 13:40:36,401 Parameters: domain_right_edge         = [2.636e-06 6.590e-07 2.636e-06]\n"
     ]
    },
    {
     "name": "stdout",
     "output_type": "stream",
     "text": [
      "~/nerscProject/dladiges/visctest100/10000partSC/CPU58/plt000017000/\n"
     ]
    },
    {
     "name": "stderr",
     "output_type": "stream",
     "text": [
      "yt : [INFO     ] 2023-01-31 13:40:43,436 Parameters: current_time              = 8.126666229501574e-10\n",
      "yt : [INFO     ] 2023-01-31 13:40:43,437 Parameters: domain_dimensions         = [256  64 256]\n",
      "yt : [INFO     ] 2023-01-31 13:40:43,438 Parameters: domain_left_edge          = [0. 0. 0.]\n",
      "yt : [INFO     ] 2023-01-31 13:40:43,439 Parameters: domain_right_edge         = [2.636e-06 6.590e-07 2.636e-06]\n"
     ]
    },
    {
     "name": "stdout",
     "output_type": "stream",
     "text": [
      "~/nerscProject/dladiges/visctest100/10000partSC/CPU59/plt000017000/\n"
     ]
    },
    {
     "name": "stderr",
     "output_type": "stream",
     "text": [
      "yt : [INFO     ] 2023-01-31 13:40:50,380 Parameters: current_time              = 8.126666229501574e-10\n",
      "yt : [INFO     ] 2023-01-31 13:40:50,381 Parameters: domain_dimensions         = [256  64 256]\n",
      "yt : [INFO     ] 2023-01-31 13:40:50,382 Parameters: domain_left_edge          = [0. 0. 0.]\n",
      "yt : [INFO     ] 2023-01-31 13:40:50,384 Parameters: domain_right_edge         = [2.636e-06 6.590e-07 2.636e-06]\n"
     ]
    },
    {
     "name": "stdout",
     "output_type": "stream",
     "text": [
      "~/nerscProject/dladiges/visctest100/10000partSC/CPU60/plt000017000/\n"
     ]
    },
    {
     "name": "stderr",
     "output_type": "stream",
     "text": [
      "yt : [INFO     ] 2023-01-31 13:40:57,303 Parameters: current_time              = 8.126666229501574e-10\n",
      "yt : [INFO     ] 2023-01-31 13:40:57,304 Parameters: domain_dimensions         = [256  64 256]\n",
      "yt : [INFO     ] 2023-01-31 13:40:57,306 Parameters: domain_left_edge          = [0. 0. 0.]\n",
      "yt : [INFO     ] 2023-01-31 13:40:57,307 Parameters: domain_right_edge         = [2.636e-06 6.590e-07 2.636e-06]\n"
     ]
    },
    {
     "name": "stdout",
     "output_type": "stream",
     "text": [
      "~/nerscProject/dladiges/visctest100/10000partSC/CPU61/plt000017000/\n"
     ]
    },
    {
     "name": "stderr",
     "output_type": "stream",
     "text": [
      "yt : [INFO     ] 2023-01-31 13:41:04,120 Parameters: current_time              = 8.126666229501574e-10\n",
      "yt : [INFO     ] 2023-01-31 13:41:04,122 Parameters: domain_dimensions         = [256  64 256]\n",
      "yt : [INFO     ] 2023-01-31 13:41:04,123 Parameters: domain_left_edge          = [0. 0. 0.]\n",
      "yt : [INFO     ] 2023-01-31 13:41:04,124 Parameters: domain_right_edge         = [2.636e-06 6.590e-07 2.636e-06]\n"
     ]
    },
    {
     "name": "stdout",
     "output_type": "stream",
     "text": [
      "~/nerscProject/dladiges/visctest100/10000partSC/CPU62/plt000017000/\n"
     ]
    },
    {
     "name": "stderr",
     "output_type": "stream",
     "text": [
      "yt : [INFO     ] 2023-01-31 13:41:11,135 Parameters: current_time              = 8.126666229501574e-10\n",
      "yt : [INFO     ] 2023-01-31 13:41:11,137 Parameters: domain_dimensions         = [256  64 256]\n",
      "yt : [INFO     ] 2023-01-31 13:41:11,138 Parameters: domain_left_edge          = [0. 0. 0.]\n",
      "yt : [INFO     ] 2023-01-31 13:41:11,139 Parameters: domain_right_edge         = [2.636e-06 6.590e-07 2.636e-06]\n"
     ]
    },
    {
     "name": "stdout",
     "output_type": "stream",
     "text": [
      "~/nerscProject/dladiges/visctest100/10000partSC/CPU63/plt000017000/\n"
     ]
    },
    {
     "name": "stderr",
     "output_type": "stream",
     "text": [
      "yt : [INFO     ] 2023-01-31 13:41:18,261 Parameters: current_time              = 8.126666229501574e-10\n",
      "yt : [INFO     ] 2023-01-31 13:41:18,262 Parameters: domain_dimensions         = [256  64 256]\n",
      "yt : [INFO     ] 2023-01-31 13:41:18,263 Parameters: domain_left_edge          = [0. 0. 0.]\n",
      "yt : [INFO     ] 2023-01-31 13:41:18,264 Parameters: domain_right_edge         = [2.636e-06 6.590e-07 2.636e-06]\n"
     ]
    }
   ],
   "source": [
    "data = \"~/nerscProject/dladiges/visctest100/10000partSC/CPU\"\n",
    "time = \"/plt0000\"+\"17000/\"\n",
    "bins = 64\n",
    "ens= 64\n",
    "yall10000 = np.zeros((ens,bins))\n",
    "i=0\n",
    "for i in range(ens):\n",
    "    stri = data + str(i).zfill(2)\n",
    "    xt, yall10000[i] = return_y_plt(stri,time,nbins=bins,field=\"averaged_meanx\")"
   ]
  },
  {
   "cell_type": "code",
   "execution_count": null,
   "id": "ea154c3c-cde6-4b04-94bc-afbbc1e8a287",
   "metadata": {},
   "outputs": [],
   "source": [
    "data = \"~/nerscProject/dladiges/visctest100/400partLJ/CPU\"\n",
    "#num = [\"00\",\"01\",\"02\",\"03\",\"04\",\"05\",\"06\",\"07\",\"08\",\"09\",\"10\",\"11\",\"12\",\"13\",\"14\",\"15\",\"16\",\"17\",\"18\",\"19\",\"20\",\"21\",\"22\",\"23\",\"24\",\"25\",\"26\",\"27\",\"28\",\"29\",\"30\",\"31\",\"32\",\"33\",\"34\",\"35\",\"36\",\"37\",\"38\",\"39\",\"40\",\"41\",\"40\",\"41\",\"42\",\"43\",\"44\",\"45\",\"46\",\"47\"]\n",
    "time = \"/plt0000\"+\"18000/\"\n",
    "bins = 64\n",
    "ens= 63\n",
    "yallLJ400 = np.zeros((ens,bins))\n",
    "i=0\n",
    "for i in range(ens):\n",
    "    stri = data + str(i+1).zfill(2)\n",
    "    xt, yallLJ400[i] = return_y_plt(stri,time,nbins=bins,field=\"averaged_meanx\")"
   ]
  },
  {
   "cell_type": "code",
   "execution_count": null,
   "id": "405791d2-cab6-42fb-91e2-8f04e5fb565e",
   "metadata": {},
   "outputs": [],
   "source": [
    "data = \"~/nerscProject/dladiges/visctest100/800partLJ/CPU\"\n",
    "#num = [\"00\",\"01\",\"02\",\"03\",\"04\",\"05\",\"06\",\"07\",\"08\",\"09\",\"10\",\"11\",\"12\",\"13\",\"14\",\"15\",\"16\",\"17\",\"18\",\"19\",\"20\",\"21\",\"22\",\"23\",\"24\",\"25\",\"26\",\"27\",\"28\",\"29\",\"30\",\"31\",\"32\",\"33\",\"34\",\"35\",\"36\",\"37\",\"38\",\"39\",\"40\",\"41\",\"40\",\"41\",\"42\",\"43\",\"44\",\"45\",\"46\",\"47\"]\n",
    "time = \"/plt0000\"+\"18000/\"\n",
    "bins = 64\n",
    "ens= 64\n",
    "yallLJ800 = np.zeros((ens,bins))\n",
    "i=0\n",
    "for i in range(ens):\n",
    "    stri = data + str(i).zfill(2)\n",
    "    xt, yallLJ800[i] = return_y_plt(stri,time,nbins=bins,field=\"averaged_meanx\")"
   ]
  },
  {
   "cell_type": "code",
   "execution_count": null,
   "id": "4e3912b5-1a0a-46ae-9b8f-e976670d96bd",
   "metadata": {},
   "outputs": [],
   "source": [
    "data = \"~/nerscProject/dladiges/visctest100/1600partLJ/CPU\"\n",
    "#num = [\"00\",\"01\",\"02\",\"03\",\"04\",\"05\",\"06\",\"07\",\"08\",\"09\",\"10\",\"11\",\"12\",\"13\",\"14\",\"15\",\"16\",\"17\",\"18\",\"19\",\"20\",\"21\",\"22\",\"23\",\"24\",\"25\",\"26\",\"27\",\"28\",\"29\",\"30\",\"31\",\"32\",\"33\",\"34\",\"35\",\"36\",\"37\",\"38\",\"39\",\"40\",\"41\",\"40\",\"41\",\"42\",\"43\",\"44\",\"45\",\"46\",\"47\"]\n",
    "time = \"/plt0000\"+\"18000/\"\n",
    "bins = 64\n",
    "ens= 32\n",
    "yallLJ1600 = np.zeros((ens,bins))\n",
    "i=0\n",
    "for i in range(ens):\n",
    "    stri = data + str(i).zfill(2)\n",
    "    xt, yallLJ1600[i] = return_y_plt(stri,time,nbins=bins,field=\"averaged_meanx\")"
   ]
  },
  {
   "cell_type": "code",
   "execution_count": null,
   "id": "d05ca338-3bd9-4f60-bc1f-fae16448d44e",
   "metadata": {},
   "outputs": [],
   "source": [
    "data = \"~/nerscProject/dladiges/visctest100/0partLN/CPU\"\n",
    "#num = [\"00\",\"01\",\"02\",\"03\",\"04\",\"05\",\"06\",\"07\",\"08\",\"09\",\"10\",\"11\",\"12\",\"13\",\"14\",\"15\",\"16\",\"17\",\"18\",\"19\",\"20\",\"21\",\"22\",\"23\",\"24\",\"25\",\"26\",\"27\",\"28\",\"29\",\"30\",\"31\",\"32\",\"33\",\"34\",\"35\",\"36\",\"37\",\"38\",\"39\",\"40\",\"41\",\"40\",\"41\",\"42\",\"43\",\"44\",\"45\",\"46\",\"47\"]\n",
    "time = \"/plt0000\"+\"19000/\"\n",
    "bins = 64\n",
    "ens= 64\n",
    "yall0LN = np.zeros((ens,bins))\n",
    "i=0\n",
    "for i in range(ens):\n",
    "    stri = data + str(i).zfill(2)\n",
    "    xt, yall0LN[i] = return_y_plt(stri,time,nbins=bins,field=\"averaged_meanx\")"
   ]
  },
  {
   "cell_type": "code",
   "execution_count": null,
   "id": "6720c1a3-e175-4a38-900e-abcc9f4ebf06",
   "metadata": {},
   "outputs": [],
   "source": [
    "data = \"~/nerscProject/dladiges/visctest100/0partLN2/CPU\"\n",
    "#num = [\"00\",\"01\",\"02\",\"03\",\"04\",\"05\",\"06\",\"07\",\"08\",\"09\",\"10\",\"11\",\"12\",\"13\",\"14\",\"15\",\"16\",\"17\",\"18\",\"19\",\"20\",\"21\",\"22\",\"23\",\"24\",\"25\",\"26\",\"27\",\"28\",\"29\",\"30\",\"31\",\"32\",\"33\",\"34\",\"35\",\"36\",\"37\",\"38\",\"39\",\"40\",\"41\",\"40\",\"41\",\"42\",\"43\",\"44\",\"45\",\"46\",\"47\"]\n",
    "time = \"/plt0000\"+\"19000/\"\n",
    "bins = 64\n",
    "ens= 64\n",
    "yall0LN2 = np.zeros((ens,bins))\n",
    "i=0\n",
    "for i in range(ens):\n",
    "    stri = data + str(i).zfill(2)\n",
    "    xt, yall0LN2[i] = return_y_plt(stri,time,nbins=bins,field=\"averaged_meanx\")"
   ]
  },
  {
   "cell_type": "code",
   "execution_count": 61,
   "id": "e8213637-1093-4c9d-9c21-ea675948eb5c",
   "metadata": {},
   "outputs": [],
   "source": [
    "\n",
    "from scipy.optimize import curve_fit\n",
    "def para(x,a,c):\n",
    "    mid=(x[31]+x[32])/2\n",
    "    return a*(x-mid)**2+c\n",
    "\n",
    "def quart(x,a,b,c):\n",
    "    mid=(x[31]+x[32])/2\n",
    "    return a*(x-mid)**2+b*(x-mid)**4+c\n",
    "\n",
    "ll=6.59e-7\n",
    "fd=1e15\n",
    "\n",
    "length=len(yall0)\n",
    "maxlist0 = np.zeros(length)\n",
    "visclist0 = np.zeros(length)\n",
    "i=0\n",
    "for x in yall0:\n",
    "    params, covs = curve_fit(para, xt, x,p0=[-5e16,6000],maxfev=10000000)\n",
    "    params4, covs = curve_fit(quart, xt, x,p0=[-5e16,1e13,6000],maxfev=10000000)\n",
    "    maxlist0[i]=params[1]\n",
    "    maxlist0[i]=params[1]\n",
    "    visclist0[i] = (fd*ll*ll)/(8*maxlist0[i])\n",
    "    i=i+1\n",
    "\n",
    "length=len(yall350)\n",
    "maxlist350 = np.zeros(length)\n",
    "visclist350 = np.zeros(length)\n",
    "i=0\n",
    "for x in yall350:\n",
    "    params, covs = curve_fit(para, xt, x,p0=[-5e16,6000],maxfev=10000000)\n",
    "    maxlist350[i]=params[1]\n",
    "    visclist350[i] = (fd*ll*ll)/(8*maxlist350[i])\n",
    "    i=i+1\n",
    "\n",
    "length=len(yall625)\n",
    "maxlist625 = np.zeros(length)\n",
    "visclist625 = np.zeros(length)\n",
    "i=0\n",
    "for x in yall625:\n",
    "    params, covs = curve_fit(para, xt, x,p0=[-5e16,6000],maxfev=10000000)\n",
    "    maxlist625[i]=params[1]\n",
    "    visclist625[i] = (fd*ll*ll)/(8*maxlist625[i])\n",
    "    i=i+1\n",
    "\n",
    "length=len(yall1250)\n",
    "maxlist1250 = np.zeros(length)\n",
    "visclist1250 = np.zeros(length)\n",
    "i=0\n",
    "for x in yall1250:\n",
    "    params, covs = curve_fit(para, xt, x,p0=[-5e16,6000],maxfev=10000000)\n",
    "    maxlist1250[i]=params[1]\n",
    "    visclist1250[i] = (fd*ll*ll)/(8*maxlist1250[i])\n",
    "    i=i+1\n",
    "    \n",
    "length=len(yall2500)\n",
    "maxlist2500 = np.zeros(length)\n",
    "visclist2500 = np.zeros(length)\n",
    "         \n",
    "i=0\n",
    "for x in yall2500:\n",
    "    params, covs = curve_fit(para, xt, x,p0=[-5e16,6000],maxfev=10000000)\n",
    "    maxlist2500[i]=params[1]\n",
    "    visclist2500[i] = (fd*ll*ll)/(8*maxlist2500[i])\n",
    "    i=i+1\n",
    "\n",
    "visclist2500[9]=visclist2500[10]\n",
    "visclist2500[13]=visclist2500[11]\n",
    "    \n",
    "length=len(yall5000)\n",
    "maxlist5000 = np.zeros(length)\n",
    "visclist5000 = np.zeros(length)\n",
    "i=0\n",
    "for x in yall5000:\n",
    "    params, covs = curve_fit(para, xt, x,p0=[-5e16,6000],maxfev=10000000)\n",
    "    maxlist5000[i]=params[1]\n",
    "    visclist5000[i] = (fd*ll*ll)/(8*maxlist5000[i])\n",
    "    i=i+1\n",
    "    \n",
    "length=len(yall10000)\n",
    "maxlist10000 = np.zeros(length)\n",
    "visclist10000 = np.zeros(length)\n",
    "i=0\n",
    "for x in yall10000:\n",
    "    params, covs = curve_fit(para, xt, x,p0=[-5e16,6000],maxfev=10000000)\n",
    "    maxlist10000[i]=params[1]\n",
    "    visclist10000[i] = (fd*ll*ll)/(8*maxlist10000[i])\n",
    "    i=i+1\n",
    "    \n",
    "#poptt15r, pcovt15r = curve_fit(fit_wall_mob, xpos15r, tmob15r, p0=[1,1,1,16,4,1,1],maxfev=10000000)"
   ]
  },
  {
   "cell_type": "code",
   "execution_count": 64,
   "id": "e412e687-a65b-4159-89f4-c8986507fd40",
   "metadata": {},
   "outputs": [
    {
     "data": {
      "text/plain": [
       "array([ 1.53130429e-04,  1.32138435e-04,  8.47697061e-05,  2.05006585e-04,\n",
       "       -2.58008670e-04,  1.10985212e-04,  1.62010569e-04, -5.32466103e-04,\n",
       "       -7.82733733e-05, -4.11947391e-05, -1.23021007e-04,  3.41738987e-02,\n",
       "        3.75611125e-04,  1.81176898e-04, -2.01740057e-04, -1.17118004e-04,\n",
       "       -3.45945702e-04,  1.04352203e-04,  3.96734830e-04,  9.86154016e-05,\n",
       "        2.27750921e-04, -4.59694166e-05, -2.17263050e-04,  2.70956685e-03,\n",
       "        4.38423178e-04,  8.25986141e-05,  1.09231357e-04,  3.93846271e-04,\n",
       "       -4.88242215e-05, -3.25118705e-04,  5.35112286e-05, -9.56222075e-05,\n",
       "       -2.23454165e-04, -9.93025052e-05, -1.12823906e-04,  1.27078108e-04,\n",
       "        3.16365414e-04,  3.72641271e-04,  2.45717272e-04,  8.85235051e-04,\n",
       "        4.91681237e-03, -5.21815166e-05,  1.82500136e-04, -7.26775138e-05,\n",
       "        1.04364610e-04,  1.66360001e-04,  1.24584143e-04,  6.66826855e-04,\n",
       "       -6.83361139e-04,  2.06502024e-04, -1.54849266e-04, -3.59376881e-05,\n",
       "       -8.22510282e-05, -9.56222075e-05, -7.62248758e-05,  4.55822820e-05,\n",
       "       -7.52008247e-05, -1.07392958e-04, -1.25438095e-04, -7.35891599e-05,\n",
       "        1.76583375e-04, -8.60391655e-05,  1.18046534e-04, -1.66354364e-04])"
      ]
     },
     "execution_count": 64,
     "metadata": {},
     "output_type": "execute_result"
    }
   ],
   "source": [
    "visclist5000"
   ]
  },
  {
   "cell_type": "code",
   "execution_count": null,
   "id": "89d7ee77-08df-4710-9c7a-2ab58729e349",
   "metadata": {},
   "outputs": [],
   "source": [
    "ll=6.59e-7\n",
    "fd=1e15\n",
    "\n",
    "length=len(yallLJ400)\n",
    "maxlistLJ400 = np.zeros(length)\n",
    "visclistLJ400 = np.zeros(length)\n",
    "i=0\n",
    "for x in yallLJ400:\n",
    "    params, covs = curve_fit(para, xt, x,p0=[-5e16,6000],maxfev=10000000)\n",
    "    maxlistLJ400[i]=params[1]\n",
    "    visclistLJ400[i] = (fd*ll*ll)/(8*maxlistLJ400[i])\n",
    "    i=i+1\n",
    "    \n",
    "length=len(yallLJ800)\n",
    "maxlistLJ800 = np.zeros(length)\n",
    "visclistLJ800 = np.zeros(length)\n",
    "i=0\n",
    "for x in yallLJ800:\n",
    "    params, covs = curve_fit(para, xt, x,p0=[-5e16,6000],maxfev=10000000)\n",
    "    maxlistLJ800[i]=params[1]\n",
    "    visclistLJ800[i] = (fd*ll*ll)/(8*maxlistLJ800[i])\n",
    "    i=i+1\n",
    "    \n",
    "length=len(yallLJ1600)\n",
    "maxlistLJ1600 = np.zeros(length)\n",
    "visclistLJ1600 = np.zeros(length)\n",
    "i=0\n",
    "for x in yallLJ1600:\n",
    "    params, covs = curve_fit(para, xt, x,p0=[-5e16,6000],maxfev=10000000)\n",
    "    maxlistLJ1600[i]=params[1]\n",
    "    visclistLJ1600[i] = (fd*ll*ll)/(8*maxlistLJ1600[i])\n",
    "    i=i+1"
   ]
  },
  {
   "cell_type": "code",
   "execution_count": null,
   "id": "00817510-75bd-4aee-8387-419742b80e2c",
   "metadata": {},
   "outputs": [],
   "source": [
    "len(visclistLJ800)"
   ]
  },
  {
   "cell_type": "code",
   "execution_count": null,
   "id": "7589944d-29d9-449a-926a-8d67ee773c8d",
   "metadata": {},
   "outputs": [],
   "source": [
    "length=len(yall0LN)\n",
    "maxlist0LN = np.zeros(length)\n",
    "visclist0LN = np.zeros(length)\n",
    "i=0\n",
    "for x in yall0LN:\n",
    "    params, covs = curve_fit(para, xt, x,p0=[-5e16,6000],maxfev=10000000)\n",
    "    maxlist0LN[i]=params[1]\n",
    "    visclist0LN[i] = (fd*ll*ll)/(8*maxlist0LN[i])\n",
    "    i=i+1\n",
    "    \n",
    "length=len(yall0LN2)\n",
    "maxlist0LN2 = np.zeros(length)\n",
    "visclist0LN2 = np.zeros(length)\n",
    "i=0\n",
    "for x in yall0LN2:\n",
    "    params, covs = curve_fit(para, xt, x,p0=[-5e16,6000],maxfev=10000000)\n",
    "    maxlist0LN2[i]=params[1]\n",
    "    visclist0LN2[i] = (fd*ll*ll)/(8*maxlist0LN2[i])\n",
    "    i=i+1"
   ]
  },
  {
   "cell_type": "code",
   "execution_count": null,
   "id": "15a570ae-65aa-4423-852f-647ea0976bbc",
   "metadata": {},
   "outputs": [],
   "source": [
    "visclist0LN[0:32]"
   ]
  },
  {
   "cell_type": "code",
   "execution_count": 16,
   "id": "c35444e5-13f5-4816-a90d-3c9208b39174",
   "metadata": {},
   "outputs": [],
   "source": [
    "import statistics\n",
    "xdat=[0,0.2625,0.46875,0.9375,1.875,3.75,7.5]\n",
    "ydat=[statistics.mean(visclist0),statistics.mean(visclist350),statistics.mean(visclist625),statistics.mean(visclist1250),statistics.mean(visclist2500),statistics.mean(visclist5000),statistics.mean(visclist10000)]\n",
    "yerr=[2*statistics.stdev(visclist0)/np.sqrt(len(visclist0)),2*statistics.stdev(visclist350)/np.sqrt(len(visclist350)),2*statistics.stdev(visclist625)/np.sqrt(len(visclist625)),2*statistics.stdev(visclist1250)/np.sqrt(len(visclist1250)),2*statistics.stdev(visclist2500)/np.sqrt(len(visclist2500)),2*statistics.stdev(visclist5000)/np.sqrt(len(visclist5000)),2*statistics.stdev(visclist10000)/np.sqrt(len(visclist10000))]\n"
   ]
  },
  {
   "cell_type": "code",
   "execution_count": 75,
   "id": "d1c56977-a144-4b38-a0b3-6a3839330570",
   "metadata": {},
   "outputs": [],
   "source": [
    "import statistics\n",
    "xdat=[0,0.2625,0.46875,0.9375,1.875]\n",
    "xdat=[ 0, 24.45, 43.68, 87.35, 174.71]\n",
    "ydat=[statistics.mean(visclist0),statistics.mean(visclist350),statistics.mean(visclist625),statistics.mean(visclist1250),statistics.mean(visclist2500)]\n",
    "yerr=[2*statistics.stdev(visclist0)/np.sqrt(len(visclist0)),2*statistics.stdev(visclist350)/np.sqrt(len(visclist350)),2*statistics.stdev(visclist625)/np.sqrt(len(visclist625)),2*statistics.stdev(visclist1250)/np.sqrt(len(visclist1250)),2*statistics.stdev(visclist2500)/np.sqrt(len(visclist2500))]\n",
    "ydatinv=[xdat[0]**2/ydat[0],xdat[1]**2/ydat[1],xdat[2]**2/ydat[2],xdat[3]**2/ydat[3],xdat[4]**2/ydat[4]]\n"
   ]
  },
  {
   "cell_type": "code",
   "execution_count": null,
   "id": "e57f01f3-57cd-48a8-87ea-f496d14913ee",
   "metadata": {},
   "outputs": [],
   "source": [
    "xLJdat=[0,0.15,0.3,0.6]\n",
    "yLJdat=[statistics.mean(visclist0),statistics.mean(visclistLJ400),statistics.mean(visclistLJ800),statistics.mean(visclistLJ1600)]\n",
    "yLJerr=[2*statistics.stdev(visclist0)/np.sqrt(len(visclist0)),2*statistics.stdev(visclistLJ400)/np.sqrt(len(visclistLJ400)),2*statistics.stdev(visclistLJ800)/np.sqrt(len(visclistLJ800)),2*statistics.stdev(visclistLJ1600)/np.sqrt(len(visclistLJ1600))]\n"
   ]
  },
  {
   "cell_type": "code",
   "execution_count": null,
   "id": "b183c79e-69fc-4d9f-a078-51f19e3a64e0",
   "metadata": {},
   "outputs": [],
   "source": [
    "xLNdat=[1,0.5,0.25]\n",
    "yLNdat=[statistics.mean(visclist0),statistics.mean(visclist0LN[0:32]),statistics.mean(visclist0LN2)]\n",
    "yLNerr=[2*statistics.stdev(visclist0)/np.sqrt(len(visclist0)),2*statistics.stdev(visclist0LN[0:32])/np.sqrt(len(visclist0LN)/2),2*statistics.stdev(visclist0LN2)/np.sqrt(len(visclist0LN2))]"
   ]
  },
  {
   "cell_type": "code",
   "execution_count": 66,
   "id": "8de103f8-528d-467c-956c-7d00af949e65",
   "metadata": {},
   "outputs": [
    {
     "data": {
      "text/plain": [
       "[8.820368391790037e-06,\n",
       " 3.613334235333066e-06,\n",
       " 4.230155562376769e-06,\n",
       " 3.477895599951893e-06,\n",
       " 4.499153618437462e-06]"
      ]
     },
     "execution_count": 66,
     "metadata": {},
     "output_type": "execute_result"
    }
   ],
   "source": [
    "yerr"
   ]
  },
  {
   "cell_type": "code",
   "execution_count": 79,
   "id": "3b3bde2e-7aeb-4614-a365-faf3f5934223",
   "metadata": {},
   "outputs": [
    {
     "data": {
      "image/png": "[encoded data removed]",
      "text/plain": [
       "<Figure size 1512x720 with 1 Axes>"
      ]
     },
     "metadata": {
      "needs_background": "light"
     },
     "output_type": "display_data"
    }
   ],
   "source": [
    "plt.rcParams['mathtext.fontset'] = 'cm'\n",
    "plt.rc('text', usetex=True)\n",
    "plt.rc('xtick', labelsize=13) \n",
    "plt.rc('ytick', labelsize=13) \n",
    "plt.rc('axes', linewidth=1.5)\n",
    "fig = plt.figure(figsize=[21,10])\n",
    "plt.subplots_adjust(wspace=0.20)\n",
    "\n",
    "ax1 = fig.add_subplot(1,2,1)\n",
    "\n",
    "ax1.plot(xdat,ydat,color='blue',linewidth=2)\n",
    "ax1.errorbar(xdat, ydat, yerr=yerr, fmt='o')\n",
    "#ax1.plot(xLJdat,yLJdat,color='red',linewidth=2)\n",
    "#ax1.errorbar(xLJdat, yLJdat, yerr=yLJerr, fmt='o')\n",
    "#ax1.plot(xt,para(xt,params[0],params[1]),color='red',linewidth=2, label='0.15M')\n",
    "\n",
    "ax1.set_xlabel(r'$\\varrho$', fontsize=30)\n",
    "ax1.set_ylabel(r\"$\\mu$\", fontsize=30,rotation=0, labelpad=15)\n",
    "#ax1.set_ylim([-20,1444])\n",
    "#ax1.set_xlim([-0.1e-7,2e-7])\n",
    "ax1.tick_params(labelsize=20)\n",
    "ax1.xaxis.set_tick_params(width=1.5)\n",
    "ax1.yaxis.set_tick_params(width=1.5)\n",
    "\n",
    "#fig.savefig(\"profiles.pdf\", bbox_inches = 'tight', pad_inches = 0.05)"
   ]
  },
  {
   "cell_type": "code",
   "execution_count": null,
   "id": "f228c907",
   "metadata": {},
   "outputs": [],
   "source": [
    "plt.rcParams['mathtext.fontset'] = 'cm'\n",
    "plt.rc('text', usetex=True)\n",
    "plt.rc('xtick', labelsize=13) \n",
    "plt.rc('ytick', labelsize=13) \n",
    "plt.rc('axes', linewidth=1.5)\n",
    "fig = plt.figure(figsize=[21,10])\n",
    "plt.subplots_adjust(wspace=0.20)\n",
    "\n",
    "ax1 = fig.add_subplot(1,2,1)\n",
    "\n",
    "ax1.plot(xLNdat,yLNdat,color='blue',linewidth=2)\n",
    "ax1.errorbar(xLNdat, yLNdat, yerr=yLNerr, fmt='o')\n",
    "#ax1.plot(xLJdat,yLJdat,color='red',linewidth=2)\n",
    "#ax1.errorbar(xLJdat, yLJdat, yerr=yLJerr, fmt='o')\n",
    "#ax1.plot(xt,para(xt,params[0],params[1]),color='red',linewidth=2, label='0.15M')\n",
    "\n",
    "ax1.set_xlabel(r'$\\mathrm{noise}$', fontsize=30)\n",
    "ax1.set_ylabel(r\"$\\mu$\", fontsize=30,rotation=0, labelpad=15)\n",
    "#ax1.set_ylim([-20,1444])\n",
    "#ax1.set_xlim([-0.1e-7,2e-7])\n",
    "ax1.tick_params(labelsize=20)\n",
    "ax1.xaxis.set_tick_params(width=1.5)\n",
    "ax1.yaxis.set_tick_params(width=1.5)\n"
   ]
  },
  {
   "cell_type": "code",
   "execution_count": null,
   "id": "8270d79d",
   "metadata": {},
   "outputs": [],
   "source": [
    "data = \"~/nerscProject/dladiges/visctest100/0partDet/CPU\"\n",
    "#num = [\"00\",\"01\",\"02\",\"03\",\"04\",\"05\",\"06\",\"07\",\"08\",\"09\",\"10\",\"11\",\"12\",\"13\",\"14\",\"15\",\"16\",\"17\",\"18\",\"19\",\"20\",\"21\",\"22\",\"23\",\"24\",\"25\",\"26\",\"27\",\"28\",\"29\",\"30\",\"31\",\"32\",\"33\",\"34\",\"35\",\"36\",\"37\",\"38\",\"39\",\"40\",\"41\",\"40\",\"41\",\"42\",\"43\",\"44\",\"45\",\"46\",\"47\"]\n",
    "time = \"/plt0000\"+\"00004/\"\n",
    "bins = 64\n",
    "ens= 1\n",
    "yallDet = np.zeros((ens,bins))\n",
    "i=0\n",
    "for i in range(ens):\n",
    "    stri = data + str(i).zfill(2)\n",
    "    xt, yallDet[i] = return_y_plt(stri,time,nbins=bins,field=\"averaged_velx\")"
   ]
  },
  {
   "cell_type": "code",
   "execution_count": null,
   "id": "a9a34313-5f0f-4c1b-9c93-30414107f136",
   "metadata": {},
   "outputs": [],
   "source": [
    "from scipy.optimize import curve_fit\n",
    "def para(x,a,c):\n",
    "    mid=(x[31]+x[32])/2\n",
    "    return a*(x-mid)**2+c\n",
    "\n",
    "def quart(x,a,b,c):\n",
    "    mid=(x[23]+x[24])/2\n",
    "    return a*(x-mid)**2+b*(x-mid)**4+c\n",
    "\n",
    "ll=6.59e-7\n",
    "fd=1e15\n",
    "\n",
    "length=len(yallDet)\n",
    "maxlistDet = np.zeros(length)\n",
    "visclistDet = np.zeros(length)\n",
    "i=0\n",
    "for x in yallDet:\n",
    "    params, covs = curve_fit(para, xt, x,p0=[-5e16,6000],maxfev=10000000)\n",
    "    params4, covs = curve_fit(quart, xt, x,p0=[-5e16,1e13,6000],maxfev=10000000)\n",
    "    maxlistDet[i]=params[1]\n",
    "    maxlistDet[i]=params[1]\n",
    "    visclistDet[i] = (fd*ll*ll)/(8*maxlistDet[i])\n",
    "    i=i+1\n"
   ]
  },
  {
   "cell_type": "code",
   "execution_count": 50,
   "id": "b56c3d98-9421-412c-a134-17a2c4e7938b",
   "metadata": {},
   "outputs": [
    {
     "data": {
      "text/plain": [
       "array([0.00911579, 0.00913671, 0.00908658, 0.00912742, 0.00912589,\n",
       "       0.00914617, 0.00911604, 0.00917265, 0.00912442, 0.00033464])"
      ]
     },
     "execution_count": 50,
     "metadata": {},
     "output_type": "execute_result"
    }
   ],
   "source": [
    "visclist2500[0:10]"
   ]
  },
  {
   "cell_type": "code",
   "execution_count": null,
   "id": "4f9108c6-abb2-47f6-bcda-7d360bfaea34",
   "metadata": {},
   "outputs": [],
   "source": [
    "yallDet[0]"
   ]
  },
  {
   "cell_type": "code",
   "execution_count": null,
   "id": "db97faf7-bbab-470e-9dfd-fc510b125260",
   "metadata": {},
   "outputs": [],
   "source": [
    "(fd*ll*ll)/(8*6031.7)"
   ]
  },
  {
   "cell_type": "code",
   "execution_count": 53,
   "id": "a247c3a6-b265-4821-8956-e57b0728301e",
   "metadata": {},
   "outputs": [
    {
     "data": {
      "image/png": "[encoded data removed]",
      "text/plain": [
       "<Figure size 1512x720 with 1 Axes>"
      ]
     },
     "metadata": {
      "needs_background": "light"
     },
     "output_type": "display_data"
    }
   ],
   "source": [
    "plt.rcParams['mathtext.fontset'] = 'cm'\n",
    "plt.rc('text', usetex=True)\n",
    "plt.rc('xtick', labelsize=13) \n",
    "plt.rc('ytick', labelsize=13) \n",
    "plt.rc('axes', linewidth=1.5)\n",
    "fig = plt.figure(figsize=[21,10])\n",
    "plt.subplots_adjust(wspace=0.20)\n",
    "\n",
    "ax1 = fig.add_subplot(1,2,1)\n",
    "\n",
    "ax1.plot(xt,yall2500[8],color='blue',linewidth=2)\n",
    "\n",
    "#ax1.plot(xLJdat,yLJdat,color='red',linewidth=2)\n",
    "\n",
    "#ax1.plot(xt,para(xt,params[0],params[1]),color='red',linewidth=2, label='0.15M')\n",
    "\n",
    "ax1.set_xlabel(r'$y$', fontsize=30)\n",
    "ax1.set_ylabel(r\"$v_x$\", fontsize=30,rotation=0, labelpad=15)\n",
    "#ax1.set_ylim([-20,1444])\n",
    "#ax1.set_xlim([-0.1e-7,2e-7])\n",
    "ax1.tick_params(labelsize=20)\n",
    "ax1.xaxis.set_tick_params(width=1.5)\n",
    "ax1.yaxis.set_tick_params(width=1.5)\n",
    "\n",
    "#fig.savefig(\"profiles.pdf\", bbox_inches = 'tight', pad_inches = 0.05)"
   ]
  },
  {
   "cell_type": "code",
   "execution_count": null,
   "id": "34260b0a-cecf-417c-8f29-f948cd491dec",
   "metadata": {},
   "outputs": [],
   "source": [
    "params"
   ]
  },
  {
   "cell_type": "code",
   "execution_count": null,
   "id": "3d418730-e359-48ab-8cd6-3765a3e4f584",
   "metadata": {},
   "outputs": [],
   "source": []
  }
 ],
 "metadata": {
  "kernelspec": {
   "display_name": "Python 3",
   "language": "python",
   "name": "python3"
  },
  "language_info": {
   "codemirror_mode": {
    "name": "ipython",
    "version": 3
   },
   "file_extension": ".py",
   "mimetype": "text/x-python",
   "name": "python",
   "nbconvert_exporter": "python",
   "pygments_lexer": "ipython3",
   "version": "3.8.10"
  }
 },
 "nbformat": 4,
 "nbformat_minor": 5
}
